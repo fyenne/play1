{
 "cells": [
  {
   "cell_type": "code",
   "execution_count": 1,
   "metadata": {},
   "outputs": [
    {
     "name": "stdout",
     "output_type": "stream",
     "text": [
      "sklearn version qualified, import db score\n",
      "Sklearn version here: 0.24.2 \t\n",
      "python version here: 3.8.8 (default, Apr 13 2021, 15:08:03) [MSC v.1916 64 bit (AMD64)] \t\n",
      "pandas version here: 1.4.1 \t\n"
     ]
    }
   ],
   "source": [
    "import numpy as np  \n",
    "import pandas as pd \n",
    "import matplotlib.pyplot as plt\n",
    "from sklearn import cluster\n",
    "import os\n",
    "import re\n",
    "import sklearn\n",
    "from datetime import date, datetime\n",
    "from davies_bouldin import davies_bouldin_score # local\n",
    "from pyspark.sql import SparkSession\n",
    "from pyspark.sql.functions import *\n",
    "# from MergeDataFrameToTable import MergeDFToTable\n",
    "try:\n",
    "    from sklearn.metrics import davies_bouldin_score as db2\n",
    "    from sklearn.metrics.cluster import v_measure_score as v2\n",
    "    print('sklearn version qualified, import db score')\n",
    "except:\n",
    "    print(\"use local davies-bouldin score instead\")\n",
    "    pass\n",
    "from sklearn.preprocessing import MinMaxScaler, StandardScaler\n",
    "# import seaborn as sns\n",
    "# os.getcwd()\n",
    "import warnings\n",
    "import sys \n",
    "\n",
    "warnings.filterwarnings('ignore')\n",
    "print(\"Sklearn version here:\", sklearn.__version__, '\\t')\n",
    "print(\"python version here:\", sys.version, '\\t') \n",
    "print(\"pandas version here:\", pd.__version__, '\\t') \n"
   ]
  },
  {
   "cell_type": "code",
   "execution_count": 14,
   "metadata": {},
   "outputs": [],
   "source": [
    "def ld_dt(if_local = False):\n",
    "    if if_local == True:\n",
    "        link = r'C:\\Users\\dscshap3808\\Documents\\my_scripts_new\\play1\\ou_daily_kpi.csv'\n",
    "        # link = r'C:\\Users\\dscshap4085\\SFDSC/ou_daily_kpi.csv'\n",
    "        df = pd.read_csv(link, sep = '\\001').fillna(0)\n",
    "        df.columns =  [re.sub('\\w+\\.', '', i) for i in df.columns]\n",
    "    else:\n",
    "        spark = SparkSession.builder.enableHiveSupport().getOrCreate()\n",
    "        spark.conf.set('spark.sql.sources.partitionOverwriteMode', 'dynamic')\n",
    "        \"\"\"\n",
    "        load data\n",
    "        \"\"\"\n",
    "        df = spark.sql(\"\"\"select * from dsc_dws.dws_dsc_wh_ou_daily_kpi_sum where operation_day > '20210901' \"\"\")\n",
    "        # df.show(15,False)\n",
    "        df = df.select(\"*\").toPandas()\n",
    "        df = df.fillna(0)\n",
    "        df = df.replace([np.inf, -np.inf], 0) \n",
    "        pass\n",
    "    df[[\n",
    "        'inbound_receive_qty', 'outbound_shipped_qty', 'total_working_hour','operation_day'\n",
    "        ]] = df[[\n",
    "            'inbound_receive_qty', 'outbound_shipped_qty', 'total_working_hour','operation_day'\n",
    "            ]].astype(np.int64)\n",
    "\n",
    "    clean_df2 = df.groupby('ou_code')[[\n",
    "        'inbound_receive_qty', 'outbound_shipped_qty'\n",
    "        ]].sum().reset_index()\n",
    "    clean_df2['sum'] = clean_df2.sum(axis = 1)\n",
    "    clean_df2 = clean_df2[clean_df2['sum'] != 0]\n",
    "    df = df[df['ou_code'].isin(clean_df2.ou_code)] \n",
    "\n",
    "    clean_df3 = (df.groupby('ou_code')[[\n",
    "        'total_working_hour'\n",
    "        ]].sum() == 0).reset_index()\n",
    "    clean_df3 = clean_df3[clean_df3['total_working_hour'] == False]\n",
    "    df = df[df['ou_code'].isin(clean_df3.ou_code)]\n",
    "    df= df.reset_index()\n",
    "\n",
    "    df = df[[\n",
    "        'ou_code','operation_day', 'inbound_receive_qty', 'is_holiday',\n",
    "        'outbound_shipped_qty','total_head_count','total_working_hour',\n",
    "        'outsource_working_hour', 'perm_working_hour',\n",
    "        'other_working_hour', 'direct_working_hour', 'indirect_working_hour',\n",
    "        'outbound_inbound_qty_ratio', 'perm_working_hour_ratio',\n",
    "        'working_hour_per_head', 'location_usage_rate', 'location_idle_rate']]\n",
    "\n",
    "    df = df.fillna(0).sort_values('operation_day')\n",
    "    df = df[df['total_working_hour'] != 0]\n",
    "    return df\n",
    "\n",
    "def reshape_to_easy_train(df, col = None):\n",
    "    \"\"\"\n",
    "    reshape dataframe to array\n",
    "    \"\"\"\n",
    "    if type(col) == str:\n",
    "        return np.reshape(list(df[col]), (-1,1))\n",
    "    else:\n",
    "        return np.array(df[col])"
   ]
  },
  {
   "cell_type": "code",
   "execution_count": 4,
   "metadata": {},
   "outputs": [],
   "source": [
    "def transformer(df,col):\n",
    "    \"\"\"\n",
    "    unfixed stdscaler\n",
    "    \"\"\"\n",
    "    try:\n",
    "        del mx\n",
    "    except:\n",
    "        pass\n",
    "    mx = StandardScaler()\n",
    "    df[col] = mx.fit_transform(reshape_to_easy_train(df,col))\n",
    "    return df\n",
    "        \n",
    "def mxscale_(df):\n",
    "    \"\"\"\n",
    "    outlier remove 1\n",
    "    \"\"\"\n",
    "    df['inef'] = df['inbound_receive_qty']  / df['total_working_hour']\n",
    "    df['ouef'] = df['outbound_shipped_qty'] / df['total_working_hour']\n",
    "    df['in_out_sum'] = df['outbound_shipped_qty'] + df['inbound_receive_qty']\n",
    "    df['tt_wh'] = df['total_working_hour']\n",
    "    for col in ['inef', 'ouef']:\n",
    "        df = transformer(df,col)\n",
    "    return df\n",
    "\n",
    "def drop_outliers(df_train, col = None):\n",
    "    \"\"\"\n",
    "    outlier remove 2\n",
    "    \"\"\"\n",
    "    flag_high = np.mean(df_train[col]) + 1 * np.std(df_train[col])\n",
    "    flag_low  = np.mean(df_train[col]) - 1 * np.std(df_train[col])\n",
    "    # print(col, flag_low) \n",
    "    df_train['flag_' + col] = np.where(\n",
    "        (df_train[col] >= flag_low) & (df_train[col] <= flag_high), \n",
    "        1, \n",
    "        0)\n",
    "    df_train = df_train[df_train['flag_' + col] != 0]\n",
    "    return df_train\n",
    "\n"
   ]
  },
  {
   "cell_type": "code",
   "execution_count": 5,
   "metadata": {},
   "outputs": [],
   "source": [
    "def get_transformed_data(df_train,  mode = 'train'):\n",
    "    \"\"\"\n",
    "    transform data\n",
    "    \"\"\"\n",
    "    df_train = mxscale_(df_train)\n",
    "    col = 'inef'\n",
    "    df_train = drop_outliers(df_train= mxscale_(df_train), col = col) \n",
    "    del col\n",
    "    col = 'ouef'\n",
    "    df_train = drop_outliers(df_train = df_train, col = col) \n",
    "    # print(df_train[['inef','ouef']].tail(20))\n",
    "    try:\n",
    "        del mx\n",
    "    except:\n",
    "        pass\n",
    "    mx = StandardScaler()\n",
    "    mx.fit(\n",
    "        reshape_to_easy_train(\n",
    "            df_train,[\n",
    "                'inbound_receive_qty',\n",
    "                'outbound_shipped_qty',\n",
    "                'in_out_sum',\n",
    "                # 'tt_wh'\n",
    "                ])\n",
    "        )\n",
    "    train_set_inout_transformed = mx.transform(\n",
    "        reshape_to_easy_train(\n",
    "            df_train,[\n",
    "                'inbound_receive_qty',\n",
    "                'outbound_shipped_qty',\n",
    "                'in_out_sum',\n",
    "                # 'tt_wh'\n",
    "                ])\n",
    "    )\n",
    "    df_teste['in_out_sum'] = df_teste['inbound_receive_qty'] + df_teste['outbound_shipped_qty']\n",
    "    df_teste['tt_wh'] = df_teste['total_working_hour']\n",
    "    test_set_inout_transformed = mx.transform(\n",
    "        reshape_to_easy_train(\n",
    "            df_teste,[\n",
    "                'inbound_receive_qty',\n",
    "                'outbound_shipped_qty',\n",
    "                'in_out_sum',\n",
    "                # 'tt_wh'\n",
    "                ])\n",
    "        )\n",
    "    if mode != 'train':\n",
    "        return test_set_inout_transformed\n",
    "    else:\n",
    "        return train_set_inout_transformed"
   ]
  },
  {
   "cell_type": "code",
   "execution_count": 6,
   "metadata": {},
   "outputs": [],
   "source": [
    "\n",
    "def train(df_train, col = 'combined'):\n",
    "        \"\"\"\n",
    "        train\n",
    "        \"\"\"\n",
    "        input = get_transformed_data(df_train, 'train')\n",
    "        input2= get_transformed_data(df_train, 'teste')\n",
    "        try:\n",
    "                del kmeans\n",
    "        except:\n",
    "                pass\n",
    "        # print(input.shape, input2.shape)\n",
    "        scores = []\n",
    "        for center in list(range(min_kernel, max_kernel)):\n",
    "                # kmeans = cluster.MiniBatchKMeans(n_clusters=center, random_state=529)\n",
    "                # kmeans = cluster.SpectralClustering(n_clusters=center,\\\n",
    "                #         affinity='nearest_neighbors',\n",
    "                #         n_neighbors=4,\n",
    "                #         random_state=529, \n",
    "                #         n_jobs= -1)\n",
    "                kmeans = cluster.KMeans(n_clusters=center, random_state = 529)\n",
    "                model  = kmeans.fit_predict(\n",
    "                        X = input,\n",
    "                        )\n",
    "                \n",
    "                if pd.Series(model).value_counts().min() <= 2:\n",
    "                        print(\"single point in cluster! dropping, center size = %s\"%center)\n",
    "                        score = 100\n",
    "                        # pass\n",
    "                else:\n",
    "                        score  = db2(\n",
    "                                input,\n",
    "                                model\n",
    "                                )\n",
    "                scores.append(score)\n",
    "        print(scores,np.array(scores).mean())\n",
    "        if np.array(scores).mean() == 100:\n",
    "                raise ValueError('drop cc since score all 100')\n",
    "        else:\n",
    "                pass\n",
    "        center = np.argmin(scores) + min_kernel\n",
    "        print(center, 'Center count, cap is %s'%max_kernel)\n",
    "        try:\n",
    "                del alg1\n",
    "        except:\n",
    "                pass\n",
    "        # alg1 = cluster.SpectralClustering(n_clusters=center,\\\n",
    "        #                 affinity='nearest_neighbors',\n",
    "        #                 n_neighbors=4,\n",
    "        #                 random_state=529, \n",
    "        #                 n_jobs= -1)\n",
    "        alg1 = cluster.KMeans(n_clusters=center, random_state = 529)\n",
    "        hist1 = alg1.fit(\n",
    "                input \n",
    "                )\n",
    "\n",
    "        k = hist1.predict(\n",
    "                input2\n",
    "                )\n",
    "        return k\n"
   ]
  },
  {
   "cell_type": "markdown",
   "metadata": {},
   "source": [
    "# \\_\\_main__ part of the script"
   ]
  },
  {
   "cell_type": "markdown",
   "metadata": {},
   "source": [
    "### 对于分布的探索 --------start------"
   ]
  },
  {
   "cell_type": "code",
   "execution_count": 152,
   "metadata": {},
   "outputs": [],
   "source": [
    "\"\"\"\n",
    "test sinc\n",
    "\"\"\"\n",
    "df0 = ld_dt(if_local = True)\n",
    "min_kernel = 3\n",
    "max_kernel = 11\n",
    "df_final = pd.DataFrame()\n",
    "\n",
    "# ['COACHSHSFS', 'COSTASHHTS', 'FERRECDXXS', 'MARSXBJSHS', 'MARSXCDXXS', 'STARBSYXXS',\n",
    "# 'MARSXJXXWS', 'STARBSHHTS', 'ABBOTCDXXS', 'ABBOTSHDBS', 'ABBOTSZLHS']\n",
    "# cc = ['COACHSHSFS', 'COSTASHHTS', 'FERRECDXXS', 'MARSXBJSHS', 'MARSXCDXXS', 'STARBSYXXS', 'MARSXJXXWS', 'STARBSHHTS', 'ABBOTCDXXS', 'ABBOTSHDBS', 'ABBOTSZLHS']\n",
    "# df = df0[df0['ou_code'].isin(cc)]\n",
    "ou_code =  df0['ou_code'].unique() #'STARBSYXXS', 'FORDCCSLGS'\n",
    "df = df0"
   ]
  },
  {
   "cell_type": "code",
   "execution_count": 153,
   "metadata": {},
   "outputs": [],
   "source": [
    "df_t = pd.DataFrame()\n",
    "for i in ou_code:\n",
    "    df_train = df[(df['ou_code'] == i)\n",
    "            & (df['operation_day'] >=  20220101) \\\n",
    "            & (df['operation_day'] <=  20220331) \\\n",
    "            & ((df['inbound_receive_qty'] > 0)\n",
    "            | (df['outbound_shipped_qty'] > 0))] \n",
    "    df_train = df_train.sort_values(['operation_day'], ascending= True)\n",
    "    df_train = df_train.reset_index(drop=True)\n",
    "    df_train['inbound_receive_qty'] = df_train['inbound_receive_qty']\n",
    "    df_train['outbound_shipped_qty'] = df_train['outbound_shipped_qty']\n",
    "    df_train['temp_qty'] = df_train['inbound_receive_qty'] + df_train['outbound_shipped_qty']\n",
    "    sub_df = df_train[['inbound_receive_qty','outbound_shipped_qty','total_working_hour','temp_qty']].corr()\n",
    "    sub_df['OU'] = i\n",
    "    df_t = df_t.append(sub_df)\n",
    "# df_t.to_csv('pearson_correlation_coefficient.csv')  \n",
    "# df_t  \n",
    "    \n",
    "    \n"
   ]
  },
  {
   "cell_type": "code",
   "execution_count": 203,
   "metadata": {},
   "outputs": [],
   "source": [
    "from scipy import stats\n",
    "df_mean_std = pd.DataFrame()\n",
    "ou_codes = []\n",
    "mean_ = []\n",
    "std_ = []\n",
    "pvalue_ = []\n",
    "total_count = []\n",
    "keep_count = []\n",
    "fail_list = []\n",
    "for sub_ou in ou_code:\n",
    "    sub_df = df[(df['ou_code'] == sub_ou)\\\n",
    "            & (df['operation_day'] >=  20220101) \n",
    "            & (df['operation_day'] <=  20220331) \\\n",
    "            & ((df['inbound_receive_qty'] > 0)\n",
    "            | (df['outbound_shipped_qty'] > 0))] \n",
    "    sub_df['per_rate'] = (sub_df['inbound_receive_qty'] +  sub_df['outbound_shipped_qty'] * 1.2 ) / sub_df['total_working_hour']\n",
    "    sub_df = sub_df.sort_values(['operation_day'])\n",
    "    sub_df = sub_df.reset_index(drop=True)\n",
    "    u = sub_df['per_rate'].mean()  # 计算均值\n",
    "    std = sub_df['per_rate'].std()  # 计算标准差\n",
    "    try: \n",
    "        result = stats.kstest(sub_df['per_rate'], 'norm', (u, std))\n",
    "        if result.pvalue < 0.05:\n",
    "            for i in range(5) :\n",
    "                tmp_df = sub_df.loc[(sub_df['per_rate'] <= u + 1.85*std) & (sub_df['per_rate'] >= u - 1.85*std)]\n",
    "                u = tmp_df['per_rate'].mean()  # 计算均值\n",
    "                std = tmp_df['per_rate'].std()  # 计算标准差\n",
    "                result = stats.kstest(tmp_df['per_rate'], 'norm', (u, std))\n",
    "                \n",
    "                if result.pvalue >= 0.05:\n",
    "                    ou_codes.append(sub_ou)\n",
    "                    total_count.append(sub_df.shape[0])\n",
    "                    keep_count.append(tmp_df.shape[0])\n",
    "                    mean_.append(u)\n",
    "                    std_.append(std)\n",
    "                    pvalue_.append(result.pvalue)\n",
    "                    break\n",
    "        else:\n",
    "            total_count.append(sub_df.shape[0])\n",
    "            keep_count.append(sub_df.shape[0])\n",
    "            ou_codes.append(sub_ou)\n",
    "            mean_.append(u)\n",
    "            std_.append(std)\n",
    "            pvalue_.append(result.pvalue)\n",
    "    except:\n",
    "        fail_list = fail_list + [sub_ou]\n",
    "        \n",
    "        "
   ]
  },
  {
   "cell_type": "code",
   "execution_count": 196,
   "metadata": {},
   "outputs": [],
   "source": [
    "df_mean_std = pd.DataFrame()\n",
    "# ou_codes = []\n",
    "# mean_ = []\n",
    "# std_ = []\n",
    "# pvalue_ = []\n",
    "df_mean_std['ou_code'] = ou_codes\n",
    "df_mean_std['mean_'] = mean_\n",
    "df_mean_std['std_'] = std_\n",
    "df_mean_std['pvalue_'] = pvalue_\n",
    "df_mean_std['total_count'] = total_count\n",
    "df_mean_std['keep_count'] = keep_count"
   ]
  },
  {
   "cell_type": "code",
   "execution_count": 200,
   "metadata": {},
   "outputs": [
    {
     "data": {
      "text/plain": [
       "131"
      ]
     },
     "execution_count": 200,
     "metadata": {},
     "output_type": "execute_result"
    }
   ],
   "source": [
    "df0['ou_code'].nunique()"
   ]
  },
  {
   "cell_type": "code",
   "execution_count": 159,
   "metadata": {},
   "outputs": [],
   "source": [
    "merge_df = pd.merge(left=df, right=df_mean_std, on='ou_code')\n",
    "merge_df['predict_by_mean_std'] = (merge_df['inbound_receive_qty'] +  merge_df['outbound_shipped_qty']* 1.2) / merge_df['mean_']\n",
    "merge_df['predict_by_mean_std_upper'] = (merge_df['inbound_receive_qty'] +  merge_df['outbound_shipped_qty']* 1.2) / (merge_df['mean_'] - 0.5 * merge_df['std_'])\n",
    "merge_df['predict_by_mean_std_lower'] = (merge_df['inbound_receive_qty'] +  merge_df['outbound_shipped_qty']* 1.2) / (merge_df['mean_'] + 0.5 * merge_df['std_'])"
   ]
  },
  {
   "cell_type": "code",
   "execution_count": 192,
   "metadata": {},
   "outputs": [],
   "source": [
    "x1 = np.linspace(-150, 150, 15)\n",
    "# print(stats.kstest(x1, 'norm'))"
   ]
  },
  {
   "cell_type": "code",
   "execution_count": 195,
   "metadata": {},
   "outputs": [
    {
     "data": {
      "text/plain": [
       "KstestResult(statistic=0.06703893406984018, pvalue=0.7340614076130803)"
      ]
     },
     "execution_count": 195,
     "metadata": {},
     "output_type": "execute_result"
    }
   ],
   "source": [
    "np.random.seed(10)\n",
    "a = np.random.normal(1,1,100)\n",
    "np.random.seed(101)\n",
    "b= np.random.normal(1,1,3001)\n",
    "# b\n",
    "# pd.Series(stats.t.rvs(100, size=100, random_state=15)).hist()\n",
    "# np.random.seed(1000)\n",
    "# x2 = np.random.normal(18100)\n",
    "# print(stats.kstest(x2, 'norm'))\n",
    "# pd.Series(b).hist()\n",
    "# stats.kstest(b, 'norm')\n",
    "stats.kstest(stats.norm.rvs(1,1,100), 'norm', (1,1))\n",
    "# pd.Series(stats.norm.rvs(1,1,100)).hist()"
   ]
  },
  {
   "cell_type": "code",
   "execution_count": 134,
   "metadata": {},
   "outputs": [],
   "source": [
    "merge_df['keep_cnt_rate'] = merge_df['keep_count']/ merge_df['total_count']\n",
    "merge_df['flag_exceed_upperbound'] = np.where(merge_df['predict_by_mean_std_upper']-merge_df['total_working_hour']>0,0,1)\n",
    "merge_df['flag_none_nmd'] = np.where(merge_df['pvalue_'] > 0.05, 0, 1)"
   ]
  },
  {
   "cell_type": "code",
   "execution_count": 139,
   "metadata": {},
   "outputs": [
    {
     "data": {
      "text/html": [
       "<div>\n",
       "<style scoped>\n",
       "    .dataframe tbody tr th:only-of-type {\n",
       "        vertical-align: middle;\n",
       "    }\n",
       "\n",
       "    .dataframe tbody tr th {\n",
       "        vertical-align: top;\n",
       "    }\n",
       "\n",
       "    .dataframe thead th {\n",
       "        text-align: right;\n",
       "    }\n",
       "</style>\n",
       "<table border=\"1\" class=\"dataframe\">\n",
       "  <thead>\n",
       "    <tr style=\"text-align: right;\">\n",
       "      <th></th>\n",
       "      <th>ou_code</th>\n",
       "      <th>operation_day</th>\n",
       "      <th>inbound_receive_qty</th>\n",
       "      <th>is_holiday</th>\n",
       "      <th>outbound_shipped_qty</th>\n",
       "      <th>total_head_count</th>\n",
       "      <th>total_working_hour</th>\n",
       "      <th>outsource_working_hour</th>\n",
       "      <th>perm_working_hour</th>\n",
       "      <th>other_working_hour</th>\n",
       "      <th>...</th>\n",
       "      <th>std_</th>\n",
       "      <th>pvalue_</th>\n",
       "      <th>total_count</th>\n",
       "      <th>keep_count</th>\n",
       "      <th>predict_by_mean_std</th>\n",
       "      <th>predict_by_mean_std_upper</th>\n",
       "      <th>predict_by_mean_std_lower</th>\n",
       "      <th>keep_cnt_rate</th>\n",
       "      <th>flag_exceed_upperbound</th>\n",
       "      <th>flag_none_nmd</th>\n",
       "    </tr>\n",
       "  </thead>\n",
       "  <tbody>\n",
       "    <tr>\n",
       "      <th>0</th>\n",
       "      <td>MARSXCDXXS</td>\n",
       "      <td>20211101</td>\n",
       "      <td>3542855</td>\n",
       "      <td>0</td>\n",
       "      <td>1758469</td>\n",
       "      <td>33.0</td>\n",
       "      <td>295</td>\n",
       "      <td>235.17</td>\n",
       "      <td>60.39</td>\n",
       "      <td>0.0</td>\n",
       "      <td>...</td>\n",
       "      <td>8567.628494</td>\n",
       "      <td>0.352329</td>\n",
       "      <td>143</td>\n",
       "      <td>137</td>\n",
       "      <td>294.661566</td>\n",
       "      <td>379.372537</td>\n",
       "      <td>240.875842</td>\n",
       "      <td>0.958042</td>\n",
       "      <td>0</td>\n",
       "      <td>1</td>\n",
       "    </tr>\n",
       "    <tr>\n",
       "      <th>1</th>\n",
       "      <td>MARSXCDXXS</td>\n",
       "      <td>20211102</td>\n",
       "      <td>2208626</td>\n",
       "      <td>0</td>\n",
       "      <td>4325638</td>\n",
       "      <td>34.0</td>\n",
       "      <td>414</td>\n",
       "      <td>328.88</td>\n",
       "      <td>85.43</td>\n",
       "      <td>0.0</td>\n",
       "      <td>...</td>\n",
       "      <td>8567.628494</td>\n",
       "      <td>0.352329</td>\n",
       "      <td>143</td>\n",
       "      <td>137</td>\n",
       "      <td>385.690686</td>\n",
       "      <td>496.571223</td>\n",
       "      <td>315.289063</td>\n",
       "      <td>0.958042</td>\n",
       "      <td>0</td>\n",
       "      <td>1</td>\n",
       "    </tr>\n",
       "    <tr>\n",
       "      <th>2</th>\n",
       "      <td>MARSXCDXXS</td>\n",
       "      <td>20211103</td>\n",
       "      <td>1409732</td>\n",
       "      <td>0</td>\n",
       "      <td>5443327</td>\n",
       "      <td>34.0</td>\n",
       "      <td>403</td>\n",
       "      <td>336.55</td>\n",
       "      <td>66.93</td>\n",
       "      <td>0.0</td>\n",
       "      <td>...</td>\n",
       "      <td>8567.628494</td>\n",
       "      <td>0.352329</td>\n",
       "      <td>143</td>\n",
       "      <td>137</td>\n",
       "      <td>413.959593</td>\n",
       "      <td>532.967034</td>\n",
       "      <td>338.397936</td>\n",
       "      <td>0.958042</td>\n",
       "      <td>0</td>\n",
       "      <td>1</td>\n",
       "    </tr>\n",
       "    <tr>\n",
       "      <th>3</th>\n",
       "      <td>MARSXCDXXS</td>\n",
       "      <td>20211104</td>\n",
       "      <td>4195083</td>\n",
       "      <td>0</td>\n",
       "      <td>3708437</td>\n",
       "      <td>35.0</td>\n",
       "      <td>394</td>\n",
       "      <td>317.70</td>\n",
       "      <td>76.57</td>\n",
       "      <td>0.0</td>\n",
       "      <td>...</td>\n",
       "      <td>8567.628494</td>\n",
       "      <td>0.352329</td>\n",
       "      <td>143</td>\n",
       "      <td>137</td>\n",
       "      <td>450.628397</td>\n",
       "      <td>580.177593</td>\n",
       "      <td>368.373440</td>\n",
       "      <td>0.958042</td>\n",
       "      <td>0</td>\n",
       "      <td>1</td>\n",
       "    </tr>\n",
       "    <tr>\n",
       "      <th>4</th>\n",
       "      <td>MARSXCDXXS</td>\n",
       "      <td>20211105</td>\n",
       "      <td>7979959</td>\n",
       "      <td>0</td>\n",
       "      <td>748380</td>\n",
       "      <td>35.0</td>\n",
       "      <td>359</td>\n",
       "      <td>290.27</td>\n",
       "      <td>68.81</td>\n",
       "      <td>0.0</td>\n",
       "      <td>...</td>\n",
       "      <td>8567.628494</td>\n",
       "      <td>0.352329</td>\n",
       "      <td>143</td>\n",
       "      <td>137</td>\n",
       "      <td>462.763411</td>\n",
       "      <td>595.801250</td>\n",
       "      <td>378.293403</td>\n",
       "      <td>0.958042</td>\n",
       "      <td>0</td>\n",
       "      <td>1</td>\n",
       "    </tr>\n",
       "    <tr>\n",
       "      <th>...</th>\n",
       "      <td>...</td>\n",
       "      <td>...</td>\n",
       "      <td>...</td>\n",
       "      <td>...</td>\n",
       "      <td>...</td>\n",
       "      <td>...</td>\n",
       "      <td>...</td>\n",
       "      <td>...</td>\n",
       "      <td>...</td>\n",
       "      <td>...</td>\n",
       "      <td>...</td>\n",
       "      <td>...</td>\n",
       "      <td>...</td>\n",
       "      <td>...</td>\n",
       "      <td>...</td>\n",
       "      <td>...</td>\n",
       "      <td>...</td>\n",
       "      <td>...</td>\n",
       "      <td>...</td>\n",
       "      <td>...</td>\n",
       "      <td>...</td>\n",
       "    </tr>\n",
       "    <tr>\n",
       "      <th>1530</th>\n",
       "      <td>ABBOTCDXXS</td>\n",
       "      <td>20220328</td>\n",
       "      <td>0</td>\n",
       "      <td>0</td>\n",
       "      <td>18572</td>\n",
       "      <td>6.0</td>\n",
       "      <td>48</td>\n",
       "      <td>16.58</td>\n",
       "      <td>32.26</td>\n",
       "      <td>0.0</td>\n",
       "      <td>...</td>\n",
       "      <td>84.446686</td>\n",
       "      <td>0.124569</td>\n",
       "      <td>96</td>\n",
       "      <td>67</td>\n",
       "      <td>207.370351</td>\n",
       "      <td>341.563738</td>\n",
       "      <td>148.878889</td>\n",
       "      <td>0.697917</td>\n",
       "      <td>0</td>\n",
       "      <td>1</td>\n",
       "    </tr>\n",
       "    <tr>\n",
       "      <th>1531</th>\n",
       "      <td>ABBOTCDXXS</td>\n",
       "      <td>20220329</td>\n",
       "      <td>110</td>\n",
       "      <td>0</td>\n",
       "      <td>9312</td>\n",
       "      <td>6.0</td>\n",
       "      <td>49</td>\n",
       "      <td>16.55</td>\n",
       "      <td>32.53</td>\n",
       "      <td>0.0</td>\n",
       "      <td>...</td>\n",
       "      <td>84.446686</td>\n",
       "      <td>0.124569</td>\n",
       "      <td>96</td>\n",
       "      <td>67</td>\n",
       "      <td>104.999012</td>\n",
       "      <td>172.945915</td>\n",
       "      <td>75.382697</td>\n",
       "      <td>0.697917</td>\n",
       "      <td>0</td>\n",
       "      <td>1</td>\n",
       "    </tr>\n",
       "    <tr>\n",
       "      <th>1532</th>\n",
       "      <td>ABBOTCDXXS</td>\n",
       "      <td>20220330</td>\n",
       "      <td>0</td>\n",
       "      <td>0</td>\n",
       "      <td>3276</td>\n",
       "      <td>6.0</td>\n",
       "      <td>48</td>\n",
       "      <td>16.38</td>\n",
       "      <td>32.24</td>\n",
       "      <td>0.0</td>\n",
       "      <td>...</td>\n",
       "      <td>84.446686</td>\n",
       "      <td>0.124569</td>\n",
       "      <td>96</td>\n",
       "      <td>67</td>\n",
       "      <td>36.579004</td>\n",
       "      <td>60.249990</td>\n",
       "      <td>26.261428</td>\n",
       "      <td>0.697917</td>\n",
       "      <td>0</td>\n",
       "      <td>1</td>\n",
       "    </tr>\n",
       "    <tr>\n",
       "      <th>1533</th>\n",
       "      <td>ABBOTCDXXS</td>\n",
       "      <td>20220331</td>\n",
       "      <td>0</td>\n",
       "      <td>0</td>\n",
       "      <td>999</td>\n",
       "      <td>6.0</td>\n",
       "      <td>48</td>\n",
       "      <td>16.38</td>\n",
       "      <td>31.93</td>\n",
       "      <td>0.0</td>\n",
       "      <td>...</td>\n",
       "      <td>84.446686</td>\n",
       "      <td>0.124569</td>\n",
       "      <td>96</td>\n",
       "      <td>67</td>\n",
       "      <td>11.154587</td>\n",
       "      <td>18.372936</td>\n",
       "      <td>8.008293</td>\n",
       "      <td>0.697917</td>\n",
       "      <td>1</td>\n",
       "      <td>1</td>\n",
       "    </tr>\n",
       "    <tr>\n",
       "      <th>1534</th>\n",
       "      <td>ABBOTCDXXS</td>\n",
       "      <td>20220401</td>\n",
       "      <td>0</td>\n",
       "      <td>0</td>\n",
       "      <td>0</td>\n",
       "      <td>6.0</td>\n",
       "      <td>48</td>\n",
       "      <td>16.65</td>\n",
       "      <td>32.29</td>\n",
       "      <td>0.0</td>\n",
       "      <td>...</td>\n",
       "      <td>84.446686</td>\n",
       "      <td>0.124569</td>\n",
       "      <td>96</td>\n",
       "      <td>67</td>\n",
       "      <td>0.000000</td>\n",
       "      <td>0.000000</td>\n",
       "      <td>0.000000</td>\n",
       "      <td>0.697917</td>\n",
       "      <td>1</td>\n",
       "      <td>1</td>\n",
       "    </tr>\n",
       "  </tbody>\n",
       "</table>\n",
       "<p>1535 rows × 21 columns</p>\n",
       "</div>"
      ],
      "text/plain": [
       "         ou_code  operation_day  inbound_receive_qty  is_holiday  \\\n",
       "0     MARSXCDXXS       20211101              3542855           0   \n",
       "1     MARSXCDXXS       20211102              2208626           0   \n",
       "2     MARSXCDXXS       20211103              1409732           0   \n",
       "3     MARSXCDXXS       20211104              4195083           0   \n",
       "4     MARSXCDXXS       20211105              7979959           0   \n",
       "...          ...            ...                  ...         ...   \n",
       "1530  ABBOTCDXXS       20220328                    0           0   \n",
       "1531  ABBOTCDXXS       20220329                  110           0   \n",
       "1532  ABBOTCDXXS       20220330                    0           0   \n",
       "1533  ABBOTCDXXS       20220331                    0           0   \n",
       "1534  ABBOTCDXXS       20220401                    0           0   \n",
       "\n",
       "      outbound_shipped_qty  total_head_count  total_working_hour  \\\n",
       "0                  1758469              33.0                 295   \n",
       "1                  4325638              34.0                 414   \n",
       "2                  5443327              34.0                 403   \n",
       "3                  3708437              35.0                 394   \n",
       "4                   748380              35.0                 359   \n",
       "...                    ...               ...                 ...   \n",
       "1530                 18572               6.0                  48   \n",
       "1531                  9312               6.0                  49   \n",
       "1532                  3276               6.0                  48   \n",
       "1533                   999               6.0                  48   \n",
       "1534                     0               6.0                  48   \n",
       "\n",
       "      outsource_working_hour  perm_working_hour  other_working_hour  ...  \\\n",
       "0                     235.17              60.39                 0.0  ...   \n",
       "1                     328.88              85.43                 0.0  ...   \n",
       "2                     336.55              66.93                 0.0  ...   \n",
       "3                     317.70              76.57                 0.0  ...   \n",
       "4                     290.27              68.81                 0.0  ...   \n",
       "...                      ...                ...                 ...  ...   \n",
       "1530                   16.58              32.26                 0.0  ...   \n",
       "1531                   16.55              32.53                 0.0  ...   \n",
       "1532                   16.38              32.24                 0.0  ...   \n",
       "1533                   16.38              31.93                 0.0  ...   \n",
       "1534                   16.65              32.29                 0.0  ...   \n",
       "\n",
       "             std_   pvalue_  total_count  keep_count  predict_by_mean_std  \\\n",
       "0     8567.628494  0.352329          143         137           294.661566   \n",
       "1     8567.628494  0.352329          143         137           385.690686   \n",
       "2     8567.628494  0.352329          143         137           413.959593   \n",
       "3     8567.628494  0.352329          143         137           450.628397   \n",
       "4     8567.628494  0.352329          143         137           462.763411   \n",
       "...           ...       ...          ...         ...                  ...   \n",
       "1530    84.446686  0.124569           96          67           207.370351   \n",
       "1531    84.446686  0.124569           96          67           104.999012   \n",
       "1532    84.446686  0.124569           96          67            36.579004   \n",
       "1533    84.446686  0.124569           96          67            11.154587   \n",
       "1534    84.446686  0.124569           96          67             0.000000   \n",
       "\n",
       "      predict_by_mean_std_upper  predict_by_mean_std_lower  keep_cnt_rate  \\\n",
       "0                    379.372537                 240.875842       0.958042   \n",
       "1                    496.571223                 315.289063       0.958042   \n",
       "2                    532.967034                 338.397936       0.958042   \n",
       "3                    580.177593                 368.373440       0.958042   \n",
       "4                    595.801250                 378.293403       0.958042   \n",
       "...                         ...                        ...            ...   \n",
       "1530                 341.563738                 148.878889       0.697917   \n",
       "1531                 172.945915                  75.382697       0.697917   \n",
       "1532                  60.249990                  26.261428       0.697917   \n",
       "1533                  18.372936                   8.008293       0.697917   \n",
       "1534                   0.000000                   0.000000       0.697917   \n",
       "\n",
       "      flag_exceed_upperbound  flag_none_nmd  \n",
       "0                          0              1  \n",
       "1                          0              1  \n",
       "2                          0              1  \n",
       "3                          0              1  \n",
       "4                          0              1  \n",
       "...                      ...            ...  \n",
       "1530                       0              1  \n",
       "1531                       0              1  \n",
       "1532                       0              1  \n",
       "1533                       1              1  \n",
       "1534                       1              1  \n",
       "\n",
       "[1535 rows x 21 columns]"
      ]
     },
     "execution_count": 139,
     "metadata": {},
     "output_type": "execute_result"
    }
   ],
   "source": [
    "merge_df[['ou_code', 'operation_day', 'inbound_receive_qty', 'is_holiday',\n",
    "       'outbound_shipped_qty', 'total_head_count', 'total_working_hour',\n",
    "       'outsource_working_hour', 'perm_working_hour', 'other_working_hour',\n",
    "       'mean_', 'std_', 'pvalue_', 'total_count', 'keep_count',\n",
    "       'predict_by_mean_std', 'predict_by_mean_std_upper',\n",
    "       'predict_by_mean_std_lower','keep_cnt_rate', 'flag_exceed_upperbound', 'flag_none_nmd']]"
   ]
  },
  {
   "cell_type": "code",
   "execution_count": 204,
   "metadata": {},
   "outputs": [
    {
     "name": "stdout",
     "output_type": "stream",
     "text": [
      "<class 'pandas.core.frame.DataFrame'>\n",
      "Int64Index: 15515 entries, 0 to 15514\n",
      "Data columns (total 25 columns):\n",
      " #   Column                      Non-Null Count  Dtype  \n",
      "---  ------                      --------------  -----  \n",
      " 0   ou_code                     15515 non-null  object \n",
      " 1   operation_day               15515 non-null  int64  \n",
      " 2   inbound_receive_qty         15515 non-null  int64  \n",
      " 3   is_holiday                  15515 non-null  int64  \n",
      " 4   outbound_shipped_qty        15515 non-null  int64  \n",
      " 5   total_head_count            15515 non-null  float64\n",
      " 6   total_working_hour          15515 non-null  int64  \n",
      " 7   outsource_working_hour      15515 non-null  float64\n",
      " 8   perm_working_hour           15515 non-null  float64\n",
      " 9   other_working_hour          15515 non-null  float64\n",
      " 10  direct_working_hour         15515 non-null  float64\n",
      " 11  indirect_working_hour       15515 non-null  float64\n",
      " 12  outbound_inbound_qty_ratio  15515 non-null  float64\n",
      " 13  perm_working_hour_ratio     15515 non-null  float64\n",
      " 14  working_hour_per_head       15515 non-null  float64\n",
      " 15  location_usage_rate         15515 non-null  float64\n",
      " 16  location_idle_rate          15515 non-null  float64\n",
      " 17  mean_                       15515 non-null  float64\n",
      " 18  std_                        15258 non-null  float64\n",
      " 19  pvalue_                     15258 non-null  float64\n",
      " 20  total_count                 15515 non-null  int64  \n",
      " 21  keep_count                  15515 non-null  int64  \n",
      " 22  predict_by_mean_std         15515 non-null  float64\n",
      " 23  predict_by_mean_std_upper   15258 non-null  float64\n",
      " 24  predict_by_mean_std_lower   15258 non-null  float64\n",
      "dtypes: float64(17), int64(7), object(1)\n",
      "memory usage: 3.1+ MB\n"
     ]
    }
   ],
   "source": [
    "merge_df.info()"
   ]
  },
  {
   "cell_type": "code",
   "execution_count": 26,
   "metadata": {},
   "outputs": [],
   "source": [
    "sub_df = df[(df['ou_code'] == 'STARBSYXXS')\n",
    "            & (df['operation_day'] <=  20220331) \\\n",
    "            & ((df['inbound_receive_qty'] > 0)\n",
    "            | (df['outbound_shipped_qty'] > 0))] "
   ]
  },
  {
   "cell_type": "code",
   "execution_count": 27,
   "metadata": {},
   "outputs": [],
   "source": [
    "sub_df['per_rate'] = (sub_df['inbound_receive_qty'] +  sub_df['outbound_shipped_qty'] * 1.2 ) / sub_df['total_working_hour']"
   ]
  },
  {
   "cell_type": "code",
   "execution_count": 28,
   "metadata": {},
   "outputs": [],
   "source": [
    "sub_df = sub_df.sort_values(['operation_day'])\n",
    "sub_df = sub_df.reset_index(drop=True)"
   ]
  },
  {
   "cell_type": "code",
   "execution_count": 191,
   "metadata": {},
   "outputs": [
    {
     "name": "stdout",
     "output_type": "stream",
     "text": [
      "(210, 18)\n",
      "KstestResult(statistic=0.23708997749618577, pvalue=7.196633366495685e-11)\n",
      "(201, 18)\n",
      "KstestResult(statistic=0.12538077842238138, pvalue=0.0032614019217325737)\n",
      "(187, 18)\n",
      "KstestResult(statistic=0.09030226865739821, pvalue=0.08901541320871031)\n"
     ]
    }
   ],
   "source": [
    "from scipy import stats\n",
    "import pandas as pd\n",
    "u = sub_df['per_rate'].mean()  # 计算均值\n",
    "std = sub_df['per_rate'].std()  # 计算标准差\n",
    "result = stats.kstest(sub_df['per_rate'], 'norm', (u, std))\n",
    "print(sub_df.shape)\n",
    "print(result)\n",
    "for i in range(2) :\n",
    "    tmp_df = sub_df.loc[(sub_df['per_rate'] <= u + 1.85*std) & (sub_df['per_rate'] >= u - 1.85*std)]\n",
    "    u = tmp_df['per_rate'].mean()  # 计算均值\n",
    "    std = tmp_df['per_rate'].std()  # 计算标准差\n",
    "    result = stats.kstest(tmp_df['per_rate'], 'norm', (u, std))\n",
    "    print(tmp_df.shape)\n",
    "    print(result)"
   ]
  },
  {
   "cell_type": "code",
   "execution_count": 195,
   "metadata": {},
   "outputs": [
    {
     "name": "stdout",
     "output_type": "stream",
     "text": [
      "(187, 18)\n"
     ]
    }
   ],
   "source": [
    "print(tmp_df.shape)"
   ]
  },
  {
   "cell_type": "code",
   "execution_count": 198,
   "metadata": {},
   "outputs": [
    {
     "data": {
      "text/plain": [
       "880.8618824104766"
      ]
     },
     "execution_count": 198,
     "metadata": {},
     "output_type": "execute_result"
    }
   ],
   "source": [
    "u"
   ]
  },
  {
   "cell_type": "code",
   "execution_count": 199,
   "metadata": {},
   "outputs": [
    {
     "data": {
      "text/plain": [
       "(187, 18)"
      ]
     },
     "execution_count": 199,
     "metadata": {},
     "output_type": "execute_result"
    }
   ],
   "source": [
    "tmp_df.shape"
   ]
  },
  {
   "cell_type": "code",
   "execution_count": 196,
   "metadata": {},
   "outputs": [
    {
     "data": {
      "text/plain": [
       "592.8689369890128"
      ]
     },
     "execution_count": 196,
     "metadata": {},
     "output_type": "execute_result"
    }
   ],
   "source": [
    "std"
   ]
  },
  {
   "cell_type": "code",
   "execution_count": 154,
   "metadata": {},
   "outputs": [
    {
     "data": {
      "text/plain": [
       "(28, 18)"
      ]
     },
     "execution_count": 154,
     "metadata": {},
     "output_type": "execute_result"
    }
   ],
   "source": [
    "tmp_df[tmp_df['per_rate'] >= (u + std)].shape"
   ]
  },
  {
   "cell_type": "code",
   "execution_count": 155,
   "metadata": {},
   "outputs": [
    {
     "data": {
      "text/plain": [
       "(32, 18)"
      ]
     },
     "execution_count": 155,
     "metadata": {},
     "output_type": "execute_result"
    }
   ],
   "source": [
    "tmp_df[tmp_df['per_rate'] <= (u - std)].shape"
   ]
  },
  {
   "cell_type": "code",
   "execution_count": 197,
   "metadata": {},
   "outputs": [
    {
     "data": {
      "image/png": "[encoded data removed]",
      "text/plain": [
       "<Figure size 720x432 with 3 Axes>"
      ]
     },
     "metadata": {
      "needs_background": "light"
     },
     "output_type": "display_data"
    }
   ],
   "source": [
    "#导入模块\n",
    "import numpy as np\n",
    "import pandas as pd\n",
    "import matplotlib.pyplot as plt\n",
    "%matplotlib inline\n",
    "#导入scipy模块\n",
    "from scipy import stats\n",
    "\n",
    "\n",
    "# 构造一组随机数据\n",
    "s = tmp_df['per_rate']\n",
    "\n",
    "# 画散点图和直方图\n",
    "fig = plt.figure(figsize = (10,6))\n",
    "ax1 = fig.add_subplot(2,1,1)  # 创建子图1\n",
    "ax1.scatter(s.index, s.values)\n",
    "plt.grid()\n",
    "\n",
    "ax2 = fig.add_subplot(2,1,2)  # 创建子图2\n",
    "s.hist(bins=30,alpha = 0.5,ax = ax2)\n",
    "s.plot(kind = 'kde', secondary_y=True,ax = ax2)\n",
    "plt.grid()\n"
   ]
  },
  {
   "cell_type": "code",
   "execution_count": 169,
   "metadata": {},
   "outputs": [
    {
     "data": {
      "text/plain": [
       "0      1196874\n",
       "1      1061413\n",
       "2      2975665\n",
       "4      3074121\n",
       "5       810163\n",
       "        ...   \n",
       "192     680765\n",
       "194    2489300\n",
       "195     210467\n",
       "196      31594\n",
       "197    2531687\n",
       "Name: inbound_receive_qty, Length: 167, dtype: int64"
      ]
     },
     "execution_count": 169,
     "metadata": {},
     "output_type": "execute_result"
    }
   ],
   "source": [
    "tmp_df['outbound_receive_qty']"
   ]
  },
  {
   "cell_type": "code",
   "execution_count": null,
   "metadata": {},
   "outputs": [],
   "source": [
    "import numpy as np\n",
    "import pandas as pd\n",
    "import matplotlib.pyplot as plt\n",
    "import seaborn as sns\n",
    "# 数据准备\n",
    "s = df_product_size[df_product_size['size'] <80]['size']\n",
    "\n",
    "# kde=True 会显示一条取值的曲线\n",
    "sns.distplot(s, kde=True)\n",
    "plt.show()"
   ]
  },
  {
   "cell_type": "code",
   "execution_count": null,
   "metadata": {},
   "outputs": [],
   "source": []
  },
  {
   "cell_type": "code",
   "execution_count": 87,
   "metadata": {},
   "outputs": [
    {
     "data": {
      "text/html": [
       "<div>\n",
       "<style scoped>\n",
       "    .dataframe tbody tr th:only-of-type {\n",
       "        vertical-align: middle;\n",
       "    }\n",
       "\n",
       "    .dataframe tbody tr th {\n",
       "        vertical-align: top;\n",
       "    }\n",
       "\n",
       "    .dataframe thead th {\n",
       "        text-align: right;\n",
       "    }\n",
       "</style>\n",
       "<table border=\"1\" class=\"dataframe\">\n",
       "  <thead>\n",
       "    <tr style=\"text-align: right;\">\n",
       "      <th></th>\n",
       "      <th>inbound_receive_qty</th>\n",
       "      <th>outbound_shipped_qty</th>\n",
       "      <th>total_working_hour</th>\n",
       "      <th>temp_qty</th>\n",
       "    </tr>\n",
       "  </thead>\n",
       "  <tbody>\n",
       "    <tr>\n",
       "      <th>inbound_receive_qty</th>\n",
       "      <td>1.000000</td>\n",
       "      <td>0.170760</td>\n",
       "      <td>0.236941</td>\n",
       "      <td>0.560332</td>\n",
       "    </tr>\n",
       "    <tr>\n",
       "      <th>outbound_shipped_qty</th>\n",
       "      <td>0.170760</td>\n",
       "      <td>1.000000</td>\n",
       "      <td>0.301992</td>\n",
       "      <td>0.610517</td>\n",
       "    </tr>\n",
       "    <tr>\n",
       "      <th>total_working_hour</th>\n",
       "      <td>0.236941</td>\n",
       "      <td>0.301992</td>\n",
       "      <td>1.000000</td>\n",
       "      <td>0.333264</td>\n",
       "    </tr>\n",
       "    <tr>\n",
       "      <th>temp_qty</th>\n",
       "      <td>0.560332</td>\n",
       "      <td>0.610517</td>\n",
       "      <td>0.333264</td>\n",
       "      <td>1.000000</td>\n",
       "    </tr>\n",
       "  </tbody>\n",
       "</table>\n",
       "</div>"
      ],
      "text/plain": [
       "                      inbound_receive_qty  outbound_shipped_qty  \\\n",
       "inbound_receive_qty              1.000000              0.170760   \n",
       "outbound_shipped_qty             0.170760              1.000000   \n",
       "total_working_hour               0.236941              0.301992   \n",
       "temp_qty                         0.560332              0.610517   \n",
       "\n",
       "                      total_working_hour  temp_qty  \n",
       "inbound_receive_qty             0.236941  0.560332  \n",
       "outbound_shipped_qty            0.301992  0.610517  \n",
       "total_working_hour              1.000000  0.333264  \n",
       "temp_qty                        0.333264  1.000000  "
      ]
     },
     "execution_count": 87,
     "metadata": {},
     "output_type": "execute_result"
    }
   ],
   "source": [
    "df_train[df_train['ou_code'] == 'STARBSHHTS'][['inbound_receive_qty','outbound_shipped_qty','total_working_hour','temp_qty']].corr('kendall')\n",
    "\n",
    "# df_train[df_train['ou_code'] == 'STARBSHHTS'][['inbound_receive_qty','outbound_shipped_qty','total_working_hour','temp_qty']].corr('spearman')"
   ]
  },
  {
   "cell_type": "code",
   "execution_count": 88,
   "metadata": {},
   "outputs": [
    {
     "data": {
      "text/html": [
       "<div>\n",
       "<style scoped>\n",
       "    .dataframe tbody tr th:only-of-type {\n",
       "        vertical-align: middle;\n",
       "    }\n",
       "\n",
       "    .dataframe tbody tr th {\n",
       "        vertical-align: top;\n",
       "    }\n",
       "\n",
       "    .dataframe thead th {\n",
       "        text-align: right;\n",
       "    }\n",
       "</style>\n",
       "<table border=\"1\" class=\"dataframe\">\n",
       "  <thead>\n",
       "    <tr style=\"text-align: right;\">\n",
       "      <th></th>\n",
       "      <th>inbound_receive_qty</th>\n",
       "      <th>outbound_shipped_qty</th>\n",
       "      <th>total_working_hour</th>\n",
       "      <th>temp_qty</th>\n",
       "    </tr>\n",
       "  </thead>\n",
       "  <tbody>\n",
       "    <tr>\n",
       "      <th>inbound_receive_qty</th>\n",
       "      <td>1.000000</td>\n",
       "      <td>0.247132</td>\n",
       "      <td>0.347356</td>\n",
       "      <td>0.726055</td>\n",
       "    </tr>\n",
       "    <tr>\n",
       "      <th>outbound_shipped_qty</th>\n",
       "      <td>0.247132</td>\n",
       "      <td>1.000000</td>\n",
       "      <td>0.436466</td>\n",
       "      <td>0.787585</td>\n",
       "    </tr>\n",
       "    <tr>\n",
       "      <th>total_working_hour</th>\n",
       "      <td>0.347356</td>\n",
       "      <td>0.436466</td>\n",
       "      <td>1.000000</td>\n",
       "      <td>0.467004</td>\n",
       "    </tr>\n",
       "    <tr>\n",
       "      <th>temp_qty</th>\n",
       "      <td>0.726055</td>\n",
       "      <td>0.787585</td>\n",
       "      <td>0.467004</td>\n",
       "      <td>1.000000</td>\n",
       "    </tr>\n",
       "  </tbody>\n",
       "</table>\n",
       "</div>"
      ],
      "text/plain": [
       "                      inbound_receive_qty  outbound_shipped_qty  \\\n",
       "inbound_receive_qty              1.000000              0.247132   \n",
       "outbound_shipped_qty             0.247132              1.000000   \n",
       "total_working_hour               0.347356              0.436466   \n",
       "temp_qty                         0.726055              0.787585   \n",
       "\n",
       "                      total_working_hour  temp_qty  \n",
       "inbound_receive_qty             0.347356  0.726055  \n",
       "outbound_shipped_qty            0.436466  0.787585  \n",
       "total_working_hour              1.000000  0.467004  \n",
       "temp_qty                        0.467004  1.000000  "
      ]
     },
     "execution_count": 88,
     "metadata": {},
     "output_type": "execute_result"
    }
   ],
   "source": [
    "# df_train[df_train['ou_code'] == 'STARBSHHTS'][['inbound_receive_qty','outbound_shipped_qty','total_working_hour','temp_qty']].corr('kendall')\n",
    "\n",
    "df_train[df_train['ou_code'] == 'STARBSHHTS'][['inbound_receive_qty','outbound_shipped_qty','total_working_hour','temp_qty']].corr('spearman')"
   ]
  },
  {
   "cell_type": "code",
   "execution_count": null,
   "metadata": {},
   "outputs": [],
   "source": [
    "df_train[df_train['ou_code'] == 'STARBSHHTS'][['inbound_receive_qty','outbound_shipped_qty','total_working_hour','temp_qty']].corr('spearman')"
   ]
  },
  {
   "cell_type": "code",
   "execution_count": 97,
   "metadata": {},
   "outputs": [],
   "source": [
    "## 弱相关性\n",
    "df_t = df_train[df_train['ou_code'] == 'STARBSHHTS'][['inbound_receive_qty','outbound_shipped_qty','total_working_hour','temp_qty']].corr()"
   ]
  },
  {
   "cell_type": "code",
   "execution_count": 99,
   "metadata": {},
   "outputs": [
    {
     "data": {
      "text/plain": [
       "pandas.core.frame.DataFrame"
      ]
     },
     "execution_count": 99,
     "metadata": {},
     "output_type": "execute_result"
    }
   ],
   "source": [
    "type(df_t)"
   ]
  },
  {
   "cell_type": "code",
   "execution_count": 100,
   "metadata": {},
   "outputs": [
    {
     "data": {
      "text/html": [
       "<div>\n",
       "<style scoped>\n",
       "    .dataframe tbody tr th:only-of-type {\n",
       "        vertical-align: middle;\n",
       "    }\n",
       "\n",
       "    .dataframe tbody tr th {\n",
       "        vertical-align: top;\n",
       "    }\n",
       "\n",
       "    .dataframe thead th {\n",
       "        text-align: right;\n",
       "    }\n",
       "</style>\n",
       "<table border=\"1\" class=\"dataframe\">\n",
       "  <thead>\n",
       "    <tr style=\"text-align: right;\">\n",
       "      <th></th>\n",
       "      <th>inbound_receive_qty</th>\n",
       "      <th>outbound_shipped_qty</th>\n",
       "      <th>total_working_hour</th>\n",
       "      <th>temp_qty</th>\n",
       "    </tr>\n",
       "  </thead>\n",
       "  <tbody>\n",
       "    <tr>\n",
       "      <th>inbound_receive_qty</th>\n",
       "      <td>1.000000</td>\n",
       "      <td>0.151699</td>\n",
       "      <td>0.225929</td>\n",
       "      <td>0.781565</td>\n",
       "    </tr>\n",
       "    <tr>\n",
       "      <th>outbound_shipped_qty</th>\n",
       "      <td>0.151699</td>\n",
       "      <td>1.000000</td>\n",
       "      <td>0.348484</td>\n",
       "      <td>0.735167</td>\n",
       "    </tr>\n",
       "    <tr>\n",
       "      <th>total_working_hour</th>\n",
       "      <td>0.225929</td>\n",
       "      <td>0.348484</td>\n",
       "      <td>1.000000</td>\n",
       "      <td>0.374886</td>\n",
       "    </tr>\n",
       "    <tr>\n",
       "      <th>temp_qty</th>\n",
       "      <td>0.781565</td>\n",
       "      <td>0.735167</td>\n",
       "      <td>0.374886</td>\n",
       "      <td>1.000000</td>\n",
       "    </tr>\n",
       "  </tbody>\n",
       "</table>\n",
       "</div>"
      ],
      "text/plain": [
       "                      inbound_receive_qty  outbound_shipped_qty  \\\n",
       "inbound_receive_qty              1.000000              0.151699   \n",
       "outbound_shipped_qty             0.151699              1.000000   \n",
       "total_working_hour               0.225929              0.348484   \n",
       "temp_qty                         0.781565              0.735167   \n",
       "\n",
       "                      total_working_hour  temp_qty  \n",
       "inbound_receive_qty             0.225929  0.781565  \n",
       "outbound_shipped_qty            0.348484  0.735167  \n",
       "total_working_hour              1.000000  0.374886  \n",
       "temp_qty                        0.374886  1.000000  "
      ]
     },
     "execution_count": 100,
     "metadata": {},
     "output_type": "execute_result"
    }
   ],
   "source": [
    "df_t"
   ]
  },
  {
   "cell_type": "code",
   "execution_count": null,
   "metadata": {},
   "outputs": [],
   "source": []
  },
  {
   "cell_type": "code",
   "execution_count": null,
   "metadata": {},
   "outputs": [],
   "source": []
  },
  {
   "cell_type": "code",
   "execution_count": 76,
   "metadata": {},
   "outputs": [
    {
     "data": {
      "text/html": [
       "<div>\n",
       "<style scoped>\n",
       "    .dataframe tbody tr th:only-of-type {\n",
       "        vertical-align: middle;\n",
       "    }\n",
       "\n",
       "    .dataframe tbody tr th {\n",
       "        vertical-align: top;\n",
       "    }\n",
       "\n",
       "    .dataframe thead th {\n",
       "        text-align: right;\n",
       "    }\n",
       "</style>\n",
       "<table border=\"1\" class=\"dataframe\">\n",
       "  <thead>\n",
       "    <tr style=\"text-align: right;\">\n",
       "      <th></th>\n",
       "      <th>inbound_receive_qty</th>\n",
       "      <th>outbound_shipped_qty</th>\n",
       "      <th>total_working_hour</th>\n",
       "      <th>temp_qty</th>\n",
       "    </tr>\n",
       "  </thead>\n",
       "  <tbody>\n",
       "    <tr>\n",
       "      <th>inbound_receive_qty</th>\n",
       "      <td>1.000000</td>\n",
       "      <td>0.151699</td>\n",
       "      <td>0.225929</td>\n",
       "      <td>0.575201</td>\n",
       "    </tr>\n",
       "    <tr>\n",
       "      <th>outbound_shipped_qty</th>\n",
       "      <td>0.151699</td>\n",
       "      <td>1.000000</td>\n",
       "      <td>0.348484</td>\n",
       "      <td>0.895803</td>\n",
       "    </tr>\n",
       "    <tr>\n",
       "      <th>total_working_hour</th>\n",
       "      <td>0.225929</td>\n",
       "      <td>0.348484</td>\n",
       "      <td>1.000000</td>\n",
       "      <td>0.389993</td>\n",
       "    </tr>\n",
       "    <tr>\n",
       "      <th>temp_qty</th>\n",
       "      <td>0.575201</td>\n",
       "      <td>0.895803</td>\n",
       "      <td>0.389993</td>\n",
       "      <td>1.000000</td>\n",
       "    </tr>\n",
       "  </tbody>\n",
       "</table>\n",
       "</div>"
      ],
      "text/plain": [
       "                      inbound_receive_qty  outbound_shipped_qty  \\\n",
       "inbound_receive_qty              1.000000              0.151699   \n",
       "outbound_shipped_qty             0.151699              1.000000   \n",
       "total_working_hour               0.225929              0.348484   \n",
       "temp_qty                         0.575201              0.895803   \n",
       "\n",
       "                      total_working_hour  temp_qty  \n",
       "inbound_receive_qty             0.225929  0.575201  \n",
       "outbound_shipped_qty            0.348484  0.895803  \n",
       "total_working_hour              1.000000  0.389993  \n",
       "temp_qty                        0.389993  1.000000  "
      ]
     },
     "execution_count": 76,
     "metadata": {},
     "output_type": "execute_result"
    }
   ],
   "source": [
    "df_train[df_train['ou_code'] == 'STARBSHHTS'][['inbound_receive_qty','outbound_shipped_qty','total_working_hour','temp_qty']].corr()"
   ]
  },
  {
   "cell_type": "code",
   "execution_count": 65,
   "metadata": {},
   "outputs": [
    {
     "data": {
      "text/plain": [
       "<AxesSubplot:>"
      ]
     },
     "execution_count": 65,
     "metadata": {},
     "output_type": "execute_result"
    },
    {
     "data": {
      "image/png": "[encoded data removed]",
      "text/plain": [
       "<Figure size 432x288 with 1 Axes>"
      ]
     },
     "metadata": {
      "needs_background": "light"
     },
     "output_type": "display_data"
    }
   ],
   "source": [
    "df_train[df_train['ou_code'] == 'STARBSHHTS']['total_working_hour'].plot()"
   ]
  },
  {
   "cell_type": "markdown",
   "metadata": {},
   "source": [
    "### 对于分布的探索 --------end------"
   ]
  },
  {
   "cell_type": "code",
   "execution_count": null,
   "metadata": {},
   "outputs": [],
   "source": []
  },
  {
   "cell_type": "code",
   "execution_count": 24,
   "metadata": {},
   "outputs": [
    {
     "name": "stdout",
     "output_type": "stream",
     "text": [
      "STARBSYXXS\n",
      "single point in cluster! dropping, center size = 9\n",
      "single point in cluster! dropping, center size = 10\n",
      "[0.77113318430713, 0.7516875924675652, 0.7017412365898418, 0.7144398378386946, 0.7772415643279681, 0.7968750291611804, 100, 100] 25.56413980558655\n",
      "5 Center count, cap is 11\n",
      "STARBSHHTS\n",
      "[0.7926023829626699, 0.7053447280633536, 0.6545005042536267, 0.6604232559365378, 0.6841814417089012, 0.7032649483535143, 0.6895902165921264, 0.6720398294975134] 0.6952434134210304\n",
      "5 Center count, cap is 11\n"
     ]
    }
   ],
   "source": [
    "\n",
    "# df0 = ld_dt(if_local = True)\n",
    "# min_kernel = 3\n",
    "# max_kernel = 11\n",
    "df_final = pd.DataFrame()\n",
    "for ou_code in df['ou_code'].unique(): # --\n",
    "    df = df0[df0['ou_code'] == ou_code]\n",
    "    ou_code =  ou_code #'STARBSYXXS', 'FORDCCSLGS' \n",
    "    print(ou_code)\n",
    "    try:\n",
    "        del df_train,df_nulle,df_teste\n",
    "    except:\n",
    "        pass\n",
    "    df_train = df[(df['ou_code'] == ou_code) \\\n",
    "        & (df['operation_day'] >=  20220101)\n",
    "        & (df['operation_day'] <=  20220331)\n",
    "        & ((df['inbound_receive_qty'] > 0)\n",
    "        | (df['outbound_shipped_qty'] > 0))] # train data for fit, either in or out larger than 0 \n",
    "\n",
    "    df_nulle = df[(df['ou_code'] == ou_code) \\\n",
    "        # & (df['operation_day'] <  20220201)\n",
    "        & (df['inbound_receive_qty'] == 0) \n",
    "        & (df['outbound_shipped_qty'] == 0)] # null data\n",
    "\n",
    "    df_teste = df[(df['ou_code'] == ou_code) \\\n",
    "        # & (df['operation_day'] <  20220321)\n",
    "        & ((df['inbound_receive_qty'] > 0) \n",
    "        | (df['outbound_shipped_qty'] > 0))]  # none null data, test set, all time span\n",
    "    try:\n",
    "        df_teste['kernels'] = train(df_train)\n",
    "        df_nulle['kernels'] = -1\n",
    "        df_fin = pd.concat([df_teste, df_nulle], axis = 0).sort_values('operation_day')\n",
    "        df_fin = df_fin.join(df_fin[[\n",
    "            'kernels', 'total_working_hour', 'outsource_working_hour'\n",
    "            ]].groupby(\n",
    "                'kernels'\n",
    "                ).transform('quantile', (.75))\\\n",
    "                    .rename({'total_working_hour':'qt_75_wh', 'outsource_working_hour':'qt_75_os'}, axis = 1))\n",
    "        df_final = df_final.append(df_fin)\n",
    "    except:\n",
    "        print(ou_code, 'has failed in this conversation')"
   ]
  },
  {
   "cell_type": "code",
   "execution_count": 1,
   "metadata": {},
   "outputs": [],
   "source": [
    "# df_final.to_csv('./starb.csv', index = None)"
   ]
  },
  {
   "cell_type": "markdown",
   "metadata": {},
   "source": [
    "# preview data"
   ]
  },
  {
   "cell_type": "code",
   "execution_count": 2,
   "metadata": {},
   "outputs": [],
   "source": [
    "df_fin[['total_working_hour', 'inbound_receive_qty', 'outbound_shipped_qty', 'qt_75_wh', 'kernels','operation_day']]\\\n",
    "    .sort_values('operation_day', ascending = False)\\\n",
    "    .head(50)"
   ]
  },
  {
   "cell_type": "code",
   "execution_count": null,
   "metadata": {},
   "outputs": [],
   "source": [
    "import  matplotlib.pyplot as plt\n",
    "import seaborn as sns \n",
    "import plotly.express as px\n",
    "\n",
    "\n",
    "plt = df_fin[['inbound_receive_qty', 'outbound_shipped_qty',  'kernels', 'in_out_sum', 'tt_wh',]]\n",
    "# sns.scatterplot(x = plt.iloc[:,0],\n",
    "#                 y = plt.iloc[:,1],\n",
    "#             hue =plt.iloc[:,2],\n",
    "#             palette = 'Paired'\n",
    "#             )\n",
    "# # pd.DataFrame(input)\n",
    "px.scatter_3d(data_frame= plt,\n",
    "              x = 'inbound_receive_qty',\n",
    "              y = 'outbound_shipped_qty',\n",
    "              z = 'tt_wh',\n",
    "              color='kernels',)\n",
    "\n",
    "# pd.Series(model).value_counts().min()"
   ]
  },
  {
   "cell_type": "code",
   "execution_count": null,
   "metadata": {},
   "outputs": [],
   "source": [
    "\n",
    "df_fin['flag_75_os'] =  df_fin['outsource_working_hour'] -1.2*df_fin['qt_75_os']\n",
    "df_fin['flag_75_os'] = [1 if a > 0 else 0 for a in df_fin['flag_75_os']]\n",
    "df_fin['flag_75_wh'] =  df_fin['total_working_hour'] -1.2*df_fin['qt_75_wh']\n",
    "df_fin['flag_75_wh'] = [1 if a > 0 else 0 for a in df_fin['flag_75_wh']]\n",
    "df_fin['dis_tt_kernel'] = np.abs(df_fin['total_working_hour'    ]  - 1.2* df_fin['qt_75_wh'] )\n",
    "df_fin['dis_os_kernel'] = np.abs(df_fin['outsource_working_hour']  - 1.2* df_fin['qt_75_os'] )\n"
   ]
  },
  {
   "cell_type": "markdown",
   "metadata": {},
   "source": [
    "# statistical inferencing"
   ]
  },
  {
   "cell_type": "code",
   "execution_count": null,
   "metadata": {},
   "outputs": [],
   "source": [
    "# import sklearn\n",
    "# from sklearn.linear_model import LinearRegression\n",
    "import statsmodels.api as sm\n",
    "mod = sm.OLS(\n",
    "        endog=df['total_working_hour'],\n",
    "        exog=df[['inbound_receive_qty','outbound_shipped_qty']])\n",
    "fii = mod.fit()\n",
    "# p_values = fii.summary2().tables[1]['P>|t|']\n",
    "# p_values\n",
    "fii.summary().tables[1]"
   ]
  },
  {
   "cell_type": "code",
   "execution_count": null,
   "metadata": {},
   "outputs": [],
   "source": [
    "# df_fin[['inbound_receive_qty','outbound_shipped_qty', 'kernels']].query(\"kernels == 2\")"
   ]
  },
  {
   "cell_type": "code",
   "execution_count": null,
   "metadata": {},
   "outputs": [],
   "source": [
    "# select a.ou_code,b.ou_name,b.bg_code,c.bg_name_cn bg_name,operation_day,inbound_receive_qty,outbound_shipped_qty,\n",
    "\n",
    "# round(total_working_hour,2) total_working_hour,\n",
    "\n",
    "# round(1.2*qt_75_wh,2) working_hour_limit,round(dis_tt_kernel,2) dis_tt_kernel"
   ]
  },
  {
   "cell_type": "code",
   "execution_count": null,
   "metadata": {},
   "outputs": [],
   "source": [
    "\n",
    "# a = cluster.DBSCAN()\n",
    "# get_transformed_data('train')\n",
    "# input = get_transformed_data('train')\n",
    "# scores = []\n",
    "# for center in range(3,6):\n",
    "#         #  np.linspace(0.1, input.max()/2, num=5)\n",
    "#                 # kmeans = cluster.DBSCAN(eps=center, min_samples=7, n_jobs= -1)\n",
    "#                 # kmeans = cluster.SpectralClustering(n_clusters=center,\\\n",
    "#                 #         affinity='nearest_neighbors',\n",
    "#                 #         n_neighbors=4,\n",
    "#                 #         random_state=529, \n",
    "#                 #         n_jobs= -1)\n",
    "#                 kmeans = cluster.KMeans(n_clusters=center, random_state = 529)\n",
    "#                 model  = kmeans.fit_predict(\n",
    "#                         # X = reshape_to_easy_train(df_train, col)\n",
    "#                         X = input\n",
    "#                         )\n",
    "#                 score  = davies_bouldin_score(\n",
    "#                         # reshape_to_easy_train(df_train, col), \n",
    "#                         input,\n",
    "#                         model\n",
    "#                         )\n",
    "#                 scores.append(score)\n",
    "# scores\n",
    "# # np.argmin(scores) + 4\n",
    "# # kmeans = cluster.DBSCAN(eps=.15, min_samples=4, n_jobs= -1)\n",
    "# # kmeans = cluster.SpectralClustering(n_clusters=4, \n",
    "# #                                     affinity='nearest_neighbors',\n",
    "# #                                     n_neighbors=4,\n",
    "# #                                     random_state=529, \n",
    "# #                                     n_jobs= -1)\n",
    "# kmeans = cluster.KMeans(n_clusters=np.argmin(scores) + 3)\n",
    "# model  = kmeans.fit_predict(\n",
    "#                         # X = reshape_to_easy_train(df_train, col)\n",
    "#                         X = input\n",
    "#                         )\n",
    "# # model.tolist()"
   ]
  },
  {
   "cell_type": "code",
   "execution_count": 149,
   "metadata": {},
   "outputs": [
    {
     "data": {
      "text/plain": [
       "_StoreAction(option_strings=['--outb_para'], dest='outb_para', nargs='*', const=None, default=1.2, type=None, choices=None, help='', metavar=None)"
      ]
     },
     "execution_count": 149,
     "metadata": {},
     "output_type": "execute_result"
    }
   ],
   "source": [
    "import argparse\n",
    "from datetime import timedelta\n",
    "args = argparse.ArgumentParser()\n",
    "args.add_argument(\"--start_date\", help=\"start date for refresh data, format: yyyyMMdd\",\\\n",
    "    default=[(datetime.now() + timedelta(days=-1)).strftime('%Y%m%d')], nargs=\"*\")\n",
    "args.add_argument(\"--end_date\", help=\"end date\", \\\n",
    "    default=[(datetime.now() + timedelta(days=-91)).strftime('%Y%m%d')], nargs=\"*\")\n",
    "args.add_argument(\"--if_local\", help = '', default=False, nargs = \"*\")\n",
    "args.add_argument(\"--outb_para\", help = '', default=1.2, nargs = \"*\")"
   ]
  },
  {
   "cell_type": "code",
   "execution_count": 150,
   "metadata": {},
   "outputs": [
    {
     "name": "stderr",
     "output_type": "stream",
     "text": [
      "usage: ipykernel_launcher.py [-h] [--start_date [START_DATE [START_DATE ...]]]\n",
      "                             [--end_date [END_DATE [END_DATE ...]]]\n",
      "                             [--if_local [IF_LOCAL [IF_LOCAL ...]]]\n",
      "                             [--outb_para [OUTB_PARA [OUTB_PARA ...]]]\n",
      "ipykernel_launcher.py: error: unrecognized arguments: --ip=127.0.0.1 --stdin=9008 --control=9006 --hb=9005 --Session.signature_scheme=\"hmac-sha256\" --Session.key=b\"fb2f50f9-cc4d-4dc4-ae9a-dee3656c9bde\" --shell=9007 --transport=\"tcp\" --iopub=9009 --f=C:\\Users\\DSCSHA~1\\AppData\\Local\\Temp\\tmp-7340L6uaF1thqjTw.json\n"
     ]
    },
    {
     "ename": "SystemExit",
     "evalue": "2",
     "output_type": "error",
     "traceback": [
      "An exception has occurred, use %tb to see the full traceback.\n",
      "\u001b[1;31mSystemExit\u001b[0m\u001b[1;31m:\u001b[0m 2\n"
     ]
    }
   ],
   "source": [
    "\n",
    "args_parse = args.parse_args()\n",
    "start_date = args_parse.start_date[0]"
   ]
  }
 ],
 "metadata": {
  "interpreter": {
   "hash": "47b50d2908d96196e4220cfb4e81faa93803065ea975497e7026f672c1f58470"
  },
  "kernelspec": {
   "display_name": "Python 3 (ipykernel)",
   "language": "python",
   "name": "python3"
  },
  "language_info": {
   "codemirror_mode": {
    "name": "ipython",
    "version": 3
   },
   "file_extension": ".py",
   "mimetype": "text/x-python",
   "name": "python",
   "nbconvert_exporter": "python",
   "pygments_lexer": "ipython3",
   "version": "3.8.8"
  }
 },
 "nbformat": 4,
 "nbformat_minor": 2
}
