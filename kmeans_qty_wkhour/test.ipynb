{
 "cells": [
  {
   "cell_type": "code",
   "execution_count": 2,
   "metadata": {},
   "outputs": [],
   "source": [
    "\n",
    "import numpy as np  \n",
    "import pandas as pd \n",
    "import matplotlib.pyplot as plt\n",
    "from sklearn import cluster\n",
    "import os\n",
    "import re\n",
    "import sklearn\n",
    "from datetime import date, datetime"
   ]
  },
  {
   "cell_type": "code",
   "execution_count": 5,
   "metadata": {},
   "outputs": [],
   "source": [
    "\n",
    "link = r'C:\\Users\\dscshap3808\\Documents\\my_scripts_new\\play1\\dws_dsc_wh_ou_daily_kpi_sum.csv'\n",
    "df = pd.read_csv(link, sep = '\\001')\n",
    "df.head()\n",
    "re1 = re.compile(r'(?<=\\.).+')\n",
    "df.columns = [re1.findall(i)[0] for i in list(df.columns.to_numpy())]\n",
    "\n",
    "\n",
    "df2 = df[df['operation_day'] > 20211216]"
   ]
  },
  {
   "cell_type": "code",
   "execution_count": 9,
   "metadata": {},
   "outputs": [],
   "source": [
    "pd.set_option(\"display.max_rows\", None, \"display.max_columns\", None)\n",
    "df2 = df2.fillna(0)"
   ]
  },
  {
   "cell_type": "code",
   "execution_count": null,
   "metadata": {},
   "outputs": [],
   "source": []
  }
 ],
 "metadata": {
  "interpreter": {
   "hash": "6e73a0d46797d65400403f93d05e36be3532f304d6bdba665e15618d0fe012a3"
  },
  "kernelspec": {
   "display_name": "Python 3.8.10 64-bit ('yan': conda)",
   "language": "python",
   "name": "python3"
  },
  "language_info": {
   "codemirror_mode": {
    "name": "ipython",
    "version": 3
   },
   "file_extension": ".py",
   "mimetype": "text/x-python",
   "name": "python",
   "nbconvert_exporter": "python",
   "pygments_lexer": "ipython3",
   "version": "3.8.8"
  },
  "orig_nbformat": 4
 },
 "nbformat": 4,
 "nbformat_minor": 2
}
