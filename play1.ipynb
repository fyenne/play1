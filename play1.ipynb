{
 "metadata": {
  "language_info": {
   "codemirror_mode": {
    "name": "ipython",
    "version": 3
   },
   "file_extension": ".py",
   "mimetype": "text/x-python",
   "name": "python",
   "nbconvert_exporter": "python",
   "pygments_lexer": "ipython3",
   "version": "3.8.8"
  },
  "orig_nbformat": 4,
  "kernelspec": {
   "name": "python3",
   "display_name": "Python 3.8.8 64-bit ('siming': conda)"
  },
  "interpreter": {
   "hash": "47b50d2908d96196e4220cfb4e81faa93803065ea975497e7026f672c1f58470"
  }
 },
 "nbformat": 4,
 "nbformat_minor": 2,
 "cells": [
  {
   "cell_type": "code",
   "execution_count": 2,
   "source": [
    "\r\n",
    "import numpy as np # linear algebra\r\n",
    "import pandas as pd # data processing, CSV file I/O (e.g. pd.read_csv)\r\n",
    "import matplotlib.pyplot as plt\r\n",
    "from sklearn import cluster\r\n",
    "import os\r\n",
    "import re\r\n",
    "# import seaborn as sns\r\n",
    "\r\n",
    "import warnings\r\n",
    "warnings.filterwarnings('ignore')\r\n",
    "os.getcwd()\r\n"
   ],
   "outputs": [],
   "metadata": {}
  },
  {
   "cell_type": "code",
   "execution_count": 8,
   "source": [
    "df = pd.read_csv('./daily_kpi_all_810.csv')\r\n",
    "# df.dropna(axis = 1, inplace = True, how = 'all')\r\n",
    "# re1 = re.compile(r'(?<=\\.).+')\r\n",
    "# df.columns = [re1.findall(i)[0] for i in list(df.columns.to_numpy())]\r\n",
    "# df.to_csv('./dws_dsc_wh_ou_daily_kpi_july.csv', encoding='utf_8_sig')\r\n",
    "\r\n",
    "# df.to_csv('./daily_kpi_all_810.csv', encoding='utf_8_sig')"
   ],
   "outputs": [],
   "metadata": {}
  },
  {
   "cell_type": "code",
   "execution_count": 9,
   "source": [
    "[len(df), len(pd.concat([df, df.head()], axis = 0).drop_duplicates()),  len(pd.concat([df, df.head()], axis = 0))]"
   ],
   "outputs": [
    {
     "output_type": "execute_result",
     "data": {
      "text/plain": [
       "[17339, 17339, 17344]"
      ]
     },
     "metadata": {},
     "execution_count": 9
    }
   ],
   "metadata": {}
  },
  {
   "cell_type": "code",
   "execution_count": 3,
   "source": [
    "df.columns"
   ],
   "outputs": [
    {
     "output_type": "execute_result",
     "data": {
      "text/plain": [
       "Index(['Unnamed: 0', 'ou_code', 'ou_name', 'bg_code', 'bg_name_cn',\n",
       "       'customer_id', 'customer_name', 'total_storage_location_count',\n",
       "       'operation_day', 'week', 'month', 'quarter', 'year', 'is_holiday',\n",
       "       'inbound_header_count', 'inbound_line_count',\n",
       "       'inbound_line_original_qty', 'inbound_receive_qty',\n",
       "       'inbound_receive_volume', 'inbound_receive_weight',\n",
       "       'outbound_header_count', 'outbound_line_count',\n",
       "       'outbound_line_original_qty', 'outbound_shipped_qty',\n",
       "       'outbound_shipped_volume', 'outbound_shipped_weight',\n",
       "       'outbound_std_shipped_volume', 'outbound_std_shipped_weight',\n",
       "       'used_storage_location_count', 'active_lpn_count', 'on_hand_qty',\n",
       "       'in_transit_qty', 'allocated_qty', 'total_head_count',\n",
       "       'total_working_hour', 'outsource_working_hour', 'perm_working_hour',\n",
       "       'other_working_hour', 'direct_working_hour', 'indirect_working_hour',\n",
       "       'outbound_inbound_qty_ratio', 'perm_working_hour_ratio',\n",
       "       'working_hour_per_head', 'location_usage_rate', 'location_idle_rate',\n",
       "       'update_time'],\n",
       "      dtype='object')"
      ]
     },
     "metadata": {},
     "execution_count": 3
    }
   ],
   "metadata": {}
  },
  {
   "cell_type": "code",
   "execution_count": 4,
   "source": [
    "# fig, ax = plt.subplots()\r\n",
    "# sns.distplot(df.groupby('ou_code')['operation_day'].nunique(), ax = ax)\r\n",
    "\r\n",
    "# ax.set_xlim(1,81)\r\n",
    "# ax.set_xticks(np.arange(12,81,3))\r\n",
    "# ax.set_xticklabels(np.arange(12,81,3), rotation=1)"
   ],
   "outputs": [],
   "metadata": {}
  },
  {
   "cell_type": "code",
   "execution_count": 10,
   "source": [
    "clean_df1 = (df.groupby('ou_code')['operation_day'].count() < 24).reset_index()\r\n",
    "clean_df1.columns = ['ou_code', 'flag1']\r\n",
    "df = clean_df1.merge(df, on = 'ou_code', how = 'inner')\r\n",
    "df = df[df['flag1'] == False]\r\n",
    "\r\n",
    "clean_df2 = df.groupby('ou_code')[[\r\n",
    "    'inbound_receive_qty', 'outbound_shipped_qty'\r\n",
    "    ]].sum().reset_index()\r\n",
    "clean_df2['sum'] = clean_df2.sum(axis = 1)\r\n",
    "clean_df2 = clean_df2[clean_df2['sum'] != 0]\r\n",
    "df = df[df['ou_code'].isin(clean_df2.ou_code)]\r\n",
    "\r\n",
    "clean_df3 = (df.groupby('ou_code')[[\r\n",
    "    'total_working_hour'\r\n",
    "    ]].sum() == 0).reset_index()\r\n",
    "clean_df3 = clean_df3[clean_df3['total_working_hour'] == False]\r\n",
    "df = df[df['ou_code'].isin(clean_df3.ou_code)]\r\n",
    "df= df.reset_index()\r\n",
    " "
   ],
   "outputs": [],
   "metadata": {}
  },
  {
   "cell_type": "code",
   "execution_count": 11,
   "source": [
    "df = df[[\r\n",
    "    'ou_code','operation_day', 'inbound_receive_qty', 'is_holiday',\r\n",
    "    'outbound_shipped_qty','total_head_count','total_working_hour',\r\n",
    "    'outsource_working_hour', 'perm_working_hour',\r\n",
    "    'other_working_hour', 'direct_working_hour', 'indirect_working_hour',\r\n",
    "    'outbound_inbound_qty_ratio', 'perm_working_hour_ratio',\r\n",
    "    'working_hour_per_head', 'location_usage_rate', 'location_idle_rate']]\r\n",
    "df = df.fillna(0)\r\n",
    "df = df[df['total_working_hour'] != 0]"
   ],
   "outputs": [],
   "metadata": {}
  },
  {
   "cell_type": "code",
   "execution_count": 12,
   "source": [
    "df"
   ],
   "outputs": [
    {
     "output_type": "execute_result",
     "data": {
      "text/plain": [
       "     ou_code  operation_day  inbound_receive_qty  is_holiday  \\\n",
       "0     CN-001       20210617                114.0           0   \n",
       "4     CN-001       20210619                  0.0           1   \n",
       "6     CN-001       20210707              23881.0           0   \n",
       "7     CN-001       20210611              41669.0           0   \n",
       "12    CN-001       20210628               2500.0           0   \n",
       "...      ...            ...                  ...         ...   \n",
       "5477  HK-115       20210728               2490.0           0   \n",
       "5479  HK-115       20210713                  0.0           0   \n",
       "5482  HK-115       20210724                240.0           1   \n",
       "5485  HK-115       20210715               2021.0           0   \n",
       "5493  HK-115       20210729                  0.0           0   \n",
       "\n",
       "      outbound_shipped_qty  total_head_count  total_working_hour  \\\n",
       "0                  13527.0               4.0               31.58   \n",
       "4                      0.0               3.0               30.00   \n",
       "6                      0.0               4.0               33.55   \n",
       "7                  27762.0               3.0               25.50   \n",
       "12                   165.0               4.0               33.68   \n",
       "...                    ...               ...                 ...   \n",
       "5477                8298.0               6.0               58.21   \n",
       "5479                5437.0               9.0               85.69   \n",
       "5482                2190.0               4.0               29.74   \n",
       "5485                6827.0               9.0               82.05   \n",
       "5493               13259.0               5.0               47.62   \n",
       "\n",
       "      outsource_working_hour  perm_working_hour  other_working_hour  \\\n",
       "0                        0.0              31.58                0.00   \n",
       "4                        0.0              30.00                0.00   \n",
       "6                        0.0              33.55                0.00   \n",
       "7                        0.0              25.50                0.00   \n",
       "12                       0.0              33.68                0.00   \n",
       "...                      ...                ...                 ...   \n",
       "5477                     0.0              39.38               18.83   \n",
       "5479                     0.0              42.15               43.54   \n",
       "5482                     0.0              21.52                8.22   \n",
       "5485                     0.0              40.52               41.53   \n",
       "5493                     0.0              31.02               16.60   \n",
       "\n",
       "      direct_working_hour  indirect_working_hour  outbound_inbound_qty_ratio  \\\n",
       "0                   31.58                   0.00                  118.657895   \n",
       "4                   30.00                   0.00                    0.000000   \n",
       "6                   33.55                   0.00                    0.000000   \n",
       "7                   25.50                   0.00                    0.666251   \n",
       "12                  33.68                   0.00                    0.066000   \n",
       "...                   ...                    ...                         ...   \n",
       "5477                 0.00                  58.21                    3.332530   \n",
       "5479                 0.00                  85.69                    0.000000   \n",
       "5482                 0.00                  29.74                    9.125000   \n",
       "5485                 0.00                  82.05                    3.378031   \n",
       "5493                 0.00                  47.62                    0.000000   \n",
       "\n",
       "      perm_working_hour_ratio  working_hour_per_head  location_usage_rate  \\\n",
       "0                    1.000000               7.895000             0.001600   \n",
       "4                    1.000000              10.000000             0.011628   \n",
       "6                    1.000000               8.387500             0.017282   \n",
       "7                    1.000000               8.500000             0.035951   \n",
       "12                   1.000000               8.420000             0.004160   \n",
       "...                       ...                    ...                  ...   \n",
       "5477                 0.676516               9.701667             0.683625   \n",
       "5479                 0.491889               9.521111             0.651828   \n",
       "5482                 0.723605               7.435000             0.656598   \n",
       "5485                 0.493845               9.116667             0.662957   \n",
       "5493                 0.651407               9.524000             0.597774   \n",
       "\n",
       "      location_idle_rate  \n",
       "0               0.998400  \n",
       "4               0.988372  \n",
       "6               0.982718  \n",
       "7               0.964049  \n",
       "12              0.995840  \n",
       "...                  ...  \n",
       "5477            0.316375  \n",
       "5479            0.348172  \n",
       "5482            0.343402  \n",
       "5485            0.337043  \n",
       "5493            0.402226  \n",
       "\n",
       "[1733 rows x 17 columns]"
      ],
      "text/html": [
       "<div>\n",
       "<style scoped>\n",
       "    .dataframe tbody tr th:only-of-type {\n",
       "        vertical-align: middle;\n",
       "    }\n",
       "\n",
       "    .dataframe tbody tr th {\n",
       "        vertical-align: top;\n",
       "    }\n",
       "\n",
       "    .dataframe thead th {\n",
       "        text-align: right;\n",
       "    }\n",
       "</style>\n",
       "<table border=\"1\" class=\"dataframe\">\n",
       "  <thead>\n",
       "    <tr style=\"text-align: right;\">\n",
       "      <th></th>\n",
       "      <th>ou_code</th>\n",
       "      <th>operation_day</th>\n",
       "      <th>inbound_receive_qty</th>\n",
       "      <th>is_holiday</th>\n",
       "      <th>outbound_shipped_qty</th>\n",
       "      <th>total_head_count</th>\n",
       "      <th>total_working_hour</th>\n",
       "      <th>outsource_working_hour</th>\n",
       "      <th>perm_working_hour</th>\n",
       "      <th>other_working_hour</th>\n",
       "      <th>direct_working_hour</th>\n",
       "      <th>indirect_working_hour</th>\n",
       "      <th>outbound_inbound_qty_ratio</th>\n",
       "      <th>perm_working_hour_ratio</th>\n",
       "      <th>working_hour_per_head</th>\n",
       "      <th>location_usage_rate</th>\n",
       "      <th>location_idle_rate</th>\n",
       "    </tr>\n",
       "  </thead>\n",
       "  <tbody>\n",
       "    <tr>\n",
       "      <th>0</th>\n",
       "      <td>CN-001</td>\n",
       "      <td>20210617</td>\n",
       "      <td>114.0</td>\n",
       "      <td>0</td>\n",
       "      <td>13527.0</td>\n",
       "      <td>4.0</td>\n",
       "      <td>31.58</td>\n",
       "      <td>0.0</td>\n",
       "      <td>31.58</td>\n",
       "      <td>0.00</td>\n",
       "      <td>31.58</td>\n",
       "      <td>0.00</td>\n",
       "      <td>118.657895</td>\n",
       "      <td>1.000000</td>\n",
       "      <td>7.895000</td>\n",
       "      <td>0.001600</td>\n",
       "      <td>0.998400</td>\n",
       "    </tr>\n",
       "    <tr>\n",
       "      <th>4</th>\n",
       "      <td>CN-001</td>\n",
       "      <td>20210619</td>\n",
       "      <td>0.0</td>\n",
       "      <td>1</td>\n",
       "      <td>0.0</td>\n",
       "      <td>3.0</td>\n",
       "      <td>30.00</td>\n",
       "      <td>0.0</td>\n",
       "      <td>30.00</td>\n",
       "      <td>0.00</td>\n",
       "      <td>30.00</td>\n",
       "      <td>0.00</td>\n",
       "      <td>0.000000</td>\n",
       "      <td>1.000000</td>\n",
       "      <td>10.000000</td>\n",
       "      <td>0.011628</td>\n",
       "      <td>0.988372</td>\n",
       "    </tr>\n",
       "    <tr>\n",
       "      <th>6</th>\n",
       "      <td>CN-001</td>\n",
       "      <td>20210707</td>\n",
       "      <td>23881.0</td>\n",
       "      <td>0</td>\n",
       "      <td>0.0</td>\n",
       "      <td>4.0</td>\n",
       "      <td>33.55</td>\n",
       "      <td>0.0</td>\n",
       "      <td>33.55</td>\n",
       "      <td>0.00</td>\n",
       "      <td>33.55</td>\n",
       "      <td>0.00</td>\n",
       "      <td>0.000000</td>\n",
       "      <td>1.000000</td>\n",
       "      <td>8.387500</td>\n",
       "      <td>0.017282</td>\n",
       "      <td>0.982718</td>\n",
       "    </tr>\n",
       "    <tr>\n",
       "      <th>7</th>\n",
       "      <td>CN-001</td>\n",
       "      <td>20210611</td>\n",
       "      <td>41669.0</td>\n",
       "      <td>0</td>\n",
       "      <td>27762.0</td>\n",
       "      <td>3.0</td>\n",
       "      <td>25.50</td>\n",
       "      <td>0.0</td>\n",
       "      <td>25.50</td>\n",
       "      <td>0.00</td>\n",
       "      <td>25.50</td>\n",
       "      <td>0.00</td>\n",
       "      <td>0.666251</td>\n",
       "      <td>1.000000</td>\n",
       "      <td>8.500000</td>\n",
       "      <td>0.035951</td>\n",
       "      <td>0.964049</td>\n",
       "    </tr>\n",
       "    <tr>\n",
       "      <th>12</th>\n",
       "      <td>CN-001</td>\n",
       "      <td>20210628</td>\n",
       "      <td>2500.0</td>\n",
       "      <td>0</td>\n",
       "      <td>165.0</td>\n",
       "      <td>4.0</td>\n",
       "      <td>33.68</td>\n",
       "      <td>0.0</td>\n",
       "      <td>33.68</td>\n",
       "      <td>0.00</td>\n",
       "      <td>33.68</td>\n",
       "      <td>0.00</td>\n",
       "      <td>0.066000</td>\n",
       "      <td>1.000000</td>\n",
       "      <td>8.420000</td>\n",
       "      <td>0.004160</td>\n",
       "      <td>0.995840</td>\n",
       "    </tr>\n",
       "    <tr>\n",
       "      <th>...</th>\n",
       "      <td>...</td>\n",
       "      <td>...</td>\n",
       "      <td>...</td>\n",
       "      <td>...</td>\n",
       "      <td>...</td>\n",
       "      <td>...</td>\n",
       "      <td>...</td>\n",
       "      <td>...</td>\n",
       "      <td>...</td>\n",
       "      <td>...</td>\n",
       "      <td>...</td>\n",
       "      <td>...</td>\n",
       "      <td>...</td>\n",
       "      <td>...</td>\n",
       "      <td>...</td>\n",
       "      <td>...</td>\n",
       "      <td>...</td>\n",
       "    </tr>\n",
       "    <tr>\n",
       "      <th>5477</th>\n",
       "      <td>HK-115</td>\n",
       "      <td>20210728</td>\n",
       "      <td>2490.0</td>\n",
       "      <td>0</td>\n",
       "      <td>8298.0</td>\n",
       "      <td>6.0</td>\n",
       "      <td>58.21</td>\n",
       "      <td>0.0</td>\n",
       "      <td>39.38</td>\n",
       "      <td>18.83</td>\n",
       "      <td>0.00</td>\n",
       "      <td>58.21</td>\n",
       "      <td>3.332530</td>\n",
       "      <td>0.676516</td>\n",
       "      <td>9.701667</td>\n",
       "      <td>0.683625</td>\n",
       "      <td>0.316375</td>\n",
       "    </tr>\n",
       "    <tr>\n",
       "      <th>5479</th>\n",
       "      <td>HK-115</td>\n",
       "      <td>20210713</td>\n",
       "      <td>0.0</td>\n",
       "      <td>0</td>\n",
       "      <td>5437.0</td>\n",
       "      <td>9.0</td>\n",
       "      <td>85.69</td>\n",
       "      <td>0.0</td>\n",
       "      <td>42.15</td>\n",
       "      <td>43.54</td>\n",
       "      <td>0.00</td>\n",
       "      <td>85.69</td>\n",
       "      <td>0.000000</td>\n",
       "      <td>0.491889</td>\n",
       "      <td>9.521111</td>\n",
       "      <td>0.651828</td>\n",
       "      <td>0.348172</td>\n",
       "    </tr>\n",
       "    <tr>\n",
       "      <th>5482</th>\n",
       "      <td>HK-115</td>\n",
       "      <td>20210724</td>\n",
       "      <td>240.0</td>\n",
       "      <td>1</td>\n",
       "      <td>2190.0</td>\n",
       "      <td>4.0</td>\n",
       "      <td>29.74</td>\n",
       "      <td>0.0</td>\n",
       "      <td>21.52</td>\n",
       "      <td>8.22</td>\n",
       "      <td>0.00</td>\n",
       "      <td>29.74</td>\n",
       "      <td>9.125000</td>\n",
       "      <td>0.723605</td>\n",
       "      <td>7.435000</td>\n",
       "      <td>0.656598</td>\n",
       "      <td>0.343402</td>\n",
       "    </tr>\n",
       "    <tr>\n",
       "      <th>5485</th>\n",
       "      <td>HK-115</td>\n",
       "      <td>20210715</td>\n",
       "      <td>2021.0</td>\n",
       "      <td>0</td>\n",
       "      <td>6827.0</td>\n",
       "      <td>9.0</td>\n",
       "      <td>82.05</td>\n",
       "      <td>0.0</td>\n",
       "      <td>40.52</td>\n",
       "      <td>41.53</td>\n",
       "      <td>0.00</td>\n",
       "      <td>82.05</td>\n",
       "      <td>3.378031</td>\n",
       "      <td>0.493845</td>\n",
       "      <td>9.116667</td>\n",
       "      <td>0.662957</td>\n",
       "      <td>0.337043</td>\n",
       "    </tr>\n",
       "    <tr>\n",
       "      <th>5493</th>\n",
       "      <td>HK-115</td>\n",
       "      <td>20210729</td>\n",
       "      <td>0.0</td>\n",
       "      <td>0</td>\n",
       "      <td>13259.0</td>\n",
       "      <td>5.0</td>\n",
       "      <td>47.62</td>\n",
       "      <td>0.0</td>\n",
       "      <td>31.02</td>\n",
       "      <td>16.60</td>\n",
       "      <td>0.00</td>\n",
       "      <td>47.62</td>\n",
       "      <td>0.000000</td>\n",
       "      <td>0.651407</td>\n",
       "      <td>9.524000</td>\n",
       "      <td>0.597774</td>\n",
       "      <td>0.402226</td>\n",
       "    </tr>\n",
       "  </tbody>\n",
       "</table>\n",
       "<p>1733 rows × 17 columns</p>\n",
       "</div>"
      ]
     },
     "metadata": {},
     "execution_count": 12
    }
   ],
   "metadata": {}
  },
  {
   "cell_type": "code",
   "execution_count": 5,
   "source": [
    "from sklearn.metrics import davies_bouldin_score\r\n",
    "from sklearn.cluster import KMeans\r\n",
    "\r\n",
    "\r\n",
    " "
   ],
   "outputs": [],
   "metadata": {}
  },
  {
   "cell_type": "code",
   "execution_count": 36,
   "source": [
    "# from sklearn.metrics import davies_bouldin_scores\r\n",
    "\r\n",
    "def mnb_kmeans_in(ou_code):\r\n",
    "        \"\"\"\r\n",
    "        mini batch kmeans, inbound, outbound, working hour data.\r\n",
    "        simple algorithm, adding cols {max, min, mean, median, 75 quantile, distance to kernal}\r\n",
    "        Calculate Davies Bouldin score\r\n",
    "        from sklearn.metrics import davies_bouldin_score\r\n",
    "        null data fill\r\n",
    "        \"\"\"\r\n",
    "\r\n",
    "        df_fin = pd.DataFrame()\r\n",
    "        df_sub = df[df['ou_code'] == ou_code][['ou_code', 'operation_day', 'inbound_receive_qty']]        \r\n",
    "        df_fin = df_fin.append(df_sub[df_sub['inbound_receive_qty'] == 0])\r\n",
    "        df_fin['kernal_core1' ] = -1\r\n",
    "        df_fin['kernal_value1'] = 0\r\n",
    "\r\n",
    "        \"\"\"\r\n",
    "        not null data training\r\n",
    "        \"\"\"\r\n",
    "        df_rec = df_sub[df_sub['inbound_receive_qty'] != 0]      \r\n",
    "        scores = []\r\n",
    "        for center in list(range(2,30)):\r\n",
    "            kmeans = cluster.KMeans(n_clusters=center)\r\n",
    "            model  = kmeans.fit_predict(\r\n",
    "                        X = np.reshape(list(df_rec['inbound_receive_qty']), (-1,1))\r\n",
    "                        )\r\n",
    "            score  = davies_bouldin_score(\r\n",
    "                        np.reshape(list(df_rec['inbound_receive_qty']), (-1,1)), model\r\n",
    "                        )\r\n",
    "            scores.append(score)\r\n",
    "\r\n",
    "        center = np.argmin(scores)\r\n",
    "        print(center)\r\n",
    "        alg1 = cluster.MiniBatchKMeans(n_clusters = center, random_state = 529)\r\n",
    "        hist1 = alg1.fit(np.reshape(list(df_rec['inbound_receive_qty']), (-1,1)))\r\n",
    "        df_rec['kernal_core1'] = hist1.labels_\r\n",
    "        cl_1 = pd.concat(\r\n",
    "                [pd.DataFrame(hist1.cluster_centers_), pd.Series(np.arange(0,center))], axis = 1\r\n",
    "                )\r\n",
    "        \r\n",
    "        cl_1.columns = ['kernal_value1', 'kernal_core1']\r\n",
    "        df_rec = df_rec.merge(\r\n",
    "                cl_1, on = 'kernal_core1', how = 'inner'\r\n",
    "                )\r\n",
    "        \r\n",
    "        \"\"\"\r\n",
    "        merging\r\n",
    "        \"\"\"\r\n",
    "        df_fin = df_fin.append(df_rec).reset_index().drop(['index'], axis = 1)\r\n",
    "\r\n",
    "        # df_fin['kind'] = 'inbound'\r\n",
    "\r\n",
    "        return df_fin\r\n",
    "\r\n",
    "\r\n",
    "\r\n",
    "# scores = []\r\n",
    "# centers = list(range(2,30))\r\n",
    "# for center in centers:\r\n",
    "#     scores.append(get_kmeans_score(cluster_df, center))\r\n",
    " "
   ],
   "outputs": [],
   "metadata": {}
  },
  {
   "cell_type": "code",
   "execution_count": 33,
   "source": [
    "df_fin = pd.DataFrame()\r\n",
    "df_sub = df[df['ou_code'] == 'CN-298'][['ou_code', 'operation_day', 'inbound_receive_qty']]        \r\n",
    "df_fin = df_fin.append(df_sub[df_sub['inbound_receive_qty'] == 0])\r\n",
    "df_fin['kernal_core1' ] = -1\r\n",
    "df_fin['kernal_value1'] = 0\r\n",
    "\"\"\"\r\n",
    "not null data training\r\n",
    "\"\"\"\r\n",
    "df_rec = df_sub[df_sub['inbound_receive_qty'] != 0]      \r\n",
    "scores = []\r\n",
    "for center in list(range(2,10)):\r\n",
    "    kmeans = cluster.KMeans(n_clusters=center)\r\n",
    "    model  = kmeans.fit_predict(X = np.reshape(list(df_rec['inbound_receive_qty']), (-1,1)))\r\n",
    "    score  = davies_bouldin_score(np.reshape(list(df_rec['inbound_receive_qty']), (-1,1)), model)\r\n",
    "    scores.append(score)\r\n",
    "center = min(scores)\r\n",
    "np.argmin(scores)"
   ],
   "outputs": [],
   "metadata": {}
  },
  {
   "cell_type": "code",
   "execution_count": 37,
   "source": [
    "mnb_kmeans_in('CN-214')"
   ],
   "outputs": [
    {
     "output_type": "stream",
     "name": "stdout",
     "text": [
      "27\n"
     ]
    },
    {
     "output_type": "execute_result",
     "data": {
      "text/plain": [
       "   ou_code  operation_day  inbound_receive_qty  kernal_core1  kernal_value1\n",
       "0   CN-214       20210606                  0.0            -1       0.000000\n",
       "1   CN-214       20210614                  0.0            -1       0.000000\n",
       "2   CN-214       20210703                  0.0            -1       0.000000\n",
       "3   CN-214       20210630              24486.0            10   24486.000000\n",
       "4   CN-214       20210610              10459.0             0   10459.000000\n",
       "5   CN-214       20210628               5803.0            11    5808.460606\n",
       "6   CN-214       20210708               5869.0            11    5808.460606\n",
       "7   CN-214       20210613               5760.0            11    5808.460606\n",
       "8   CN-214       20210612               9576.0            24    9576.000000\n",
       "9   CN-214       20210627               9378.0            15    9378.000000\n",
       "10  CN-214       20210629               4589.0            20    4633.379562\n",
       "11  CN-214       20210607               4684.0            20    4633.379562\n",
       "12  CN-214       20210622                 31.0            23      31.000000\n",
       "13  CN-214       20210620               1125.0             6    1147.901786\n",
       "14  CN-214       20210608               1170.0             6    1147.901786\n",
       "15  CN-214       20210706              12596.0            14   12596.000000\n",
       "16  CN-214       20210705              36252.0             5   36252.000000\n",
       "17  CN-214       20210618               7575.0             9    7528.382114\n",
       "18  CN-214       20210702               7481.0             9    7528.382114\n",
       "19  CN-214       20210701              15900.0            12   15900.000000\n",
       "20  CN-214       20210621               1944.0            19    1944.000000\n",
       "21  CN-214       20210704                272.0            16     272.000000\n",
       "22  CN-214       20210707              49697.0             1   49697.000000\n",
       "23  CN-214       20210624              10265.0            25   10265.000000\n",
       "24  CN-214       20210709               2660.0            13    2660.000000\n",
       "25  CN-214       20210626              56932.0             7   56932.000000\n",
       "26  CN-214       20210611               4872.0            22    4872.000000\n",
       "27  CN-214       20210616               4281.0             3    4281.000000\n",
       "28  CN-214       20210609              29114.0            18   29114.000000\n",
       "29  CN-214       20210623              17814.0             4   17814.000000\n",
       "30  CN-214       20210625              14090.0             8   14090.000000\n",
       "31  CN-214       20210615              10759.0            21   10759.000000\n",
       "32  CN-214       20210619              11376.0            17   11376.000000\n",
       "33  CN-214       20210617              28241.0             2   28241.000000\n",
       "34  CN-214       20210710               1292.0            26    1292.000000"
      ],
      "text/html": [
       "<div>\n",
       "<style scoped>\n",
       "    .dataframe tbody tr th:only-of-type {\n",
       "        vertical-align: middle;\n",
       "    }\n",
       "\n",
       "    .dataframe tbody tr th {\n",
       "        vertical-align: top;\n",
       "    }\n",
       "\n",
       "    .dataframe thead th {\n",
       "        text-align: right;\n",
       "    }\n",
       "</style>\n",
       "<table border=\"1\" class=\"dataframe\">\n",
       "  <thead>\n",
       "    <tr style=\"text-align: right;\">\n",
       "      <th></th>\n",
       "      <th>ou_code</th>\n",
       "      <th>operation_day</th>\n",
       "      <th>inbound_receive_qty</th>\n",
       "      <th>kernal_core1</th>\n",
       "      <th>kernal_value1</th>\n",
       "    </tr>\n",
       "  </thead>\n",
       "  <tbody>\n",
       "    <tr>\n",
       "      <th>0</th>\n",
       "      <td>CN-214</td>\n",
       "      <td>20210606</td>\n",
       "      <td>0.0</td>\n",
       "      <td>-1</td>\n",
       "      <td>0.000000</td>\n",
       "    </tr>\n",
       "    <tr>\n",
       "      <th>1</th>\n",
       "      <td>CN-214</td>\n",
       "      <td>20210614</td>\n",
       "      <td>0.0</td>\n",
       "      <td>-1</td>\n",
       "      <td>0.000000</td>\n",
       "    </tr>\n",
       "    <tr>\n",
       "      <th>2</th>\n",
       "      <td>CN-214</td>\n",
       "      <td>20210703</td>\n",
       "      <td>0.0</td>\n",
       "      <td>-1</td>\n",
       "      <td>0.000000</td>\n",
       "    </tr>\n",
       "    <tr>\n",
       "      <th>3</th>\n",
       "      <td>CN-214</td>\n",
       "      <td>20210630</td>\n",
       "      <td>24486.0</td>\n",
       "      <td>10</td>\n",
       "      <td>24486.000000</td>\n",
       "    </tr>\n",
       "    <tr>\n",
       "      <th>4</th>\n",
       "      <td>CN-214</td>\n",
       "      <td>20210610</td>\n",
       "      <td>10459.0</td>\n",
       "      <td>0</td>\n",
       "      <td>10459.000000</td>\n",
       "    </tr>\n",
       "    <tr>\n",
       "      <th>5</th>\n",
       "      <td>CN-214</td>\n",
       "      <td>20210628</td>\n",
       "      <td>5803.0</td>\n",
       "      <td>11</td>\n",
       "      <td>5808.460606</td>\n",
       "    </tr>\n",
       "    <tr>\n",
       "      <th>6</th>\n",
       "      <td>CN-214</td>\n",
       "      <td>20210708</td>\n",
       "      <td>5869.0</td>\n",
       "      <td>11</td>\n",
       "      <td>5808.460606</td>\n",
       "    </tr>\n",
       "    <tr>\n",
       "      <th>7</th>\n",
       "      <td>CN-214</td>\n",
       "      <td>20210613</td>\n",
       "      <td>5760.0</td>\n",
       "      <td>11</td>\n",
       "      <td>5808.460606</td>\n",
       "    </tr>\n",
       "    <tr>\n",
       "      <th>8</th>\n",
       "      <td>CN-214</td>\n",
       "      <td>20210612</td>\n",
       "      <td>9576.0</td>\n",
       "      <td>24</td>\n",
       "      <td>9576.000000</td>\n",
       "    </tr>\n",
       "    <tr>\n",
       "      <th>9</th>\n",
       "      <td>CN-214</td>\n",
       "      <td>20210627</td>\n",
       "      <td>9378.0</td>\n",
       "      <td>15</td>\n",
       "      <td>9378.000000</td>\n",
       "    </tr>\n",
       "    <tr>\n",
       "      <th>10</th>\n",
       "      <td>CN-214</td>\n",
       "      <td>20210629</td>\n",
       "      <td>4589.0</td>\n",
       "      <td>20</td>\n",
       "      <td>4633.379562</td>\n",
       "    </tr>\n",
       "    <tr>\n",
       "      <th>11</th>\n",
       "      <td>CN-214</td>\n",
       "      <td>20210607</td>\n",
       "      <td>4684.0</td>\n",
       "      <td>20</td>\n",
       "      <td>4633.379562</td>\n",
       "    </tr>\n",
       "    <tr>\n",
       "      <th>12</th>\n",
       "      <td>CN-214</td>\n",
       "      <td>20210622</td>\n",
       "      <td>31.0</td>\n",
       "      <td>23</td>\n",
       "      <td>31.000000</td>\n",
       "    </tr>\n",
       "    <tr>\n",
       "      <th>13</th>\n",
       "      <td>CN-214</td>\n",
       "      <td>20210620</td>\n",
       "      <td>1125.0</td>\n",
       "      <td>6</td>\n",
       "      <td>1147.901786</td>\n",
       "    </tr>\n",
       "    <tr>\n",
       "      <th>14</th>\n",
       "      <td>CN-214</td>\n",
       "      <td>20210608</td>\n",
       "      <td>1170.0</td>\n",
       "      <td>6</td>\n",
       "      <td>1147.901786</td>\n",
       "    </tr>\n",
       "    <tr>\n",
       "      <th>15</th>\n",
       "      <td>CN-214</td>\n",
       "      <td>20210706</td>\n",
       "      <td>12596.0</td>\n",
       "      <td>14</td>\n",
       "      <td>12596.000000</td>\n",
       "    </tr>\n",
       "    <tr>\n",
       "      <th>16</th>\n",
       "      <td>CN-214</td>\n",
       "      <td>20210705</td>\n",
       "      <td>36252.0</td>\n",
       "      <td>5</td>\n",
       "      <td>36252.000000</td>\n",
       "    </tr>\n",
       "    <tr>\n",
       "      <th>17</th>\n",
       "      <td>CN-214</td>\n",
       "      <td>20210618</td>\n",
       "      <td>7575.0</td>\n",
       "      <td>9</td>\n",
       "      <td>7528.382114</td>\n",
       "    </tr>\n",
       "    <tr>\n",
       "      <th>18</th>\n",
       "      <td>CN-214</td>\n",
       "      <td>20210702</td>\n",
       "      <td>7481.0</td>\n",
       "      <td>9</td>\n",
       "      <td>7528.382114</td>\n",
       "    </tr>\n",
       "    <tr>\n",
       "      <th>19</th>\n",
       "      <td>CN-214</td>\n",
       "      <td>20210701</td>\n",
       "      <td>15900.0</td>\n",
       "      <td>12</td>\n",
       "      <td>15900.000000</td>\n",
       "    </tr>\n",
       "    <tr>\n",
       "      <th>20</th>\n",
       "      <td>CN-214</td>\n",
       "      <td>20210621</td>\n",
       "      <td>1944.0</td>\n",
       "      <td>19</td>\n",
       "      <td>1944.000000</td>\n",
       "    </tr>\n",
       "    <tr>\n",
       "      <th>21</th>\n",
       "      <td>CN-214</td>\n",
       "      <td>20210704</td>\n",
       "      <td>272.0</td>\n",
       "      <td>16</td>\n",
       "      <td>272.000000</td>\n",
       "    </tr>\n",
       "    <tr>\n",
       "      <th>22</th>\n",
       "      <td>CN-214</td>\n",
       "      <td>20210707</td>\n",
       "      <td>49697.0</td>\n",
       "      <td>1</td>\n",
       "      <td>49697.000000</td>\n",
       "    </tr>\n",
       "    <tr>\n",
       "      <th>23</th>\n",
       "      <td>CN-214</td>\n",
       "      <td>20210624</td>\n",
       "      <td>10265.0</td>\n",
       "      <td>25</td>\n",
       "      <td>10265.000000</td>\n",
       "    </tr>\n",
       "    <tr>\n",
       "      <th>24</th>\n",
       "      <td>CN-214</td>\n",
       "      <td>20210709</td>\n",
       "      <td>2660.0</td>\n",
       "      <td>13</td>\n",
       "      <td>2660.000000</td>\n",
       "    </tr>\n",
       "    <tr>\n",
       "      <th>25</th>\n",
       "      <td>CN-214</td>\n",
       "      <td>20210626</td>\n",
       "      <td>56932.0</td>\n",
       "      <td>7</td>\n",
       "      <td>56932.000000</td>\n",
       "    </tr>\n",
       "    <tr>\n",
       "      <th>26</th>\n",
       "      <td>CN-214</td>\n",
       "      <td>20210611</td>\n",
       "      <td>4872.0</td>\n",
       "      <td>22</td>\n",
       "      <td>4872.000000</td>\n",
       "    </tr>\n",
       "    <tr>\n",
       "      <th>27</th>\n",
       "      <td>CN-214</td>\n",
       "      <td>20210616</td>\n",
       "      <td>4281.0</td>\n",
       "      <td>3</td>\n",
       "      <td>4281.000000</td>\n",
       "    </tr>\n",
       "    <tr>\n",
       "      <th>28</th>\n",
       "      <td>CN-214</td>\n",
       "      <td>20210609</td>\n",
       "      <td>29114.0</td>\n",
       "      <td>18</td>\n",
       "      <td>29114.000000</td>\n",
       "    </tr>\n",
       "    <tr>\n",
       "      <th>29</th>\n",
       "      <td>CN-214</td>\n",
       "      <td>20210623</td>\n",
       "      <td>17814.0</td>\n",
       "      <td>4</td>\n",
       "      <td>17814.000000</td>\n",
       "    </tr>\n",
       "    <tr>\n",
       "      <th>30</th>\n",
       "      <td>CN-214</td>\n",
       "      <td>20210625</td>\n",
       "      <td>14090.0</td>\n",
       "      <td>8</td>\n",
       "      <td>14090.000000</td>\n",
       "    </tr>\n",
       "    <tr>\n",
       "      <th>31</th>\n",
       "      <td>CN-214</td>\n",
       "      <td>20210615</td>\n",
       "      <td>10759.0</td>\n",
       "      <td>21</td>\n",
       "      <td>10759.000000</td>\n",
       "    </tr>\n",
       "    <tr>\n",
       "      <th>32</th>\n",
       "      <td>CN-214</td>\n",
       "      <td>20210619</td>\n",
       "      <td>11376.0</td>\n",
       "      <td>17</td>\n",
       "      <td>11376.000000</td>\n",
       "    </tr>\n",
       "    <tr>\n",
       "      <th>33</th>\n",
       "      <td>CN-214</td>\n",
       "      <td>20210617</td>\n",
       "      <td>28241.0</td>\n",
       "      <td>2</td>\n",
       "      <td>28241.000000</td>\n",
       "    </tr>\n",
       "    <tr>\n",
       "      <th>34</th>\n",
       "      <td>CN-214</td>\n",
       "      <td>20210710</td>\n",
       "      <td>1292.0</td>\n",
       "      <td>26</td>\n",
       "      <td>1292.000000</td>\n",
       "    </tr>\n",
       "  </tbody>\n",
       "</table>\n",
       "</div>"
      ]
     },
     "metadata": {},
     "execution_count": 37
    }
   ],
   "metadata": {}
  },
  {
   "cell_type": "code",
   "execution_count": 30,
   "source": [
    "\r\n",
    "def mnb_kmeans_in(ou_code):\r\n",
    "        \"\"\"\r\n",
    "        mini batch kmeans, inbound, outbound, working hour data.\r\n",
    "        simple algorithm, adding cols {max, min, mean, median, 75 quantile, distance to kernal}\r\n",
    "        \"\"\"\r\n",
    "\r\n",
    "        alg1 = cluster.MiniBatchKMeans(n_clusters = 4, random_state = 529)\r\n",
    "        \"\"\"\r\n",
    "        null data fill\r\n",
    "        \"\"\"\r\n",
    "        df_fin = pd.DataFrame()\r\n",
    "        df_sub = df[df['ou_code'] == ou_code][['ou_code', 'operation_day', 'inbound_receive_qty']]        \r\n",
    "        df_fin = df_fin.append(df_sub[df_sub['inbound_receive_qty'] == 0])\r\n",
    "        df_fin['kernal_core1' ] = -1\r\n",
    "        df_fin['kernal_value1'] = 0\r\n",
    "        \"\"\"\r\n",
    "        not null data training\r\n",
    "        \"\"\"\r\n",
    "        df_rec = df_sub[df_sub['inbound_receive_qty'] != 0]      \r\n",
    "        hist1 = alg1.fit(np.reshape(list(df_rec['inbound_receive_qty']), (-1,1)))\r\n",
    "        df_rec['kernal_core1'] = hist1.labels_\r\n",
    "        cl_1 = pd.concat(\r\n",
    "                [pd.DataFrame(hist1.cluster_centers_), pd.Series(np.arange(0,4))], axis = 1\r\n",
    "                )\r\n",
    "        \r\n",
    "        cl_1.columns = ['kernal_value1', 'kernal_core1']\r\n",
    "        df_rec = df_rec.merge(\r\n",
    "                cl_1, on = 'kernal_core1', how = 'inner'\r\n",
    "                )\r\n",
    "        \r\n",
    "        \"\"\"\r\n",
    "        merging\r\n",
    "        \"\"\"\r\n",
    "        df_fin = df_fin.append(df_rec).reset_index().drop(['index'], axis = 1)\r\n",
    "\r\n",
    "        # df_fin['kind'] = 'inbound'\r\n",
    "\r\n",
    "        return df_fin\r\n",
    "\r\n",
    "\r\n",
    "def mnb_kmeans_out(ou_code):\r\n",
    "        alg1 = cluster.MiniBatchKMeans(n_clusters = 4, random_state = 707)\r\n",
    "        df_fin = pd.DataFrame()\r\n",
    "        df_sub = df[df['ou_code'] == ou_code][['ou_code', 'operation_day', 'outbound_shipped_qty']]        \r\n",
    "        df_fin = df_fin.append(df_sub[df_sub['outbound_shipped_qty'] == 0])\r\n",
    "        df_fin['kernal_core2' ] = -1\r\n",
    "        df_fin['kernal_value2'] = 0\r\n",
    "        df_rec = df_sub[df_sub['outbound_shipped_qty'] != 0]\r\n",
    "\r\n",
    "        hist1 = alg1.fit(np.reshape(list(df_rec['outbound_shipped_qty']), (-1,1)))\r\n",
    "\r\n",
    "        df_rec['kernal_core2'] = hist1.labels_\r\n",
    "        cl_1 = pd.concat(\r\n",
    "                [pd.DataFrame(hist1.cluster_centers_), pd.Series(np.arange(0,4))], axis = 1\r\n",
    "                )\r\n",
    "        \r\n",
    "        cl_1.columns = ['kernal_value2', 'kernal_core2']\r\n",
    "\r\n",
    "        df_rec = df_rec.merge(\r\n",
    "                cl_1, on = 'kernal_core2', how = 'inner'\r\n",
    "                )\r\n",
    "        df_fin = df_fin.append(df_rec).reset_index().drop(['index'], axis = 1)\r\n",
    "        # df_fin['kind'] = 'outbound'\r\n",
    "        return df_fin\r\n",
    "\r\n",
    "def mnb_kmeans_hr(ou_code):\r\n",
    "        alg1 = cluster.MiniBatchKMeans(n_clusters = 4, random_state = 5290707)\r\n",
    "        df_fin = pd.DataFrame()\r\n",
    "        df_sub = df[df['ou_code'] == ou_code][['ou_code', 'operation_day', 'total_working_hour']]        \r\n",
    "        df_fin = df_fin.append(df_sub[df_sub['total_working_hour'] == 0])\r\n",
    "        df_fin['kernal_core3' ] = -1\r\n",
    "        df_fin['kernal_value3'] = 0\r\n",
    "        df_rec = df_sub[df_sub['total_working_hour'] != 0]\r\n",
    "\r\n",
    "        hist1 = alg1.fit(np.reshape(list(df_rec['total_working_hour']), (-1,1)))\r\n",
    "\r\n",
    "        df_rec['kernal_core3'] = hist1.labels_\r\n",
    "        cl_1 = pd.concat(\r\n",
    "                [pd.DataFrame(hist1.cluster_centers_), pd.Series(np.arange(0,4))], axis = 1\r\n",
    "                )\r\n",
    "        \r\n",
    "        cl_1.columns = ['kernal_value3', 'kernal_core3']\r\n",
    "\r\n",
    "        df_rec = df_rec.merge(\r\n",
    "                cl_1, on = 'kernal_core3', how = 'inner'\r\n",
    "                )\r\n",
    "        df_fin = df_fin.append(df_rec).reset_index().drop(['index'], axis = 1)\r\n",
    "\r\n",
    "        # df_fin['kind'] = 'working_hour'\r\n",
    "        # df_fin['max_wh']    = df_fin.groupby('kernal_core3')['total_working_hour'].transform('max')\r\n",
    "        # df_fin['min_wh']    = df_fin.groupby('kernal_core3')['total_working_hour'].transform('min')\r\n",
    "        # df_fin['median_wh'] = df_fin.groupby('kernal_core3')['total_working_hour'].transform('median')\r\n",
    "        # df_fin['mean_wh']   = df_fin.groupby('kernal_core3')['total_working_hour'].transform('mean')\r\n",
    "        # df_fin['qt_66_wh']  = df_fin.groupby('kernal_core3')['total_working_hour'].transform('quantile', .66)\r\n",
    "        # df_fin['qt_75_wh']  = df_fin.groupby('kernal_core3')['total_working_hour'].transform('quantile', .75)\r\n",
    "        \"\"\"\r\n",
    "        组内kernal distance \r\n",
    "        \"\"\"\r\n",
    "        df_fin['dis_core']  = df_fin.groupby(\r\n",
    "                'kernal_core3', as_index = False, observed = True\r\n",
    "                )['total_working_hour','kernal_value3'].agg('diff', axis = 1).drop('total_working_hour', axis = 1).round(3)\r\n",
    "        return df_fin\r\n",
    "   "
   ],
   "outputs": [],
   "metadata": {}
  },
  {
   "cell_type": "code",
   "execution_count": null,
   "source": [],
   "outputs": [],
   "metadata": {}
  },
  {
   "cell_type": "code",
   "execution_count": 9,
   "source": [
    "ou_codes = list(df['ou_code'].unique())\r\n",
    "p = list()\r\n",
    "for i in ou_codes:\r\n",
    "    try: \r\n",
    "        mnb_kmeans_in(i)\r\n",
    "        mnb_kmeans_out(i)\r\n",
    "        mnb_kmeans_hr(i)\r\n",
    "    except:\r\n",
    "        \r\n",
    "        p.append(i)\r\n",
    "\r\n",
    "\r\n",
    "for i in p:\r\n",
    "    ou_codes.remove(i)\r\n",
    " "
   ],
   "outputs": [],
   "metadata": {}
  },
  {
   "cell_type": "code",
   "execution_count": 11,
   "source": [
    "p"
   ],
   "outputs": [
    {
     "output_type": "execute_result",
     "data": {
      "text/plain": [
       "['CN-009',\n",
       " 'CN-030',\n",
       " 'CN-057',\n",
       " 'CN-070',\n",
       " 'CN-149',\n",
       " 'CN-177',\n",
       " 'CN-189',\n",
       " 'CN-202',\n",
       " 'CN-242',\n",
       " 'CN-246',\n",
       " 'CN-258',\n",
       " 'CN-306',\n",
       " 'CN-374',\n",
       " 'CN-376',\n",
       " 'CN-377',\n",
       " 'CN-378',\n",
       " 'CN-380',\n",
       " 'CN-381',\n",
       " 'CN-411',\n",
       " 'CN-417',\n",
       " 'CN-421',\n",
       " 'CN-425',\n",
       " 'HK-008',\n",
       " 'HK-015',\n",
       " 'HK-051']"
      ]
     },
     "metadata": {},
     "execution_count": 11
    }
   ],
   "metadata": {}
  },
  {
   "cell_type": "code",
   "execution_count": 12,
   "source": [
    "# ou_codes = list(df['ou_code'].unique())\r\n",
    "# ou_codes.remove('CN-009')\r\n",
    "# ou_codes.remove('CN-070')\r\n",
    "# ou_codes.remove('CN-149')\r\n",
    "# ou_codes.remove('CN-189')\r\n",
    "# ou_codes.remove('CN-242')\r\n",
    "# ou_codes.remove('CN-374')\r\n",
    "# ou_codes.remove('CN-378')\r\n",
    "# ou_codes.remove('CN-417')\r\n",
    "# ou_codes.remove('HK-015')\r\n",
    "# # ou_codes = [i for i in ou_codes if re.match(r'HK', i) is None] \r\n",
    "# ou_codes"
   ],
   "outputs": [],
   "metadata": {}
  },
  {
   "cell_type": "code",
   "execution_count": 13,
   "source": [
    "%%time\r\n",
    "from functools import reduce\r\n",
    "df_final = pd.DataFrame()\r\n",
    "for i in ou_codes:\r\n",
    "        df_final = df_final.append(\r\n",
    "            reduce(\r\n",
    "                lambda left,right: pd.merge(\r\n",
    "                    left,right,on= ['ou_code', 'operation_day']\r\n",
    "                ), [mnb_kmeans_in(i), mnb_kmeans_out(i), mnb_kmeans_hr(i)]\r\n",
    "                )\r\n",
    "    )\r\n",
    "\r\n",
    "\"\"\"\r\n",
    "for loop , 对所有ou进行独立的kmeans on inb qty and outb qty\r\n",
    "随后merge 原始表\r\n",
    "\"\"\"\r\n",
    "\r\n",
    "# np.setdiff1d(ou_codes,df_final.ou_code.unique())\r\n",
    "df_final = df_final.merge(\r\n",
    "    df[['ou_code','operation_day','outbound_inbound_qty_ratio','working_hour_per_head','total_head_count','is_holiday']],\r\n",
    "    on = ['ou_code', 'operation_day'],\r\n",
    "    how = 'left'\r\n",
    "    )\r\n"
   ],
   "outputs": [
    {
     "output_type": "stream",
     "name": "stdout",
     "text": [
      "Wall time: 10.1 s\n"
     ]
    }
   ],
   "metadata": {}
  },
  {
   "cell_type": "code",
   "execution_count": 14,
   "source": [
    "df_final"
   ],
   "outputs": [
    {
     "output_type": "execute_result",
     "data": {
      "text/plain": [
       "     ou_code  operation_day  inbound_receive_qty  kernal_core1  kernal_value1  \\\n",
       "0     CN-001       20210619                  0.0            -1       0.000000   \n",
       "1     CN-001       20210626                  0.0            -1       0.000000   \n",
       "2     CN-001       20210625                  0.0            -1       0.000000   \n",
       "3     CN-001       20210705                  0.0            -1       0.000000   \n",
       "4     CN-001       20210616                  0.0            -1       0.000000   \n",
       "...      ...            ...                  ...           ...            ...   \n",
       "1239  HK-115       20210716                469.0             0    1829.564597   \n",
       "1240  HK-115       20210728               2490.0             0    1829.564597   \n",
       "1241  HK-115       20210724                240.0             0    1829.564597   \n",
       "1242  HK-115       20210715               2021.0             0    1829.564597   \n",
       "1243  HK-115       20210720              58319.0             1   58319.000000   \n",
       "\n",
       "      outbound_shipped_qty  kernal_core2  kernal_value2  total_working_hour  \\\n",
       "0                      0.0            -1       0.000000               30.00   \n",
       "1                      0.0            -1       0.000000                9.50   \n",
       "2                  12819.0             2   13556.152941               32.12   \n",
       "3                      0.0            -1       0.000000               31.58   \n",
       "4                   7321.0             1    2658.657561               31.60   \n",
       "...                    ...           ...            ...                 ...   \n",
       "1239               10006.0             2    7769.547289               81.32   \n",
       "1240                8298.0             2    7769.547289               58.21   \n",
       "1241                2190.0             0    4103.392744               29.74   \n",
       "1242                6827.0             2    7769.547289               82.05   \n",
       "1243                6729.0             2    7769.547289               69.37   \n",
       "\n",
       "      kernal_core3  kernal_value3  dis_core  outbound_inbound_qty_ratio  \\\n",
       "0                1      31.744802     1.745                    0.000000   \n",
       "1                2       9.500000     0.000                    0.000000   \n",
       "2                1      31.744802    -0.375                    0.000000   \n",
       "3                1      31.744802     0.165                    0.000000   \n",
       "4                1      31.744802     0.145                    0.000000   \n",
       "...            ...            ...       ...                         ...   \n",
       "1239             1      83.009650     1.690                   21.334755   \n",
       "1240             3      62.840374     4.630                    3.332530   \n",
       "1241             2      27.283875    -2.456                    9.125000   \n",
       "1242             1      83.009650     0.960                    3.378031   \n",
       "1243             3      62.840374    -6.530                    0.115383   \n",
       "\n",
       "      working_hour_per_head  total_head_count  is_holiday  \n",
       "0                 10.000000               3.0           1  \n",
       "1                  9.500000               1.0           1  \n",
       "2                  8.030000               4.0           0  \n",
       "3                  7.895000               4.0           0  \n",
       "4                  7.900000               4.0           0  \n",
       "...                     ...               ...         ...  \n",
       "1239               9.035556               9.0           0  \n",
       "1240               9.701667               6.0           0  \n",
       "1241               7.435000               4.0           1  \n",
       "1242               9.116667               9.0           0  \n",
       "1243               8.671250               8.0           0  \n",
       "\n",
       "[1244 rows x 16 columns]"
      ],
      "text/html": [
       "<div>\n",
       "<style scoped>\n",
       "    .dataframe tbody tr th:only-of-type {\n",
       "        vertical-align: middle;\n",
       "    }\n",
       "\n",
       "    .dataframe tbody tr th {\n",
       "        vertical-align: top;\n",
       "    }\n",
       "\n",
       "    .dataframe thead th {\n",
       "        text-align: right;\n",
       "    }\n",
       "</style>\n",
       "<table border=\"1\" class=\"dataframe\">\n",
       "  <thead>\n",
       "    <tr style=\"text-align: right;\">\n",
       "      <th></th>\n",
       "      <th>ou_code</th>\n",
       "      <th>operation_day</th>\n",
       "      <th>inbound_receive_qty</th>\n",
       "      <th>kernal_core1</th>\n",
       "      <th>kernal_value1</th>\n",
       "      <th>outbound_shipped_qty</th>\n",
       "      <th>kernal_core2</th>\n",
       "      <th>kernal_value2</th>\n",
       "      <th>total_working_hour</th>\n",
       "      <th>kernal_core3</th>\n",
       "      <th>kernal_value3</th>\n",
       "      <th>dis_core</th>\n",
       "      <th>outbound_inbound_qty_ratio</th>\n",
       "      <th>working_hour_per_head</th>\n",
       "      <th>total_head_count</th>\n",
       "      <th>is_holiday</th>\n",
       "    </tr>\n",
       "  </thead>\n",
       "  <tbody>\n",
       "    <tr>\n",
       "      <th>0</th>\n",
       "      <td>CN-001</td>\n",
       "      <td>20210619</td>\n",
       "      <td>0.0</td>\n",
       "      <td>-1</td>\n",
       "      <td>0.000000</td>\n",
       "      <td>0.0</td>\n",
       "      <td>-1</td>\n",
       "      <td>0.000000</td>\n",
       "      <td>30.00</td>\n",
       "      <td>1</td>\n",
       "      <td>31.744802</td>\n",
       "      <td>1.745</td>\n",
       "      <td>0.000000</td>\n",
       "      <td>10.000000</td>\n",
       "      <td>3.0</td>\n",
       "      <td>1</td>\n",
       "    </tr>\n",
       "    <tr>\n",
       "      <th>1</th>\n",
       "      <td>CN-001</td>\n",
       "      <td>20210626</td>\n",
       "      <td>0.0</td>\n",
       "      <td>-1</td>\n",
       "      <td>0.000000</td>\n",
       "      <td>0.0</td>\n",
       "      <td>-1</td>\n",
       "      <td>0.000000</td>\n",
       "      <td>9.50</td>\n",
       "      <td>2</td>\n",
       "      <td>9.500000</td>\n",
       "      <td>0.000</td>\n",
       "      <td>0.000000</td>\n",
       "      <td>9.500000</td>\n",
       "      <td>1.0</td>\n",
       "      <td>1</td>\n",
       "    </tr>\n",
       "    <tr>\n",
       "      <th>2</th>\n",
       "      <td>CN-001</td>\n",
       "      <td>20210625</td>\n",
       "      <td>0.0</td>\n",
       "      <td>-1</td>\n",
       "      <td>0.000000</td>\n",
       "      <td>12819.0</td>\n",
       "      <td>2</td>\n",
       "      <td>13556.152941</td>\n",
       "      <td>32.12</td>\n",
       "      <td>1</td>\n",
       "      <td>31.744802</td>\n",
       "      <td>-0.375</td>\n",
       "      <td>0.000000</td>\n",
       "      <td>8.030000</td>\n",
       "      <td>4.0</td>\n",
       "      <td>0</td>\n",
       "    </tr>\n",
       "    <tr>\n",
       "      <th>3</th>\n",
       "      <td>CN-001</td>\n",
       "      <td>20210705</td>\n",
       "      <td>0.0</td>\n",
       "      <td>-1</td>\n",
       "      <td>0.000000</td>\n",
       "      <td>0.0</td>\n",
       "      <td>-1</td>\n",
       "      <td>0.000000</td>\n",
       "      <td>31.58</td>\n",
       "      <td>1</td>\n",
       "      <td>31.744802</td>\n",
       "      <td>0.165</td>\n",
       "      <td>0.000000</td>\n",
       "      <td>7.895000</td>\n",
       "      <td>4.0</td>\n",
       "      <td>0</td>\n",
       "    </tr>\n",
       "    <tr>\n",
       "      <th>4</th>\n",
       "      <td>CN-001</td>\n",
       "      <td>20210616</td>\n",
       "      <td>0.0</td>\n",
       "      <td>-1</td>\n",
       "      <td>0.000000</td>\n",
       "      <td>7321.0</td>\n",
       "      <td>1</td>\n",
       "      <td>2658.657561</td>\n",
       "      <td>31.60</td>\n",
       "      <td>1</td>\n",
       "      <td>31.744802</td>\n",
       "      <td>0.145</td>\n",
       "      <td>0.000000</td>\n",
       "      <td>7.900000</td>\n",
       "      <td>4.0</td>\n",
       "      <td>0</td>\n",
       "    </tr>\n",
       "    <tr>\n",
       "      <th>...</th>\n",
       "      <td>...</td>\n",
       "      <td>...</td>\n",
       "      <td>...</td>\n",
       "      <td>...</td>\n",
       "      <td>...</td>\n",
       "      <td>...</td>\n",
       "      <td>...</td>\n",
       "      <td>...</td>\n",
       "      <td>...</td>\n",
       "      <td>...</td>\n",
       "      <td>...</td>\n",
       "      <td>...</td>\n",
       "      <td>...</td>\n",
       "      <td>...</td>\n",
       "      <td>...</td>\n",
       "      <td>...</td>\n",
       "    </tr>\n",
       "    <tr>\n",
       "      <th>1239</th>\n",
       "      <td>HK-115</td>\n",
       "      <td>20210716</td>\n",
       "      <td>469.0</td>\n",
       "      <td>0</td>\n",
       "      <td>1829.564597</td>\n",
       "      <td>10006.0</td>\n",
       "      <td>2</td>\n",
       "      <td>7769.547289</td>\n",
       "      <td>81.32</td>\n",
       "      <td>1</td>\n",
       "      <td>83.009650</td>\n",
       "      <td>1.690</td>\n",
       "      <td>21.334755</td>\n",
       "      <td>9.035556</td>\n",
       "      <td>9.0</td>\n",
       "      <td>0</td>\n",
       "    </tr>\n",
       "    <tr>\n",
       "      <th>1240</th>\n",
       "      <td>HK-115</td>\n",
       "      <td>20210728</td>\n",
       "      <td>2490.0</td>\n",
       "      <td>0</td>\n",
       "      <td>1829.564597</td>\n",
       "      <td>8298.0</td>\n",
       "      <td>2</td>\n",
       "      <td>7769.547289</td>\n",
       "      <td>58.21</td>\n",
       "      <td>3</td>\n",
       "      <td>62.840374</td>\n",
       "      <td>4.630</td>\n",
       "      <td>3.332530</td>\n",
       "      <td>9.701667</td>\n",
       "      <td>6.0</td>\n",
       "      <td>0</td>\n",
       "    </tr>\n",
       "    <tr>\n",
       "      <th>1241</th>\n",
       "      <td>HK-115</td>\n",
       "      <td>20210724</td>\n",
       "      <td>240.0</td>\n",
       "      <td>0</td>\n",
       "      <td>1829.564597</td>\n",
       "      <td>2190.0</td>\n",
       "      <td>0</td>\n",
       "      <td>4103.392744</td>\n",
       "      <td>29.74</td>\n",
       "      <td>2</td>\n",
       "      <td>27.283875</td>\n",
       "      <td>-2.456</td>\n",
       "      <td>9.125000</td>\n",
       "      <td>7.435000</td>\n",
       "      <td>4.0</td>\n",
       "      <td>1</td>\n",
       "    </tr>\n",
       "    <tr>\n",
       "      <th>1242</th>\n",
       "      <td>HK-115</td>\n",
       "      <td>20210715</td>\n",
       "      <td>2021.0</td>\n",
       "      <td>0</td>\n",
       "      <td>1829.564597</td>\n",
       "      <td>6827.0</td>\n",
       "      <td>2</td>\n",
       "      <td>7769.547289</td>\n",
       "      <td>82.05</td>\n",
       "      <td>1</td>\n",
       "      <td>83.009650</td>\n",
       "      <td>0.960</td>\n",
       "      <td>3.378031</td>\n",
       "      <td>9.116667</td>\n",
       "      <td>9.0</td>\n",
       "      <td>0</td>\n",
       "    </tr>\n",
       "    <tr>\n",
       "      <th>1243</th>\n",
       "      <td>HK-115</td>\n",
       "      <td>20210720</td>\n",
       "      <td>58319.0</td>\n",
       "      <td>1</td>\n",
       "      <td>58319.000000</td>\n",
       "      <td>6729.0</td>\n",
       "      <td>2</td>\n",
       "      <td>7769.547289</td>\n",
       "      <td>69.37</td>\n",
       "      <td>3</td>\n",
       "      <td>62.840374</td>\n",
       "      <td>-6.530</td>\n",
       "      <td>0.115383</td>\n",
       "      <td>8.671250</td>\n",
       "      <td>8.0</td>\n",
       "      <td>0</td>\n",
       "    </tr>\n",
       "  </tbody>\n",
       "</table>\n",
       "<p>1244 rows × 16 columns</p>\n",
       "</div>"
      ]
     },
     "metadata": {},
     "execution_count": 14
    }
   ],
   "metadata": {}
  },
  {
   "cell_type": "code",
   "execution_count": 15,
   "source": [
    "def mutatation_(new_col, calculate_methdo):\r\n",
    "    df_final[new_col] = df_final.groupby(\r\n",
    "    ['ou_code', 'kernal_core1', 'kernal_core2']\r\n",
    "    )['total_working_hour'].transform(calculate_methdo)\r\n",
    "    return df_final\r\n"
   ],
   "outputs": [],
   "metadata": {}
  },
  {
   "cell_type": "code",
   "execution_count": 16,
   "source": [
    "df_final['max_wh'] = df_final.groupby(\r\n",
    "    ['ou_code', 'kernal_core1', 'kernal_core2']\r\n",
    "    )['total_working_hour'].transform('max')\r\n",
    "df_final['min_wh'] = df_final.groupby(\r\n",
    "    ['ou_code', 'kernal_core1', 'kernal_core2']\r\n",
    "    )['total_working_hour'].transform('min')\r\n",
    "df_final['median_wh'] = df_final.groupby(\r\n",
    "    ['ou_code', 'kernal_core1', 'kernal_core2']\r\n",
    "    )['total_working_hour'].transform('median')\r\n",
    "df_final['mean_wh'] = df_final.groupby(\r\n",
    "    ['ou_code', 'kernal_core1', 'kernal_core2']\r\n",
    "    )['total_working_hour'].transform('mean')\r\n",
    "df_final['qt_66_wh'] = df_final.groupby(\r\n",
    "    ['ou_code', 'kernal_core1', 'kernal_core2']\r\n",
    "    )['total_working_hour'].transform('quantile', .6667)\r\n",
    "df_final['qt_75_wh'] = df_final.groupby(\r\n",
    "    ['ou_code', 'kernal_core1', 'kernal_core2']\r\n",
    "    )['total_working_hour'].transform('quantile', .75)\r\n",
    "df_final['d_to_core_outer'] = df_final.groupby(\r\n",
    "        ['ou_code', 'kernal_core1', 'kernal_core2'], as_index = False, observed = True\r\n",
    "                )['total_working_hour','kernal_value3'].agg(\r\n",
    "                    'diff', axis = 1\r\n",
    "                    ).drop('total_working_hour', axis = 1).round(3)\r\n",
    "\r\n",
    "    # df_final['flag_dis_core'] = df_final['d_to_core_outer'] - df_final['dis_core']>.01\r\n",
    "    # return df_final\r\n",
    "\r\n",
    "# df_final= add_calulates()"
   ],
   "outputs": [],
   "metadata": {}
  },
  {
   "cell_type": "code",
   "execution_count": 17,
   "source": [
    "# [0 if a == 1 else a for a in df_final['percent_error_66']]\r\n"
   ],
   "outputs": [],
   "metadata": {}
  },
  {
   "cell_type": "code",
   "execution_count": 18,
   "source": [
    "\r\n",
    "df_final['percent_error_66'] = (\r\n",
    "        df_final['qt_66_wh'] - df_final['total_working_hour'])/(\r\n",
    "                df_final['total_working_hour']\r\n",
    "                )\r\n",
    "df_final['percent_error_75'] = (\r\n",
    "        df_final['qt_75_wh'] - df_final['total_working_hour']\r\n",
    "        )/(df_final['total_working_hour']\r\n",
    "        )\r\n",
    "\r\n",
    "# df_final = df_final.assign(percent_error_66 = [a-1 if a == 1 else a for a in df_final['percent_error_66']])\r\n",
    "# df_final = df_final.assign(percent_error_75 = [a-1 if a == 1 else a for a in df_final['percent_error_75']])\r\n"
   ],
   "outputs": [],
   "metadata": {}
  },
  {
   "cell_type": "code",
   "execution_count": 19,
   "source": [
    "# df_final[df_final['percent_error_75'] != 0].dropna()\r\n",
    "from datetime import date\r\n",
    "df_final['inc_day'] = str(date.today())\r\n",
    "df_final['inc_day'] = df_final['inc_day'].str.replace('-', '')"
   ],
   "outputs": [],
   "metadata": {}
  },
  {
   "cell_type": "code",
   "execution_count": 20,
   "source": [
    "# df_final.to_csv('./wh_in_out_fin.csv', index= None)"
   ],
   "outputs": [],
   "metadata": {}
  },
  {
   "cell_type": "code",
   "execution_count": 21,
   "source": [
    "df_final[df_final['percent_error_75'] < -.05]"
   ],
   "outputs": [
    {
     "output_type": "execute_result",
     "data": {
      "text/plain": [
       "     ou_code  operation_day  inbound_receive_qty  kernal_core1  kernal_value1  \\\n",
       "20    CN-001       20210707              23881.0             1   23397.421922   \n",
       "26    CN-001       20210623              12699.0             3   11527.301724   \n",
       "38    CN-002       20210630                  0.0            -1       0.000000   \n",
       "44    CN-002       20210706                  1.0             2     440.374378   \n",
       "46    CN-002       20210709              16970.0             3   16579.176638   \n",
       "...      ...            ...                  ...           ...            ...   \n",
       "1207  HK-050       20210726                 97.0             2     354.023077   \n",
       "1208  HK-050       20210730               4519.0             3    4000.608000   \n",
       "1231  HK-115       20210712                  0.0            -1       0.000000   \n",
       "1233  HK-115       20210713                  0.0            -1       0.000000   \n",
       "1237  HK-115       20210721                234.0             0    1829.564597   \n",
       "\n",
       "      outbound_shipped_qty  kernal_core2  kernal_value2  total_working_hour  \\\n",
       "20                     0.0            -1       0.000000               33.55   \n",
       "26                 23826.0             3   21197.105590               31.87   \n",
       "38                     0.0            -1       0.000000               40.41   \n",
       "44                  3870.0             1    2569.836639               56.75   \n",
       "46                   286.0             1    2569.836639               56.85   \n",
       "...                    ...           ...            ...                 ...   \n",
       "1207                2293.0             2    2857.787879               28.32   \n",
       "1208                2628.0             2    2857.787879               29.12   \n",
       "1231                6890.0             2    7769.547289               60.56   \n",
       "1233                5437.0             0    4103.392744               85.69   \n",
       "1237                4218.0             0    4103.392744               43.30   \n",
       "\n",
       "      kernal_core3  ...  max_wh  min_wh  median_wh    mean_wh   qt_66_wh  \\\n",
       "20               3  ...   33.55   24.50     29.025  29.025000  30.533635   \n",
       "26               1  ...   31.87   25.00     28.435  28.435000  29.580229   \n",
       "38               0  ...   40.41   13.33     26.870  26.870000  31.384236   \n",
       "44               1  ...   56.75   40.53     41.070  44.146000  41.483416   \n",
       "46               1  ...   56.85   40.66     48.755  48.755000  51.453873   \n",
       "...            ...  ...     ...     ...        ...        ...        ...   \n",
       "1207             3  ...   28.32   13.58     20.950  20.950000  23.407158   \n",
       "1208             3  ...   29.12    9.00     18.980  19.033333  22.360676   \n",
       "1231             3  ...   60.56   34.31     52.840  49.236667  55.413848   \n",
       "1233             1  ...   85.69   45.77     53.180  59.455000  53.303239   \n",
       "1237             0  ...   43.30   28.21     29.740  33.750000  34.260904   \n",
       "\n",
       "      qt_75_wh  d_to_core_outer  percent_error_66  percent_error_75   inc_day  \n",
       "20     31.2875            0.312         -0.089907         -0.067437  20210812  \n",
       "26     30.1525           -0.125         -0.071847         -0.053891  20210812  \n",
       "38     33.6400            0.436         -0.223355         -0.167533  20210812  \n",
       "44     41.6900           -0.190         -0.269015         -0.265374  20210812  \n",
       "46     52.8025           -0.290         -0.094919         -0.071196  20210812  \n",
       "...        ...              ...               ...               ...       ...  \n",
       "1207   24.6350            0.921         -0.173476         -0.130120  20210812  \n",
       "1208   24.0500            0.121         -0.232120         -0.174107  20210812  \n",
       "1231   56.7000            2.280         -0.084976         -0.063738  20210812  \n",
       "1233   61.3975           -2.680         -0.377953         -0.283493  20210812  \n",
       "1237   36.5200            6.182         -0.208755         -0.156582  20210812  \n",
       "\n",
       "[111 rows x 26 columns]"
      ],
      "text/html": [
       "<div>\n",
       "<style scoped>\n",
       "    .dataframe tbody tr th:only-of-type {\n",
       "        vertical-align: middle;\n",
       "    }\n",
       "\n",
       "    .dataframe tbody tr th {\n",
       "        vertical-align: top;\n",
       "    }\n",
       "\n",
       "    .dataframe thead th {\n",
       "        text-align: right;\n",
       "    }\n",
       "</style>\n",
       "<table border=\"1\" class=\"dataframe\">\n",
       "  <thead>\n",
       "    <tr style=\"text-align: right;\">\n",
       "      <th></th>\n",
       "      <th>ou_code</th>\n",
       "      <th>operation_day</th>\n",
       "      <th>inbound_receive_qty</th>\n",
       "      <th>kernal_core1</th>\n",
       "      <th>kernal_value1</th>\n",
       "      <th>outbound_shipped_qty</th>\n",
       "      <th>kernal_core2</th>\n",
       "      <th>kernal_value2</th>\n",
       "      <th>total_working_hour</th>\n",
       "      <th>kernal_core3</th>\n",
       "      <th>...</th>\n",
       "      <th>max_wh</th>\n",
       "      <th>min_wh</th>\n",
       "      <th>median_wh</th>\n",
       "      <th>mean_wh</th>\n",
       "      <th>qt_66_wh</th>\n",
       "      <th>qt_75_wh</th>\n",
       "      <th>d_to_core_outer</th>\n",
       "      <th>percent_error_66</th>\n",
       "      <th>percent_error_75</th>\n",
       "      <th>inc_day</th>\n",
       "    </tr>\n",
       "  </thead>\n",
       "  <tbody>\n",
       "    <tr>\n",
       "      <th>20</th>\n",
       "      <td>CN-001</td>\n",
       "      <td>20210707</td>\n",
       "      <td>23881.0</td>\n",
       "      <td>1</td>\n",
       "      <td>23397.421922</td>\n",
       "      <td>0.0</td>\n",
       "      <td>-1</td>\n",
       "      <td>0.000000</td>\n",
       "      <td>33.55</td>\n",
       "      <td>3</td>\n",
       "      <td>...</td>\n",
       "      <td>33.55</td>\n",
       "      <td>24.50</td>\n",
       "      <td>29.025</td>\n",
       "      <td>29.025000</td>\n",
       "      <td>30.533635</td>\n",
       "      <td>31.2875</td>\n",
       "      <td>0.312</td>\n",
       "      <td>-0.089907</td>\n",
       "      <td>-0.067437</td>\n",
       "      <td>20210812</td>\n",
       "    </tr>\n",
       "    <tr>\n",
       "      <th>26</th>\n",
       "      <td>CN-001</td>\n",
       "      <td>20210623</td>\n",
       "      <td>12699.0</td>\n",
       "      <td>3</td>\n",
       "      <td>11527.301724</td>\n",
       "      <td>23826.0</td>\n",
       "      <td>3</td>\n",
       "      <td>21197.105590</td>\n",
       "      <td>31.87</td>\n",
       "      <td>1</td>\n",
       "      <td>...</td>\n",
       "      <td>31.87</td>\n",
       "      <td>25.00</td>\n",
       "      <td>28.435</td>\n",
       "      <td>28.435000</td>\n",
       "      <td>29.580229</td>\n",
       "      <td>30.1525</td>\n",
       "      <td>-0.125</td>\n",
       "      <td>-0.071847</td>\n",
       "      <td>-0.053891</td>\n",
       "      <td>20210812</td>\n",
       "    </tr>\n",
       "    <tr>\n",
       "      <th>38</th>\n",
       "      <td>CN-002</td>\n",
       "      <td>20210630</td>\n",
       "      <td>0.0</td>\n",
       "      <td>-1</td>\n",
       "      <td>0.000000</td>\n",
       "      <td>0.0</td>\n",
       "      <td>-1</td>\n",
       "      <td>0.000000</td>\n",
       "      <td>40.41</td>\n",
       "      <td>0</td>\n",
       "      <td>...</td>\n",
       "      <td>40.41</td>\n",
       "      <td>13.33</td>\n",
       "      <td>26.870</td>\n",
       "      <td>26.870000</td>\n",
       "      <td>31.384236</td>\n",
       "      <td>33.6400</td>\n",
       "      <td>0.436</td>\n",
       "      <td>-0.223355</td>\n",
       "      <td>-0.167533</td>\n",
       "      <td>20210812</td>\n",
       "    </tr>\n",
       "    <tr>\n",
       "      <th>44</th>\n",
       "      <td>CN-002</td>\n",
       "      <td>20210706</td>\n",
       "      <td>1.0</td>\n",
       "      <td>2</td>\n",
       "      <td>440.374378</td>\n",
       "      <td>3870.0</td>\n",
       "      <td>1</td>\n",
       "      <td>2569.836639</td>\n",
       "      <td>56.75</td>\n",
       "      <td>1</td>\n",
       "      <td>...</td>\n",
       "      <td>56.75</td>\n",
       "      <td>40.53</td>\n",
       "      <td>41.070</td>\n",
       "      <td>44.146000</td>\n",
       "      <td>41.483416</td>\n",
       "      <td>41.6900</td>\n",
       "      <td>-0.190</td>\n",
       "      <td>-0.269015</td>\n",
       "      <td>-0.265374</td>\n",
       "      <td>20210812</td>\n",
       "    </tr>\n",
       "    <tr>\n",
       "      <th>46</th>\n",
       "      <td>CN-002</td>\n",
       "      <td>20210709</td>\n",
       "      <td>16970.0</td>\n",
       "      <td>3</td>\n",
       "      <td>16579.176638</td>\n",
       "      <td>286.0</td>\n",
       "      <td>1</td>\n",
       "      <td>2569.836639</td>\n",
       "      <td>56.85</td>\n",
       "      <td>1</td>\n",
       "      <td>...</td>\n",
       "      <td>56.85</td>\n",
       "      <td>40.66</td>\n",
       "      <td>48.755</td>\n",
       "      <td>48.755000</td>\n",
       "      <td>51.453873</td>\n",
       "      <td>52.8025</td>\n",
       "      <td>-0.290</td>\n",
       "      <td>-0.094919</td>\n",
       "      <td>-0.071196</td>\n",
       "      <td>20210812</td>\n",
       "    </tr>\n",
       "    <tr>\n",
       "      <th>...</th>\n",
       "      <td>...</td>\n",
       "      <td>...</td>\n",
       "      <td>...</td>\n",
       "      <td>...</td>\n",
       "      <td>...</td>\n",
       "      <td>...</td>\n",
       "      <td>...</td>\n",
       "      <td>...</td>\n",
       "      <td>...</td>\n",
       "      <td>...</td>\n",
       "      <td>...</td>\n",
       "      <td>...</td>\n",
       "      <td>...</td>\n",
       "      <td>...</td>\n",
       "      <td>...</td>\n",
       "      <td>...</td>\n",
       "      <td>...</td>\n",
       "      <td>...</td>\n",
       "      <td>...</td>\n",
       "      <td>...</td>\n",
       "      <td>...</td>\n",
       "    </tr>\n",
       "    <tr>\n",
       "      <th>1207</th>\n",
       "      <td>HK-050</td>\n",
       "      <td>20210726</td>\n",
       "      <td>97.0</td>\n",
       "      <td>2</td>\n",
       "      <td>354.023077</td>\n",
       "      <td>2293.0</td>\n",
       "      <td>2</td>\n",
       "      <td>2857.787879</td>\n",
       "      <td>28.32</td>\n",
       "      <td>3</td>\n",
       "      <td>...</td>\n",
       "      <td>28.32</td>\n",
       "      <td>13.58</td>\n",
       "      <td>20.950</td>\n",
       "      <td>20.950000</td>\n",
       "      <td>23.407158</td>\n",
       "      <td>24.6350</td>\n",
       "      <td>0.921</td>\n",
       "      <td>-0.173476</td>\n",
       "      <td>-0.130120</td>\n",
       "      <td>20210812</td>\n",
       "    </tr>\n",
       "    <tr>\n",
       "      <th>1208</th>\n",
       "      <td>HK-050</td>\n",
       "      <td>20210730</td>\n",
       "      <td>4519.0</td>\n",
       "      <td>3</td>\n",
       "      <td>4000.608000</td>\n",
       "      <td>2628.0</td>\n",
       "      <td>2</td>\n",
       "      <td>2857.787879</td>\n",
       "      <td>29.12</td>\n",
       "      <td>3</td>\n",
       "      <td>...</td>\n",
       "      <td>29.12</td>\n",
       "      <td>9.00</td>\n",
       "      <td>18.980</td>\n",
       "      <td>19.033333</td>\n",
       "      <td>22.360676</td>\n",
       "      <td>24.0500</td>\n",
       "      <td>0.121</td>\n",
       "      <td>-0.232120</td>\n",
       "      <td>-0.174107</td>\n",
       "      <td>20210812</td>\n",
       "    </tr>\n",
       "    <tr>\n",
       "      <th>1231</th>\n",
       "      <td>HK-115</td>\n",
       "      <td>20210712</td>\n",
       "      <td>0.0</td>\n",
       "      <td>-1</td>\n",
       "      <td>0.000000</td>\n",
       "      <td>6890.0</td>\n",
       "      <td>2</td>\n",
       "      <td>7769.547289</td>\n",
       "      <td>60.56</td>\n",
       "      <td>3</td>\n",
       "      <td>...</td>\n",
       "      <td>60.56</td>\n",
       "      <td>34.31</td>\n",
       "      <td>52.840</td>\n",
       "      <td>49.236667</td>\n",
       "      <td>55.413848</td>\n",
       "      <td>56.7000</td>\n",
       "      <td>2.280</td>\n",
       "      <td>-0.084976</td>\n",
       "      <td>-0.063738</td>\n",
       "      <td>20210812</td>\n",
       "    </tr>\n",
       "    <tr>\n",
       "      <th>1233</th>\n",
       "      <td>HK-115</td>\n",
       "      <td>20210713</td>\n",
       "      <td>0.0</td>\n",
       "      <td>-1</td>\n",
       "      <td>0.000000</td>\n",
       "      <td>5437.0</td>\n",
       "      <td>0</td>\n",
       "      <td>4103.392744</td>\n",
       "      <td>85.69</td>\n",
       "      <td>1</td>\n",
       "      <td>...</td>\n",
       "      <td>85.69</td>\n",
       "      <td>45.77</td>\n",
       "      <td>53.180</td>\n",
       "      <td>59.455000</td>\n",
       "      <td>53.303239</td>\n",
       "      <td>61.3975</td>\n",
       "      <td>-2.680</td>\n",
       "      <td>-0.377953</td>\n",
       "      <td>-0.283493</td>\n",
       "      <td>20210812</td>\n",
       "    </tr>\n",
       "    <tr>\n",
       "      <th>1237</th>\n",
       "      <td>HK-115</td>\n",
       "      <td>20210721</td>\n",
       "      <td>234.0</td>\n",
       "      <td>0</td>\n",
       "      <td>1829.564597</td>\n",
       "      <td>4218.0</td>\n",
       "      <td>0</td>\n",
       "      <td>4103.392744</td>\n",
       "      <td>43.30</td>\n",
       "      <td>0</td>\n",
       "      <td>...</td>\n",
       "      <td>43.30</td>\n",
       "      <td>28.21</td>\n",
       "      <td>29.740</td>\n",
       "      <td>33.750000</td>\n",
       "      <td>34.260904</td>\n",
       "      <td>36.5200</td>\n",
       "      <td>6.182</td>\n",
       "      <td>-0.208755</td>\n",
       "      <td>-0.156582</td>\n",
       "      <td>20210812</td>\n",
       "    </tr>\n",
       "  </tbody>\n",
       "</table>\n",
       "<p>111 rows × 26 columns</p>\n",
       "</div>"
      ]
     },
     "metadata": {},
     "execution_count": 21
    }
   ],
   "metadata": {}
  },
  {
   "cell_type": "markdown",
   "source": [
    "---"
   ],
   "metadata": {}
  },
  {
   "cell_type": "markdown",
   "source": [
    "---"
   ],
   "metadata": {}
  },
  {
   "cell_type": "markdown",
   "source": [
    "----"
   ],
   "metadata": {}
  },
  {
   "cell_type": "code",
   "execution_count": 22,
   "source": [
    "df_final"
   ],
   "outputs": [
    {
     "output_type": "execute_result",
     "data": {
      "text/plain": [
       "     ou_code  operation_day  inbound_receive_qty  kernal_core1  kernal_value1  \\\n",
       "0     CN-001       20210619                  0.0            -1       0.000000   \n",
       "1     CN-001       20210626                  0.0            -1       0.000000   \n",
       "2     CN-001       20210625                  0.0            -1       0.000000   \n",
       "3     CN-001       20210705                  0.0            -1       0.000000   \n",
       "4     CN-001       20210616                  0.0            -1       0.000000   \n",
       "...      ...            ...                  ...           ...            ...   \n",
       "1239  HK-115       20210716                469.0             0    1829.564597   \n",
       "1240  HK-115       20210728               2490.0             0    1829.564597   \n",
       "1241  HK-115       20210724                240.0             0    1829.564597   \n",
       "1242  HK-115       20210715               2021.0             0    1829.564597   \n",
       "1243  HK-115       20210720              58319.0             1   58319.000000   \n",
       "\n",
       "      outbound_shipped_qty  kernal_core2  kernal_value2  total_working_hour  \\\n",
       "0                      0.0            -1       0.000000               30.00   \n",
       "1                      0.0            -1       0.000000                9.50   \n",
       "2                  12819.0             2   13556.152941               32.12   \n",
       "3                      0.0            -1       0.000000               31.58   \n",
       "4                   7321.0             1    2658.657561               31.60   \n",
       "...                    ...           ...            ...                 ...   \n",
       "1239               10006.0             2    7769.547289               81.32   \n",
       "1240                8298.0             2    7769.547289               58.21   \n",
       "1241                2190.0             0    4103.392744               29.74   \n",
       "1242                6827.0             2    7769.547289               82.05   \n",
       "1243                6729.0             2    7769.547289               69.37   \n",
       "\n",
       "      kernal_core3  ...  max_wh  min_wh  median_wh  mean_wh   qt_66_wh  \\\n",
       "0                1  ...   31.60    9.50      19.75    20.28  30.526930   \n",
       "1                2  ...   31.60    9.50      19.75    20.28  30.526930   \n",
       "2                1  ...   32.12   32.12      32.12    32.12  32.120000   \n",
       "3                1  ...   31.60    9.50      19.75    20.28  30.526930   \n",
       "4                1  ...   33.08   24.50      32.10    30.80  32.513416   \n",
       "...            ...  ...     ...     ...        ...      ...        ...   \n",
       "1239             1  ...   82.05   58.21      81.32    73.86  81.563382   \n",
       "1240             3  ...   82.05   58.21      81.32    73.86  81.563382   \n",
       "1241             2  ...   43.30   28.21      29.74    33.75  34.260904   \n",
       "1242             1  ...   82.05   58.21      81.32    73.86  81.563382   \n",
       "1243             3  ...   69.37   69.37      69.37    69.37  69.370000   \n",
       "\n",
       "      qt_75_wh  d_to_core_outer  percent_error_66  percent_error_75   inc_day  \n",
       "0       31.185            1.745          0.017564          0.039500  20210812  \n",
       "1       31.185            0.000          2.213361          2.282632  20210812  \n",
       "2       32.120           -0.375          0.000000          0.000000  20210812  \n",
       "3       31.185            0.165         -0.033346         -0.012508  20210812  \n",
       "4       32.720            0.145          0.028906          0.035443  20210812  \n",
       "...        ...              ...               ...               ...       ...  \n",
       "1239    81.685            1.690          0.002993          0.004488  20210812  \n",
       "1240    81.685            4.630          0.401192          0.403281  20210812  \n",
       "1241    36.520           -2.456          0.152014          0.227976  20210812  \n",
       "1242    81.685            0.960         -0.005931         -0.004449  20210812  \n",
       "1243    69.370           -6.530          0.000000          0.000000  20210812  \n",
       "\n",
       "[1244 rows x 26 columns]"
      ],
      "text/html": [
       "<div>\n",
       "<style scoped>\n",
       "    .dataframe tbody tr th:only-of-type {\n",
       "        vertical-align: middle;\n",
       "    }\n",
       "\n",
       "    .dataframe tbody tr th {\n",
       "        vertical-align: top;\n",
       "    }\n",
       "\n",
       "    .dataframe thead th {\n",
       "        text-align: right;\n",
       "    }\n",
       "</style>\n",
       "<table border=\"1\" class=\"dataframe\">\n",
       "  <thead>\n",
       "    <tr style=\"text-align: right;\">\n",
       "      <th></th>\n",
       "      <th>ou_code</th>\n",
       "      <th>operation_day</th>\n",
       "      <th>inbound_receive_qty</th>\n",
       "      <th>kernal_core1</th>\n",
       "      <th>kernal_value1</th>\n",
       "      <th>outbound_shipped_qty</th>\n",
       "      <th>kernal_core2</th>\n",
       "      <th>kernal_value2</th>\n",
       "      <th>total_working_hour</th>\n",
       "      <th>kernal_core3</th>\n",
       "      <th>...</th>\n",
       "      <th>max_wh</th>\n",
       "      <th>min_wh</th>\n",
       "      <th>median_wh</th>\n",
       "      <th>mean_wh</th>\n",
       "      <th>qt_66_wh</th>\n",
       "      <th>qt_75_wh</th>\n",
       "      <th>d_to_core_outer</th>\n",
       "      <th>percent_error_66</th>\n",
       "      <th>percent_error_75</th>\n",
       "      <th>inc_day</th>\n",
       "    </tr>\n",
       "  </thead>\n",
       "  <tbody>\n",
       "    <tr>\n",
       "      <th>0</th>\n",
       "      <td>CN-001</td>\n",
       "      <td>20210619</td>\n",
       "      <td>0.0</td>\n",
       "      <td>-1</td>\n",
       "      <td>0.000000</td>\n",
       "      <td>0.0</td>\n",
       "      <td>-1</td>\n",
       "      <td>0.000000</td>\n",
       "      <td>30.00</td>\n",
       "      <td>1</td>\n",
       "      <td>...</td>\n",
       "      <td>31.60</td>\n",
       "      <td>9.50</td>\n",
       "      <td>19.75</td>\n",
       "      <td>20.28</td>\n",
       "      <td>30.526930</td>\n",
       "      <td>31.185</td>\n",
       "      <td>1.745</td>\n",
       "      <td>0.017564</td>\n",
       "      <td>0.039500</td>\n",
       "      <td>20210812</td>\n",
       "    </tr>\n",
       "    <tr>\n",
       "      <th>1</th>\n",
       "      <td>CN-001</td>\n",
       "      <td>20210626</td>\n",
       "      <td>0.0</td>\n",
       "      <td>-1</td>\n",
       "      <td>0.000000</td>\n",
       "      <td>0.0</td>\n",
       "      <td>-1</td>\n",
       "      <td>0.000000</td>\n",
       "      <td>9.50</td>\n",
       "      <td>2</td>\n",
       "      <td>...</td>\n",
       "      <td>31.60</td>\n",
       "      <td>9.50</td>\n",
       "      <td>19.75</td>\n",
       "      <td>20.28</td>\n",
       "      <td>30.526930</td>\n",
       "      <td>31.185</td>\n",
       "      <td>0.000</td>\n",
       "      <td>2.213361</td>\n",
       "      <td>2.282632</td>\n",
       "      <td>20210812</td>\n",
       "    </tr>\n",
       "    <tr>\n",
       "      <th>2</th>\n",
       "      <td>CN-001</td>\n",
       "      <td>20210625</td>\n",
       "      <td>0.0</td>\n",
       "      <td>-1</td>\n",
       "      <td>0.000000</td>\n",
       "      <td>12819.0</td>\n",
       "      <td>2</td>\n",
       "      <td>13556.152941</td>\n",
       "      <td>32.12</td>\n",
       "      <td>1</td>\n",
       "      <td>...</td>\n",
       "      <td>32.12</td>\n",
       "      <td>32.12</td>\n",
       "      <td>32.12</td>\n",
       "      <td>32.12</td>\n",
       "      <td>32.120000</td>\n",
       "      <td>32.120</td>\n",
       "      <td>-0.375</td>\n",
       "      <td>0.000000</td>\n",
       "      <td>0.000000</td>\n",
       "      <td>20210812</td>\n",
       "    </tr>\n",
       "    <tr>\n",
       "      <th>3</th>\n",
       "      <td>CN-001</td>\n",
       "      <td>20210705</td>\n",
       "      <td>0.0</td>\n",
       "      <td>-1</td>\n",
       "      <td>0.000000</td>\n",
       "      <td>0.0</td>\n",
       "      <td>-1</td>\n",
       "      <td>0.000000</td>\n",
       "      <td>31.58</td>\n",
       "      <td>1</td>\n",
       "      <td>...</td>\n",
       "      <td>31.60</td>\n",
       "      <td>9.50</td>\n",
       "      <td>19.75</td>\n",
       "      <td>20.28</td>\n",
       "      <td>30.526930</td>\n",
       "      <td>31.185</td>\n",
       "      <td>0.165</td>\n",
       "      <td>-0.033346</td>\n",
       "      <td>-0.012508</td>\n",
       "      <td>20210812</td>\n",
       "    </tr>\n",
       "    <tr>\n",
       "      <th>4</th>\n",
       "      <td>CN-001</td>\n",
       "      <td>20210616</td>\n",
       "      <td>0.0</td>\n",
       "      <td>-1</td>\n",
       "      <td>0.000000</td>\n",
       "      <td>7321.0</td>\n",
       "      <td>1</td>\n",
       "      <td>2658.657561</td>\n",
       "      <td>31.60</td>\n",
       "      <td>1</td>\n",
       "      <td>...</td>\n",
       "      <td>33.08</td>\n",
       "      <td>24.50</td>\n",
       "      <td>32.10</td>\n",
       "      <td>30.80</td>\n",
       "      <td>32.513416</td>\n",
       "      <td>32.720</td>\n",
       "      <td>0.145</td>\n",
       "      <td>0.028906</td>\n",
       "      <td>0.035443</td>\n",
       "      <td>20210812</td>\n",
       "    </tr>\n",
       "    <tr>\n",
       "      <th>...</th>\n",
       "      <td>...</td>\n",
       "      <td>...</td>\n",
       "      <td>...</td>\n",
       "      <td>...</td>\n",
       "      <td>...</td>\n",
       "      <td>...</td>\n",
       "      <td>...</td>\n",
       "      <td>...</td>\n",
       "      <td>...</td>\n",
       "      <td>...</td>\n",
       "      <td>...</td>\n",
       "      <td>...</td>\n",
       "      <td>...</td>\n",
       "      <td>...</td>\n",
       "      <td>...</td>\n",
       "      <td>...</td>\n",
       "      <td>...</td>\n",
       "      <td>...</td>\n",
       "      <td>...</td>\n",
       "      <td>...</td>\n",
       "      <td>...</td>\n",
       "    </tr>\n",
       "    <tr>\n",
       "      <th>1239</th>\n",
       "      <td>HK-115</td>\n",
       "      <td>20210716</td>\n",
       "      <td>469.0</td>\n",
       "      <td>0</td>\n",
       "      <td>1829.564597</td>\n",
       "      <td>10006.0</td>\n",
       "      <td>2</td>\n",
       "      <td>7769.547289</td>\n",
       "      <td>81.32</td>\n",
       "      <td>1</td>\n",
       "      <td>...</td>\n",
       "      <td>82.05</td>\n",
       "      <td>58.21</td>\n",
       "      <td>81.32</td>\n",
       "      <td>73.86</td>\n",
       "      <td>81.563382</td>\n",
       "      <td>81.685</td>\n",
       "      <td>1.690</td>\n",
       "      <td>0.002993</td>\n",
       "      <td>0.004488</td>\n",
       "      <td>20210812</td>\n",
       "    </tr>\n",
       "    <tr>\n",
       "      <th>1240</th>\n",
       "      <td>HK-115</td>\n",
       "      <td>20210728</td>\n",
       "      <td>2490.0</td>\n",
       "      <td>0</td>\n",
       "      <td>1829.564597</td>\n",
       "      <td>8298.0</td>\n",
       "      <td>2</td>\n",
       "      <td>7769.547289</td>\n",
       "      <td>58.21</td>\n",
       "      <td>3</td>\n",
       "      <td>...</td>\n",
       "      <td>82.05</td>\n",
       "      <td>58.21</td>\n",
       "      <td>81.32</td>\n",
       "      <td>73.86</td>\n",
       "      <td>81.563382</td>\n",
       "      <td>81.685</td>\n",
       "      <td>4.630</td>\n",
       "      <td>0.401192</td>\n",
       "      <td>0.403281</td>\n",
       "      <td>20210812</td>\n",
       "    </tr>\n",
       "    <tr>\n",
       "      <th>1241</th>\n",
       "      <td>HK-115</td>\n",
       "      <td>20210724</td>\n",
       "      <td>240.0</td>\n",
       "      <td>0</td>\n",
       "      <td>1829.564597</td>\n",
       "      <td>2190.0</td>\n",
       "      <td>0</td>\n",
       "      <td>4103.392744</td>\n",
       "      <td>29.74</td>\n",
       "      <td>2</td>\n",
       "      <td>...</td>\n",
       "      <td>43.30</td>\n",
       "      <td>28.21</td>\n",
       "      <td>29.74</td>\n",
       "      <td>33.75</td>\n",
       "      <td>34.260904</td>\n",
       "      <td>36.520</td>\n",
       "      <td>-2.456</td>\n",
       "      <td>0.152014</td>\n",
       "      <td>0.227976</td>\n",
       "      <td>20210812</td>\n",
       "    </tr>\n",
       "    <tr>\n",
       "      <th>1242</th>\n",
       "      <td>HK-115</td>\n",
       "      <td>20210715</td>\n",
       "      <td>2021.0</td>\n",
       "      <td>0</td>\n",
       "      <td>1829.564597</td>\n",
       "      <td>6827.0</td>\n",
       "      <td>2</td>\n",
       "      <td>7769.547289</td>\n",
       "      <td>82.05</td>\n",
       "      <td>1</td>\n",
       "      <td>...</td>\n",
       "      <td>82.05</td>\n",
       "      <td>58.21</td>\n",
       "      <td>81.32</td>\n",
       "      <td>73.86</td>\n",
       "      <td>81.563382</td>\n",
       "      <td>81.685</td>\n",
       "      <td>0.960</td>\n",
       "      <td>-0.005931</td>\n",
       "      <td>-0.004449</td>\n",
       "      <td>20210812</td>\n",
       "    </tr>\n",
       "    <tr>\n",
       "      <th>1243</th>\n",
       "      <td>HK-115</td>\n",
       "      <td>20210720</td>\n",
       "      <td>58319.0</td>\n",
       "      <td>1</td>\n",
       "      <td>58319.000000</td>\n",
       "      <td>6729.0</td>\n",
       "      <td>2</td>\n",
       "      <td>7769.547289</td>\n",
       "      <td>69.37</td>\n",
       "      <td>3</td>\n",
       "      <td>...</td>\n",
       "      <td>69.37</td>\n",
       "      <td>69.37</td>\n",
       "      <td>69.37</td>\n",
       "      <td>69.37</td>\n",
       "      <td>69.370000</td>\n",
       "      <td>69.370</td>\n",
       "      <td>-6.530</td>\n",
       "      <td>0.000000</td>\n",
       "      <td>0.000000</td>\n",
       "      <td>20210812</td>\n",
       "    </tr>\n",
       "  </tbody>\n",
       "</table>\n",
       "<p>1244 rows × 26 columns</p>\n",
       "</div>"
      ]
     },
     "metadata": {},
     "execution_count": 22
    }
   ],
   "metadata": {}
  },
  {
   "cell_type": "code",
   "execution_count": 25,
   "source": [
    "%%time\r\n",
    "\r\n",
    "str(date.today()).replace('-', '')"
   ],
   "outputs": [
    {
     "output_type": "stream",
     "name": "stdout",
     "text": [
      "Wall time: 0 ns\n"
     ]
    },
    {
     "output_type": "execute_result",
     "data": {
      "text/plain": [
       "'20210812'"
      ]
     },
     "metadata": {},
     "execution_count": 25
    }
   ],
   "metadata": {}
  },
  {
   "cell_type": "markdown",
   "source": [],
   "metadata": {}
  },
  {
   "cell_type": "code",
   "execution_count": 28,
   "source": [
    "df_final"
   ],
   "outputs": [
    {
     "output_type": "execute_result",
     "data": {
      "text/plain": [
       "     ou_code  operation_day  inbound_receive_qty  kernal_core1  kernal_value1  \\\n",
       "0     CN-001       20210619                  0.0            -1       0.000000   \n",
       "1     CN-001       20210626                  0.0            -1       0.000000   \n",
       "2     CN-001       20210625                  0.0            -1       0.000000   \n",
       "3     CN-001       20210705                  0.0            -1       0.000000   \n",
       "4     CN-001       20210616                  0.0            -1       0.000000   \n",
       "...      ...            ...                  ...           ...            ...   \n",
       "1239  HK-115       20210716                469.0             0    1829.564597   \n",
       "1240  HK-115       20210728               2490.0             0    1829.564597   \n",
       "1241  HK-115       20210724                240.0             0    1829.564597   \n",
       "1242  HK-115       20210715               2021.0             0    1829.564597   \n",
       "1243  HK-115       20210720              58319.0             1   58319.000000   \n",
       "\n",
       "      outbound_shipped_qty  kernal_core2  kernal_value2  total_working_hour  \\\n",
       "0                      0.0            -1       0.000000               30.00   \n",
       "1                      0.0            -1       0.000000                9.50   \n",
       "2                  12819.0             2   13556.152941               32.12   \n",
       "3                      0.0            -1       0.000000               31.58   \n",
       "4                   7321.0             1    2658.657561               31.60   \n",
       "...                    ...           ...            ...                 ...   \n",
       "1239               10006.0             2    7769.547289               81.32   \n",
       "1240                8298.0             2    7769.547289               58.21   \n",
       "1241                2190.0             0    4103.392744               29.74   \n",
       "1242                6827.0             2    7769.547289               82.05   \n",
       "1243                6729.0             2    7769.547289               69.37   \n",
       "\n",
       "      kernal_core3  ...  max_wh  min_wh  median_wh  mean_wh   qt_66_wh  \\\n",
       "0                1  ...   31.60    9.50      19.75    20.28  30.526930   \n",
       "1                2  ...   31.60    9.50      19.75    20.28  30.526930   \n",
       "2                1  ...   32.12   32.12      32.12    32.12  32.120000   \n",
       "3                1  ...   31.60    9.50      19.75    20.28  30.526930   \n",
       "4                1  ...   33.08   24.50      32.10    30.80  32.513416   \n",
       "...            ...  ...     ...     ...        ...      ...        ...   \n",
       "1239             1  ...   82.05   58.21      81.32    73.86  81.563382   \n",
       "1240             3  ...   82.05   58.21      81.32    73.86  81.563382   \n",
       "1241             2  ...   43.30   28.21      29.74    33.75  34.260904   \n",
       "1242             1  ...   82.05   58.21      81.32    73.86  81.563382   \n",
       "1243             3  ...   69.37   69.37      69.37    69.37  69.370000   \n",
       "\n",
       "      qt_75_wh  d_to_core_outer  percent_error_66  percent_error_75   inc_day  \n",
       "0       31.185            1.745          0.017564          0.039500  20210812  \n",
       "1       31.185            0.000          2.213361          2.282632  20210812  \n",
       "2       32.120           -0.375          0.000000          0.000000  20210812  \n",
       "3       31.185            0.165         -0.033346         -0.012508  20210812  \n",
       "4       32.720            0.145          0.028906          0.035443  20210812  \n",
       "...        ...              ...               ...               ...       ...  \n",
       "1239    81.685            1.690          0.002993          0.004488  20210812  \n",
       "1240    81.685            4.630          0.401192          0.403281  20210812  \n",
       "1241    36.520           -2.456          0.152014          0.227976  20210812  \n",
       "1242    81.685            0.960         -0.005931         -0.004449  20210812  \n",
       "1243    69.370           -6.530          0.000000          0.000000  20210812  \n",
       "\n",
       "[1244 rows x 26 columns]"
      ],
      "text/html": [
       "<div>\n",
       "<style scoped>\n",
       "    .dataframe tbody tr th:only-of-type {\n",
       "        vertical-align: middle;\n",
       "    }\n",
       "\n",
       "    .dataframe tbody tr th {\n",
       "        vertical-align: top;\n",
       "    }\n",
       "\n",
       "    .dataframe thead th {\n",
       "        text-align: right;\n",
       "    }\n",
       "</style>\n",
       "<table border=\"1\" class=\"dataframe\">\n",
       "  <thead>\n",
       "    <tr style=\"text-align: right;\">\n",
       "      <th></th>\n",
       "      <th>ou_code</th>\n",
       "      <th>operation_day</th>\n",
       "      <th>inbound_receive_qty</th>\n",
       "      <th>kernal_core1</th>\n",
       "      <th>kernal_value1</th>\n",
       "      <th>outbound_shipped_qty</th>\n",
       "      <th>kernal_core2</th>\n",
       "      <th>kernal_value2</th>\n",
       "      <th>total_working_hour</th>\n",
       "      <th>kernal_core3</th>\n",
       "      <th>...</th>\n",
       "      <th>max_wh</th>\n",
       "      <th>min_wh</th>\n",
       "      <th>median_wh</th>\n",
       "      <th>mean_wh</th>\n",
       "      <th>qt_66_wh</th>\n",
       "      <th>qt_75_wh</th>\n",
       "      <th>d_to_core_outer</th>\n",
       "      <th>percent_error_66</th>\n",
       "      <th>percent_error_75</th>\n",
       "      <th>inc_day</th>\n",
       "    </tr>\n",
       "  </thead>\n",
       "  <tbody>\n",
       "    <tr>\n",
       "      <th>0</th>\n",
       "      <td>CN-001</td>\n",
       "      <td>20210619</td>\n",
       "      <td>0.0</td>\n",
       "      <td>-1</td>\n",
       "      <td>0.000000</td>\n",
       "      <td>0.0</td>\n",
       "      <td>-1</td>\n",
       "      <td>0.000000</td>\n",
       "      <td>30.00</td>\n",
       "      <td>1</td>\n",
       "      <td>...</td>\n",
       "      <td>31.60</td>\n",
       "      <td>9.50</td>\n",
       "      <td>19.75</td>\n",
       "      <td>20.28</td>\n",
       "      <td>30.526930</td>\n",
       "      <td>31.185</td>\n",
       "      <td>1.745</td>\n",
       "      <td>0.017564</td>\n",
       "      <td>0.039500</td>\n",
       "      <td>20210812</td>\n",
       "    </tr>\n",
       "    <tr>\n",
       "      <th>1</th>\n",
       "      <td>CN-001</td>\n",
       "      <td>20210626</td>\n",
       "      <td>0.0</td>\n",
       "      <td>-1</td>\n",
       "      <td>0.000000</td>\n",
       "      <td>0.0</td>\n",
       "      <td>-1</td>\n",
       "      <td>0.000000</td>\n",
       "      <td>9.50</td>\n",
       "      <td>2</td>\n",
       "      <td>...</td>\n",
       "      <td>31.60</td>\n",
       "      <td>9.50</td>\n",
       "      <td>19.75</td>\n",
       "      <td>20.28</td>\n",
       "      <td>30.526930</td>\n",
       "      <td>31.185</td>\n",
       "      <td>0.000</td>\n",
       "      <td>2.213361</td>\n",
       "      <td>2.282632</td>\n",
       "      <td>20210812</td>\n",
       "    </tr>\n",
       "    <tr>\n",
       "      <th>2</th>\n",
       "      <td>CN-001</td>\n",
       "      <td>20210625</td>\n",
       "      <td>0.0</td>\n",
       "      <td>-1</td>\n",
       "      <td>0.000000</td>\n",
       "      <td>12819.0</td>\n",
       "      <td>2</td>\n",
       "      <td>13556.152941</td>\n",
       "      <td>32.12</td>\n",
       "      <td>1</td>\n",
       "      <td>...</td>\n",
       "      <td>32.12</td>\n",
       "      <td>32.12</td>\n",
       "      <td>32.12</td>\n",
       "      <td>32.12</td>\n",
       "      <td>32.120000</td>\n",
       "      <td>32.120</td>\n",
       "      <td>-0.375</td>\n",
       "      <td>0.000000</td>\n",
       "      <td>0.000000</td>\n",
       "      <td>20210812</td>\n",
       "    </tr>\n",
       "    <tr>\n",
       "      <th>3</th>\n",
       "      <td>CN-001</td>\n",
       "      <td>20210705</td>\n",
       "      <td>0.0</td>\n",
       "      <td>-1</td>\n",
       "      <td>0.000000</td>\n",
       "      <td>0.0</td>\n",
       "      <td>-1</td>\n",
       "      <td>0.000000</td>\n",
       "      <td>31.58</td>\n",
       "      <td>1</td>\n",
       "      <td>...</td>\n",
       "      <td>31.60</td>\n",
       "      <td>9.50</td>\n",
       "      <td>19.75</td>\n",
       "      <td>20.28</td>\n",
       "      <td>30.526930</td>\n",
       "      <td>31.185</td>\n",
       "      <td>0.165</td>\n",
       "      <td>-0.033346</td>\n",
       "      <td>-0.012508</td>\n",
       "      <td>20210812</td>\n",
       "    </tr>\n",
       "    <tr>\n",
       "      <th>4</th>\n",
       "      <td>CN-001</td>\n",
       "      <td>20210616</td>\n",
       "      <td>0.0</td>\n",
       "      <td>-1</td>\n",
       "      <td>0.000000</td>\n",
       "      <td>7321.0</td>\n",
       "      <td>1</td>\n",
       "      <td>2658.657561</td>\n",
       "      <td>31.60</td>\n",
       "      <td>1</td>\n",
       "      <td>...</td>\n",
       "      <td>33.08</td>\n",
       "      <td>24.50</td>\n",
       "      <td>32.10</td>\n",
       "      <td>30.80</td>\n",
       "      <td>32.513416</td>\n",
       "      <td>32.720</td>\n",
       "      <td>0.145</td>\n",
       "      <td>0.028906</td>\n",
       "      <td>0.035443</td>\n",
       "      <td>20210812</td>\n",
       "    </tr>\n",
       "    <tr>\n",
       "      <th>...</th>\n",
       "      <td>...</td>\n",
       "      <td>...</td>\n",
       "      <td>...</td>\n",
       "      <td>...</td>\n",
       "      <td>...</td>\n",
       "      <td>...</td>\n",
       "      <td>...</td>\n",
       "      <td>...</td>\n",
       "      <td>...</td>\n",
       "      <td>...</td>\n",
       "      <td>...</td>\n",
       "      <td>...</td>\n",
       "      <td>...</td>\n",
       "      <td>...</td>\n",
       "      <td>...</td>\n",
       "      <td>...</td>\n",
       "      <td>...</td>\n",
       "      <td>...</td>\n",
       "      <td>...</td>\n",
       "      <td>...</td>\n",
       "      <td>...</td>\n",
       "    </tr>\n",
       "    <tr>\n",
       "      <th>1239</th>\n",
       "      <td>HK-115</td>\n",
       "      <td>20210716</td>\n",
       "      <td>469.0</td>\n",
       "      <td>0</td>\n",
       "      <td>1829.564597</td>\n",
       "      <td>10006.0</td>\n",
       "      <td>2</td>\n",
       "      <td>7769.547289</td>\n",
       "      <td>81.32</td>\n",
       "      <td>1</td>\n",
       "      <td>...</td>\n",
       "      <td>82.05</td>\n",
       "      <td>58.21</td>\n",
       "      <td>81.32</td>\n",
       "      <td>73.86</td>\n",
       "      <td>81.563382</td>\n",
       "      <td>81.685</td>\n",
       "      <td>1.690</td>\n",
       "      <td>0.002993</td>\n",
       "      <td>0.004488</td>\n",
       "      <td>20210812</td>\n",
       "    </tr>\n",
       "    <tr>\n",
       "      <th>1240</th>\n",
       "      <td>HK-115</td>\n",
       "      <td>20210728</td>\n",
       "      <td>2490.0</td>\n",
       "      <td>0</td>\n",
       "      <td>1829.564597</td>\n",
       "      <td>8298.0</td>\n",
       "      <td>2</td>\n",
       "      <td>7769.547289</td>\n",
       "      <td>58.21</td>\n",
       "      <td>3</td>\n",
       "      <td>...</td>\n",
       "      <td>82.05</td>\n",
       "      <td>58.21</td>\n",
       "      <td>81.32</td>\n",
       "      <td>73.86</td>\n",
       "      <td>81.563382</td>\n",
       "      <td>81.685</td>\n",
       "      <td>4.630</td>\n",
       "      <td>0.401192</td>\n",
       "      <td>0.403281</td>\n",
       "      <td>20210812</td>\n",
       "    </tr>\n",
       "    <tr>\n",
       "      <th>1241</th>\n",
       "      <td>HK-115</td>\n",
       "      <td>20210724</td>\n",
       "      <td>240.0</td>\n",
       "      <td>0</td>\n",
       "      <td>1829.564597</td>\n",
       "      <td>2190.0</td>\n",
       "      <td>0</td>\n",
       "      <td>4103.392744</td>\n",
       "      <td>29.74</td>\n",
       "      <td>2</td>\n",
       "      <td>...</td>\n",
       "      <td>43.30</td>\n",
       "      <td>28.21</td>\n",
       "      <td>29.74</td>\n",
       "      <td>33.75</td>\n",
       "      <td>34.260904</td>\n",
       "      <td>36.520</td>\n",
       "      <td>-2.456</td>\n",
       "      <td>0.152014</td>\n",
       "      <td>0.227976</td>\n",
       "      <td>20210812</td>\n",
       "    </tr>\n",
       "    <tr>\n",
       "      <th>1242</th>\n",
       "      <td>HK-115</td>\n",
       "      <td>20210715</td>\n",
       "      <td>2021.0</td>\n",
       "      <td>0</td>\n",
       "      <td>1829.564597</td>\n",
       "      <td>6827.0</td>\n",
       "      <td>2</td>\n",
       "      <td>7769.547289</td>\n",
       "      <td>82.05</td>\n",
       "      <td>1</td>\n",
       "      <td>...</td>\n",
       "      <td>82.05</td>\n",
       "      <td>58.21</td>\n",
       "      <td>81.32</td>\n",
       "      <td>73.86</td>\n",
       "      <td>81.563382</td>\n",
       "      <td>81.685</td>\n",
       "      <td>0.960</td>\n",
       "      <td>-0.005931</td>\n",
       "      <td>-0.004449</td>\n",
       "      <td>20210812</td>\n",
       "    </tr>\n",
       "    <tr>\n",
       "      <th>1243</th>\n",
       "      <td>HK-115</td>\n",
       "      <td>20210720</td>\n",
       "      <td>58319.0</td>\n",
       "      <td>1</td>\n",
       "      <td>58319.000000</td>\n",
       "      <td>6729.0</td>\n",
       "      <td>2</td>\n",
       "      <td>7769.547289</td>\n",
       "      <td>69.37</td>\n",
       "      <td>3</td>\n",
       "      <td>...</td>\n",
       "      <td>69.37</td>\n",
       "      <td>69.37</td>\n",
       "      <td>69.37</td>\n",
       "      <td>69.37</td>\n",
       "      <td>69.370000</td>\n",
       "      <td>69.370</td>\n",
       "      <td>-6.530</td>\n",
       "      <td>0.000000</td>\n",
       "      <td>0.000000</td>\n",
       "      <td>20210812</td>\n",
       "    </tr>\n",
       "  </tbody>\n",
       "</table>\n",
       "<p>1244 rows × 26 columns</p>\n",
       "</div>"
      ]
     },
     "metadata": {},
     "execution_count": 28
    }
   ],
   "metadata": {}
  },
  {
   "cell_type": "code",
   "execution_count": 37,
   "source": [
    "df_final['kernal_core1'].astype(str) + df_final['kernal_core2'].astype(str) "
   ],
   "outputs": [
    {
     "output_type": "execute_result",
     "data": {
      "text/plain": [
       "0       -1-1\n",
       "1       -1-1\n",
       "2        -12\n",
       "3       -1-1\n",
       "4        -11\n",
       "        ... \n",
       "1239      02\n",
       "1240      02\n",
       "1241      00\n",
       "1242      02\n",
       "1243      12\n",
       "Length: 1244, dtype: object"
      ]
     },
     "metadata": {},
     "execution_count": 37
    }
   ],
   "metadata": {}
  },
  {
   "cell_type": "code",
   "execution_count": 43,
   "source": [
    " import plotly.express as px\r\n",
    " def plot3d(ou_code):\r\n",
    "    df_plot = df_final[df_final['ou_code'] == ou_code]\r\n",
    "    df_plot['kernal_core5'] = df_final['kernal_core1'].astype(str) + df_final['kernal_core2'].astype(str) \r\n",
    "    fig = px.scatter_3d(df_plot, x='inbound_receive_qty', y='outbound_shipped_qty', z='total_working_hour',\r\n",
    "              color = 'kernal_core3')\r\n",
    "    return fig.show()\r\n"
   ],
   "outputs": [],
   "metadata": {}
  },
  {
   "cell_type": "code",
   "execution_count": 44,
   "source": [
    "plot3d('CN-214')"
   ],
   "outputs": [
    {
     "output_type": "display_data",
     "data": {
      "application/vnd.plotly.v1+json": {
       "config": {
        "plotlyServerURL": "https://plot.ly"
       },
       "data": [
        {
         "hovertemplate": "inbound_receive_qty=%{x}<br>outbound_shipped_qty=%{y}<br>total_working_hour=%{z}<br>kernal_core3=%{marker.color}<extra></extra>",
         "legendgroup": "",
         "marker": {
          "color": [
           2,
           2,
           0,
           1,
           1,
           1,
           1,
           1,
           0,
           3,
           1,
           1,
           1,
           1,
           1,
           1,
           1,
           1,
           3,
           1,
           1,
           1,
           1,
           0,
           0,
           1,
           0,
           1,
           1,
           1,
           1,
           1,
           0,
           1,
           3
          ],
          "coloraxis": "coloraxis",
          "symbol": "circle"
         },
         "mode": "markers",
         "name": "",
         "scene": "scene",
         "showlegend": false,
         "type": "scatter3d",
         "x": [
          0,
          0,
          0,
          24486,
          36252,
          29114,
          28241,
          10459,
          9576,
          9378,
          12596,
          7575,
          15900,
          10265,
          17814,
          14090,
          10759,
          7481,
          11376,
          5803,
          4589,
          5869,
          31,
          1125,
          5760,
          1944,
          272,
          1170,
          2660,
          4872,
          4281,
          4684,
          1292,
          49697,
          56932
         ],
         "y": [
          82273,
          0,
          11050,
          0,
          14371,
          12318,
          5842,
          7057,
          0,
          125653,
          16583,
          35938,
          18504,
          31143,
          14942,
          30278,
          13508,
          5734,
          0,
          5604,
          8916,
          14440,
          12166,
          53294,
          36475,
          7286,
          47018,
          32223,
          0,
          35543,
          16529,
          24787,
          4753,
          26169,
          0
         ],
         "z": [
          41.88,
          22.97,
          81,
          142.53000000000003,
          171.47,
          167.76,
          163.24999999999997,
          161.1,
          86.74,
          117.82,
          163.68,
          169.64,
          152.01999999999998,
          165.85,
          166.28,
          153.18,
          159.09,
          160.5,
          102.55,
          150.34,
          155.16,
          162.47000000000003,
          159.98,
          71.72,
          69.96000000000001,
          162.33,
          72.84,
          170.57999999999998,
          154.10000000000002,
          153.06,
          148.49,
          171.01,
          72.43,
          177.79999999999998,
          112.93
         ]
        }
       ],
       "layout": {
        "coloraxis": {
         "colorbar": {
          "title": {
           "text": "kernal_core3"
          }
         },
         "colorscale": [
          [
           0,
           "#0d0887"
          ],
          [
           0.1111111111111111,
           "#46039f"
          ],
          [
           0.2222222222222222,
           "#7201a8"
          ],
          [
           0.3333333333333333,
           "#9c179e"
          ],
          [
           0.4444444444444444,
           "#bd3786"
          ],
          [
           0.5555555555555556,
           "#d8576b"
          ],
          [
           0.6666666666666666,
           "#ed7953"
          ],
          [
           0.7777777777777778,
           "#fb9f3a"
          ],
          [
           0.8888888888888888,
           "#fdca26"
          ],
          [
           1,
           "#f0f921"
          ]
         ]
        },
        "legend": {
         "tracegroupgap": 0
        },
        "margin": {
         "t": 60
        },
        "scene": {
         "domain": {
          "x": [
           0,
           1
          ],
          "y": [
           0,
           1
          ]
         },
         "xaxis": {
          "title": {
           "text": "inbound_receive_qty"
          }
         },
         "yaxis": {
          "title": {
           "text": "outbound_shipped_qty"
          }
         },
         "zaxis": {
          "title": {
           "text": "total_working_hour"
          }
         }
        },
        "template": {
         "data": {
          "bar": [
           {
            "error_x": {
             "color": "#2a3f5f"
            },
            "error_y": {
             "color": "#2a3f5f"
            },
            "marker": {
             "line": {
              "color": "#E5ECF6",
              "width": 0.5
             }
            },
            "type": "bar"
           }
          ],
          "barpolar": [
           {
            "marker": {
             "line": {
              "color": "#E5ECF6",
              "width": 0.5
             }
            },
            "type": "barpolar"
           }
          ],
          "carpet": [
           {
            "aaxis": {
             "endlinecolor": "#2a3f5f",
             "gridcolor": "white",
             "linecolor": "white",
             "minorgridcolor": "white",
             "startlinecolor": "#2a3f5f"
            },
            "baxis": {
             "endlinecolor": "#2a3f5f",
             "gridcolor": "white",
             "linecolor": "white",
             "minorgridcolor": "white",
             "startlinecolor": "#2a3f5f"
            },
            "type": "carpet"
           }
          ],
          "choropleth": [
           {
            "colorbar": {
             "outlinewidth": 0,
             "ticks": ""
            },
            "type": "choropleth"
           }
          ],
          "contour": [
           {
            "colorbar": {
             "outlinewidth": 0,
             "ticks": ""
            },
            "colorscale": [
             [
              0,
              "#0d0887"
             ],
             [
              0.1111111111111111,
              "#46039f"
             ],
             [
              0.2222222222222222,
              "#7201a8"
             ],
             [
              0.3333333333333333,
              "#9c179e"
             ],
             [
              0.4444444444444444,
              "#bd3786"
             ],
             [
              0.5555555555555556,
              "#d8576b"
             ],
             [
              0.6666666666666666,
              "#ed7953"
             ],
             [
              0.7777777777777778,
              "#fb9f3a"
             ],
             [
              0.8888888888888888,
              "#fdca26"
             ],
             [
              1,
              "#f0f921"
             ]
            ],
            "type": "contour"
           }
          ],
          "contourcarpet": [
           {
            "colorbar": {
             "outlinewidth": 0,
             "ticks": ""
            },
            "type": "contourcarpet"
           }
          ],
          "heatmap": [
           {
            "colorbar": {
             "outlinewidth": 0,
             "ticks": ""
            },
            "colorscale": [
             [
              0,
              "#0d0887"
             ],
             [
              0.1111111111111111,
              "#46039f"
             ],
             [
              0.2222222222222222,
              "#7201a8"
             ],
             [
              0.3333333333333333,
              "#9c179e"
             ],
             [
              0.4444444444444444,
              "#bd3786"
             ],
             [
              0.5555555555555556,
              "#d8576b"
             ],
             [
              0.6666666666666666,
              "#ed7953"
             ],
             [
              0.7777777777777778,
              "#fb9f3a"
             ],
             [
              0.8888888888888888,
              "#fdca26"
             ],
             [
              1,
              "#f0f921"
             ]
            ],
            "type": "heatmap"
           }
          ],
          "heatmapgl": [
           {
            "colorbar": {
             "outlinewidth": 0,
             "ticks": ""
            },
            "colorscale": [
             [
              0,
              "#0d0887"
             ],
             [
              0.1111111111111111,
              "#46039f"
             ],
             [
              0.2222222222222222,
              "#7201a8"
             ],
             [
              0.3333333333333333,
              "#9c179e"
             ],
             [
              0.4444444444444444,
              "#bd3786"
             ],
             [
              0.5555555555555556,
              "#d8576b"
             ],
             [
              0.6666666666666666,
              "#ed7953"
             ],
             [
              0.7777777777777778,
              "#fb9f3a"
             ],
             [
              0.8888888888888888,
              "#fdca26"
             ],
             [
              1,
              "#f0f921"
             ]
            ],
            "type": "heatmapgl"
           }
          ],
          "histogram": [
           {
            "marker": {
             "colorbar": {
              "outlinewidth": 0,
              "ticks": ""
             }
            },
            "type": "histogram"
           }
          ],
          "histogram2d": [
           {
            "colorbar": {
             "outlinewidth": 0,
             "ticks": ""
            },
            "colorscale": [
             [
              0,
              "#0d0887"
             ],
             [
              0.1111111111111111,
              "#46039f"
             ],
             [
              0.2222222222222222,
              "#7201a8"
             ],
             [
              0.3333333333333333,
              "#9c179e"
             ],
             [
              0.4444444444444444,
              "#bd3786"
             ],
             [
              0.5555555555555556,
              "#d8576b"
             ],
             [
              0.6666666666666666,
              "#ed7953"
             ],
             [
              0.7777777777777778,
              "#fb9f3a"
             ],
             [
              0.8888888888888888,
              "#fdca26"
             ],
             [
              1,
              "#f0f921"
             ]
            ],
            "type": "histogram2d"
           }
          ],
          "histogram2dcontour": [
           {
            "colorbar": {
             "outlinewidth": 0,
             "ticks": ""
            },
            "colorscale": [
             [
              0,
              "#0d0887"
             ],
             [
              0.1111111111111111,
              "#46039f"
             ],
             [
              0.2222222222222222,
              "#7201a8"
             ],
             [
              0.3333333333333333,
              "#9c179e"
             ],
             [
              0.4444444444444444,
              "#bd3786"
             ],
             [
              0.5555555555555556,
              "#d8576b"
             ],
             [
              0.6666666666666666,
              "#ed7953"
             ],
             [
              0.7777777777777778,
              "#fb9f3a"
             ],
             [
              0.8888888888888888,
              "#fdca26"
             ],
             [
              1,
              "#f0f921"
             ]
            ],
            "type": "histogram2dcontour"
           }
          ],
          "mesh3d": [
           {
            "colorbar": {
             "outlinewidth": 0,
             "ticks": ""
            },
            "type": "mesh3d"
           }
          ],
          "parcoords": [
           {
            "line": {
             "colorbar": {
              "outlinewidth": 0,
              "ticks": ""
             }
            },
            "type": "parcoords"
           }
          ],
          "pie": [
           {
            "automargin": true,
            "type": "pie"
           }
          ],
          "scatter": [
           {
            "marker": {
             "colorbar": {
              "outlinewidth": 0,
              "ticks": ""
             }
            },
            "type": "scatter"
           }
          ],
          "scatter3d": [
           {
            "line": {
             "colorbar": {
              "outlinewidth": 0,
              "ticks": ""
             }
            },
            "marker": {
             "colorbar": {
              "outlinewidth": 0,
              "ticks": ""
             }
            },
            "type": "scatter3d"
           }
          ],
          "scattercarpet": [
           {
            "marker": {
             "colorbar": {
              "outlinewidth": 0,
              "ticks": ""
             }
            },
            "type": "scattercarpet"
           }
          ],
          "scattergeo": [
           {
            "marker": {
             "colorbar": {
              "outlinewidth": 0,
              "ticks": ""
             }
            },
            "type": "scattergeo"
           }
          ],
          "scattergl": [
           {
            "marker": {
             "colorbar": {
              "outlinewidth": 0,
              "ticks": ""
             }
            },
            "type": "scattergl"
           }
          ],
          "scattermapbox": [
           {
            "marker": {
             "colorbar": {
              "outlinewidth": 0,
              "ticks": ""
             }
            },
            "type": "scattermapbox"
           }
          ],
          "scatterpolar": [
           {
            "marker": {
             "colorbar": {
              "outlinewidth": 0,
              "ticks": ""
             }
            },
            "type": "scatterpolar"
           }
          ],
          "scatterpolargl": [
           {
            "marker": {
             "colorbar": {
              "outlinewidth": 0,
              "ticks": ""
             }
            },
            "type": "scatterpolargl"
           }
          ],
          "scatterternary": [
           {
            "marker": {
             "colorbar": {
              "outlinewidth": 0,
              "ticks": ""
             }
            },
            "type": "scatterternary"
           }
          ],
          "surface": [
           {
            "colorbar": {
             "outlinewidth": 0,
             "ticks": ""
            },
            "colorscale": [
             [
              0,
              "#0d0887"
             ],
             [
              0.1111111111111111,
              "#46039f"
             ],
             [
              0.2222222222222222,
              "#7201a8"
             ],
             [
              0.3333333333333333,
              "#9c179e"
             ],
             [
              0.4444444444444444,
              "#bd3786"
             ],
             [
              0.5555555555555556,
              "#d8576b"
             ],
             [
              0.6666666666666666,
              "#ed7953"
             ],
             [
              0.7777777777777778,
              "#fb9f3a"
             ],
             [
              0.8888888888888888,
              "#fdca26"
             ],
             [
              1,
              "#f0f921"
             ]
            ],
            "type": "surface"
           }
          ],
          "table": [
           {
            "cells": {
             "fill": {
              "color": "#EBF0F8"
             },
             "line": {
              "color": "white"
             }
            },
            "header": {
             "fill": {
              "color": "#C8D4E3"
             },
             "line": {
              "color": "white"
             }
            },
            "type": "table"
           }
          ]
         },
         "layout": {
          "annotationdefaults": {
           "arrowcolor": "#2a3f5f",
           "arrowhead": 0,
           "arrowwidth": 1
          },
          "autotypenumbers": "strict",
          "coloraxis": {
           "colorbar": {
            "outlinewidth": 0,
            "ticks": ""
           }
          },
          "colorscale": {
           "diverging": [
            [
             0,
             "#8e0152"
            ],
            [
             0.1,
             "#c51b7d"
            ],
            [
             0.2,
             "#de77ae"
            ],
            [
             0.3,
             "#f1b6da"
            ],
            [
             0.4,
             "#fde0ef"
            ],
            [
             0.5,
             "#f7f7f7"
            ],
            [
             0.6,
             "#e6f5d0"
            ],
            [
             0.7,
             "#b8e186"
            ],
            [
             0.8,
             "#7fbc41"
            ],
            [
             0.9,
             "#4d9221"
            ],
            [
             1,
             "#276419"
            ]
           ],
           "sequential": [
            [
             0,
             "#0d0887"
            ],
            [
             0.1111111111111111,
             "#46039f"
            ],
            [
             0.2222222222222222,
             "#7201a8"
            ],
            [
             0.3333333333333333,
             "#9c179e"
            ],
            [
             0.4444444444444444,
             "#bd3786"
            ],
            [
             0.5555555555555556,
             "#d8576b"
            ],
            [
             0.6666666666666666,
             "#ed7953"
            ],
            [
             0.7777777777777778,
             "#fb9f3a"
            ],
            [
             0.8888888888888888,
             "#fdca26"
            ],
            [
             1,
             "#f0f921"
            ]
           ],
           "sequentialminus": [
            [
             0,
             "#0d0887"
            ],
            [
             0.1111111111111111,
             "#46039f"
            ],
            [
             0.2222222222222222,
             "#7201a8"
            ],
            [
             0.3333333333333333,
             "#9c179e"
            ],
            [
             0.4444444444444444,
             "#bd3786"
            ],
            [
             0.5555555555555556,
             "#d8576b"
            ],
            [
             0.6666666666666666,
             "#ed7953"
            ],
            [
             0.7777777777777778,
             "#fb9f3a"
            ],
            [
             0.8888888888888888,
             "#fdca26"
            ],
            [
             1,
             "#f0f921"
            ]
           ]
          },
          "colorway": [
           "#636efa",
           "#EF553B",
           "#00cc96",
           "#ab63fa",
           "#FFA15A",
           "#19d3f3",
           "#FF6692",
           "#B6E880",
           "#FF97FF",
           "#FECB52"
          ],
          "font": {
           "color": "#2a3f5f"
          },
          "geo": {
           "bgcolor": "white",
           "lakecolor": "white",
           "landcolor": "#E5ECF6",
           "showlakes": true,
           "showland": true,
           "subunitcolor": "white"
          },
          "hoverlabel": {
           "align": "left"
          },
          "hovermode": "closest",
          "mapbox": {
           "style": "light"
          },
          "paper_bgcolor": "white",
          "plot_bgcolor": "#E5ECF6",
          "polar": {
           "angularaxis": {
            "gridcolor": "white",
            "linecolor": "white",
            "ticks": ""
           },
           "bgcolor": "#E5ECF6",
           "radialaxis": {
            "gridcolor": "white",
            "linecolor": "white",
            "ticks": ""
           }
          },
          "scene": {
           "xaxis": {
            "backgroundcolor": "#E5ECF6",
            "gridcolor": "white",
            "gridwidth": 2,
            "linecolor": "white",
            "showbackground": true,
            "ticks": "",
            "zerolinecolor": "white"
           },
           "yaxis": {
            "backgroundcolor": "#E5ECF6",
            "gridcolor": "white",
            "gridwidth": 2,
            "linecolor": "white",
            "showbackground": true,
            "ticks": "",
            "zerolinecolor": "white"
           },
           "zaxis": {
            "backgroundcolor": "#E5ECF6",
            "gridcolor": "white",
            "gridwidth": 2,
            "linecolor": "white",
            "showbackground": true,
            "ticks": "",
            "zerolinecolor": "white"
           }
          },
          "shapedefaults": {
           "line": {
            "color": "#2a3f5f"
           }
          },
          "ternary": {
           "aaxis": {
            "gridcolor": "white",
            "linecolor": "white",
            "ticks": ""
           },
           "baxis": {
            "gridcolor": "white",
            "linecolor": "white",
            "ticks": ""
           },
           "bgcolor": "#E5ECF6",
           "caxis": {
            "gridcolor": "white",
            "linecolor": "white",
            "ticks": ""
           }
          },
          "title": {
           "x": 0.05
          },
          "xaxis": {
           "automargin": true,
           "gridcolor": "white",
           "linecolor": "white",
           "ticks": "",
           "title": {
            "standoff": 15
           },
           "zerolinecolor": "white",
           "zerolinewidth": 2
          },
          "yaxis": {
           "automargin": true,
           "gridcolor": "white",
           "linecolor": "white",
           "ticks": "",
           "title": {
            "standoff": 15
           },
           "zerolinecolor": "white",
           "zerolinewidth": 2
          }
         }
        }
       }
      }
     },
     "metadata": {}
    }
   ],
   "metadata": {}
  },
  {
   "cell_type": "code",
   "execution_count": 64,
   "source": [
    "\r\n",
    "fig.show()"
   ],
   "outputs": [],
   "metadata": {}
  },
  {
   "cell_type": "code",
   "execution_count": 72,
   "source": [],
   "outputs": [],
   "metadata": {}
  },
  {
   "cell_type": "code",
   "execution_count": null,
   "source": [],
   "outputs": [],
   "metadata": {}
  }
 ]
}