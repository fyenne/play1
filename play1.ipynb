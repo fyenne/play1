{
 "metadata": {
  "language_info": {
   "codemirror_mode": {
    "name": "ipython",
    "version": 3
   },
   "file_extension": ".py",
   "mimetype": "text/x-python",
   "name": "python",
   "nbconvert_exporter": "python",
   "pygments_lexer": "ipython3",
   "version": "3.8.8"
  },
  "orig_nbformat": 4,
  "kernelspec": {
   "name": "python3",
   "display_name": "Python 3.8.8 64-bit ('siming': conda)"
  },
  "interpreter": {
   "hash": "47b50d2908d96196e4220cfb4e81faa93803065ea975497e7026f672c1f58470"
  }
 },
 "nbformat": 4,
 "nbformat_minor": 2,
 "cells": [
  {
   "cell_type": "code",
   "execution_count": 1,
   "source": [
    "\r\n",
    "import numpy as np # linear algebra\r\n",
    "import pandas as pd # data processing, CSV file I/O (e.g. pd.read_csv)\r\n",
    "import matplotlib.pyplot as plt\r\n",
    "from sklearn import cluster\r\n",
    "import os\r\n",
    "import re\r\n",
    "import seaborn as sns\r\n",
    "\r\n",
    "import warnings\r\n",
    "warnings.filterwarnings('ignore')\r\n",
    "os.getcwd()\r\n"
   ],
   "outputs": [
    {
     "output_type": "execute_result",
     "data": {
      "text/plain": [
       "'c:\\\\Users\\\\dscshap3808\\\\Documents\\\\my_scripts_new\\\\play1'"
      ]
     },
     "metadata": {},
     "execution_count": 1
    }
   ],
   "metadata": {}
  },
  {
   "cell_type": "code",
   "execution_count": 2,
   "source": [
    "df = pd.read_csv('./daily_kpi_all_810.csv')\r\n",
    "# df.dropna(axis = 1, inplace = True, how = 'all')\r\n",
    "# re1 = re.compile(r'(?<=\\.).+')\r\n",
    "# df.columns = [re1.findall(i)[0] for i in list(df.columns.to_numpy())]\r\n",
    "# df.to_csv('./dws_dsc_wh_ou_daily_kpi_july.csv', encoding='utf_8_sig')\r\n",
    "\r\n",
    "# df.to_csv('./daily_kpi_all_810.csv', encoding='utf_8_sig')"
   ],
   "outputs": [],
   "metadata": {}
  },
  {
   "cell_type": "code",
   "execution_count": 3,
   "source": [
    "df.columns"
   ],
   "outputs": [
    {
     "output_type": "execute_result",
     "data": {
      "text/plain": [
       "Index(['Unnamed: 0', 'ou_code', 'ou_name', 'bg_code', 'bg_name_cn',\n",
       "       'customer_id', 'customer_name', 'total_storage_location_count',\n",
       "       'operation_day', 'week', 'month', 'quarter', 'year', 'is_holiday',\n",
       "       'inbound_header_count', 'inbound_line_count',\n",
       "       'inbound_line_original_qty', 'inbound_receive_qty',\n",
       "       'inbound_receive_volume', 'inbound_receive_weight',\n",
       "       'outbound_header_count', 'outbound_line_count',\n",
       "       'outbound_line_original_qty', 'outbound_shipped_qty',\n",
       "       'outbound_shipped_volume', 'outbound_shipped_weight',\n",
       "       'outbound_std_shipped_volume', 'outbound_std_shipped_weight',\n",
       "       'used_storage_location_count', 'active_lpn_count', 'on_hand_qty',\n",
       "       'in_transit_qty', 'allocated_qty', 'total_head_count',\n",
       "       'total_working_hour', 'outsource_working_hour', 'perm_working_hour',\n",
       "       'other_working_hour', 'direct_working_hour', 'indirect_working_hour',\n",
       "       'outbound_inbound_qty_ratio', 'perm_working_hour_ratio',\n",
       "       'working_hour_per_head', 'location_usage_rate', 'location_idle_rate',\n",
       "       'update_time'],\n",
       "      dtype='object')"
      ]
     },
     "metadata": {},
     "execution_count": 3
    }
   ],
   "metadata": {}
  },
  {
   "cell_type": "code",
   "execution_count": 4,
   "source": [
    "fig, ax = plt.subplots()\r\n",
    "sns.distplot(df.groupby('ou_code')['operation_day'].nunique(), ax = ax)\r\n",
    "\r\n",
    "ax.set_xlim(1,81)\r\n",
    "ax.set_xticks(np.arange(12,81,3))\r\n",
    "ax.set_xticklabels(np.arange(12,81,3), rotation=1)"
   ],
   "outputs": [
    {
     "output_type": "execute_result",
     "data": {
      "text/plain": [
       "[Text(12, 0, '12'),\n",
       " Text(15, 0, '15'),\n",
       " Text(18, 0, '18'),\n",
       " Text(21, 0, '21'),\n",
       " Text(24, 0, '24'),\n",
       " Text(27, 0, '27'),\n",
       " Text(30, 0, '30'),\n",
       " Text(33, 0, '33'),\n",
       " Text(36, 0, '36'),\n",
       " Text(39, 0, '39'),\n",
       " Text(42, 0, '42'),\n",
       " Text(45, 0, '45'),\n",
       " Text(48, 0, '48'),\n",
       " Text(51, 0, '51'),\n",
       " Text(54, 0, '54'),\n",
       " Text(57, 0, '57'),\n",
       " Text(60, 0, '60'),\n",
       " Text(63, 0, '63'),\n",
       " Text(66, 0, '66'),\n",
       " Text(69, 0, '69'),\n",
       " Text(72, 0, '72'),\n",
       " Text(75, 0, '75'),\n",
       " Text(78, 0, '78')]"
      ]
     },
     "metadata": {},
     "execution_count": 4
    },
    {
     "output_type": "display_data",
     "data": {
      "text/plain": [
       "<Figure size 432x288 with 1 Axes>"
      ],
      "image/svg+xml": "<?xml version=\"1.0\" encoding=\"utf-8\" standalone=\"no\"?>\r\n<!DOCTYPE svg PUBLIC \"-//W3C//DTD SVG 1.1//EN\"\r\n  \"http://www.w3.org/Graphics/SVG/1.1/DTD/svg11.dtd\">\r\n<svg height=\"262.694983pt\" version=\"1.1\" viewBox=\"0 0 398.50625 262.694983\" width=\"398.50625pt\" xmlns=\"http://www.w3.org/2000/svg\" xmlns:xlink=\"http://www.w3.org/1999/xlink\">\r\n <metadata>\r\n  <rdf:RDF xmlns:cc=\"http://creativecommons.org/ns#\" xmlns:dc=\"http://purl.org/dc/elements/1.1/\" xmlns:rdf=\"http://www.w3.org/1999/02/22-rdf-syntax-ns#\">\r\n   <cc:Work>\r\n    <dc:type rdf:resource=\"http://purl.org/dc/dcmitype/StillImage\"/>\r\n    <dc:date>2021-08-12T15:09:50.423680</dc:date>\r\n    <dc:format>image/svg+xml</dc:format>\r\n    <dc:creator>\r\n     <cc:Agent>\r\n      <dc:title>Matplotlib v3.4.2, https://matplotlib.org/</dc:title>\r\n     </cc:Agent>\r\n    </dc:creator>\r\n   </cc:Work>\r\n  </rdf:RDF>\r\n </metadata>\r\n <defs>\r\n  <style type=\"text/css\">*{stroke-linecap:butt;stroke-linejoin:round;}</style>\r\n </defs>\r\n <g id=\"figure_1\">\r\n  <g id=\"patch_1\">\r\n   <path d=\"M 0 262.694983 \r\nL 398.50625 262.694983 \r\nL 398.50625 0 \r\nL 0 0 \r\nz\r\n\" style=\"fill:none;\"/>\r\n  </g>\r\n  <g id=\"axes_1\">\r\n   <g id=\"patch_2\">\r\n    <path d=\"M 56.50625 224.64 \r\nL 391.30625 224.64 \r\nL 391.30625 7.2 \r\nL 56.50625 7.2 \r\nz\r\n\" style=\"fill:#ffffff;\"/>\r\n   </g>\r\n   <g id=\"patch_3\">\r\n    <path clip-path=\"url(#p6344b1e5f8)\" d=\"M 60.69125 224.64 \r\nL 82.17425 224.64 \r\nL 82.17425 212.918167 \r\nL 60.69125 212.918167 \r\nz\r\n\" style=\"fill:#1f77b4;opacity:0.4;\"/>\r\n   </g>\r\n   <g id=\"patch_4\">\r\n    <path clip-path=\"url(#p6344b1e5f8)\" d=\"M 82.17425 224.64 \r\nL 103.65725 224.64 \r\nL 103.65725 216.825445 \r\nL 82.17425 216.825445 \r\nz\r\n\" style=\"fill:#1f77b4;opacity:0.4;\"/>\r\n   </g>\r\n   <g id=\"patch_5\">\r\n    <path clip-path=\"url(#p6344b1e5f8)\" d=\"M 103.65725 224.64 \r\nL 125.14025 224.64 \r\nL 125.14025 189.474501 \r\nL 103.65725 189.474501 \r\nz\r\n\" style=\"fill:#1f77b4;opacity:0.4;\"/>\r\n   </g>\r\n   <g id=\"patch_6\">\r\n    <path clip-path=\"url(#p6344b1e5f8)\" d=\"M 125.14025 224.64 \r\nL 146.62325 224.64 \r\nL 146.62325 154.309003 \r\nL 125.14025 154.309003 \r\nz\r\n\" style=\"fill:#1f77b4;opacity:0.4;\"/>\r\n   </g>\r\n   <g id=\"patch_7\">\r\n    <path clip-path=\"url(#p6344b1e5f8)\" d=\"M 146.62325 224.64 \r\nL 168.10625 224.64 \r\nL 168.10625 216.825445 \r\nL 146.62325 216.825445 \r\nz\r\n\" style=\"fill:#1f77b4;opacity:0.4;\"/>\r\n   </g>\r\n   <g id=\"patch_8\">\r\n    <path clip-path=\"url(#p6344b1e5f8)\" d=\"M 168.10625 224.64 \r\nL 189.58925 224.64 \r\nL 189.58925 205.103612 \r\nL 168.10625 205.103612 \r\nz\r\n\" style=\"fill:#1f77b4;opacity:0.4;\"/>\r\n   </g>\r\n   <g id=\"patch_9\">\r\n    <path clip-path=\"url(#p6344b1e5f8)\" d=\"M 189.58925 224.64 \r\nL 211.07225 224.64 \r\nL 211.07225 209.010889 \r\nL 189.58925 209.010889 \r\nz\r\n\" style=\"fill:#1f77b4;opacity:0.4;\"/>\r\n   </g>\r\n   <g id=\"patch_10\">\r\n    <path clip-path=\"url(#p6344b1e5f8)\" d=\"M 211.07225 224.64 \r\nL 232.55525 224.64 \r\nL 232.55525 150.401725 \r\nL 211.07225 150.401725 \r\nz\r\n\" style=\"fill:#1f77b4;opacity:0.4;\"/>\r\n   </g>\r\n   <g id=\"patch_11\">\r\n    <path clip-path=\"url(#p6344b1e5f8)\" d=\"M 232.55525 224.64 \r\nL 254.03825 224.64 \r\nL 254.03825 72.256173 \r\nL 232.55525 72.256173 \r\nz\r\n\" style=\"fill:#1f77b4;opacity:0.4;\"/>\r\n   </g>\r\n   <g id=\"patch_12\">\r\n    <path clip-path=\"url(#p6344b1e5f8)\" d=\"M 254.03825 224.64 \r\nL 275.52125 224.64 \r\nL 275.52125 83.978005 \r\nL 254.03825 83.978005 \r\nz\r\n\" style=\"fill:#1f77b4;opacity:0.4;\"/>\r\n   </g>\r\n   <g id=\"patch_13\">\r\n    <path clip-path=\"url(#p6344b1e5f8)\" d=\"M 275.52125 224.64 \r\nL 297.00425 224.64 \r\nL 297.00425 95.699838 \r\nL 275.52125 95.699838 \r\nz\r\n\" style=\"fill:#1f77b4;opacity:0.4;\"/>\r\n   </g>\r\n   <g id=\"patch_14\">\r\n    <path clip-path=\"url(#p6344b1e5f8)\" d=\"M 297.00425 224.64 \r\nL 318.48725 224.64 \r\nL 318.48725 17.554286 \r\nL 297.00425 17.554286 \r\nz\r\n\" style=\"fill:#1f77b4;opacity:0.4;\"/>\r\n   </g>\r\n   <g id=\"patch_15\">\r\n    <path clip-path=\"url(#p6344b1e5f8)\" d=\"M 318.48725 224.64 \r\nL 339.97025 224.64 \r\nL 339.97025 80.070728 \r\nL 318.48725 80.070728 \r\nz\r\n\" style=\"fill:#1f77b4;opacity:0.4;\"/>\r\n   </g>\r\n   <g id=\"patch_16\">\r\n    <path clip-path=\"url(#p6344b1e5f8)\" d=\"M 339.97025 224.64 \r\nL 361.45325 224.64 \r\nL 361.45325 76.16345 \r\nL 339.97025 76.16345 \r\nz\r\n\" style=\"fill:#1f77b4;opacity:0.4;\"/>\r\n   </g>\r\n   <g id=\"patch_17\">\r\n    <path clip-path=\"url(#p6344b1e5f8)\" d=\"M 361.45325 224.64 \r\nL 382.93625 224.64 \r\nL 382.93625 130.865337 \r\nL 361.45325 130.865337 \r\nz\r\n\" style=\"fill:#1f77b4;opacity:0.4;\"/>\r\n   </g>\r\n   <g id=\"matplotlib.axis_1\">\r\n    <g id=\"xtick_1\">\r\n     <g id=\"line2d_1\">\r\n      <defs>\r\n       <path d=\"M 0 0 \r\nL 0 3.5 \r\n\" id=\"m0784d4840d\" style=\"stroke:#000000;stroke-width:0.8;\"/>\r\n      </defs>\r\n      <g>\r\n       <use style=\"stroke:#000000;stroke-width:0.8;\" x=\"102.54125\" xlink:href=\"#m0784d4840d\" y=\"224.64\"/>\r\n      </g>\r\n     </g>\r\n     <g id=\"text_1\">\r\n      <!-- 12 -->\r\n      <g transform=\"translate(96.227877 239.459362)rotate(-1)scale(0.1 -0.1)\">\r\n       <defs>\r\n        <path d=\"M 794 531 \r\nL 1825 531 \r\nL 1825 4091 \r\nL 703 3866 \r\nL 703 4441 \r\nL 1819 4666 \r\nL 2450 4666 \r\nL 2450 531 \r\nL 3481 531 \r\nL 3481 0 \r\nL 794 0 \r\nL 794 531 \r\nz\r\n\" id=\"DejaVuSans-31\" transform=\"scale(0.015625)\"/>\r\n        <path d=\"M 1228 531 \r\nL 3431 531 \r\nL 3431 0 \r\nL 469 0 \r\nL 469 531 \r\nQ 828 903 1448 1529 \r\nQ 2069 2156 2228 2338 \r\nQ 2531 2678 2651 2914 \r\nQ 2772 3150 2772 3378 \r\nQ 2772 3750 2511 3984 \r\nQ 2250 4219 1831 4219 \r\nQ 1534 4219 1204 4116 \r\nQ 875 4013 500 3803 \r\nL 500 4441 \r\nQ 881 4594 1212 4672 \r\nQ 1544 4750 1819 4750 \r\nQ 2544 4750 2975 4387 \r\nQ 3406 4025 3406 3419 \r\nQ 3406 3131 3298 2873 \r\nQ 3191 2616 2906 2266 \r\nQ 2828 2175 2409 1742 \r\nQ 1991 1309 1228 531 \r\nz\r\n\" id=\"DejaVuSans-32\" transform=\"scale(0.015625)\"/>\r\n       </defs>\r\n       <use xlink:href=\"#DejaVuSans-31\"/>\r\n       <use x=\"63.623047\" xlink:href=\"#DejaVuSans-32\"/>\r\n      </g>\r\n     </g>\r\n    </g>\r\n    <g id=\"xtick_2\">\r\n     <g id=\"line2d_2\">\r\n      <g>\r\n       <use style=\"stroke:#000000;stroke-width:0.8;\" x=\"115.09625\" xlink:href=\"#m0784d4840d\" y=\"224.64\"/>\r\n      </g>\r\n     </g>\r\n     <g id=\"text_2\">\r\n      <!-- 15 -->\r\n      <g transform=\"translate(108.782877 239.459362)rotate(-1)scale(0.1 -0.1)\">\r\n       <defs>\r\n        <path d=\"M 691 4666 \r\nL 3169 4666 \r\nL 3169 4134 \r\nL 1269 4134 \r\nL 1269 2991 \r\nQ 1406 3038 1543 3061 \r\nQ 1681 3084 1819 3084 \r\nQ 2600 3084 3056 2656 \r\nQ 3513 2228 3513 1497 \r\nQ 3513 744 3044 326 \r\nQ 2575 -91 1722 -91 \r\nQ 1428 -91 1123 -41 \r\nQ 819 9 494 109 \r\nL 494 744 \r\nQ 775 591 1075 516 \r\nQ 1375 441 1709 441 \r\nQ 2250 441 2565 725 \r\nQ 2881 1009 2881 1497 \r\nQ 2881 1984 2565 2268 \r\nQ 2250 2553 1709 2553 \r\nQ 1456 2553 1204 2497 \r\nQ 953 2441 691 2322 \r\nL 691 4666 \r\nz\r\n\" id=\"DejaVuSans-35\" transform=\"scale(0.015625)\"/>\r\n       </defs>\r\n       <use xlink:href=\"#DejaVuSans-31\"/>\r\n       <use x=\"63.623047\" xlink:href=\"#DejaVuSans-35\"/>\r\n      </g>\r\n     </g>\r\n    </g>\r\n    <g id=\"xtick_3\">\r\n     <g id=\"line2d_3\">\r\n      <g>\r\n       <use style=\"stroke:#000000;stroke-width:0.8;\" x=\"127.65125\" xlink:href=\"#m0784d4840d\" y=\"224.64\"/>\r\n      </g>\r\n     </g>\r\n     <g id=\"text_3\">\r\n      <!-- 18 -->\r\n      <g transform=\"translate(121.337877 239.459362)rotate(-1)scale(0.1 -0.1)\">\r\n       <defs>\r\n        <path d=\"M 2034 2216 \r\nQ 1584 2216 1326 1975 \r\nQ 1069 1734 1069 1313 \r\nQ 1069 891 1326 650 \r\nQ 1584 409 2034 409 \r\nQ 2484 409 2743 651 \r\nQ 3003 894 3003 1313 \r\nQ 3003 1734 2745 1975 \r\nQ 2488 2216 2034 2216 \r\nz\r\nM 1403 2484 \r\nQ 997 2584 770 2862 \r\nQ 544 3141 544 3541 \r\nQ 544 4100 942 4425 \r\nQ 1341 4750 2034 4750 \r\nQ 2731 4750 3128 4425 \r\nQ 3525 4100 3525 3541 \r\nQ 3525 3141 3298 2862 \r\nQ 3072 2584 2669 2484 \r\nQ 3125 2378 3379 2068 \r\nQ 3634 1759 3634 1313 \r\nQ 3634 634 3220 271 \r\nQ 2806 -91 2034 -91 \r\nQ 1263 -91 848 271 \r\nQ 434 634 434 1313 \r\nQ 434 1759 690 2068 \r\nQ 947 2378 1403 2484 \r\nz\r\nM 1172 3481 \r\nQ 1172 3119 1398 2916 \r\nQ 1625 2713 2034 2713 \r\nQ 2441 2713 2670 2916 \r\nQ 2900 3119 2900 3481 \r\nQ 2900 3844 2670 4047 \r\nQ 2441 4250 2034 4250 \r\nQ 1625 4250 1398 4047 \r\nQ 1172 3844 1172 3481 \r\nz\r\n\" id=\"DejaVuSans-38\" transform=\"scale(0.015625)\"/>\r\n       </defs>\r\n       <use xlink:href=\"#DejaVuSans-31\"/>\r\n       <use x=\"63.623047\" xlink:href=\"#DejaVuSans-38\"/>\r\n      </g>\r\n     </g>\r\n    </g>\r\n    <g id=\"xtick_4\">\r\n     <g id=\"line2d_4\">\r\n      <g>\r\n       <use style=\"stroke:#000000;stroke-width:0.8;\" x=\"140.20625\" xlink:href=\"#m0784d4840d\" y=\"224.64\"/>\r\n      </g>\r\n     </g>\r\n     <g id=\"text_4\">\r\n      <!-- 21 -->\r\n      <g transform=\"translate(133.892877 239.459362)rotate(-1)scale(0.1 -0.1)\">\r\n       <use xlink:href=\"#DejaVuSans-32\"/>\r\n       <use x=\"63.623047\" xlink:href=\"#DejaVuSans-31\"/>\r\n      </g>\r\n     </g>\r\n    </g>\r\n    <g id=\"xtick_5\">\r\n     <g id=\"line2d_5\">\r\n      <g>\r\n       <use style=\"stroke:#000000;stroke-width:0.8;\" x=\"152.76125\" xlink:href=\"#m0784d4840d\" y=\"224.64\"/>\r\n      </g>\r\n     </g>\r\n     <g id=\"text_5\">\r\n      <!-- 24 -->\r\n      <g transform=\"translate(146.447877 239.459362)rotate(-1)scale(0.1 -0.1)\">\r\n       <defs>\r\n        <path d=\"M 2419 4116 \r\nL 825 1625 \r\nL 2419 1625 \r\nL 2419 4116 \r\nz\r\nM 2253 4666 \r\nL 3047 4666 \r\nL 3047 1625 \r\nL 3713 1625 \r\nL 3713 1100 \r\nL 3047 1100 \r\nL 3047 0 \r\nL 2419 0 \r\nL 2419 1100 \r\nL 313 1100 \r\nL 313 1709 \r\nL 2253 4666 \r\nz\r\n\" id=\"DejaVuSans-34\" transform=\"scale(0.015625)\"/>\r\n       </defs>\r\n       <use xlink:href=\"#DejaVuSans-32\"/>\r\n       <use x=\"63.623047\" xlink:href=\"#DejaVuSans-34\"/>\r\n      </g>\r\n     </g>\r\n    </g>\r\n    <g id=\"xtick_6\">\r\n     <g id=\"line2d_6\">\r\n      <g>\r\n       <use style=\"stroke:#000000;stroke-width:0.8;\" x=\"165.31625\" xlink:href=\"#m0784d4840d\" y=\"224.64\"/>\r\n      </g>\r\n     </g>\r\n     <g id=\"text_6\">\r\n      <!-- 27 -->\r\n      <g transform=\"translate(159.002877 239.459362)rotate(-1)scale(0.1 -0.1)\">\r\n       <defs>\r\n        <path d=\"M 525 4666 \r\nL 3525 4666 \r\nL 3525 4397 \r\nL 1831 0 \r\nL 1172 0 \r\nL 2766 4134 \r\nL 525 4134 \r\nL 525 4666 \r\nz\r\n\" id=\"DejaVuSans-37\" transform=\"scale(0.015625)\"/>\r\n       </defs>\r\n       <use xlink:href=\"#DejaVuSans-32\"/>\r\n       <use x=\"63.623047\" xlink:href=\"#DejaVuSans-37\"/>\r\n      </g>\r\n     </g>\r\n    </g>\r\n    <g id=\"xtick_7\">\r\n     <g id=\"line2d_7\">\r\n      <g>\r\n       <use style=\"stroke:#000000;stroke-width:0.8;\" x=\"177.87125\" xlink:href=\"#m0784d4840d\" y=\"224.64\"/>\r\n      </g>\r\n     </g>\r\n     <g id=\"text_7\">\r\n      <!-- 30 -->\r\n      <g transform=\"translate(171.557877 239.459362)rotate(-1)scale(0.1 -0.1)\">\r\n       <defs>\r\n        <path d=\"M 2597 2516 \r\nQ 3050 2419 3304 2112 \r\nQ 3559 1806 3559 1356 \r\nQ 3559 666 3084 287 \r\nQ 2609 -91 1734 -91 \r\nQ 1441 -91 1130 -33 \r\nQ 819 25 488 141 \r\nL 488 750 \r\nQ 750 597 1062 519 \r\nQ 1375 441 1716 441 \r\nQ 2309 441 2620 675 \r\nQ 2931 909 2931 1356 \r\nQ 2931 1769 2642 2001 \r\nQ 2353 2234 1838 2234 \r\nL 1294 2234 \r\nL 1294 2753 \r\nL 1863 2753 \r\nQ 2328 2753 2575 2939 \r\nQ 2822 3125 2822 3475 \r\nQ 2822 3834 2567 4026 \r\nQ 2313 4219 1838 4219 \r\nQ 1578 4219 1281 4162 \r\nQ 984 4106 628 3988 \r\nL 628 4550 \r\nQ 988 4650 1302 4700 \r\nQ 1616 4750 1894 4750 \r\nQ 2613 4750 3031 4423 \r\nQ 3450 4097 3450 3541 \r\nQ 3450 3153 3228 2886 \r\nQ 3006 2619 2597 2516 \r\nz\r\n\" id=\"DejaVuSans-33\" transform=\"scale(0.015625)\"/>\r\n        <path d=\"M 2034 4250 \r\nQ 1547 4250 1301 3770 \r\nQ 1056 3291 1056 2328 \r\nQ 1056 1369 1301 889 \r\nQ 1547 409 2034 409 \r\nQ 2525 409 2770 889 \r\nQ 3016 1369 3016 2328 \r\nQ 3016 3291 2770 3770 \r\nQ 2525 4250 2034 4250 \r\nz\r\nM 2034 4750 \r\nQ 2819 4750 3233 4129 \r\nQ 3647 3509 3647 2328 \r\nQ 3647 1150 3233 529 \r\nQ 2819 -91 2034 -91 \r\nQ 1250 -91 836 529 \r\nQ 422 1150 422 2328 \r\nQ 422 3509 836 4129 \r\nQ 1250 4750 2034 4750 \r\nz\r\n\" id=\"DejaVuSans-30\" transform=\"scale(0.015625)\"/>\r\n       </defs>\r\n       <use xlink:href=\"#DejaVuSans-33\"/>\r\n       <use x=\"63.623047\" xlink:href=\"#DejaVuSans-30\"/>\r\n      </g>\r\n     </g>\r\n    </g>\r\n    <g id=\"xtick_8\">\r\n     <g id=\"line2d_8\">\r\n      <g>\r\n       <use style=\"stroke:#000000;stroke-width:0.8;\" x=\"190.42625\" xlink:href=\"#m0784d4840d\" y=\"224.64\"/>\r\n      </g>\r\n     </g>\r\n     <g id=\"text_8\">\r\n      <!-- 33 -->\r\n      <g transform=\"translate(184.112877 239.459362)rotate(-1)scale(0.1 -0.1)\">\r\n       <use xlink:href=\"#DejaVuSans-33\"/>\r\n       <use x=\"63.623047\" xlink:href=\"#DejaVuSans-33\"/>\r\n      </g>\r\n     </g>\r\n    </g>\r\n    <g id=\"xtick_9\">\r\n     <g id=\"line2d_9\">\r\n      <g>\r\n       <use style=\"stroke:#000000;stroke-width:0.8;\" x=\"202.98125\" xlink:href=\"#m0784d4840d\" y=\"224.64\"/>\r\n      </g>\r\n     </g>\r\n     <g id=\"text_9\">\r\n      <!-- 36 -->\r\n      <g transform=\"translate(196.667877 239.459362)rotate(-1)scale(0.1 -0.1)\">\r\n       <defs>\r\n        <path d=\"M 2113 2584 \r\nQ 1688 2584 1439 2293 \r\nQ 1191 2003 1191 1497 \r\nQ 1191 994 1439 701 \r\nQ 1688 409 2113 409 \r\nQ 2538 409 2786 701 \r\nQ 3034 994 3034 1497 \r\nQ 3034 2003 2786 2293 \r\nQ 2538 2584 2113 2584 \r\nz\r\nM 3366 4563 \r\nL 3366 3988 \r\nQ 3128 4100 2886 4159 \r\nQ 2644 4219 2406 4219 \r\nQ 1781 4219 1451 3797 \r\nQ 1122 3375 1075 2522 \r\nQ 1259 2794 1537 2939 \r\nQ 1816 3084 2150 3084 \r\nQ 2853 3084 3261 2657 \r\nQ 3669 2231 3669 1497 \r\nQ 3669 778 3244 343 \r\nQ 2819 -91 2113 -91 \r\nQ 1303 -91 875 529 \r\nQ 447 1150 447 2328 \r\nQ 447 3434 972 4092 \r\nQ 1497 4750 2381 4750 \r\nQ 2619 4750 2861 4703 \r\nQ 3103 4656 3366 4563 \r\nz\r\n\" id=\"DejaVuSans-36\" transform=\"scale(0.015625)\"/>\r\n       </defs>\r\n       <use xlink:href=\"#DejaVuSans-33\"/>\r\n       <use x=\"63.623047\" xlink:href=\"#DejaVuSans-36\"/>\r\n      </g>\r\n     </g>\r\n    </g>\r\n    <g id=\"xtick_10\">\r\n     <g id=\"line2d_10\">\r\n      <g>\r\n       <use style=\"stroke:#000000;stroke-width:0.8;\" x=\"215.53625\" xlink:href=\"#m0784d4840d\" y=\"224.64\"/>\r\n      </g>\r\n     </g>\r\n     <g id=\"text_10\">\r\n      <!-- 39 -->\r\n      <g transform=\"translate(209.222877 239.459362)rotate(-1)scale(0.1 -0.1)\">\r\n       <defs>\r\n        <path d=\"M 703 97 \r\nL 703 672 \r\nQ 941 559 1184 500 \r\nQ 1428 441 1663 441 \r\nQ 2288 441 2617 861 \r\nQ 2947 1281 2994 2138 \r\nQ 2813 1869 2534 1725 \r\nQ 2256 1581 1919 1581 \r\nQ 1219 1581 811 2004 \r\nQ 403 2428 403 3163 \r\nQ 403 3881 828 4315 \r\nQ 1253 4750 1959 4750 \r\nQ 2769 4750 3195 4129 \r\nQ 3622 3509 3622 2328 \r\nQ 3622 1225 3098 567 \r\nQ 2575 -91 1691 -91 \r\nQ 1453 -91 1209 -44 \r\nQ 966 3 703 97 \r\nz\r\nM 1959 2075 \r\nQ 2384 2075 2632 2365 \r\nQ 2881 2656 2881 3163 \r\nQ 2881 3666 2632 3958 \r\nQ 2384 4250 1959 4250 \r\nQ 1534 4250 1286 3958 \r\nQ 1038 3666 1038 3163 \r\nQ 1038 2656 1286 2365 \r\nQ 1534 2075 1959 2075 \r\nz\r\n\" id=\"DejaVuSans-39\" transform=\"scale(0.015625)\"/>\r\n       </defs>\r\n       <use xlink:href=\"#DejaVuSans-33\"/>\r\n       <use x=\"63.623047\" xlink:href=\"#DejaVuSans-39\"/>\r\n      </g>\r\n     </g>\r\n    </g>\r\n    <g id=\"xtick_11\">\r\n     <g id=\"line2d_11\">\r\n      <g>\r\n       <use style=\"stroke:#000000;stroke-width:0.8;\" x=\"228.09125\" xlink:href=\"#m0784d4840d\" y=\"224.64\"/>\r\n      </g>\r\n     </g>\r\n     <g id=\"text_11\">\r\n      <!-- 42 -->\r\n      <g transform=\"translate(221.777877 239.459362)rotate(-1)scale(0.1 -0.1)\">\r\n       <use xlink:href=\"#DejaVuSans-34\"/>\r\n       <use x=\"63.623047\" xlink:href=\"#DejaVuSans-32\"/>\r\n      </g>\r\n     </g>\r\n    </g>\r\n    <g id=\"xtick_12\">\r\n     <g id=\"line2d_12\">\r\n      <g>\r\n       <use style=\"stroke:#000000;stroke-width:0.8;\" x=\"240.64625\" xlink:href=\"#m0784d4840d\" y=\"224.64\"/>\r\n      </g>\r\n     </g>\r\n     <g id=\"text_12\">\r\n      <!-- 45 -->\r\n      <g transform=\"translate(234.332877 239.459362)rotate(-1)scale(0.1 -0.1)\">\r\n       <use xlink:href=\"#DejaVuSans-34\"/>\r\n       <use x=\"63.623047\" xlink:href=\"#DejaVuSans-35\"/>\r\n      </g>\r\n     </g>\r\n    </g>\r\n    <g id=\"xtick_13\">\r\n     <g id=\"line2d_13\">\r\n      <g>\r\n       <use style=\"stroke:#000000;stroke-width:0.8;\" x=\"253.20125\" xlink:href=\"#m0784d4840d\" y=\"224.64\"/>\r\n      </g>\r\n     </g>\r\n     <g id=\"text_13\">\r\n      <!-- 48 -->\r\n      <g transform=\"translate(246.887877 239.459362)rotate(-1)scale(0.1 -0.1)\">\r\n       <use xlink:href=\"#DejaVuSans-34\"/>\r\n       <use x=\"63.623047\" xlink:href=\"#DejaVuSans-38\"/>\r\n      </g>\r\n     </g>\r\n    </g>\r\n    <g id=\"xtick_14\">\r\n     <g id=\"line2d_14\">\r\n      <g>\r\n       <use style=\"stroke:#000000;stroke-width:0.8;\" x=\"265.75625\" xlink:href=\"#m0784d4840d\" y=\"224.64\"/>\r\n      </g>\r\n     </g>\r\n     <g id=\"text_14\">\r\n      <!-- 51 -->\r\n      <g transform=\"translate(259.442877 239.459362)rotate(-1)scale(0.1 -0.1)\">\r\n       <use xlink:href=\"#DejaVuSans-35\"/>\r\n       <use x=\"63.623047\" xlink:href=\"#DejaVuSans-31\"/>\r\n      </g>\r\n     </g>\r\n    </g>\r\n    <g id=\"xtick_15\">\r\n     <g id=\"line2d_15\">\r\n      <g>\r\n       <use style=\"stroke:#000000;stroke-width:0.8;\" x=\"278.31125\" xlink:href=\"#m0784d4840d\" y=\"224.64\"/>\r\n      </g>\r\n     </g>\r\n     <g id=\"text_15\">\r\n      <!-- 54 -->\r\n      <g transform=\"translate(271.997877 239.459362)rotate(-1)scale(0.1 -0.1)\">\r\n       <use xlink:href=\"#DejaVuSans-35\"/>\r\n       <use x=\"63.623047\" xlink:href=\"#DejaVuSans-34\"/>\r\n      </g>\r\n     </g>\r\n    </g>\r\n    <g id=\"xtick_16\">\r\n     <g id=\"line2d_16\">\r\n      <g>\r\n       <use style=\"stroke:#000000;stroke-width:0.8;\" x=\"290.86625\" xlink:href=\"#m0784d4840d\" y=\"224.64\"/>\r\n      </g>\r\n     </g>\r\n     <g id=\"text_16\">\r\n      <!-- 57 -->\r\n      <g transform=\"translate(284.552877 239.459362)rotate(-1)scale(0.1 -0.1)\">\r\n       <use xlink:href=\"#DejaVuSans-35\"/>\r\n       <use x=\"63.623047\" xlink:href=\"#DejaVuSans-37\"/>\r\n      </g>\r\n     </g>\r\n    </g>\r\n    <g id=\"xtick_17\">\r\n     <g id=\"line2d_17\">\r\n      <g>\r\n       <use style=\"stroke:#000000;stroke-width:0.8;\" x=\"303.42125\" xlink:href=\"#m0784d4840d\" y=\"224.64\"/>\r\n      </g>\r\n     </g>\r\n     <g id=\"text_17\">\r\n      <!-- 60 -->\r\n      <g transform=\"translate(297.107877 239.459362)rotate(-1)scale(0.1 -0.1)\">\r\n       <use xlink:href=\"#DejaVuSans-36\"/>\r\n       <use x=\"63.623047\" xlink:href=\"#DejaVuSans-30\"/>\r\n      </g>\r\n     </g>\r\n    </g>\r\n    <g id=\"xtick_18\">\r\n     <g id=\"line2d_18\">\r\n      <g>\r\n       <use style=\"stroke:#000000;stroke-width:0.8;\" x=\"315.97625\" xlink:href=\"#m0784d4840d\" y=\"224.64\"/>\r\n      </g>\r\n     </g>\r\n     <g id=\"text_18\">\r\n      <!-- 63 -->\r\n      <g transform=\"translate(309.662877 239.459362)rotate(-1)scale(0.1 -0.1)\">\r\n       <use xlink:href=\"#DejaVuSans-36\"/>\r\n       <use x=\"63.623047\" xlink:href=\"#DejaVuSans-33\"/>\r\n      </g>\r\n     </g>\r\n    </g>\r\n    <g id=\"xtick_19\">\r\n     <g id=\"line2d_19\">\r\n      <g>\r\n       <use style=\"stroke:#000000;stroke-width:0.8;\" x=\"328.53125\" xlink:href=\"#m0784d4840d\" y=\"224.64\"/>\r\n      </g>\r\n     </g>\r\n     <g id=\"text_19\">\r\n      <!-- 66 -->\r\n      <g transform=\"translate(322.217877 239.459362)rotate(-1)scale(0.1 -0.1)\">\r\n       <use xlink:href=\"#DejaVuSans-36\"/>\r\n       <use x=\"63.623047\" xlink:href=\"#DejaVuSans-36\"/>\r\n      </g>\r\n     </g>\r\n    </g>\r\n    <g id=\"xtick_20\">\r\n     <g id=\"line2d_20\">\r\n      <g>\r\n       <use style=\"stroke:#000000;stroke-width:0.8;\" x=\"341.08625\" xlink:href=\"#m0784d4840d\" y=\"224.64\"/>\r\n      </g>\r\n     </g>\r\n     <g id=\"text_20\">\r\n      <!-- 69 -->\r\n      <g transform=\"translate(334.772877 239.459362)rotate(-1)scale(0.1 -0.1)\">\r\n       <use xlink:href=\"#DejaVuSans-36\"/>\r\n       <use x=\"63.623047\" xlink:href=\"#DejaVuSans-39\"/>\r\n      </g>\r\n     </g>\r\n    </g>\r\n    <g id=\"xtick_21\">\r\n     <g id=\"line2d_21\">\r\n      <g>\r\n       <use style=\"stroke:#000000;stroke-width:0.8;\" x=\"353.64125\" xlink:href=\"#m0784d4840d\" y=\"224.64\"/>\r\n      </g>\r\n     </g>\r\n     <g id=\"text_21\">\r\n      <!-- 72 -->\r\n      <g transform=\"translate(347.327877 239.459362)rotate(-1)scale(0.1 -0.1)\">\r\n       <use xlink:href=\"#DejaVuSans-37\"/>\r\n       <use x=\"63.623047\" xlink:href=\"#DejaVuSans-32\"/>\r\n      </g>\r\n     </g>\r\n    </g>\r\n    <g id=\"xtick_22\">\r\n     <g id=\"line2d_22\">\r\n      <g>\r\n       <use style=\"stroke:#000000;stroke-width:0.8;\" x=\"366.19625\" xlink:href=\"#m0784d4840d\" y=\"224.64\"/>\r\n      </g>\r\n     </g>\r\n     <g id=\"text_22\">\r\n      <!-- 75 -->\r\n      <g transform=\"translate(359.882877 239.459362)rotate(-1)scale(0.1 -0.1)\">\r\n       <use xlink:href=\"#DejaVuSans-37\"/>\r\n       <use x=\"63.623047\" xlink:href=\"#DejaVuSans-35\"/>\r\n      </g>\r\n     </g>\r\n    </g>\r\n    <g id=\"xtick_23\">\r\n     <g id=\"line2d_23\">\r\n      <g>\r\n       <use style=\"stroke:#000000;stroke-width:0.8;\" x=\"378.75125\" xlink:href=\"#m0784d4840d\" y=\"224.64\"/>\r\n      </g>\r\n     </g>\r\n     <g id=\"text_23\">\r\n      <!-- 78 -->\r\n      <g transform=\"translate(372.437877 239.459362)rotate(-1)scale(0.1 -0.1)\">\r\n       <use xlink:href=\"#DejaVuSans-37\"/>\r\n       <use x=\"63.623047\" xlink:href=\"#DejaVuSans-38\"/>\r\n      </g>\r\n     </g>\r\n    </g>\r\n    <g id=\"text_24\">\r\n     <!-- operation_day -->\r\n     <g transform=\"translate(188.201562 253.13717)scale(0.1 -0.1)\">\r\n      <defs>\r\n       <path d=\"M 1959 3097 \r\nQ 1497 3097 1228 2736 \r\nQ 959 2375 959 1747 \r\nQ 959 1119 1226 758 \r\nQ 1494 397 1959 397 \r\nQ 2419 397 2687 759 \r\nQ 2956 1122 2956 1747 \r\nQ 2956 2369 2687 2733 \r\nQ 2419 3097 1959 3097 \r\nz\r\nM 1959 3584 \r\nQ 2709 3584 3137 3096 \r\nQ 3566 2609 3566 1747 \r\nQ 3566 888 3137 398 \r\nQ 2709 -91 1959 -91 \r\nQ 1206 -91 779 398 \r\nQ 353 888 353 1747 \r\nQ 353 2609 779 3096 \r\nQ 1206 3584 1959 3584 \r\nz\r\n\" id=\"DejaVuSans-6f\" transform=\"scale(0.015625)\"/>\r\n       <path d=\"M 1159 525 \r\nL 1159 -1331 \r\nL 581 -1331 \r\nL 581 3500 \r\nL 1159 3500 \r\nL 1159 2969 \r\nQ 1341 3281 1617 3432 \r\nQ 1894 3584 2278 3584 \r\nQ 2916 3584 3314 3078 \r\nQ 3713 2572 3713 1747 \r\nQ 3713 922 3314 415 \r\nQ 2916 -91 2278 -91 \r\nQ 1894 -91 1617 61 \r\nQ 1341 213 1159 525 \r\nz\r\nM 3116 1747 \r\nQ 3116 2381 2855 2742 \r\nQ 2594 3103 2138 3103 \r\nQ 1681 3103 1420 2742 \r\nQ 1159 2381 1159 1747 \r\nQ 1159 1113 1420 752 \r\nQ 1681 391 2138 391 \r\nQ 2594 391 2855 752 \r\nQ 3116 1113 3116 1747 \r\nz\r\n\" id=\"DejaVuSans-70\" transform=\"scale(0.015625)\"/>\r\n       <path d=\"M 3597 1894 \r\nL 3597 1613 \r\nL 953 1613 \r\nQ 991 1019 1311 708 \r\nQ 1631 397 2203 397 \r\nQ 2534 397 2845 478 \r\nQ 3156 559 3463 722 \r\nL 3463 178 \r\nQ 3153 47 2828 -22 \r\nQ 2503 -91 2169 -91 \r\nQ 1331 -91 842 396 \r\nQ 353 884 353 1716 \r\nQ 353 2575 817 3079 \r\nQ 1281 3584 2069 3584 \r\nQ 2775 3584 3186 3129 \r\nQ 3597 2675 3597 1894 \r\nz\r\nM 3022 2063 \r\nQ 3016 2534 2758 2815 \r\nQ 2500 3097 2075 3097 \r\nQ 1594 3097 1305 2825 \r\nQ 1016 2553 972 2059 \r\nL 3022 2063 \r\nz\r\n\" id=\"DejaVuSans-65\" transform=\"scale(0.015625)\"/>\r\n       <path d=\"M 2631 2963 \r\nQ 2534 3019 2420 3045 \r\nQ 2306 3072 2169 3072 \r\nQ 1681 3072 1420 2755 \r\nQ 1159 2438 1159 1844 \r\nL 1159 0 \r\nL 581 0 \r\nL 581 3500 \r\nL 1159 3500 \r\nL 1159 2956 \r\nQ 1341 3275 1631 3429 \r\nQ 1922 3584 2338 3584 \r\nQ 2397 3584 2469 3576 \r\nQ 2541 3569 2628 3553 \r\nL 2631 2963 \r\nz\r\n\" id=\"DejaVuSans-72\" transform=\"scale(0.015625)\"/>\r\n       <path d=\"M 2194 1759 \r\nQ 1497 1759 1228 1600 \r\nQ 959 1441 959 1056 \r\nQ 959 750 1161 570 \r\nQ 1363 391 1709 391 \r\nQ 2188 391 2477 730 \r\nQ 2766 1069 2766 1631 \r\nL 2766 1759 \r\nL 2194 1759 \r\nz\r\nM 3341 1997 \r\nL 3341 0 \r\nL 2766 0 \r\nL 2766 531 \r\nQ 2569 213 2275 61 \r\nQ 1981 -91 1556 -91 \r\nQ 1019 -91 701 211 \r\nQ 384 513 384 1019 \r\nQ 384 1609 779 1909 \r\nQ 1175 2209 1959 2209 \r\nL 2766 2209 \r\nL 2766 2266 \r\nQ 2766 2663 2505 2880 \r\nQ 2244 3097 1772 3097 \r\nQ 1472 3097 1187 3025 \r\nQ 903 2953 641 2809 \r\nL 641 3341 \r\nQ 956 3463 1253 3523 \r\nQ 1550 3584 1831 3584 \r\nQ 2591 3584 2966 3190 \r\nQ 3341 2797 3341 1997 \r\nz\r\n\" id=\"DejaVuSans-61\" transform=\"scale(0.015625)\"/>\r\n       <path d=\"M 1172 4494 \r\nL 1172 3500 \r\nL 2356 3500 \r\nL 2356 3053 \r\nL 1172 3053 \r\nL 1172 1153 \r\nQ 1172 725 1289 603 \r\nQ 1406 481 1766 481 \r\nL 2356 481 \r\nL 2356 0 \r\nL 1766 0 \r\nQ 1100 0 847 248 \r\nQ 594 497 594 1153 \r\nL 594 3053 \r\nL 172 3053 \r\nL 172 3500 \r\nL 594 3500 \r\nL 594 4494 \r\nL 1172 4494 \r\nz\r\n\" id=\"DejaVuSans-74\" transform=\"scale(0.015625)\"/>\r\n       <path d=\"M 603 3500 \r\nL 1178 3500 \r\nL 1178 0 \r\nL 603 0 \r\nL 603 3500 \r\nz\r\nM 603 4863 \r\nL 1178 4863 \r\nL 1178 4134 \r\nL 603 4134 \r\nL 603 4863 \r\nz\r\n\" id=\"DejaVuSans-69\" transform=\"scale(0.015625)\"/>\r\n       <path d=\"M 3513 2113 \r\nL 3513 0 \r\nL 2938 0 \r\nL 2938 2094 \r\nQ 2938 2591 2744 2837 \r\nQ 2550 3084 2163 3084 \r\nQ 1697 3084 1428 2787 \r\nQ 1159 2491 1159 1978 \r\nL 1159 0 \r\nL 581 0 \r\nL 581 3500 \r\nL 1159 3500 \r\nL 1159 2956 \r\nQ 1366 3272 1645 3428 \r\nQ 1925 3584 2291 3584 \r\nQ 2894 3584 3203 3211 \r\nQ 3513 2838 3513 2113 \r\nz\r\n\" id=\"DejaVuSans-6e\" transform=\"scale(0.015625)\"/>\r\n       <path d=\"M 3263 -1063 \r\nL 3263 -1509 \r\nL -63 -1509 \r\nL -63 -1063 \r\nL 3263 -1063 \r\nz\r\n\" id=\"DejaVuSans-5f\" transform=\"scale(0.015625)\"/>\r\n       <path d=\"M 2906 2969 \r\nL 2906 4863 \r\nL 3481 4863 \r\nL 3481 0 \r\nL 2906 0 \r\nL 2906 525 \r\nQ 2725 213 2448 61 \r\nQ 2172 -91 1784 -91 \r\nQ 1150 -91 751 415 \r\nQ 353 922 353 1747 \r\nQ 353 2572 751 3078 \r\nQ 1150 3584 1784 3584 \r\nQ 2172 3584 2448 3432 \r\nQ 2725 3281 2906 2969 \r\nz\r\nM 947 1747 \r\nQ 947 1113 1208 752 \r\nQ 1469 391 1925 391 \r\nQ 2381 391 2643 752 \r\nQ 2906 1113 2906 1747 \r\nQ 2906 2381 2643 2742 \r\nQ 2381 3103 1925 3103 \r\nQ 1469 3103 1208 2742 \r\nQ 947 2381 947 1747 \r\nz\r\n\" id=\"DejaVuSans-64\" transform=\"scale(0.015625)\"/>\r\n       <path d=\"M 2059 -325 \r\nQ 1816 -950 1584 -1140 \r\nQ 1353 -1331 966 -1331 \r\nL 506 -1331 \r\nL 506 -850 \r\nL 844 -850 \r\nQ 1081 -850 1212 -737 \r\nQ 1344 -625 1503 -206 \r\nL 1606 56 \r\nL 191 3500 \r\nL 800 3500 \r\nL 1894 763 \r\nL 2988 3500 \r\nL 3597 3500 \r\nL 2059 -325 \r\nz\r\n\" id=\"DejaVuSans-79\" transform=\"scale(0.015625)\"/>\r\n      </defs>\r\n      <use xlink:href=\"#DejaVuSans-6f\"/>\r\n      <use x=\"61.181641\" xlink:href=\"#DejaVuSans-70\"/>\r\n      <use x=\"124.658203\" xlink:href=\"#DejaVuSans-65\"/>\r\n      <use x=\"186.181641\" xlink:href=\"#DejaVuSans-72\"/>\r\n      <use x=\"227.294922\" xlink:href=\"#DejaVuSans-61\"/>\r\n      <use x=\"288.574219\" xlink:href=\"#DejaVuSans-74\"/>\r\n      <use x=\"327.783203\" xlink:href=\"#DejaVuSans-69\"/>\r\n      <use x=\"355.566406\" xlink:href=\"#DejaVuSans-6f\"/>\r\n      <use x=\"416.748047\" xlink:href=\"#DejaVuSans-6e\"/>\r\n      <use x=\"480.126953\" xlink:href=\"#DejaVuSans-5f\"/>\r\n      <use x=\"530.126953\" xlink:href=\"#DejaVuSans-64\"/>\r\n      <use x=\"593.603516\" xlink:href=\"#DejaVuSans-61\"/>\r\n      <use x=\"654.882812\" xlink:href=\"#DejaVuSans-79\"/>\r\n     </g>\r\n    </g>\r\n   </g>\r\n   <g id=\"matplotlib.axis_2\">\r\n    <g id=\"ytick_1\">\r\n     <g id=\"line2d_24\">\r\n      <defs>\r\n       <path d=\"M 0 0 \r\nL -3.5 0 \r\n\" id=\"mcd7edc8043\" style=\"stroke:#000000;stroke-width:0.8;\"/>\r\n      </defs>\r\n      <g>\r\n       <use style=\"stroke:#000000;stroke-width:0.8;\" x=\"56.50625\" xlink:href=\"#mcd7edc8043\" y=\"224.64\"/>\r\n      </g>\r\n     </g>\r\n     <g id=\"text_25\">\r\n      <!-- 0.000 -->\r\n      <g transform=\"translate(20.878125 228.439219)scale(0.1 -0.1)\">\r\n       <defs>\r\n        <path d=\"M 684 794 \r\nL 1344 794 \r\nL 1344 0 \r\nL 684 0 \r\nL 684 794 \r\nz\r\n\" id=\"DejaVuSans-2e\" transform=\"scale(0.015625)\"/>\r\n       </defs>\r\n       <use xlink:href=\"#DejaVuSans-30\"/>\r\n       <use x=\"63.623047\" xlink:href=\"#DejaVuSans-2e\"/>\r\n       <use x=\"95.410156\" xlink:href=\"#DejaVuSans-30\"/>\r\n       <use x=\"159.033203\" xlink:href=\"#DejaVuSans-30\"/>\r\n       <use x=\"222.65625\" xlink:href=\"#DejaVuSans-30\"/>\r\n      </g>\r\n     </g>\r\n    </g>\r\n    <g id=\"ytick_2\">\r\n     <g id=\"line2d_25\">\r\n      <g>\r\n       <use style=\"stroke:#000000;stroke-width:0.8;\" x=\"56.50625\" xlink:href=\"#mcd7edc8043\" y=\"192.347653\"/>\r\n      </g>\r\n     </g>\r\n     <g id=\"text_26\">\r\n      <!-- 0.005 -->\r\n      <g transform=\"translate(20.878125 196.146872)scale(0.1 -0.1)\">\r\n       <use xlink:href=\"#DejaVuSans-30\"/>\r\n       <use x=\"63.623047\" xlink:href=\"#DejaVuSans-2e\"/>\r\n       <use x=\"95.410156\" xlink:href=\"#DejaVuSans-30\"/>\r\n       <use x=\"159.033203\" xlink:href=\"#DejaVuSans-30\"/>\r\n       <use x=\"222.65625\" xlink:href=\"#DejaVuSans-35\"/>\r\n      </g>\r\n     </g>\r\n    </g>\r\n    <g id=\"ytick_3\">\r\n     <g id=\"line2d_26\">\r\n      <g>\r\n       <use style=\"stroke:#000000;stroke-width:0.8;\" x=\"56.50625\" xlink:href=\"#mcd7edc8043\" y=\"160.055306\"/>\r\n      </g>\r\n     </g>\r\n     <g id=\"text_27\">\r\n      <!-- 0.010 -->\r\n      <g transform=\"translate(20.878125 163.854524)scale(0.1 -0.1)\">\r\n       <use xlink:href=\"#DejaVuSans-30\"/>\r\n       <use x=\"63.623047\" xlink:href=\"#DejaVuSans-2e\"/>\r\n       <use x=\"95.410156\" xlink:href=\"#DejaVuSans-30\"/>\r\n       <use x=\"159.033203\" xlink:href=\"#DejaVuSans-31\"/>\r\n       <use x=\"222.65625\" xlink:href=\"#DejaVuSans-30\"/>\r\n      </g>\r\n     </g>\r\n    </g>\r\n    <g id=\"ytick_4\">\r\n     <g id=\"line2d_27\">\r\n      <g>\r\n       <use style=\"stroke:#000000;stroke-width:0.8;\" x=\"56.50625\" xlink:href=\"#mcd7edc8043\" y=\"127.762958\"/>\r\n      </g>\r\n     </g>\r\n     <g id=\"text_28\">\r\n      <!-- 0.015 -->\r\n      <g transform=\"translate(20.878125 131.562177)scale(0.1 -0.1)\">\r\n       <use xlink:href=\"#DejaVuSans-30\"/>\r\n       <use x=\"63.623047\" xlink:href=\"#DejaVuSans-2e\"/>\r\n       <use x=\"95.410156\" xlink:href=\"#DejaVuSans-30\"/>\r\n       <use x=\"159.033203\" xlink:href=\"#DejaVuSans-31\"/>\r\n       <use x=\"222.65625\" xlink:href=\"#DejaVuSans-35\"/>\r\n      </g>\r\n     </g>\r\n    </g>\r\n    <g id=\"ytick_5\">\r\n     <g id=\"line2d_28\">\r\n      <g>\r\n       <use style=\"stroke:#000000;stroke-width:0.8;\" x=\"56.50625\" xlink:href=\"#mcd7edc8043\" y=\"95.470611\"/>\r\n      </g>\r\n     </g>\r\n     <g id=\"text_29\">\r\n      <!-- 0.020 -->\r\n      <g transform=\"translate(20.878125 99.26983)scale(0.1 -0.1)\">\r\n       <use xlink:href=\"#DejaVuSans-30\"/>\r\n       <use x=\"63.623047\" xlink:href=\"#DejaVuSans-2e\"/>\r\n       <use x=\"95.410156\" xlink:href=\"#DejaVuSans-30\"/>\r\n       <use x=\"159.033203\" xlink:href=\"#DejaVuSans-32\"/>\r\n       <use x=\"222.65625\" xlink:href=\"#DejaVuSans-30\"/>\r\n      </g>\r\n     </g>\r\n    </g>\r\n    <g id=\"ytick_6\">\r\n     <g id=\"line2d_29\">\r\n      <g>\r\n       <use style=\"stroke:#000000;stroke-width:0.8;\" x=\"56.50625\" xlink:href=\"#mcd7edc8043\" y=\"63.178264\"/>\r\n      </g>\r\n     </g>\r\n     <g id=\"text_30\">\r\n      <!-- 0.025 -->\r\n      <g transform=\"translate(20.878125 66.977483)scale(0.1 -0.1)\">\r\n       <use xlink:href=\"#DejaVuSans-30\"/>\r\n       <use x=\"63.623047\" xlink:href=\"#DejaVuSans-2e\"/>\r\n       <use x=\"95.410156\" xlink:href=\"#DejaVuSans-30\"/>\r\n       <use x=\"159.033203\" xlink:href=\"#DejaVuSans-32\"/>\r\n       <use x=\"222.65625\" xlink:href=\"#DejaVuSans-35\"/>\r\n      </g>\r\n     </g>\r\n    </g>\r\n    <g id=\"ytick_7\">\r\n     <g id=\"line2d_30\">\r\n      <g>\r\n       <use style=\"stroke:#000000;stroke-width:0.8;\" x=\"56.50625\" xlink:href=\"#mcd7edc8043\" y=\"30.885917\"/>\r\n      </g>\r\n     </g>\r\n     <g id=\"text_31\">\r\n      <!-- 0.030 -->\r\n      <g transform=\"translate(20.878125 34.685136)scale(0.1 -0.1)\">\r\n       <use xlink:href=\"#DejaVuSans-30\"/>\r\n       <use x=\"63.623047\" xlink:href=\"#DejaVuSans-2e\"/>\r\n       <use x=\"95.410156\" xlink:href=\"#DejaVuSans-30\"/>\r\n       <use x=\"159.033203\" xlink:href=\"#DejaVuSans-33\"/>\r\n       <use x=\"222.65625\" xlink:href=\"#DejaVuSans-30\"/>\r\n      </g>\r\n     </g>\r\n    </g>\r\n    <g id=\"text_32\">\r\n     <!-- Density -->\r\n     <g transform=\"translate(14.798437 134.928594)rotate(-90)scale(0.1 -0.1)\">\r\n      <defs>\r\n       <path d=\"M 1259 4147 \r\nL 1259 519 \r\nL 2022 519 \r\nQ 2988 519 3436 956 \r\nQ 3884 1394 3884 2338 \r\nQ 3884 3275 3436 3711 \r\nQ 2988 4147 2022 4147 \r\nL 1259 4147 \r\nz\r\nM 628 4666 \r\nL 1925 4666 \r\nQ 3281 4666 3915 4102 \r\nQ 4550 3538 4550 2338 \r\nQ 4550 1131 3912 565 \r\nQ 3275 0 1925 0 \r\nL 628 0 \r\nL 628 4666 \r\nz\r\n\" id=\"DejaVuSans-44\" transform=\"scale(0.015625)\"/>\r\n       <path d=\"M 2834 3397 \r\nL 2834 2853 \r\nQ 2591 2978 2328 3040 \r\nQ 2066 3103 1784 3103 \r\nQ 1356 3103 1142 2972 \r\nQ 928 2841 928 2578 \r\nQ 928 2378 1081 2264 \r\nQ 1234 2150 1697 2047 \r\nL 1894 2003 \r\nQ 2506 1872 2764 1633 \r\nQ 3022 1394 3022 966 \r\nQ 3022 478 2636 193 \r\nQ 2250 -91 1575 -91 \r\nQ 1294 -91 989 -36 \r\nQ 684 19 347 128 \r\nL 347 722 \r\nQ 666 556 975 473 \r\nQ 1284 391 1588 391 \r\nQ 1994 391 2212 530 \r\nQ 2431 669 2431 922 \r\nQ 2431 1156 2273 1281 \r\nQ 2116 1406 1581 1522 \r\nL 1381 1569 \r\nQ 847 1681 609 1914 \r\nQ 372 2147 372 2553 \r\nQ 372 3047 722 3315 \r\nQ 1072 3584 1716 3584 \r\nQ 2034 3584 2315 3537 \r\nQ 2597 3491 2834 3397 \r\nz\r\n\" id=\"DejaVuSans-73\" transform=\"scale(0.015625)\"/>\r\n      </defs>\r\n      <use xlink:href=\"#DejaVuSans-44\"/>\r\n      <use x=\"77.001953\" xlink:href=\"#DejaVuSans-65\"/>\r\n      <use x=\"138.525391\" xlink:href=\"#DejaVuSans-6e\"/>\r\n      <use x=\"201.904297\" xlink:href=\"#DejaVuSans-73\"/>\r\n      <use x=\"254.003906\" xlink:href=\"#DejaVuSans-69\"/>\r\n      <use x=\"281.787109\" xlink:href=\"#DejaVuSans-74\"/>\r\n      <use x=\"320.996094\" xlink:href=\"#DejaVuSans-79\"/>\r\n     </g>\r\n    </g>\r\n   </g>\r\n   <g id=\"line2d_31\">\r\n    <path clip-path=\"url(#p6344b1e5f8)\" d=\"M -1 224.606461 \r\nL 13.083579 224.460998 \r\nL 22.208395 224.201773 \r\nL 31.333211 223.710082 \r\nL 38.176824 223.141575 \r\nL 45.020436 222.382758 \r\nL 51.864048 221.430352 \r\nL 58.70766 220.273335 \r\nL 65.551272 218.85428 \r\nL 70.11368 217.69469 \r\nL 74.676088 216.285149 \r\nL 79.238497 214.537386 \r\nL 83.800905 212.357866 \r\nL 86.082109 211.080526 \r\nL 88.363313 209.668701 \r\nL 90.644517 208.119589 \r\nL 95.206925 204.621592 \r\nL 99.769333 200.667267 \r\nL 111.175353 190.189671 \r\nL 113.456557 188.307914 \r\nL 115.737761 186.602217 \r\nL 118.018965 185.115348 \r\nL 120.30017 183.885381 \r\nL 122.581374 182.943784 \r\nL 124.862578 182.313775 \r\nL 127.143782 182.009048 \r\nL 129.424986 182.032975 \r\nL 131.70619 182.378321 \r\nL 133.987394 183.027514 \r\nL 136.268598 183.953441 \r\nL 138.549802 185.120717 \r\nL 140.831006 186.487338 \r\nL 145.393414 189.62921 \r\nL 152.237026 194.626843 \r\nL 156.799434 197.628558 \r\nL 159.080638 198.924904 \r\nL 161.361843 200.051981 \r\nL 163.643047 200.992668 \r\nL 165.924251 201.735314 \r\nL 168.205455 202.272945 \r\nL 170.486659 202.602293 \r\nL 172.767863 202.72273 \r\nL 175.049067 202.635208 \r\nL 177.330271 202.341245 \r\nL 179.611475 201.842053 \r\nL 181.892679 201.137826 \r\nL 184.173883 200.227236 \r\nL 186.455087 199.107139 \r\nL 188.736291 197.772504 \r\nL 191.017495 196.216552 \r\nL 193.298699 194.431078 \r\nL 195.579903 192.406947 \r\nL 197.861107 190.134721 \r\nL 200.142311 187.605404 \r\nL 202.423516 184.811249 \r\nL 204.70472 181.746624 \r\nL 206.985924 178.408884 \r\nL 209.267128 174.799226 \r\nL 211.548332 170.923488 \r\nL 213.829536 166.79285 \r\nL 218.391944 157.841593 \r\nL 222.954352 148.158819 \r\nL 236.641576 118.231987 \r\nL 238.92278 113.674253 \r\nL 241.203984 109.378529 \r\nL 243.485189 105.38637 \r\nL 245.766393 101.730628 \r\nL 248.047597 98.433811 \r\nL 250.328801 95.506812 \r\nL 252.610005 92.948107 \r\nL 254.891209 90.743489 \r\nL 257.172413 88.866367 \r\nL 259.453617 87.278647 \r\nL 261.734821 85.932174 \r\nL 266.297229 83.732145 \r\nL 273.140841 80.706616 \r\nL 275.422045 79.52394 \r\nL 277.703249 78.168379 \r\nL 279.984453 76.603998 \r\nL 282.265657 74.808444 \r\nL 284.546862 72.774582 \r\nL 286.828066 70.511504 \r\nL 291.390474 65.416192 \r\nL 300.51529 54.584343 \r\nL 302.796494 52.201934 \r\nL 305.077698 50.123749 \r\nL 307.358902 48.431773 \r\nL 309.640106 47.198882 \r\nL 311.92131 46.485503 \r\nL 314.202514 46.336952 \r\nL 316.483718 46.781632 \r\nL 318.764922 47.830199 \r\nL 321.046126 49.475729 \r\nL 323.32733 51.694861 \r\nL 325.608535 54.4498 \r\nL 327.889739 57.691011 \r\nL 330.170943 61.360388 \r\nL 332.452147 65.39466 \r\nL 337.014555 74.2991 \r\nL 341.576963 83.91641 \r\nL 368.951412 143.080196 \r\nL 378.076228 162.291917 \r\nL 384.91984 176.135824 \r\nL 389.482248 184.784731 \r\nL 394.044656 192.741458 \r\nL 396.32586 196.404135 \r\nL 399.50625 201.084909 \r\nL 399.50625 201.084909 \r\n\" style=\"fill:none;stroke:#1f77b4;stroke-linecap:square;stroke-width:1.5;\"/>\r\n   </g>\r\n   <g id=\"patch_18\">\r\n    <path d=\"M 56.50625 224.64 \r\nL 56.50625 7.2 \r\n\" style=\"fill:none;stroke:#000000;stroke-linecap:square;stroke-linejoin:miter;stroke-width:0.8;\"/>\r\n   </g>\r\n   <g id=\"patch_19\">\r\n    <path d=\"M 391.30625 224.64 \r\nL 391.30625 7.2 \r\n\" style=\"fill:none;stroke:#000000;stroke-linecap:square;stroke-linejoin:miter;stroke-width:0.8;\"/>\r\n   </g>\r\n   <g id=\"patch_20\">\r\n    <path d=\"M 56.50625 224.64 \r\nL 391.30625 224.64 \r\n\" style=\"fill:none;stroke:#000000;stroke-linecap:square;stroke-linejoin:miter;stroke-width:0.8;\"/>\r\n   </g>\r\n   <g id=\"patch_21\">\r\n    <path d=\"M 56.50625 7.2 \r\nL 391.30625 7.2 \r\n\" style=\"fill:none;stroke:#000000;stroke-linecap:square;stroke-linejoin:miter;stroke-width:0.8;\"/>\r\n   </g>\r\n  </g>\r\n </g>\r\n <defs>\r\n  <clipPath id=\"p6344b1e5f8\">\r\n   <rect height=\"217.44\" width=\"334.8\" x=\"56.50625\" y=\"7.2\"/>\r\n  </clipPath>\r\n </defs>\r\n</svg>\r\n",
      "image/png": "[encoded data removed]"
     },
     "metadata": {
      "needs_background": "light"
     }
    }
   ],
   "metadata": {}
  },
  {
   "cell_type": "code",
   "execution_count": 5,
   "source": [
    "clean_df1 = (df.groupby('ou_code')['operation_day'].count() < 24).reset_index()\r\n",
    "clean_df1.columns = ['ou_code', 'flag1']\r\n",
    "df = clean_df1.merge(df, on = 'ou_code', how = 'inner')\r\n",
    "df = df[df['flag1'] == False]\r\n",
    "\r\n",
    "clean_df2 = df.groupby('ou_code')[[\r\n",
    "    'inbound_receive_qty', 'outbound_shipped_qty'\r\n",
    "    ]].sum().reset_index()\r\n",
    "clean_df2['sum'] = clean_df2.sum(axis = 1)\r\n",
    "clean_df2 = clean_df2[clean_df2['sum'] != 0]\r\n",
    "df = df[df['ou_code'].isin(clean_df2.ou_code)]\r\n",
    "\r\n",
    "clean_df3 = (df.groupby('ou_code')[[\r\n",
    "    'total_working_hour'\r\n",
    "    ]].sum() == 0).reset_index()\r\n",
    "clean_df3 = clean_df3[clean_df3['total_working_hour'] == False]\r\n",
    "df = df[df['ou_code'].isin(clean_df3.ou_code)]\r\n",
    "df= df.reset_index()\r\n"
   ],
   "outputs": [],
   "metadata": {}
  },
  {
   "cell_type": "code",
   "execution_count": 6,
   "source": [
    "df = df[[\r\n",
    "    'ou_code','operation_day', 'inbound_receive_qty', 'is_holiday',\r\n",
    "    'outbound_shipped_qty','total_head_count','total_working_hour',\r\n",
    "    'outsource_working_hour', 'perm_working_hour',\r\n",
    "    'other_working_hour', 'direct_working_hour', 'indirect_working_hour',\r\n",
    "    'outbound_inbound_qty_ratio', 'perm_working_hour_ratio',\r\n",
    "    'working_hour_per_head', 'location_usage_rate', 'location_idle_rate']]\r\n",
    "df = df.fillna(0)\r\n",
    "df = df[df['total_working_hour'] != 0]"
   ],
   "outputs": [],
   "metadata": {}
  },
  {
   "cell_type": "code",
   "execution_count": 8,
   "source": [
    "\r\n",
    "def mnb_kmeans_in(ou_code):\r\n",
    "        \"\"\"\r\n",
    "        mini batch kmeans, inbound, outbound, working hour data.\r\n",
    "        simple algorithm, adding cols {max, min, mean, median, 75 quantile, distance to kernal}\r\n",
    "        \"\"\"\r\n",
    "\r\n",
    "        alg1 = cluster.MiniBatchKMeans(n_clusters = 4, random_state = 529)\r\n",
    "        \"\"\"\r\n",
    "        null data fill\r\n",
    "        \"\"\"\r\n",
    "        df_fin = pd.DataFrame()\r\n",
    "        df_sub = df[df['ou_code'] == ou_code][['ou_code', 'operation_day', 'inbound_receive_qty']]        \r\n",
    "        df_fin = df_fin.append(df_sub[df_sub['inbound_receive_qty'] == 0])\r\n",
    "        df_fin['kernal_core1' ] = -1\r\n",
    "        df_fin['kernal_value1'] = 0\r\n",
    "        \"\"\"\r\n",
    "        not null data training\r\n",
    "        \"\"\"\r\n",
    "        df_rec = df_sub[df_sub['inbound_receive_qty'] != 0]      \r\n",
    "        hist1 = alg1.fit(np.reshape(list(df_rec['inbound_receive_qty']), (-1,1)))\r\n",
    "        df_rec['kernal_core1'] = hist1.labels_\r\n",
    "        cl_1 = pd.concat(\r\n",
    "                [pd.DataFrame(hist1.cluster_centers_), pd.Series(np.arange(0,4))], axis = 1\r\n",
    "                )\r\n",
    "        \r\n",
    "        cl_1.columns = ['kernal_value1', 'kernal_core1']\r\n",
    "        df_rec = df_rec.merge(\r\n",
    "                cl_1, on = 'kernal_core1', how = 'inner'\r\n",
    "                )\r\n",
    "        \r\n",
    "        \"\"\"\r\n",
    "        merging\r\n",
    "        \"\"\"\r\n",
    "        df_fin = df_fin.append(df_rec).reset_index().drop(['index'], axis = 1)\r\n",
    "\r\n",
    "        # df_fin['kind'] = 'inbound'\r\n",
    "\r\n",
    "        return df_fin\r\n",
    "\r\n",
    "\r\n",
    "def mnb_kmeans_out(ou_code):\r\n",
    "        alg1 = cluster.MiniBatchKMeans(n_clusters = 4, random_state = 707)\r\n",
    "        df_fin = pd.DataFrame()\r\n",
    "        df_sub = df[df['ou_code'] == ou_code][['ou_code', 'operation_day', 'outbound_shipped_qty']]        \r\n",
    "        df_fin = df_fin.append(df_sub[df_sub['outbound_shipped_qty'] == 0])\r\n",
    "        df_fin['kernal_core2' ] = -1\r\n",
    "        df_fin['kernal_value2'] = 0\r\n",
    "        df_rec = df_sub[df_sub['outbound_shipped_qty'] != 0]\r\n",
    "\r\n",
    "        hist1 = alg1.fit(np.reshape(list(df_rec['outbound_shipped_qty']), (-1,1)))\r\n",
    "\r\n",
    "        df_rec['kernal_core2'] = hist1.labels_\r\n",
    "        cl_1 = pd.concat(\r\n",
    "                [pd.DataFrame(hist1.cluster_centers_), pd.Series(np.arange(0,4))], axis = 1\r\n",
    "                )\r\n",
    "        \r\n",
    "        cl_1.columns = ['kernal_value2', 'kernal_core2']\r\n",
    "\r\n",
    "        df_rec = df_rec.merge(\r\n",
    "                cl_1, on = 'kernal_core2', how = 'inner'\r\n",
    "                )\r\n",
    "        df_fin = df_fin.append(df_rec).reset_index().drop(['index'], axis = 1)\r\n",
    "        # df_fin['kind'] = 'outbound'\r\n",
    "        return df_fin\r\n",
    "\r\n",
    "def mnb_kmeans_hr(ou_code):\r\n",
    "        alg1 = cluster.MiniBatchKMeans(n_clusters = 4, random_state = 5290707)\r\n",
    "        df_fin = pd.DataFrame()\r\n",
    "        df_sub = df[df['ou_code'] == ou_code][['ou_code', 'operation_day', 'total_working_hour']]        \r\n",
    "        df_fin = df_fin.append(df_sub[df_sub['total_working_hour'] == 0])\r\n",
    "        df_fin['kernal_core3' ] = -1\r\n",
    "        df_fin['kernal_value3'] = 0\r\n",
    "        df_rec = df_sub[df_sub['total_working_hour'] != 0]\r\n",
    "\r\n",
    "        hist1 = alg1.fit(np.reshape(list(df_rec['total_working_hour']), (-1,1)))\r\n",
    "\r\n",
    "        df_rec['kernal_core3'] = hist1.labels_\r\n",
    "        cl_1 = pd.concat(\r\n",
    "                [pd.DataFrame(hist1.cluster_centers_), pd.Series(np.arange(0,4))], axis = 1\r\n",
    "                )\r\n",
    "        \r\n",
    "        cl_1.columns = ['kernal_value3', 'kernal_core3']\r\n",
    "\r\n",
    "        df_rec = df_rec.merge(\r\n",
    "                cl_1, on = 'kernal_core3', how = 'inner'\r\n",
    "                )\r\n",
    "        df_fin = df_fin.append(df_rec).reset_index().drop(['index'], axis = 1)\r\n",
    "\r\n",
    "        # df_fin['kind'] = 'working_hour'\r\n",
    "        # df_fin['max_wh']    = df_fin.groupby('kernal_core3')['total_working_hour'].transform('max')\r\n",
    "        # df_fin['min_wh']    = df_fin.groupby('kernal_core3')['total_working_hour'].transform('min')\r\n",
    "        # df_fin['median_wh'] = df_fin.groupby('kernal_core3')['total_working_hour'].transform('median')\r\n",
    "        # df_fin['mean_wh']   = df_fin.groupby('kernal_core3')['total_working_hour'].transform('mean')\r\n",
    "        # df_fin['qt_66_wh']  = df_fin.groupby('kernal_core3')['total_working_hour'].transform('quantile', .66)\r\n",
    "        # df_fin['qt_75_wh']  = df_fin.groupby('kernal_core3')['total_working_hour'].transform('quantile', .75)\r\n",
    "        \"\"\"\r\n",
    "        组内kernal distance \r\n",
    "        \"\"\"\r\n",
    "        df_fin['dis_core']  = df_fin.groupby(\r\n",
    "                'kernal_core3', as_index = False, observed = True\r\n",
    "                )['total_working_hour','kernal_value3'].agg('diff', axis = 1).drop('total_working_hour', axis = 1).round(3)\r\n",
    "        return df_fin\r\n",
    "   "
   ],
   "outputs": [],
   "metadata": {}
  },
  {
   "cell_type": "code",
   "execution_count": 9,
   "source": [
    "ou_codes = list(df['ou_code'].unique())\r\n",
    "p = list()\r\n",
    "for i in ou_codes:\r\n",
    "    try: \r\n",
    "        mnb_kmeans_in(i)\r\n",
    "        mnb_kmeans_out(i)\r\n",
    "        mnb_kmeans_hr(i)\r\n",
    "    except:\r\n",
    "        \r\n",
    "        p.append(i)\r\n",
    "\r\n",
    "\r\n",
    "for i in p:\r\n",
    "    ou_codes.remove(i)\r\n",
    " "
   ],
   "outputs": [],
   "metadata": {}
  },
  {
   "cell_type": "code",
   "execution_count": 11,
   "source": [
    "p"
   ],
   "outputs": [
    {
     "output_type": "execute_result",
     "data": {
      "text/plain": [
       "['CN-009',\n",
       " 'CN-030',\n",
       " 'CN-057',\n",
       " 'CN-070',\n",
       " 'CN-149',\n",
       " 'CN-177',\n",
       " 'CN-189',\n",
       " 'CN-202',\n",
       " 'CN-242',\n",
       " 'CN-246',\n",
       " 'CN-258',\n",
       " 'CN-306',\n",
       " 'CN-374',\n",
       " 'CN-376',\n",
       " 'CN-377',\n",
       " 'CN-378',\n",
       " 'CN-380',\n",
       " 'CN-381',\n",
       " 'CN-411',\n",
       " 'CN-417',\n",
       " 'CN-421',\n",
       " 'CN-425',\n",
       " 'HK-008',\n",
       " 'HK-015',\n",
       " 'HK-051']"
      ]
     },
     "metadata": {},
     "execution_count": 11
    }
   ],
   "metadata": {}
  },
  {
   "cell_type": "code",
   "execution_count": 12,
   "source": [
    "# ou_codes = list(df['ou_code'].unique())\r\n",
    "# ou_codes.remove('CN-009')\r\n",
    "# ou_codes.remove('CN-070')\r\n",
    "# ou_codes.remove('CN-149')\r\n",
    "# ou_codes.remove('CN-189')\r\n",
    "# ou_codes.remove('CN-242')\r\n",
    "# ou_codes.remove('CN-374')\r\n",
    "# ou_codes.remove('CN-378')\r\n",
    "# ou_codes.remove('CN-417')\r\n",
    "# ou_codes.remove('HK-015')\r\n",
    "# # ou_codes = [i for i in ou_codes if re.match(r'HK', i) is None] \r\n",
    "# ou_codes"
   ],
   "outputs": [],
   "metadata": {}
  },
  {
   "cell_type": "code",
   "execution_count": 13,
   "source": [
    "%%time\r\n",
    "from functools import reduce\r\n",
    "df_final = pd.DataFrame()\r\n",
    "for i in ou_codes:\r\n",
    "        df_final = df_final.append(\r\n",
    "            reduce(\r\n",
    "                lambda left,right: pd.merge(\r\n",
    "                    left,right,on= ['ou_code', 'operation_day']\r\n",
    "                ), [mnb_kmeans_in(i), mnb_kmeans_out(i), mnb_kmeans_hr(i)]\r\n",
    "                )\r\n",
    "    )\r\n",
    "\r\n",
    "\"\"\"\r\n",
    "for loop , 对所有ou进行独立的kmeans on inb qty and outb qty\r\n",
    "随后merge 原始表\r\n",
    "\"\"\"\r\n",
    "\r\n",
    "# np.setdiff1d(ou_codes,df_final.ou_code.unique())\r\n",
    "df_final = df_final.merge(\r\n",
    "    df[['ou_code','operation_day','outbound_inbound_qty_ratio','working_hour_per_head','total_head_count','is_holiday']],\r\n",
    "    on = ['ou_code', 'operation_day'],\r\n",
    "    how = 'left'\r\n",
    "    )\r\n"
   ],
   "outputs": [
    {
     "output_type": "stream",
     "name": "stdout",
     "text": [
      "Wall time: 10.1 s\n"
     ]
    }
   ],
   "metadata": {}
  },
  {
   "cell_type": "code",
   "execution_count": 14,
   "source": [
    "df_final"
   ],
   "outputs": [
    {
     "output_type": "execute_result",
     "data": {
      "text/plain": [
       "     ou_code  operation_day  inbound_receive_qty  kernal_core1  kernal_value1  \\\n",
       "0     CN-001       20210619                  0.0            -1       0.000000   \n",
       "1     CN-001       20210626                  0.0            -1       0.000000   \n",
       "2     CN-001       20210625                  0.0            -1       0.000000   \n",
       "3     CN-001       20210705                  0.0            -1       0.000000   \n",
       "4     CN-001       20210616                  0.0            -1       0.000000   \n",
       "...      ...            ...                  ...           ...            ...   \n",
       "1239  HK-115       20210716                469.0             0    1829.564597   \n",
       "1240  HK-115       20210728               2490.0             0    1829.564597   \n",
       "1241  HK-115       20210724                240.0             0    1829.564597   \n",
       "1242  HK-115       20210715               2021.0             0    1829.564597   \n",
       "1243  HK-115       20210720              58319.0             1   58319.000000   \n",
       "\n",
       "      outbound_shipped_qty  kernal_core2  kernal_value2  total_working_hour  \\\n",
       "0                      0.0            -1       0.000000               30.00   \n",
       "1                      0.0            -1       0.000000                9.50   \n",
       "2                  12819.0             2   13556.152941               32.12   \n",
       "3                      0.0            -1       0.000000               31.58   \n",
       "4                   7321.0             1    2658.657561               31.60   \n",
       "...                    ...           ...            ...                 ...   \n",
       "1239               10006.0             2    7769.547289               81.32   \n",
       "1240                8298.0             2    7769.547289               58.21   \n",
       "1241                2190.0             0    4103.392744               29.74   \n",
       "1242                6827.0             2    7769.547289               82.05   \n",
       "1243                6729.0             2    7769.547289               69.37   \n",
       "\n",
       "      kernal_core3  kernal_value3  dis_core  outbound_inbound_qty_ratio  \\\n",
       "0                1      31.744802     1.745                    0.000000   \n",
       "1                2       9.500000     0.000                    0.000000   \n",
       "2                1      31.744802    -0.375                    0.000000   \n",
       "3                1      31.744802     0.165                    0.000000   \n",
       "4                1      31.744802     0.145                    0.000000   \n",
       "...            ...            ...       ...                         ...   \n",
       "1239             1      83.009650     1.690                   21.334755   \n",
       "1240             3      62.840374     4.630                    3.332530   \n",
       "1241             2      27.283875    -2.456                    9.125000   \n",
       "1242             1      83.009650     0.960                    3.378031   \n",
       "1243             3      62.840374    -6.530                    0.115383   \n",
       "\n",
       "      working_hour_per_head  total_head_count  is_holiday  \n",
       "0                 10.000000               3.0           1  \n",
       "1                  9.500000               1.0           1  \n",
       "2                  8.030000               4.0           0  \n",
       "3                  7.895000               4.0           0  \n",
       "4                  7.900000               4.0           0  \n",
       "...                     ...               ...         ...  \n",
       "1239               9.035556               9.0           0  \n",
       "1240               9.701667               6.0           0  \n",
       "1241               7.435000               4.0           1  \n",
       "1242               9.116667               9.0           0  \n",
       "1243               8.671250               8.0           0  \n",
       "\n",
       "[1244 rows x 16 columns]"
      ],
      "text/html": [
       "<div>\n",
       "<style scoped>\n",
       "    .dataframe tbody tr th:only-of-type {\n",
       "        vertical-align: middle;\n",
       "    }\n",
       "\n",
       "    .dataframe tbody tr th {\n",
       "        vertical-align: top;\n",
       "    }\n",
       "\n",
       "    .dataframe thead th {\n",
       "        text-align: right;\n",
       "    }\n",
       "</style>\n",
       "<table border=\"1\" class=\"dataframe\">\n",
       "  <thead>\n",
       "    <tr style=\"text-align: right;\">\n",
       "      <th></th>\n",
       "      <th>ou_code</th>\n",
       "      <th>operation_day</th>\n",
       "      <th>inbound_receive_qty</th>\n",
       "      <th>kernal_core1</th>\n",
       "      <th>kernal_value1</th>\n",
       "      <th>outbound_shipped_qty</th>\n",
       "      <th>kernal_core2</th>\n",
       "      <th>kernal_value2</th>\n",
       "      <th>total_working_hour</th>\n",
       "      <th>kernal_core3</th>\n",
       "      <th>kernal_value3</th>\n",
       "      <th>dis_core</th>\n",
       "      <th>outbound_inbound_qty_ratio</th>\n",
       "      <th>working_hour_per_head</th>\n",
       "      <th>total_head_count</th>\n",
       "      <th>is_holiday</th>\n",
       "    </tr>\n",
       "  </thead>\n",
       "  <tbody>\n",
       "    <tr>\n",
       "      <th>0</th>\n",
       "      <td>CN-001</td>\n",
       "      <td>20210619</td>\n",
       "      <td>0.0</td>\n",
       "      <td>-1</td>\n",
       "      <td>0.000000</td>\n",
       "      <td>0.0</td>\n",
       "      <td>-1</td>\n",
       "      <td>0.000000</td>\n",
       "      <td>30.00</td>\n",
       "      <td>1</td>\n",
       "      <td>31.744802</td>\n",
       "      <td>1.745</td>\n",
       "      <td>0.000000</td>\n",
       "      <td>10.000000</td>\n",
       "      <td>3.0</td>\n",
       "      <td>1</td>\n",
       "    </tr>\n",
       "    <tr>\n",
       "      <th>1</th>\n",
       "      <td>CN-001</td>\n",
       "      <td>20210626</td>\n",
       "      <td>0.0</td>\n",
       "      <td>-1</td>\n",
       "      <td>0.000000</td>\n",
       "      <td>0.0</td>\n",
       "      <td>-1</td>\n",
       "      <td>0.000000</td>\n",
       "      <td>9.50</td>\n",
       "      <td>2</td>\n",
       "      <td>9.500000</td>\n",
       "      <td>0.000</td>\n",
       "      <td>0.000000</td>\n",
       "      <td>9.500000</td>\n",
       "      <td>1.0</td>\n",
       "      <td>1</td>\n",
       "    </tr>\n",
       "    <tr>\n",
       "      <th>2</th>\n",
       "      <td>CN-001</td>\n",
       "      <td>20210625</td>\n",
       "      <td>0.0</td>\n",
       "      <td>-1</td>\n",
       "      <td>0.000000</td>\n",
       "      <td>12819.0</td>\n",
       "      <td>2</td>\n",
       "      <td>13556.152941</td>\n",
       "      <td>32.12</td>\n",
       "      <td>1</td>\n",
       "      <td>31.744802</td>\n",
       "      <td>-0.375</td>\n",
       "      <td>0.000000</td>\n",
       "      <td>8.030000</td>\n",
       "      <td>4.0</td>\n",
       "      <td>0</td>\n",
       "    </tr>\n",
       "    <tr>\n",
       "      <th>3</th>\n",
       "      <td>CN-001</td>\n",
       "      <td>20210705</td>\n",
       "      <td>0.0</td>\n",
       "      <td>-1</td>\n",
       "      <td>0.000000</td>\n",
       "      <td>0.0</td>\n",
       "      <td>-1</td>\n",
       "      <td>0.000000</td>\n",
       "      <td>31.58</td>\n",
       "      <td>1</td>\n",
       "      <td>31.744802</td>\n",
       "      <td>0.165</td>\n",
       "      <td>0.000000</td>\n",
       "      <td>7.895000</td>\n",
       "      <td>4.0</td>\n",
       "      <td>0</td>\n",
       "    </tr>\n",
       "    <tr>\n",
       "      <th>4</th>\n",
       "      <td>CN-001</td>\n",
       "      <td>20210616</td>\n",
       "      <td>0.0</td>\n",
       "      <td>-1</td>\n",
       "      <td>0.000000</td>\n",
       "      <td>7321.0</td>\n",
       "      <td>1</td>\n",
       "      <td>2658.657561</td>\n",
       "      <td>31.60</td>\n",
       "      <td>1</td>\n",
       "      <td>31.744802</td>\n",
       "      <td>0.145</td>\n",
       "      <td>0.000000</td>\n",
       "      <td>7.900000</td>\n",
       "      <td>4.0</td>\n",
       "      <td>0</td>\n",
       "    </tr>\n",
       "    <tr>\n",
       "      <th>...</th>\n",
       "      <td>...</td>\n",
       "      <td>...</td>\n",
       "      <td>...</td>\n",
       "      <td>...</td>\n",
       "      <td>...</td>\n",
       "      <td>...</td>\n",
       "      <td>...</td>\n",
       "      <td>...</td>\n",
       "      <td>...</td>\n",
       "      <td>...</td>\n",
       "      <td>...</td>\n",
       "      <td>...</td>\n",
       "      <td>...</td>\n",
       "      <td>...</td>\n",
       "      <td>...</td>\n",
       "      <td>...</td>\n",
       "    </tr>\n",
       "    <tr>\n",
       "      <th>1239</th>\n",
       "      <td>HK-115</td>\n",
       "      <td>20210716</td>\n",
       "      <td>469.0</td>\n",
       "      <td>0</td>\n",
       "      <td>1829.564597</td>\n",
       "      <td>10006.0</td>\n",
       "      <td>2</td>\n",
       "      <td>7769.547289</td>\n",
       "      <td>81.32</td>\n",
       "      <td>1</td>\n",
       "      <td>83.009650</td>\n",
       "      <td>1.690</td>\n",
       "      <td>21.334755</td>\n",
       "      <td>9.035556</td>\n",
       "      <td>9.0</td>\n",
       "      <td>0</td>\n",
       "    </tr>\n",
       "    <tr>\n",
       "      <th>1240</th>\n",
       "      <td>HK-115</td>\n",
       "      <td>20210728</td>\n",
       "      <td>2490.0</td>\n",
       "      <td>0</td>\n",
       "      <td>1829.564597</td>\n",
       "      <td>8298.0</td>\n",
       "      <td>2</td>\n",
       "      <td>7769.547289</td>\n",
       "      <td>58.21</td>\n",
       "      <td>3</td>\n",
       "      <td>62.840374</td>\n",
       "      <td>4.630</td>\n",
       "      <td>3.332530</td>\n",
       "      <td>9.701667</td>\n",
       "      <td>6.0</td>\n",
       "      <td>0</td>\n",
       "    </tr>\n",
       "    <tr>\n",
       "      <th>1241</th>\n",
       "      <td>HK-115</td>\n",
       "      <td>20210724</td>\n",
       "      <td>240.0</td>\n",
       "      <td>0</td>\n",
       "      <td>1829.564597</td>\n",
       "      <td>2190.0</td>\n",
       "      <td>0</td>\n",
       "      <td>4103.392744</td>\n",
       "      <td>29.74</td>\n",
       "      <td>2</td>\n",
       "      <td>27.283875</td>\n",
       "      <td>-2.456</td>\n",
       "      <td>9.125000</td>\n",
       "      <td>7.435000</td>\n",
       "      <td>4.0</td>\n",
       "      <td>1</td>\n",
       "    </tr>\n",
       "    <tr>\n",
       "      <th>1242</th>\n",
       "      <td>HK-115</td>\n",
       "      <td>20210715</td>\n",
       "      <td>2021.0</td>\n",
       "      <td>0</td>\n",
       "      <td>1829.564597</td>\n",
       "      <td>6827.0</td>\n",
       "      <td>2</td>\n",
       "      <td>7769.547289</td>\n",
       "      <td>82.05</td>\n",
       "      <td>1</td>\n",
       "      <td>83.009650</td>\n",
       "      <td>0.960</td>\n",
       "      <td>3.378031</td>\n",
       "      <td>9.116667</td>\n",
       "      <td>9.0</td>\n",
       "      <td>0</td>\n",
       "    </tr>\n",
       "    <tr>\n",
       "      <th>1243</th>\n",
       "      <td>HK-115</td>\n",
       "      <td>20210720</td>\n",
       "      <td>58319.0</td>\n",
       "      <td>1</td>\n",
       "      <td>58319.000000</td>\n",
       "      <td>6729.0</td>\n",
       "      <td>2</td>\n",
       "      <td>7769.547289</td>\n",
       "      <td>69.37</td>\n",
       "      <td>3</td>\n",
       "      <td>62.840374</td>\n",
       "      <td>-6.530</td>\n",
       "      <td>0.115383</td>\n",
       "      <td>8.671250</td>\n",
       "      <td>8.0</td>\n",
       "      <td>0</td>\n",
       "    </tr>\n",
       "  </tbody>\n",
       "</table>\n",
       "<p>1244 rows × 16 columns</p>\n",
       "</div>"
      ]
     },
     "metadata": {},
     "execution_count": 14
    }
   ],
   "metadata": {}
  },
  {
   "cell_type": "code",
   "execution_count": 15,
   "source": [
    "def mutatation_(new_col, calculate_methdo):\r\n",
    "    df_final[new_col] = df_final.groupby(\r\n",
    "    ['ou_code', 'kernal_core1', 'kernal_core2']\r\n",
    "    )['total_working_hour'].transform(calculate_methdo)\r\n",
    "    return df_final\r\n"
   ],
   "outputs": [],
   "metadata": {}
  },
  {
   "cell_type": "code",
   "execution_count": 16,
   "source": [
    "df_final['max_wh'] = df_final.groupby(\r\n",
    "    ['ou_code', 'kernal_core1', 'kernal_core2']\r\n",
    "    )['total_working_hour'].transform('max')\r\n",
    "df_final['min_wh'] = df_final.groupby(\r\n",
    "    ['ou_code', 'kernal_core1', 'kernal_core2']\r\n",
    "    )['total_working_hour'].transform('min')\r\n",
    "df_final['median_wh'] = df_final.groupby(\r\n",
    "    ['ou_code', 'kernal_core1', 'kernal_core2']\r\n",
    "    )['total_working_hour'].transform('median')\r\n",
    "df_final['mean_wh'] = df_final.groupby(\r\n",
    "    ['ou_code', 'kernal_core1', 'kernal_core2']\r\n",
    "    )['total_working_hour'].transform('mean')\r\n",
    "df_final['qt_66_wh'] = df_final.groupby(\r\n",
    "    ['ou_code', 'kernal_core1', 'kernal_core2']\r\n",
    "    )['total_working_hour'].transform('quantile', .6667)\r\n",
    "df_final['qt_75_wh'] = df_final.groupby(\r\n",
    "    ['ou_code', 'kernal_core1', 'kernal_core2']\r\n",
    "    )['total_working_hour'].transform('quantile', .75)\r\n",
    "df_final['d_to_core_outer'] = df_final.groupby(\r\n",
    "        ['ou_code', 'kernal_core1', 'kernal_core2'], as_index = False, observed = True\r\n",
    "                )['total_working_hour','kernal_value3'].agg(\r\n",
    "                    'diff', axis = 1\r\n",
    "                    ).drop('total_working_hour', axis = 1).round(3)\r\n",
    "\r\n",
    "    # df_final['flag_dis_core'] = df_final['d_to_core_outer'] - df_final['dis_core']>.01\r\n",
    "    # return df_final\r\n",
    "\r\n",
    "# df_final= add_calulates()"
   ],
   "outputs": [],
   "metadata": {}
  },
  {
   "cell_type": "code",
   "execution_count": 17,
   "source": [
    "# [0 if a == 1 else a for a in df_final['percent_error_66']]\r\n"
   ],
   "outputs": [],
   "metadata": {}
  },
  {
   "cell_type": "code",
   "execution_count": 18,
   "source": [
    "\r\n",
    "df_final['percent_error_66'] = (\r\n",
    "        df_final['qt_66_wh'] - df_final['total_working_hour'])/(\r\n",
    "                df_final['total_working_hour']\r\n",
    "                )\r\n",
    "df_final['percent_error_75'] = (\r\n",
    "        df_final['qt_75_wh'] - df_final['total_working_hour']\r\n",
    "        )/(df_final['total_working_hour']\r\n",
    "        )\r\n",
    "\r\n",
    "# df_final = df_final.assign(percent_error_66 = [a-1 if a == 1 else a for a in df_final['percent_error_66']])\r\n",
    "# df_final = df_final.assign(percent_error_75 = [a-1 if a == 1 else a for a in df_final['percent_error_75']])\r\n"
   ],
   "outputs": [],
   "metadata": {}
  },
  {
   "cell_type": "code",
   "execution_count": 19,
   "source": [
    "# df_final[df_final['percent_error_75'] != 0].dropna()\r\n",
    "from datetime import date\r\n",
    "df_final['inc_day'] = str(date.today())\r\n",
    "df_final['inc_day'] = df_final['inc_day'].str.replace('-', '')"
   ],
   "outputs": [],
   "metadata": {}
  },
  {
   "cell_type": "code",
   "execution_count": 20,
   "source": [
    "# df_final.to_csv('./wh_in_out_fin.csv', index= None)"
   ],
   "outputs": [],
   "metadata": {}
  },
  {
   "cell_type": "code",
   "execution_count": 21,
   "source": [
    "df_final[df_final['percent_error_75'] < -.05]"
   ],
   "outputs": [
    {
     "output_type": "execute_result",
     "data": {
      "text/plain": [
       "     ou_code  operation_day  inbound_receive_qty  kernal_core1  kernal_value1  \\\n",
       "20    CN-001       20210707              23881.0             1   23397.421922   \n",
       "26    CN-001       20210623              12699.0             3   11527.301724   \n",
       "38    CN-002       20210630                  0.0            -1       0.000000   \n",
       "44    CN-002       20210706                  1.0             2     440.374378   \n",
       "46    CN-002       20210709              16970.0             3   16579.176638   \n",
       "...      ...            ...                  ...           ...            ...   \n",
       "1207  HK-050       20210726                 97.0             2     354.023077   \n",
       "1208  HK-050       20210730               4519.0             3    4000.608000   \n",
       "1231  HK-115       20210712                  0.0            -1       0.000000   \n",
       "1233  HK-115       20210713                  0.0            -1       0.000000   \n",
       "1237  HK-115       20210721                234.0             0    1829.564597   \n",
       "\n",
       "      outbound_shipped_qty  kernal_core2  kernal_value2  total_working_hour  \\\n",
       "20                     0.0            -1       0.000000               33.55   \n",
       "26                 23826.0             3   21197.105590               31.87   \n",
       "38                     0.0            -1       0.000000               40.41   \n",
       "44                  3870.0             1    2569.836639               56.75   \n",
       "46                   286.0             1    2569.836639               56.85   \n",
       "...                    ...           ...            ...                 ...   \n",
       "1207                2293.0             2    2857.787879               28.32   \n",
       "1208                2628.0             2    2857.787879               29.12   \n",
       "1231                6890.0             2    7769.547289               60.56   \n",
       "1233                5437.0             0    4103.392744               85.69   \n",
       "1237                4218.0             0    4103.392744               43.30   \n",
       "\n",
       "      kernal_core3  ...  max_wh  min_wh  median_wh    mean_wh   qt_66_wh  \\\n",
       "20               3  ...   33.55   24.50     29.025  29.025000  30.533635   \n",
       "26               1  ...   31.87   25.00     28.435  28.435000  29.580229   \n",
       "38               0  ...   40.41   13.33     26.870  26.870000  31.384236   \n",
       "44               1  ...   56.75   40.53     41.070  44.146000  41.483416   \n",
       "46               1  ...   56.85   40.66     48.755  48.755000  51.453873   \n",
       "...            ...  ...     ...     ...        ...        ...        ...   \n",
       "1207             3  ...   28.32   13.58     20.950  20.950000  23.407158   \n",
       "1208             3  ...   29.12    9.00     18.980  19.033333  22.360676   \n",
       "1231             3  ...   60.56   34.31     52.840  49.236667  55.413848   \n",
       "1233             1  ...   85.69   45.77     53.180  59.455000  53.303239   \n",
       "1237             0  ...   43.30   28.21     29.740  33.750000  34.260904   \n",
       "\n",
       "      qt_75_wh  d_to_core_outer  percent_error_66  percent_error_75   inc_day  \n",
       "20     31.2875            0.312         -0.089907         -0.067437  20210812  \n",
       "26     30.1525           -0.125         -0.071847         -0.053891  20210812  \n",
       "38     33.6400            0.436         -0.223355         -0.167533  20210812  \n",
       "44     41.6900           -0.190         -0.269015         -0.265374  20210812  \n",
       "46     52.8025           -0.290         -0.094919         -0.071196  20210812  \n",
       "...        ...              ...               ...               ...       ...  \n",
       "1207   24.6350            0.921         -0.173476         -0.130120  20210812  \n",
       "1208   24.0500            0.121         -0.232120         -0.174107  20210812  \n",
       "1231   56.7000            2.280         -0.084976         -0.063738  20210812  \n",
       "1233   61.3975           -2.680         -0.377953         -0.283493  20210812  \n",
       "1237   36.5200            6.182         -0.208755         -0.156582  20210812  \n",
       "\n",
       "[111 rows x 26 columns]"
      ],
      "text/html": [
       "<div>\n",
       "<style scoped>\n",
       "    .dataframe tbody tr th:only-of-type {\n",
       "        vertical-align: middle;\n",
       "    }\n",
       "\n",
       "    .dataframe tbody tr th {\n",
       "        vertical-align: top;\n",
       "    }\n",
       "\n",
       "    .dataframe thead th {\n",
       "        text-align: right;\n",
       "    }\n",
       "</style>\n",
       "<table border=\"1\" class=\"dataframe\">\n",
       "  <thead>\n",
       "    <tr style=\"text-align: right;\">\n",
       "      <th></th>\n",
       "      <th>ou_code</th>\n",
       "      <th>operation_day</th>\n",
       "      <th>inbound_receive_qty</th>\n",
       "      <th>kernal_core1</th>\n",
       "      <th>kernal_value1</th>\n",
       "      <th>outbound_shipped_qty</th>\n",
       "      <th>kernal_core2</th>\n",
       "      <th>kernal_value2</th>\n",
       "      <th>total_working_hour</th>\n",
       "      <th>kernal_core3</th>\n",
       "      <th>...</th>\n",
       "      <th>max_wh</th>\n",
       "      <th>min_wh</th>\n",
       "      <th>median_wh</th>\n",
       "      <th>mean_wh</th>\n",
       "      <th>qt_66_wh</th>\n",
       "      <th>qt_75_wh</th>\n",
       "      <th>d_to_core_outer</th>\n",
       "      <th>percent_error_66</th>\n",
       "      <th>percent_error_75</th>\n",
       "      <th>inc_day</th>\n",
       "    </tr>\n",
       "  </thead>\n",
       "  <tbody>\n",
       "    <tr>\n",
       "      <th>20</th>\n",
       "      <td>CN-001</td>\n",
       "      <td>20210707</td>\n",
       "      <td>23881.0</td>\n",
       "      <td>1</td>\n",
       "      <td>23397.421922</td>\n",
       "      <td>0.0</td>\n",
       "      <td>-1</td>\n",
       "      <td>0.000000</td>\n",
       "      <td>33.55</td>\n",
       "      <td>3</td>\n",
       "      <td>...</td>\n",
       "      <td>33.55</td>\n",
       "      <td>24.50</td>\n",
       "      <td>29.025</td>\n",
       "      <td>29.025000</td>\n",
       "      <td>30.533635</td>\n",
       "      <td>31.2875</td>\n",
       "      <td>0.312</td>\n",
       "      <td>-0.089907</td>\n",
       "      <td>-0.067437</td>\n",
       "      <td>20210812</td>\n",
       "    </tr>\n",
       "    <tr>\n",
       "      <th>26</th>\n",
       "      <td>CN-001</td>\n",
       "      <td>20210623</td>\n",
       "      <td>12699.0</td>\n",
       "      <td>3</td>\n",
       "      <td>11527.301724</td>\n",
       "      <td>23826.0</td>\n",
       "      <td>3</td>\n",
       "      <td>21197.105590</td>\n",
       "      <td>31.87</td>\n",
       "      <td>1</td>\n",
       "      <td>...</td>\n",
       "      <td>31.87</td>\n",
       "      <td>25.00</td>\n",
       "      <td>28.435</td>\n",
       "      <td>28.435000</td>\n",
       "      <td>29.580229</td>\n",
       "      <td>30.1525</td>\n",
       "      <td>-0.125</td>\n",
       "      <td>-0.071847</td>\n",
       "      <td>-0.053891</td>\n",
       "      <td>20210812</td>\n",
       "    </tr>\n",
       "    <tr>\n",
       "      <th>38</th>\n",
       "      <td>CN-002</td>\n",
       "      <td>20210630</td>\n",
       "      <td>0.0</td>\n",
       "      <td>-1</td>\n",
       "      <td>0.000000</td>\n",
       "      <td>0.0</td>\n",
       "      <td>-1</td>\n",
       "      <td>0.000000</td>\n",
       "      <td>40.41</td>\n",
       "      <td>0</td>\n",
       "      <td>...</td>\n",
       "      <td>40.41</td>\n",
       "      <td>13.33</td>\n",
       "      <td>26.870</td>\n",
       "      <td>26.870000</td>\n",
       "      <td>31.384236</td>\n",
       "      <td>33.6400</td>\n",
       "      <td>0.436</td>\n",
       "      <td>-0.223355</td>\n",
       "      <td>-0.167533</td>\n",
       "      <td>20210812</td>\n",
       "    </tr>\n",
       "    <tr>\n",
       "      <th>44</th>\n",
       "      <td>CN-002</td>\n",
       "      <td>20210706</td>\n",
       "      <td>1.0</td>\n",
       "      <td>2</td>\n",
       "      <td>440.374378</td>\n",
       "      <td>3870.0</td>\n",
       "      <td>1</td>\n",
       "      <td>2569.836639</td>\n",
       "      <td>56.75</td>\n",
       "      <td>1</td>\n",
       "      <td>...</td>\n",
       "      <td>56.75</td>\n",
       "      <td>40.53</td>\n",
       "      <td>41.070</td>\n",
       "      <td>44.146000</td>\n",
       "      <td>41.483416</td>\n",
       "      <td>41.6900</td>\n",
       "      <td>-0.190</td>\n",
       "      <td>-0.269015</td>\n",
       "      <td>-0.265374</td>\n",
       "      <td>20210812</td>\n",
       "    </tr>\n",
       "    <tr>\n",
       "      <th>46</th>\n",
       "      <td>CN-002</td>\n",
       "      <td>20210709</td>\n",
       "      <td>16970.0</td>\n",
       "      <td>3</td>\n",
       "      <td>16579.176638</td>\n",
       "      <td>286.0</td>\n",
       "      <td>1</td>\n",
       "      <td>2569.836639</td>\n",
       "      <td>56.85</td>\n",
       "      <td>1</td>\n",
       "      <td>...</td>\n",
       "      <td>56.85</td>\n",
       "      <td>40.66</td>\n",
       "      <td>48.755</td>\n",
       "      <td>48.755000</td>\n",
       "      <td>51.453873</td>\n",
       "      <td>52.8025</td>\n",
       "      <td>-0.290</td>\n",
       "      <td>-0.094919</td>\n",
       "      <td>-0.071196</td>\n",
       "      <td>20210812</td>\n",
       "    </tr>\n",
       "    <tr>\n",
       "      <th>...</th>\n",
       "      <td>...</td>\n",
       "      <td>...</td>\n",
       "      <td>...</td>\n",
       "      <td>...</td>\n",
       "      <td>...</td>\n",
       "      <td>...</td>\n",
       "      <td>...</td>\n",
       "      <td>...</td>\n",
       "      <td>...</td>\n",
       "      <td>...</td>\n",
       "      <td>...</td>\n",
       "      <td>...</td>\n",
       "      <td>...</td>\n",
       "      <td>...</td>\n",
       "      <td>...</td>\n",
       "      <td>...</td>\n",
       "      <td>...</td>\n",
       "      <td>...</td>\n",
       "      <td>...</td>\n",
       "      <td>...</td>\n",
       "      <td>...</td>\n",
       "    </tr>\n",
       "    <tr>\n",
       "      <th>1207</th>\n",
       "      <td>HK-050</td>\n",
       "      <td>20210726</td>\n",
       "      <td>97.0</td>\n",
       "      <td>2</td>\n",
       "      <td>354.023077</td>\n",
       "      <td>2293.0</td>\n",
       "      <td>2</td>\n",
       "      <td>2857.787879</td>\n",
       "      <td>28.32</td>\n",
       "      <td>3</td>\n",
       "      <td>...</td>\n",
       "      <td>28.32</td>\n",
       "      <td>13.58</td>\n",
       "      <td>20.950</td>\n",
       "      <td>20.950000</td>\n",
       "      <td>23.407158</td>\n",
       "      <td>24.6350</td>\n",
       "      <td>0.921</td>\n",
       "      <td>-0.173476</td>\n",
       "      <td>-0.130120</td>\n",
       "      <td>20210812</td>\n",
       "    </tr>\n",
       "    <tr>\n",
       "      <th>1208</th>\n",
       "      <td>HK-050</td>\n",
       "      <td>20210730</td>\n",
       "      <td>4519.0</td>\n",
       "      <td>3</td>\n",
       "      <td>4000.608000</td>\n",
       "      <td>2628.0</td>\n",
       "      <td>2</td>\n",
       "      <td>2857.787879</td>\n",
       "      <td>29.12</td>\n",
       "      <td>3</td>\n",
       "      <td>...</td>\n",
       "      <td>29.12</td>\n",
       "      <td>9.00</td>\n",
       "      <td>18.980</td>\n",
       "      <td>19.033333</td>\n",
       "      <td>22.360676</td>\n",
       "      <td>24.0500</td>\n",
       "      <td>0.121</td>\n",
       "      <td>-0.232120</td>\n",
       "      <td>-0.174107</td>\n",
       "      <td>20210812</td>\n",
       "    </tr>\n",
       "    <tr>\n",
       "      <th>1231</th>\n",
       "      <td>HK-115</td>\n",
       "      <td>20210712</td>\n",
       "      <td>0.0</td>\n",
       "      <td>-1</td>\n",
       "      <td>0.000000</td>\n",
       "      <td>6890.0</td>\n",
       "      <td>2</td>\n",
       "      <td>7769.547289</td>\n",
       "      <td>60.56</td>\n",
       "      <td>3</td>\n",
       "      <td>...</td>\n",
       "      <td>60.56</td>\n",
       "      <td>34.31</td>\n",
       "      <td>52.840</td>\n",
       "      <td>49.236667</td>\n",
       "      <td>55.413848</td>\n",
       "      <td>56.7000</td>\n",
       "      <td>2.280</td>\n",
       "      <td>-0.084976</td>\n",
       "      <td>-0.063738</td>\n",
       "      <td>20210812</td>\n",
       "    </tr>\n",
       "    <tr>\n",
       "      <th>1233</th>\n",
       "      <td>HK-115</td>\n",
       "      <td>20210713</td>\n",
       "      <td>0.0</td>\n",
       "      <td>-1</td>\n",
       "      <td>0.000000</td>\n",
       "      <td>5437.0</td>\n",
       "      <td>0</td>\n",
       "      <td>4103.392744</td>\n",
       "      <td>85.69</td>\n",
       "      <td>1</td>\n",
       "      <td>...</td>\n",
       "      <td>85.69</td>\n",
       "      <td>45.77</td>\n",
       "      <td>53.180</td>\n",
       "      <td>59.455000</td>\n",
       "      <td>53.303239</td>\n",
       "      <td>61.3975</td>\n",
       "      <td>-2.680</td>\n",
       "      <td>-0.377953</td>\n",
       "      <td>-0.283493</td>\n",
       "      <td>20210812</td>\n",
       "    </tr>\n",
       "    <tr>\n",
       "      <th>1237</th>\n",
       "      <td>HK-115</td>\n",
       "      <td>20210721</td>\n",
       "      <td>234.0</td>\n",
       "      <td>0</td>\n",
       "      <td>1829.564597</td>\n",
       "      <td>4218.0</td>\n",
       "      <td>0</td>\n",
       "      <td>4103.392744</td>\n",
       "      <td>43.30</td>\n",
       "      <td>0</td>\n",
       "      <td>...</td>\n",
       "      <td>43.30</td>\n",
       "      <td>28.21</td>\n",
       "      <td>29.740</td>\n",
       "      <td>33.750000</td>\n",
       "      <td>34.260904</td>\n",
       "      <td>36.5200</td>\n",
       "      <td>6.182</td>\n",
       "      <td>-0.208755</td>\n",
       "      <td>-0.156582</td>\n",
       "      <td>20210812</td>\n",
       "    </tr>\n",
       "  </tbody>\n",
       "</table>\n",
       "<p>111 rows × 26 columns</p>\n",
       "</div>"
      ]
     },
     "metadata": {},
     "execution_count": 21
    }
   ],
   "metadata": {}
  },
  {
   "cell_type": "markdown",
   "source": [
    "---"
   ],
   "metadata": {}
  },
  {
   "cell_type": "markdown",
   "source": [
    "---"
   ],
   "metadata": {}
  },
  {
   "cell_type": "markdown",
   "source": [
    "----"
   ],
   "metadata": {}
  },
  {
   "cell_type": "code",
   "execution_count": 22,
   "source": [
    "df_final"
   ],
   "outputs": [
    {
     "output_type": "execute_result",
     "data": {
      "text/plain": [
       "     ou_code  operation_day  inbound_receive_qty  kernal_core1  kernal_value1  \\\n",
       "0     CN-001       20210619                  0.0            -1       0.000000   \n",
       "1     CN-001       20210626                  0.0            -1       0.000000   \n",
       "2     CN-001       20210625                  0.0            -1       0.000000   \n",
       "3     CN-001       20210705                  0.0            -1       0.000000   \n",
       "4     CN-001       20210616                  0.0            -1       0.000000   \n",
       "...      ...            ...                  ...           ...            ...   \n",
       "1239  HK-115       20210716                469.0             0    1829.564597   \n",
       "1240  HK-115       20210728               2490.0             0    1829.564597   \n",
       "1241  HK-115       20210724                240.0             0    1829.564597   \n",
       "1242  HK-115       20210715               2021.0             0    1829.564597   \n",
       "1243  HK-115       20210720              58319.0             1   58319.000000   \n",
       "\n",
       "      outbound_shipped_qty  kernal_core2  kernal_value2  total_working_hour  \\\n",
       "0                      0.0            -1       0.000000               30.00   \n",
       "1                      0.0            -1       0.000000                9.50   \n",
       "2                  12819.0             2   13556.152941               32.12   \n",
       "3                      0.0            -1       0.000000               31.58   \n",
       "4                   7321.0             1    2658.657561               31.60   \n",
       "...                    ...           ...            ...                 ...   \n",
       "1239               10006.0             2    7769.547289               81.32   \n",
       "1240                8298.0             2    7769.547289               58.21   \n",
       "1241                2190.0             0    4103.392744               29.74   \n",
       "1242                6827.0             2    7769.547289               82.05   \n",
       "1243                6729.0             2    7769.547289               69.37   \n",
       "\n",
       "      kernal_core3  ...  max_wh  min_wh  median_wh  mean_wh   qt_66_wh  \\\n",
       "0                1  ...   31.60    9.50      19.75    20.28  30.526930   \n",
       "1                2  ...   31.60    9.50      19.75    20.28  30.526930   \n",
       "2                1  ...   32.12   32.12      32.12    32.12  32.120000   \n",
       "3                1  ...   31.60    9.50      19.75    20.28  30.526930   \n",
       "4                1  ...   33.08   24.50      32.10    30.80  32.513416   \n",
       "...            ...  ...     ...     ...        ...      ...        ...   \n",
       "1239             1  ...   82.05   58.21      81.32    73.86  81.563382   \n",
       "1240             3  ...   82.05   58.21      81.32    73.86  81.563382   \n",
       "1241             2  ...   43.30   28.21      29.74    33.75  34.260904   \n",
       "1242             1  ...   82.05   58.21      81.32    73.86  81.563382   \n",
       "1243             3  ...   69.37   69.37      69.37    69.37  69.370000   \n",
       "\n",
       "      qt_75_wh  d_to_core_outer  percent_error_66  percent_error_75   inc_day  \n",
       "0       31.185            1.745          0.017564          0.039500  20210812  \n",
       "1       31.185            0.000          2.213361          2.282632  20210812  \n",
       "2       32.120           -0.375          0.000000          0.000000  20210812  \n",
       "3       31.185            0.165         -0.033346         -0.012508  20210812  \n",
       "4       32.720            0.145          0.028906          0.035443  20210812  \n",
       "...        ...              ...               ...               ...       ...  \n",
       "1239    81.685            1.690          0.002993          0.004488  20210812  \n",
       "1240    81.685            4.630          0.401192          0.403281  20210812  \n",
       "1241    36.520           -2.456          0.152014          0.227976  20210812  \n",
       "1242    81.685            0.960         -0.005931         -0.004449  20210812  \n",
       "1243    69.370           -6.530          0.000000          0.000000  20210812  \n",
       "\n",
       "[1244 rows x 26 columns]"
      ],
      "text/html": [
       "<div>\n",
       "<style scoped>\n",
       "    .dataframe tbody tr th:only-of-type {\n",
       "        vertical-align: middle;\n",
       "    }\n",
       "\n",
       "    .dataframe tbody tr th {\n",
       "        vertical-align: top;\n",
       "    }\n",
       "\n",
       "    .dataframe thead th {\n",
       "        text-align: right;\n",
       "    }\n",
       "</style>\n",
       "<table border=\"1\" class=\"dataframe\">\n",
       "  <thead>\n",
       "    <tr style=\"text-align: right;\">\n",
       "      <th></th>\n",
       "      <th>ou_code</th>\n",
       "      <th>operation_day</th>\n",
       "      <th>inbound_receive_qty</th>\n",
       "      <th>kernal_core1</th>\n",
       "      <th>kernal_value1</th>\n",
       "      <th>outbound_shipped_qty</th>\n",
       "      <th>kernal_core2</th>\n",
       "      <th>kernal_value2</th>\n",
       "      <th>total_working_hour</th>\n",
       "      <th>kernal_core3</th>\n",
       "      <th>...</th>\n",
       "      <th>max_wh</th>\n",
       "      <th>min_wh</th>\n",
       "      <th>median_wh</th>\n",
       "      <th>mean_wh</th>\n",
       "      <th>qt_66_wh</th>\n",
       "      <th>qt_75_wh</th>\n",
       "      <th>d_to_core_outer</th>\n",
       "      <th>percent_error_66</th>\n",
       "      <th>percent_error_75</th>\n",
       "      <th>inc_day</th>\n",
       "    </tr>\n",
       "  </thead>\n",
       "  <tbody>\n",
       "    <tr>\n",
       "      <th>0</th>\n",
       "      <td>CN-001</td>\n",
       "      <td>20210619</td>\n",
       "      <td>0.0</td>\n",
       "      <td>-1</td>\n",
       "      <td>0.000000</td>\n",
       "      <td>0.0</td>\n",
       "      <td>-1</td>\n",
       "      <td>0.000000</td>\n",
       "      <td>30.00</td>\n",
       "      <td>1</td>\n",
       "      <td>...</td>\n",
       "      <td>31.60</td>\n",
       "      <td>9.50</td>\n",
       "      <td>19.75</td>\n",
       "      <td>20.28</td>\n",
       "      <td>30.526930</td>\n",
       "      <td>31.185</td>\n",
       "      <td>1.745</td>\n",
       "      <td>0.017564</td>\n",
       "      <td>0.039500</td>\n",
       "      <td>20210812</td>\n",
       "    </tr>\n",
       "    <tr>\n",
       "      <th>1</th>\n",
       "      <td>CN-001</td>\n",
       "      <td>20210626</td>\n",
       "      <td>0.0</td>\n",
       "      <td>-1</td>\n",
       "      <td>0.000000</td>\n",
       "      <td>0.0</td>\n",
       "      <td>-1</td>\n",
       "      <td>0.000000</td>\n",
       "      <td>9.50</td>\n",
       "      <td>2</td>\n",
       "      <td>...</td>\n",
       "      <td>31.60</td>\n",
       "      <td>9.50</td>\n",
       "      <td>19.75</td>\n",
       "      <td>20.28</td>\n",
       "      <td>30.526930</td>\n",
       "      <td>31.185</td>\n",
       "      <td>0.000</td>\n",
       "      <td>2.213361</td>\n",
       "      <td>2.282632</td>\n",
       "      <td>20210812</td>\n",
       "    </tr>\n",
       "    <tr>\n",
       "      <th>2</th>\n",
       "      <td>CN-001</td>\n",
       "      <td>20210625</td>\n",
       "      <td>0.0</td>\n",
       "      <td>-1</td>\n",
       "      <td>0.000000</td>\n",
       "      <td>12819.0</td>\n",
       "      <td>2</td>\n",
       "      <td>13556.152941</td>\n",
       "      <td>32.12</td>\n",
       "      <td>1</td>\n",
       "      <td>...</td>\n",
       "      <td>32.12</td>\n",
       "      <td>32.12</td>\n",
       "      <td>32.12</td>\n",
       "      <td>32.12</td>\n",
       "      <td>32.120000</td>\n",
       "      <td>32.120</td>\n",
       "      <td>-0.375</td>\n",
       "      <td>0.000000</td>\n",
       "      <td>0.000000</td>\n",
       "      <td>20210812</td>\n",
       "    </tr>\n",
       "    <tr>\n",
       "      <th>3</th>\n",
       "      <td>CN-001</td>\n",
       "      <td>20210705</td>\n",
       "      <td>0.0</td>\n",
       "      <td>-1</td>\n",
       "      <td>0.000000</td>\n",
       "      <td>0.0</td>\n",
       "      <td>-1</td>\n",
       "      <td>0.000000</td>\n",
       "      <td>31.58</td>\n",
       "      <td>1</td>\n",
       "      <td>...</td>\n",
       "      <td>31.60</td>\n",
       "      <td>9.50</td>\n",
       "      <td>19.75</td>\n",
       "      <td>20.28</td>\n",
       "      <td>30.526930</td>\n",
       "      <td>31.185</td>\n",
       "      <td>0.165</td>\n",
       "      <td>-0.033346</td>\n",
       "      <td>-0.012508</td>\n",
       "      <td>20210812</td>\n",
       "    </tr>\n",
       "    <tr>\n",
       "      <th>4</th>\n",
       "      <td>CN-001</td>\n",
       "      <td>20210616</td>\n",
       "      <td>0.0</td>\n",
       "      <td>-1</td>\n",
       "      <td>0.000000</td>\n",
       "      <td>7321.0</td>\n",
       "      <td>1</td>\n",
       "      <td>2658.657561</td>\n",
       "      <td>31.60</td>\n",
       "      <td>1</td>\n",
       "      <td>...</td>\n",
       "      <td>33.08</td>\n",
       "      <td>24.50</td>\n",
       "      <td>32.10</td>\n",
       "      <td>30.80</td>\n",
       "      <td>32.513416</td>\n",
       "      <td>32.720</td>\n",
       "      <td>0.145</td>\n",
       "      <td>0.028906</td>\n",
       "      <td>0.035443</td>\n",
       "      <td>20210812</td>\n",
       "    </tr>\n",
       "    <tr>\n",
       "      <th>...</th>\n",
       "      <td>...</td>\n",
       "      <td>...</td>\n",
       "      <td>...</td>\n",
       "      <td>...</td>\n",
       "      <td>...</td>\n",
       "      <td>...</td>\n",
       "      <td>...</td>\n",
       "      <td>...</td>\n",
       "      <td>...</td>\n",
       "      <td>...</td>\n",
       "      <td>...</td>\n",
       "      <td>...</td>\n",
       "      <td>...</td>\n",
       "      <td>...</td>\n",
       "      <td>...</td>\n",
       "      <td>...</td>\n",
       "      <td>...</td>\n",
       "      <td>...</td>\n",
       "      <td>...</td>\n",
       "      <td>...</td>\n",
       "      <td>...</td>\n",
       "    </tr>\n",
       "    <tr>\n",
       "      <th>1239</th>\n",
       "      <td>HK-115</td>\n",
       "      <td>20210716</td>\n",
       "      <td>469.0</td>\n",
       "      <td>0</td>\n",
       "      <td>1829.564597</td>\n",
       "      <td>10006.0</td>\n",
       "      <td>2</td>\n",
       "      <td>7769.547289</td>\n",
       "      <td>81.32</td>\n",
       "      <td>1</td>\n",
       "      <td>...</td>\n",
       "      <td>82.05</td>\n",
       "      <td>58.21</td>\n",
       "      <td>81.32</td>\n",
       "      <td>73.86</td>\n",
       "      <td>81.563382</td>\n",
       "      <td>81.685</td>\n",
       "      <td>1.690</td>\n",
       "      <td>0.002993</td>\n",
       "      <td>0.004488</td>\n",
       "      <td>20210812</td>\n",
       "    </tr>\n",
       "    <tr>\n",
       "      <th>1240</th>\n",
       "      <td>HK-115</td>\n",
       "      <td>20210728</td>\n",
       "      <td>2490.0</td>\n",
       "      <td>0</td>\n",
       "      <td>1829.564597</td>\n",
       "      <td>8298.0</td>\n",
       "      <td>2</td>\n",
       "      <td>7769.547289</td>\n",
       "      <td>58.21</td>\n",
       "      <td>3</td>\n",
       "      <td>...</td>\n",
       "      <td>82.05</td>\n",
       "      <td>58.21</td>\n",
       "      <td>81.32</td>\n",
       "      <td>73.86</td>\n",
       "      <td>81.563382</td>\n",
       "      <td>81.685</td>\n",
       "      <td>4.630</td>\n",
       "      <td>0.401192</td>\n",
       "      <td>0.403281</td>\n",
       "      <td>20210812</td>\n",
       "    </tr>\n",
       "    <tr>\n",
       "      <th>1241</th>\n",
       "      <td>HK-115</td>\n",
       "      <td>20210724</td>\n",
       "      <td>240.0</td>\n",
       "      <td>0</td>\n",
       "      <td>1829.564597</td>\n",
       "      <td>2190.0</td>\n",
       "      <td>0</td>\n",
       "      <td>4103.392744</td>\n",
       "      <td>29.74</td>\n",
       "      <td>2</td>\n",
       "      <td>...</td>\n",
       "      <td>43.30</td>\n",
       "      <td>28.21</td>\n",
       "      <td>29.74</td>\n",
       "      <td>33.75</td>\n",
       "      <td>34.260904</td>\n",
       "      <td>36.520</td>\n",
       "      <td>-2.456</td>\n",
       "      <td>0.152014</td>\n",
       "      <td>0.227976</td>\n",
       "      <td>20210812</td>\n",
       "    </tr>\n",
       "    <tr>\n",
       "      <th>1242</th>\n",
       "      <td>HK-115</td>\n",
       "      <td>20210715</td>\n",
       "      <td>2021.0</td>\n",
       "      <td>0</td>\n",
       "      <td>1829.564597</td>\n",
       "      <td>6827.0</td>\n",
       "      <td>2</td>\n",
       "      <td>7769.547289</td>\n",
       "      <td>82.05</td>\n",
       "      <td>1</td>\n",
       "      <td>...</td>\n",
       "      <td>82.05</td>\n",
       "      <td>58.21</td>\n",
       "      <td>81.32</td>\n",
       "      <td>73.86</td>\n",
       "      <td>81.563382</td>\n",
       "      <td>81.685</td>\n",
       "      <td>0.960</td>\n",
       "      <td>-0.005931</td>\n",
       "      <td>-0.004449</td>\n",
       "      <td>20210812</td>\n",
       "    </tr>\n",
       "    <tr>\n",
       "      <th>1243</th>\n",
       "      <td>HK-115</td>\n",
       "      <td>20210720</td>\n",
       "      <td>58319.0</td>\n",
       "      <td>1</td>\n",
       "      <td>58319.000000</td>\n",
       "      <td>6729.0</td>\n",
       "      <td>2</td>\n",
       "      <td>7769.547289</td>\n",
       "      <td>69.37</td>\n",
       "      <td>3</td>\n",
       "      <td>...</td>\n",
       "      <td>69.37</td>\n",
       "      <td>69.37</td>\n",
       "      <td>69.37</td>\n",
       "      <td>69.37</td>\n",
       "      <td>69.370000</td>\n",
       "      <td>69.370</td>\n",
       "      <td>-6.530</td>\n",
       "      <td>0.000000</td>\n",
       "      <td>0.000000</td>\n",
       "      <td>20210812</td>\n",
       "    </tr>\n",
       "  </tbody>\n",
       "</table>\n",
       "<p>1244 rows × 26 columns</p>\n",
       "</div>"
      ]
     },
     "metadata": {},
     "execution_count": 22
    }
   ],
   "metadata": {}
  },
  {
   "cell_type": "code",
   "execution_count": 25,
   "source": [
    "%%time\r\n",
    "\r\n",
    "str(date.today()).replace('-', '')"
   ],
   "outputs": [
    {
     "output_type": "stream",
     "name": "stdout",
     "text": [
      "Wall time: 0 ns\n"
     ]
    },
    {
     "output_type": "execute_result",
     "data": {
      "text/plain": [
       "'20210812'"
      ]
     },
     "metadata": {},
     "execution_count": 25
    }
   ],
   "metadata": {}
  },
  {
   "cell_type": "markdown",
   "source": [],
   "metadata": {}
  },
  {
   "cell_type": "code",
   "execution_count": 28,
   "source": [
    "df_final"
   ],
   "outputs": [
    {
     "output_type": "execute_result",
     "data": {
      "text/plain": [
       "     ou_code  operation_day  inbound_receive_qty  kernal_core1  kernal_value1  \\\n",
       "0     CN-001       20210619                  0.0            -1       0.000000   \n",
       "1     CN-001       20210626                  0.0            -1       0.000000   \n",
       "2     CN-001       20210625                  0.0            -1       0.000000   \n",
       "3     CN-001       20210705                  0.0            -1       0.000000   \n",
       "4     CN-001       20210616                  0.0            -1       0.000000   \n",
       "...      ...            ...                  ...           ...            ...   \n",
       "1239  HK-115       20210716                469.0             0    1829.564597   \n",
       "1240  HK-115       20210728               2490.0             0    1829.564597   \n",
       "1241  HK-115       20210724                240.0             0    1829.564597   \n",
       "1242  HK-115       20210715               2021.0             0    1829.564597   \n",
       "1243  HK-115       20210720              58319.0             1   58319.000000   \n",
       "\n",
       "      outbound_shipped_qty  kernal_core2  kernal_value2  total_working_hour  \\\n",
       "0                      0.0            -1       0.000000               30.00   \n",
       "1                      0.0            -1       0.000000                9.50   \n",
       "2                  12819.0             2   13556.152941               32.12   \n",
       "3                      0.0            -1       0.000000               31.58   \n",
       "4                   7321.0             1    2658.657561               31.60   \n",
       "...                    ...           ...            ...                 ...   \n",
       "1239               10006.0             2    7769.547289               81.32   \n",
       "1240                8298.0             2    7769.547289               58.21   \n",
       "1241                2190.0             0    4103.392744               29.74   \n",
       "1242                6827.0             2    7769.547289               82.05   \n",
       "1243                6729.0             2    7769.547289               69.37   \n",
       "\n",
       "      kernal_core3  ...  max_wh  min_wh  median_wh  mean_wh   qt_66_wh  \\\n",
       "0                1  ...   31.60    9.50      19.75    20.28  30.526930   \n",
       "1                2  ...   31.60    9.50      19.75    20.28  30.526930   \n",
       "2                1  ...   32.12   32.12      32.12    32.12  32.120000   \n",
       "3                1  ...   31.60    9.50      19.75    20.28  30.526930   \n",
       "4                1  ...   33.08   24.50      32.10    30.80  32.513416   \n",
       "...            ...  ...     ...     ...        ...      ...        ...   \n",
       "1239             1  ...   82.05   58.21      81.32    73.86  81.563382   \n",
       "1240             3  ...   82.05   58.21      81.32    73.86  81.563382   \n",
       "1241             2  ...   43.30   28.21      29.74    33.75  34.260904   \n",
       "1242             1  ...   82.05   58.21      81.32    73.86  81.563382   \n",
       "1243             3  ...   69.37   69.37      69.37    69.37  69.370000   \n",
       "\n",
       "      qt_75_wh  d_to_core_outer  percent_error_66  percent_error_75   inc_day  \n",
       "0       31.185            1.745          0.017564          0.039500  20210812  \n",
       "1       31.185            0.000          2.213361          2.282632  20210812  \n",
       "2       32.120           -0.375          0.000000          0.000000  20210812  \n",
       "3       31.185            0.165         -0.033346         -0.012508  20210812  \n",
       "4       32.720            0.145          0.028906          0.035443  20210812  \n",
       "...        ...              ...               ...               ...       ...  \n",
       "1239    81.685            1.690          0.002993          0.004488  20210812  \n",
       "1240    81.685            4.630          0.401192          0.403281  20210812  \n",
       "1241    36.520           -2.456          0.152014          0.227976  20210812  \n",
       "1242    81.685            0.960         -0.005931         -0.004449  20210812  \n",
       "1243    69.370           -6.530          0.000000          0.000000  20210812  \n",
       "\n",
       "[1244 rows x 26 columns]"
      ],
      "text/html": [
       "<div>\n",
       "<style scoped>\n",
       "    .dataframe tbody tr th:only-of-type {\n",
       "        vertical-align: middle;\n",
       "    }\n",
       "\n",
       "    .dataframe tbody tr th {\n",
       "        vertical-align: top;\n",
       "    }\n",
       "\n",
       "    .dataframe thead th {\n",
       "        text-align: right;\n",
       "    }\n",
       "</style>\n",
       "<table border=\"1\" class=\"dataframe\">\n",
       "  <thead>\n",
       "    <tr style=\"text-align: right;\">\n",
       "      <th></th>\n",
       "      <th>ou_code</th>\n",
       "      <th>operation_day</th>\n",
       "      <th>inbound_receive_qty</th>\n",
       "      <th>kernal_core1</th>\n",
       "      <th>kernal_value1</th>\n",
       "      <th>outbound_shipped_qty</th>\n",
       "      <th>kernal_core2</th>\n",
       "      <th>kernal_value2</th>\n",
       "      <th>total_working_hour</th>\n",
       "      <th>kernal_core3</th>\n",
       "      <th>...</th>\n",
       "      <th>max_wh</th>\n",
       "      <th>min_wh</th>\n",
       "      <th>median_wh</th>\n",
       "      <th>mean_wh</th>\n",
       "      <th>qt_66_wh</th>\n",
       "      <th>qt_75_wh</th>\n",
       "      <th>d_to_core_outer</th>\n",
       "      <th>percent_error_66</th>\n",
       "      <th>percent_error_75</th>\n",
       "      <th>inc_day</th>\n",
       "    </tr>\n",
       "  </thead>\n",
       "  <tbody>\n",
       "    <tr>\n",
       "      <th>0</th>\n",
       "      <td>CN-001</td>\n",
       "      <td>20210619</td>\n",
       "      <td>0.0</td>\n",
       "      <td>-1</td>\n",
       "      <td>0.000000</td>\n",
       "      <td>0.0</td>\n",
       "      <td>-1</td>\n",
       "      <td>0.000000</td>\n",
       "      <td>30.00</td>\n",
       "      <td>1</td>\n",
       "      <td>...</td>\n",
       "      <td>31.60</td>\n",
       "      <td>9.50</td>\n",
       "      <td>19.75</td>\n",
       "      <td>20.28</td>\n",
       "      <td>30.526930</td>\n",
       "      <td>31.185</td>\n",
       "      <td>1.745</td>\n",
       "      <td>0.017564</td>\n",
       "      <td>0.039500</td>\n",
       "      <td>20210812</td>\n",
       "    </tr>\n",
       "    <tr>\n",
       "      <th>1</th>\n",
       "      <td>CN-001</td>\n",
       "      <td>20210626</td>\n",
       "      <td>0.0</td>\n",
       "      <td>-1</td>\n",
       "      <td>0.000000</td>\n",
       "      <td>0.0</td>\n",
       "      <td>-1</td>\n",
       "      <td>0.000000</td>\n",
       "      <td>9.50</td>\n",
       "      <td>2</td>\n",
       "      <td>...</td>\n",
       "      <td>31.60</td>\n",
       "      <td>9.50</td>\n",
       "      <td>19.75</td>\n",
       "      <td>20.28</td>\n",
       "      <td>30.526930</td>\n",
       "      <td>31.185</td>\n",
       "      <td>0.000</td>\n",
       "      <td>2.213361</td>\n",
       "      <td>2.282632</td>\n",
       "      <td>20210812</td>\n",
       "    </tr>\n",
       "    <tr>\n",
       "      <th>2</th>\n",
       "      <td>CN-001</td>\n",
       "      <td>20210625</td>\n",
       "      <td>0.0</td>\n",
       "      <td>-1</td>\n",
       "      <td>0.000000</td>\n",
       "      <td>12819.0</td>\n",
       "      <td>2</td>\n",
       "      <td>13556.152941</td>\n",
       "      <td>32.12</td>\n",
       "      <td>1</td>\n",
       "      <td>...</td>\n",
       "      <td>32.12</td>\n",
       "      <td>32.12</td>\n",
       "      <td>32.12</td>\n",
       "      <td>32.12</td>\n",
       "      <td>32.120000</td>\n",
       "      <td>32.120</td>\n",
       "      <td>-0.375</td>\n",
       "      <td>0.000000</td>\n",
       "      <td>0.000000</td>\n",
       "      <td>20210812</td>\n",
       "    </tr>\n",
       "    <tr>\n",
       "      <th>3</th>\n",
       "      <td>CN-001</td>\n",
       "      <td>20210705</td>\n",
       "      <td>0.0</td>\n",
       "      <td>-1</td>\n",
       "      <td>0.000000</td>\n",
       "      <td>0.0</td>\n",
       "      <td>-1</td>\n",
       "      <td>0.000000</td>\n",
       "      <td>31.58</td>\n",
       "      <td>1</td>\n",
       "      <td>...</td>\n",
       "      <td>31.60</td>\n",
       "      <td>9.50</td>\n",
       "      <td>19.75</td>\n",
       "      <td>20.28</td>\n",
       "      <td>30.526930</td>\n",
       "      <td>31.185</td>\n",
       "      <td>0.165</td>\n",
       "      <td>-0.033346</td>\n",
       "      <td>-0.012508</td>\n",
       "      <td>20210812</td>\n",
       "    </tr>\n",
       "    <tr>\n",
       "      <th>4</th>\n",
       "      <td>CN-001</td>\n",
       "      <td>20210616</td>\n",
       "      <td>0.0</td>\n",
       "      <td>-1</td>\n",
       "      <td>0.000000</td>\n",
       "      <td>7321.0</td>\n",
       "      <td>1</td>\n",
       "      <td>2658.657561</td>\n",
       "      <td>31.60</td>\n",
       "      <td>1</td>\n",
       "      <td>...</td>\n",
       "      <td>33.08</td>\n",
       "      <td>24.50</td>\n",
       "      <td>32.10</td>\n",
       "      <td>30.80</td>\n",
       "      <td>32.513416</td>\n",
       "      <td>32.720</td>\n",
       "      <td>0.145</td>\n",
       "      <td>0.028906</td>\n",
       "      <td>0.035443</td>\n",
       "      <td>20210812</td>\n",
       "    </tr>\n",
       "    <tr>\n",
       "      <th>...</th>\n",
       "      <td>...</td>\n",
       "      <td>...</td>\n",
       "      <td>...</td>\n",
       "      <td>...</td>\n",
       "      <td>...</td>\n",
       "      <td>...</td>\n",
       "      <td>...</td>\n",
       "      <td>...</td>\n",
       "      <td>...</td>\n",
       "      <td>...</td>\n",
       "      <td>...</td>\n",
       "      <td>...</td>\n",
       "      <td>...</td>\n",
       "      <td>...</td>\n",
       "      <td>...</td>\n",
       "      <td>...</td>\n",
       "      <td>...</td>\n",
       "      <td>...</td>\n",
       "      <td>...</td>\n",
       "      <td>...</td>\n",
       "      <td>...</td>\n",
       "    </tr>\n",
       "    <tr>\n",
       "      <th>1239</th>\n",
       "      <td>HK-115</td>\n",
       "      <td>20210716</td>\n",
       "      <td>469.0</td>\n",
       "      <td>0</td>\n",
       "      <td>1829.564597</td>\n",
       "      <td>10006.0</td>\n",
       "      <td>2</td>\n",
       "      <td>7769.547289</td>\n",
       "      <td>81.32</td>\n",
       "      <td>1</td>\n",
       "      <td>...</td>\n",
       "      <td>82.05</td>\n",
       "      <td>58.21</td>\n",
       "      <td>81.32</td>\n",
       "      <td>73.86</td>\n",
       "      <td>81.563382</td>\n",
       "      <td>81.685</td>\n",
       "      <td>1.690</td>\n",
       "      <td>0.002993</td>\n",
       "      <td>0.004488</td>\n",
       "      <td>20210812</td>\n",
       "    </tr>\n",
       "    <tr>\n",
       "      <th>1240</th>\n",
       "      <td>HK-115</td>\n",
       "      <td>20210728</td>\n",
       "      <td>2490.0</td>\n",
       "      <td>0</td>\n",
       "      <td>1829.564597</td>\n",
       "      <td>8298.0</td>\n",
       "      <td>2</td>\n",
       "      <td>7769.547289</td>\n",
       "      <td>58.21</td>\n",
       "      <td>3</td>\n",
       "      <td>...</td>\n",
       "      <td>82.05</td>\n",
       "      <td>58.21</td>\n",
       "      <td>81.32</td>\n",
       "      <td>73.86</td>\n",
       "      <td>81.563382</td>\n",
       "      <td>81.685</td>\n",
       "      <td>4.630</td>\n",
       "      <td>0.401192</td>\n",
       "      <td>0.403281</td>\n",
       "      <td>20210812</td>\n",
       "    </tr>\n",
       "    <tr>\n",
       "      <th>1241</th>\n",
       "      <td>HK-115</td>\n",
       "      <td>20210724</td>\n",
       "      <td>240.0</td>\n",
       "      <td>0</td>\n",
       "      <td>1829.564597</td>\n",
       "      <td>2190.0</td>\n",
       "      <td>0</td>\n",
       "      <td>4103.392744</td>\n",
       "      <td>29.74</td>\n",
       "      <td>2</td>\n",
       "      <td>...</td>\n",
       "      <td>43.30</td>\n",
       "      <td>28.21</td>\n",
       "      <td>29.74</td>\n",
       "      <td>33.75</td>\n",
       "      <td>34.260904</td>\n",
       "      <td>36.520</td>\n",
       "      <td>-2.456</td>\n",
       "      <td>0.152014</td>\n",
       "      <td>0.227976</td>\n",
       "      <td>20210812</td>\n",
       "    </tr>\n",
       "    <tr>\n",
       "      <th>1242</th>\n",
       "      <td>HK-115</td>\n",
       "      <td>20210715</td>\n",
       "      <td>2021.0</td>\n",
       "      <td>0</td>\n",
       "      <td>1829.564597</td>\n",
       "      <td>6827.0</td>\n",
       "      <td>2</td>\n",
       "      <td>7769.547289</td>\n",
       "      <td>82.05</td>\n",
       "      <td>1</td>\n",
       "      <td>...</td>\n",
       "      <td>82.05</td>\n",
       "      <td>58.21</td>\n",
       "      <td>81.32</td>\n",
       "      <td>73.86</td>\n",
       "      <td>81.563382</td>\n",
       "      <td>81.685</td>\n",
       "      <td>0.960</td>\n",
       "      <td>-0.005931</td>\n",
       "      <td>-0.004449</td>\n",
       "      <td>20210812</td>\n",
       "    </tr>\n",
       "    <tr>\n",
       "      <th>1243</th>\n",
       "      <td>HK-115</td>\n",
       "      <td>20210720</td>\n",
       "      <td>58319.0</td>\n",
       "      <td>1</td>\n",
       "      <td>58319.000000</td>\n",
       "      <td>6729.0</td>\n",
       "      <td>2</td>\n",
       "      <td>7769.547289</td>\n",
       "      <td>69.37</td>\n",
       "      <td>3</td>\n",
       "      <td>...</td>\n",
       "      <td>69.37</td>\n",
       "      <td>69.37</td>\n",
       "      <td>69.37</td>\n",
       "      <td>69.37</td>\n",
       "      <td>69.370000</td>\n",
       "      <td>69.370</td>\n",
       "      <td>-6.530</td>\n",
       "      <td>0.000000</td>\n",
       "      <td>0.000000</td>\n",
       "      <td>20210812</td>\n",
       "    </tr>\n",
       "  </tbody>\n",
       "</table>\n",
       "<p>1244 rows × 26 columns</p>\n",
       "</div>"
      ]
     },
     "metadata": {},
     "execution_count": 28
    }
   ],
   "metadata": {}
  },
  {
   "cell_type": "code",
   "execution_count": 37,
   "source": [
    "df_final['kernal_core1'].astype(str) + df_final['kernal_core2'].astype(str) "
   ],
   "outputs": [
    {
     "output_type": "execute_result",
     "data": {
      "text/plain": [
       "0       -1-1\n",
       "1       -1-1\n",
       "2        -12\n",
       "3       -1-1\n",
       "4        -11\n",
       "        ... \n",
       "1239      02\n",
       "1240      02\n",
       "1241      00\n",
       "1242      02\n",
       "1243      12\n",
       "Length: 1244, dtype: object"
      ]
     },
     "metadata": {},
     "execution_count": 37
    }
   ],
   "metadata": {}
  },
  {
   "cell_type": "code",
   "execution_count": 43,
   "source": [
    " import plotly.express as px\r\n",
    " def plot3d(ou_code):\r\n",
    "    df_plot = df_final[df_final['ou_code'] == ou_code]\r\n",
    "    df_plot['kernal_core5'] = df_final['kernal_core1'].astype(str) + df_final['kernal_core2'].astype(str) \r\n",
    "    fig = px.scatter_3d(df_plot, x='inbound_receive_qty', y='outbound_shipped_qty', z='total_working_hour',\r\n",
    "              color = 'kernal_core3')\r\n",
    "    return fig.show()\r\n"
   ],
   "outputs": [],
   "metadata": {}
  },
  {
   "cell_type": "code",
   "execution_count": 44,
   "source": [
    "plot3d('CN-214')"
   ],
   "outputs": [
    {
     "output_type": "display_data",
     "data": {
      "application/vnd.plotly.v1+json": {
       "config": {
        "plotlyServerURL": "https://plot.ly"
       },
       "data": [
        {
         "hovertemplate": "inbound_receive_qty=%{x}<br>outbound_shipped_qty=%{y}<br>total_working_hour=%{z}<br>kernal_core3=%{marker.color}<extra></extra>",
         "legendgroup": "",
         "marker": {
          "color": [
           2,
           2,
           0,
           1,
           1,
           1,
           1,
           1,
           0,
           3,
           1,
           1,
           1,
           1,
           1,
           1,
           1,
           1,
           3,
           1,
           1,
           1,
           1,
           0,
           0,
           1,
           0,
           1,
           1,
           1,
           1,
           1,
           0,
           1,
           3
          ],
          "coloraxis": "coloraxis",
          "symbol": "circle"
         },
         "mode": "markers",
         "name": "",
         "scene": "scene",
         "showlegend": false,
         "type": "scatter3d",
         "x": [
          0,
          0,
          0,
          24486,
          36252,
          29114,
          28241,
          10459,
          9576,
          9378,
          12596,
          7575,
          15900,
          10265,
          17814,
          14090,
          10759,
          7481,
          11376,
          5803,
          4589,
          5869,
          31,
          1125,
          5760,
          1944,
          272,
          1170,
          2660,
          4872,
          4281,
          4684,
          1292,
          49697,
          56932
         ],
         "y": [
          82273,
          0,
          11050,
          0,
          14371,
          12318,
          5842,
          7057,
          0,
          125653,
          16583,
          35938,
          18504,
          31143,
          14942,
          30278,
          13508,
          5734,
          0,
          5604,
          8916,
          14440,
          12166,
          53294,
          36475,
          7286,
          47018,
          32223,
          0,
          35543,
          16529,
          24787,
          4753,
          26169,
          0
         ],
         "z": [
          41.88,
          22.97,
          81,
          142.53000000000003,
          171.47,
          167.76,
          163.24999999999997,
          161.1,
          86.74,
          117.82,
          163.68,
          169.64,
          152.01999999999998,
          165.85,
          166.28,
          153.18,
          159.09,
          160.5,
          102.55,
          150.34,
          155.16,
          162.47000000000003,
          159.98,
          71.72,
          69.96000000000001,
          162.33,
          72.84,
          170.57999999999998,
          154.10000000000002,
          153.06,
          148.49,
          171.01,
          72.43,
          177.79999999999998,
          112.93
         ]
        }
       ],
       "layout": {
        "coloraxis": {
         "colorbar": {
          "title": {
           "text": "kernal_core3"
          }
         },
         "colorscale": [
          [
           0,
           "#0d0887"
          ],
          [
           0.1111111111111111,
           "#46039f"
          ],
          [
           0.2222222222222222,
           "#7201a8"
          ],
          [
           0.3333333333333333,
           "#9c179e"
          ],
          [
           0.4444444444444444,
           "#bd3786"
          ],
          [
           0.5555555555555556,
           "#d8576b"
          ],
          [
           0.6666666666666666,
           "#ed7953"
          ],
          [
           0.7777777777777778,
           "#fb9f3a"
          ],
          [
           0.8888888888888888,
           "#fdca26"
          ],
          [
           1,
           "#f0f921"
          ]
         ]
        },
        "legend": {
         "tracegroupgap": 0
        },
        "margin": {
         "t": 60
        },
        "scene": {
         "domain": {
          "x": [
           0,
           1
          ],
          "y": [
           0,
           1
          ]
         },
         "xaxis": {
          "title": {
           "text": "inbound_receive_qty"
          }
         },
         "yaxis": {
          "title": {
           "text": "outbound_shipped_qty"
          }
         },
         "zaxis": {
          "title": {
           "text": "total_working_hour"
          }
         }
        },
        "template": {
         "data": {
          "bar": [
           {
            "error_x": {
             "color": "#2a3f5f"
            },
            "error_y": {
             "color": "#2a3f5f"
            },
            "marker": {
             "line": {
              "color": "#E5ECF6",
              "width": 0.5
             }
            },
            "type": "bar"
           }
          ],
          "barpolar": [
           {
            "marker": {
             "line": {
              "color": "#E5ECF6",
              "width": 0.5
             }
            },
            "type": "barpolar"
           }
          ],
          "carpet": [
           {
            "aaxis": {
             "endlinecolor": "#2a3f5f",
             "gridcolor": "white",
             "linecolor": "white",
             "minorgridcolor": "white",
             "startlinecolor": "#2a3f5f"
            },
            "baxis": {
             "endlinecolor": "#2a3f5f",
             "gridcolor": "white",
             "linecolor": "white",
             "minorgridcolor": "white",
             "startlinecolor": "#2a3f5f"
            },
            "type": "carpet"
           }
          ],
          "choropleth": [
           {
            "colorbar": {
             "outlinewidth": 0,
             "ticks": ""
            },
            "type": "choropleth"
           }
          ],
          "contour": [
           {
            "colorbar": {
             "outlinewidth": 0,
             "ticks": ""
            },
            "colorscale": [
             [
              0,
              "#0d0887"
             ],
             [
              0.1111111111111111,
              "#46039f"
             ],
             [
              0.2222222222222222,
              "#7201a8"
             ],
             [
              0.3333333333333333,
              "#9c179e"
             ],
             [
              0.4444444444444444,
              "#bd3786"
             ],
             [
              0.5555555555555556,
              "#d8576b"
             ],
             [
              0.6666666666666666,
              "#ed7953"
             ],
             [
              0.7777777777777778,
              "#fb9f3a"
             ],
             [
              0.8888888888888888,
              "#fdca26"
             ],
             [
              1,
              "#f0f921"
             ]
            ],
            "type": "contour"
           }
          ],
          "contourcarpet": [
           {
            "colorbar": {
             "outlinewidth": 0,
             "ticks": ""
            },
            "type": "contourcarpet"
           }
          ],
          "heatmap": [
           {
            "colorbar": {
             "outlinewidth": 0,
             "ticks": ""
            },
            "colorscale": [
             [
              0,
              "#0d0887"
             ],
             [
              0.1111111111111111,
              "#46039f"
             ],
             [
              0.2222222222222222,
              "#7201a8"
             ],
             [
              0.3333333333333333,
              "#9c179e"
             ],
             [
              0.4444444444444444,
              "#bd3786"
             ],
             [
              0.5555555555555556,
              "#d8576b"
             ],
             [
              0.6666666666666666,
              "#ed7953"
             ],
             [
              0.7777777777777778,
              "#fb9f3a"
             ],
             [
              0.8888888888888888,
              "#fdca26"
             ],
             [
              1,
              "#f0f921"
             ]
            ],
            "type": "heatmap"
           }
          ],
          "heatmapgl": [
           {
            "colorbar": {
             "outlinewidth": 0,
             "ticks": ""
            },
            "colorscale": [
             [
              0,
              "#0d0887"
             ],
             [
              0.1111111111111111,
              "#46039f"
             ],
             [
              0.2222222222222222,
              "#7201a8"
             ],
             [
              0.3333333333333333,
              "#9c179e"
             ],
             [
              0.4444444444444444,
              "#bd3786"
             ],
             [
              0.5555555555555556,
              "#d8576b"
             ],
             [
              0.6666666666666666,
              "#ed7953"
             ],
             [
              0.7777777777777778,
              "#fb9f3a"
             ],
             [
              0.8888888888888888,
              "#fdca26"
             ],
             [
              1,
              "#f0f921"
             ]
            ],
            "type": "heatmapgl"
           }
          ],
          "histogram": [
           {
            "marker": {
             "colorbar": {
              "outlinewidth": 0,
              "ticks": ""
             }
            },
            "type": "histogram"
           }
          ],
          "histogram2d": [
           {
            "colorbar": {
             "outlinewidth": 0,
             "ticks": ""
            },
            "colorscale": [
             [
              0,
              "#0d0887"
             ],
             [
              0.1111111111111111,
              "#46039f"
             ],
             [
              0.2222222222222222,
              "#7201a8"
             ],
             [
              0.3333333333333333,
              "#9c179e"
             ],
             [
              0.4444444444444444,
              "#bd3786"
             ],
             [
              0.5555555555555556,
              "#d8576b"
             ],
             [
              0.6666666666666666,
              "#ed7953"
             ],
             [
              0.7777777777777778,
              "#fb9f3a"
             ],
             [
              0.8888888888888888,
              "#fdca26"
             ],
             [
              1,
              "#f0f921"
             ]
            ],
            "type": "histogram2d"
           }
          ],
          "histogram2dcontour": [
           {
            "colorbar": {
             "outlinewidth": 0,
             "ticks": ""
            },
            "colorscale": [
             [
              0,
              "#0d0887"
             ],
             [
              0.1111111111111111,
              "#46039f"
             ],
             [
              0.2222222222222222,
              "#7201a8"
             ],
             [
              0.3333333333333333,
              "#9c179e"
             ],
             [
              0.4444444444444444,
              "#bd3786"
             ],
             [
              0.5555555555555556,
              "#d8576b"
             ],
             [
              0.6666666666666666,
              "#ed7953"
             ],
             [
              0.7777777777777778,
              "#fb9f3a"
             ],
             [
              0.8888888888888888,
              "#fdca26"
             ],
             [
              1,
              "#f0f921"
             ]
            ],
            "type": "histogram2dcontour"
           }
          ],
          "mesh3d": [
           {
            "colorbar": {
             "outlinewidth": 0,
             "ticks": ""
            },
            "type": "mesh3d"
           }
          ],
          "parcoords": [
           {
            "line": {
             "colorbar": {
              "outlinewidth": 0,
              "ticks": ""
             }
            },
            "type": "parcoords"
           }
          ],
          "pie": [
           {
            "automargin": true,
            "type": "pie"
           }
          ],
          "scatter": [
           {
            "marker": {
             "colorbar": {
              "outlinewidth": 0,
              "ticks": ""
             }
            },
            "type": "scatter"
           }
          ],
          "scatter3d": [
           {
            "line": {
             "colorbar": {
              "outlinewidth": 0,
              "ticks": ""
             }
            },
            "marker": {
             "colorbar": {
              "outlinewidth": 0,
              "ticks": ""
             }
            },
            "type": "scatter3d"
           }
          ],
          "scattercarpet": [
           {
            "marker": {
             "colorbar": {
              "outlinewidth": 0,
              "ticks": ""
             }
            },
            "type": "scattercarpet"
           }
          ],
          "scattergeo": [
           {
            "marker": {
             "colorbar": {
              "outlinewidth": 0,
              "ticks": ""
             }
            },
            "type": "scattergeo"
           }
          ],
          "scattergl": [
           {
            "marker": {
             "colorbar": {
              "outlinewidth": 0,
              "ticks": ""
             }
            },
            "type": "scattergl"
           }
          ],
          "scattermapbox": [
           {
            "marker": {
             "colorbar": {
              "outlinewidth": 0,
              "ticks": ""
             }
            },
            "type": "scattermapbox"
           }
          ],
          "scatterpolar": [
           {
            "marker": {
             "colorbar": {
              "outlinewidth": 0,
              "ticks": ""
             }
            },
            "type": "scatterpolar"
           }
          ],
          "scatterpolargl": [
           {
            "marker": {
             "colorbar": {
              "outlinewidth": 0,
              "ticks": ""
             }
            },
            "type": "scatterpolargl"
           }
          ],
          "scatterternary": [
           {
            "marker": {
             "colorbar": {
              "outlinewidth": 0,
              "ticks": ""
             }
            },
            "type": "scatterternary"
           }
          ],
          "surface": [
           {
            "colorbar": {
             "outlinewidth": 0,
             "ticks": ""
            },
            "colorscale": [
             [
              0,
              "#0d0887"
             ],
             [
              0.1111111111111111,
              "#46039f"
             ],
             [
              0.2222222222222222,
              "#7201a8"
             ],
             [
              0.3333333333333333,
              "#9c179e"
             ],
             [
              0.4444444444444444,
              "#bd3786"
             ],
             [
              0.5555555555555556,
              "#d8576b"
             ],
             [
              0.6666666666666666,
              "#ed7953"
             ],
             [
              0.7777777777777778,
              "#fb9f3a"
             ],
             [
              0.8888888888888888,
              "#fdca26"
             ],
             [
              1,
              "#f0f921"
             ]
            ],
            "type": "surface"
           }
          ],
          "table": [
           {
            "cells": {
             "fill": {
              "color": "#EBF0F8"
             },
             "line": {
              "color": "white"
             }
            },
            "header": {
             "fill": {
              "color": "#C8D4E3"
             },
             "line": {
              "color": "white"
             }
            },
            "type": "table"
           }
          ]
         },
         "layout": {
          "annotationdefaults": {
           "arrowcolor": "#2a3f5f",
           "arrowhead": 0,
           "arrowwidth": 1
          },
          "autotypenumbers": "strict",
          "coloraxis": {
           "colorbar": {
            "outlinewidth": 0,
            "ticks": ""
           }
          },
          "colorscale": {
           "diverging": [
            [
             0,
             "#8e0152"
            ],
            [
             0.1,
             "#c51b7d"
            ],
            [
             0.2,
             "#de77ae"
            ],
            [
             0.3,
             "#f1b6da"
            ],
            [
             0.4,
             "#fde0ef"
            ],
            [
             0.5,
             "#f7f7f7"
            ],
            [
             0.6,
             "#e6f5d0"
            ],
            [
             0.7,
             "#b8e186"
            ],
            [
             0.8,
             "#7fbc41"
            ],
            [
             0.9,
             "#4d9221"
            ],
            [
             1,
             "#276419"
            ]
           ],
           "sequential": [
            [
             0,
             "#0d0887"
            ],
            [
             0.1111111111111111,
             "#46039f"
            ],
            [
             0.2222222222222222,
             "#7201a8"
            ],
            [
             0.3333333333333333,
             "#9c179e"
            ],
            [
             0.4444444444444444,
             "#bd3786"
            ],
            [
             0.5555555555555556,
             "#d8576b"
            ],
            [
             0.6666666666666666,
             "#ed7953"
            ],
            [
             0.7777777777777778,
             "#fb9f3a"
            ],
            [
             0.8888888888888888,
             "#fdca26"
            ],
            [
             1,
             "#f0f921"
            ]
           ],
           "sequentialminus": [
            [
             0,
             "#0d0887"
            ],
            [
             0.1111111111111111,
             "#46039f"
            ],
            [
             0.2222222222222222,
             "#7201a8"
            ],
            [
             0.3333333333333333,
             "#9c179e"
            ],
            [
             0.4444444444444444,
             "#bd3786"
            ],
            [
             0.5555555555555556,
             "#d8576b"
            ],
            [
             0.6666666666666666,
             "#ed7953"
            ],
            [
             0.7777777777777778,
             "#fb9f3a"
            ],
            [
             0.8888888888888888,
             "#fdca26"
            ],
            [
             1,
             "#f0f921"
            ]
           ]
          },
          "colorway": [
           "#636efa",
           "#EF553B",
           "#00cc96",
           "#ab63fa",
           "#FFA15A",
           "#19d3f3",
           "#FF6692",
           "#B6E880",
           "#FF97FF",
           "#FECB52"
          ],
          "font": {
           "color": "#2a3f5f"
          },
          "geo": {
           "bgcolor": "white",
           "lakecolor": "white",
           "landcolor": "#E5ECF6",
           "showlakes": true,
           "showland": true,
           "subunitcolor": "white"
          },
          "hoverlabel": {
           "align": "left"
          },
          "hovermode": "closest",
          "mapbox": {
           "style": "light"
          },
          "paper_bgcolor": "white",
          "plot_bgcolor": "#E5ECF6",
          "polar": {
           "angularaxis": {
            "gridcolor": "white",
            "linecolor": "white",
            "ticks": ""
           },
           "bgcolor": "#E5ECF6",
           "radialaxis": {
            "gridcolor": "white",
            "linecolor": "white",
            "ticks": ""
           }
          },
          "scene": {
           "xaxis": {
            "backgroundcolor": "#E5ECF6",
            "gridcolor": "white",
            "gridwidth": 2,
            "linecolor": "white",
            "showbackground": true,
            "ticks": "",
            "zerolinecolor": "white"
           },
           "yaxis": {
            "backgroundcolor": "#E5ECF6",
            "gridcolor": "white",
            "gridwidth": 2,
            "linecolor": "white",
            "showbackground": true,
            "ticks": "",
            "zerolinecolor": "white"
           },
           "zaxis": {
            "backgroundcolor": "#E5ECF6",
            "gridcolor": "white",
            "gridwidth": 2,
            "linecolor": "white",
            "showbackground": true,
            "ticks": "",
            "zerolinecolor": "white"
           }
          },
          "shapedefaults": {
           "line": {
            "color": "#2a3f5f"
           }
          },
          "ternary": {
           "aaxis": {
            "gridcolor": "white",
            "linecolor": "white",
            "ticks": ""
           },
           "baxis": {
            "gridcolor": "white",
            "linecolor": "white",
            "ticks": ""
           },
           "bgcolor": "#E5ECF6",
           "caxis": {
            "gridcolor": "white",
            "linecolor": "white",
            "ticks": ""
           }
          },
          "title": {
           "x": 0.05
          },
          "xaxis": {
           "automargin": true,
           "gridcolor": "white",
           "linecolor": "white",
           "ticks": "",
           "title": {
            "standoff": 15
           },
           "zerolinecolor": "white",
           "zerolinewidth": 2
          },
          "yaxis": {
           "automargin": true,
           "gridcolor": "white",
           "linecolor": "white",
           "ticks": "",
           "title": {
            "standoff": 15
           },
           "zerolinecolor": "white",
           "zerolinewidth": 2
          }
         }
        }
       }
      }
     },
     "metadata": {}
    }
   ],
   "metadata": {}
  },
  {
   "cell_type": "code",
   "execution_count": 64,
   "source": [
    "\r\n",
    "fig.show()"
   ],
   "outputs": [],
   "metadata": {}
  },
  {
   "cell_type": "code",
   "execution_count": 72,
   "source": [],
   "outputs": [],
   "metadata": {}
  },
  {
   "cell_type": "code",
   "execution_count": null,
   "source": [],
   "outputs": [],
   "metadata": {}
  }
 ]
}