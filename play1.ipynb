{
 "metadata": {
  "language_info": {
   "codemirror_mode": {
    "name": "ipython",
    "version": 3
   },
   "file_extension": ".py",
   "mimetype": "text/x-python",
   "name": "python",
   "nbconvert_exporter": "python",
   "pygments_lexer": "ipython3",
   "version": "3.8.8"
  },
  "orig_nbformat": 4,
  "kernelspec": {
   "name": "python3",
   "display_name": "Python 3.8.8 64-bit ('siming': conda)"
  },
  "interpreter": {
   "hash": "47b50d2908d96196e4220cfb4e81faa93803065ea975497e7026f672c1f58470"
  }
 },
 "nbformat": 4,
 "nbformat_minor": 2,
 "cells": [
  {
   "cell_type": "code",
   "execution_count": 1,
   "source": [
    "\r\n",
    "import numpy as np # linear algebra\r\n",
    "import pandas as pd # data processing, CSV file I/O (e.g. pd.read_csv)\r\n",
    "import matplotlib.pyplot as plt\r\n",
    "from sklearn import cluster\r\n",
    "import os\r\n",
    "import re\r\n",
    "# import seaborn as sns\r\n",
    "\r\n",
    "import warnings\r\n",
    "warnings.filterwarnings('ignore')\r\n",
    "os.getcwd()\r\n"
   ],
   "outputs": [
    {
     "output_type": "execute_result",
     "data": {
      "text/plain": [
       "'c:\\\\Users\\\\dscshap3808\\\\Documents\\\\my_scripts_new\\\\play1'"
      ]
     },
     "metadata": {},
     "execution_count": 1
    }
   ],
   "metadata": {}
  },
  {
   "cell_type": "code",
   "execution_count": 37,
   "source": [
    "df = pd.read_csv('./daily_ou_kpi.csv')\r\n",
    "# df.dropna(axis = 1, inplace = True, how = 'all')\r\n",
    "# re1 = re.compile(r'(?<=\\.).+')\r\n",
    "# df.columns = [re1.findall(i)[0] for i in list(df.columns.to_numpy())]\r\n",
    "# df.to_csv('./dws_dsc_wh_ou_daily_kpi_july.csv', encoding='utf_8_sig')\r\n",
    "\r\n",
    "# df.to_csv('./daily_kpi_all_810.csv', encoding='utf_8_sig')"
   ],
   "outputs": [],
   "metadata": {}
  },
  {
   "cell_type": "code",
   "execution_count": 38,
   "source": [
    "re1 = re.compile(r'(?<=\\.).+')\r\n",
    "df.columns = [re1.findall(i)[0] for i in list(df.columns.to_numpy())]"
   ],
   "outputs": [],
   "metadata": {}
  },
  {
   "cell_type": "code",
   "execution_count": 68,
   "source": [
    "df[df['ou_code'] == 'CN-305'].head(5)"
   ],
   "outputs": [
    {
     "output_type": "execute_result",
     "data": {
      "text/html": [
       "<div>\n",
       "<style scoped>\n",
       "    .dataframe tbody tr th:only-of-type {\n",
       "        vertical-align: middle;\n",
       "    }\n",
       "\n",
       "    .dataframe tbody tr th {\n",
       "        vertical-align: top;\n",
       "    }\n",
       "\n",
       "    .dataframe thead th {\n",
       "        text-align: right;\n",
       "    }\n",
       "</style>\n",
       "<table border=\"1\" class=\"dataframe\">\n",
       "  <thead>\n",
       "    <tr style=\"text-align: right;\">\n",
       "      <th></th>\n",
       "      <th>ou_code</th>\n",
       "      <th>operation_day</th>\n",
       "      <th>inbound_receive_qty</th>\n",
       "      <th>is_holiday</th>\n",
       "      <th>outbound_shipped_qty</th>\n",
       "      <th>total_head_count</th>\n",
       "      <th>total_working_hour</th>\n",
       "      <th>outsource_working_hour</th>\n",
       "      <th>perm_working_hour</th>\n",
       "      <th>other_working_hour</th>\n",
       "      <th>direct_working_hour</th>\n",
       "      <th>indirect_working_hour</th>\n",
       "      <th>outbound_inbound_qty_ratio</th>\n",
       "      <th>perm_working_hour_ratio</th>\n",
       "      <th>working_hour_per_head</th>\n",
       "      <th>location_usage_rate</th>\n",
       "      <th>location_idle_rate</th>\n",
       "    </tr>\n",
       "  </thead>\n",
       "  <tbody>\n",
       "    <tr>\n",
       "      <th>17195</th>\n",
       "      <td>CN-305</td>\n",
       "      <td>20210605</td>\n",
       "      <td>7780.0</td>\n",
       "      <td>1</td>\n",
       "      <td>39.0</td>\n",
       "      <td>20.0</td>\n",
       "      <td>240.0</td>\n",
       "      <td>0.0</td>\n",
       "      <td>0.0</td>\n",
       "      <td>0.0</td>\n",
       "      <td>240.0</td>\n",
       "      <td>0.0</td>\n",
       "      <td>0.005013</td>\n",
       "      <td>0.000000</td>\n",
       "      <td>12.000000</td>\n",
       "      <td>0.424214</td>\n",
       "      <td>0.575786</td>\n",
       "    </tr>\n",
       "    <tr>\n",
       "      <th>17196</th>\n",
       "      <td>CN-305</td>\n",
       "      <td>20210502</td>\n",
       "      <td>362.0</td>\n",
       "      <td>1</td>\n",
       "      <td>5.0</td>\n",
       "      <td>8.0</td>\n",
       "      <td>102.5</td>\n",
       "      <td>0.0</td>\n",
       "      <td>0.0</td>\n",
       "      <td>0.0</td>\n",
       "      <td>102.5</td>\n",
       "      <td>0.0</td>\n",
       "      <td>0.013812</td>\n",
       "      <td>0.000000</td>\n",
       "      <td>12.812500</td>\n",
       "      <td>0.000000</td>\n",
       "      <td>0.000000</td>\n",
       "    </tr>\n",
       "    <tr>\n",
       "      <th>17197</th>\n",
       "      <td>CN-305</td>\n",
       "      <td>20210805</td>\n",
       "      <td>23597.0</td>\n",
       "      <td>0</td>\n",
       "      <td>30567.0</td>\n",
       "      <td>21.0</td>\n",
       "      <td>246.0</td>\n",
       "      <td>200.5</td>\n",
       "      <td>45.5</td>\n",
       "      <td>0.0</td>\n",
       "      <td>246.0</td>\n",
       "      <td>0.0</td>\n",
       "      <td>1.295377</td>\n",
       "      <td>0.184959</td>\n",
       "      <td>11.714286</td>\n",
       "      <td>0.842192</td>\n",
       "      <td>0.157808</td>\n",
       "    </tr>\n",
       "    <tr>\n",
       "      <th>17198</th>\n",
       "      <td>CN-305</td>\n",
       "      <td>20210823</td>\n",
       "      <td>9412.0</td>\n",
       "      <td>0</td>\n",
       "      <td>13008.0</td>\n",
       "      <td>21.0</td>\n",
       "      <td>258.5</td>\n",
       "      <td>204.0</td>\n",
       "      <td>54.5</td>\n",
       "      <td>0.0</td>\n",
       "      <td>258.5</td>\n",
       "      <td>0.0</td>\n",
       "      <td>1.382065</td>\n",
       "      <td>0.210832</td>\n",
       "      <td>12.309524</td>\n",
       "      <td>0.835157</td>\n",
       "      <td>0.164843</td>\n",
       "    </tr>\n",
       "    <tr>\n",
       "      <th>17199</th>\n",
       "      <td>CN-305</td>\n",
       "      <td>20210626</td>\n",
       "      <td>0.0</td>\n",
       "      <td>1</td>\n",
       "      <td>42.0</td>\n",
       "      <td>15.0</td>\n",
       "      <td>182.0</td>\n",
       "      <td>171.5</td>\n",
       "      <td>10.5</td>\n",
       "      <td>0.0</td>\n",
       "      <td>182.0</td>\n",
       "      <td>0.0</td>\n",
       "      <td>0.000000</td>\n",
       "      <td>0.057692</td>\n",
       "      <td>12.133333</td>\n",
       "      <td>0.622566</td>\n",
       "      <td>0.377434</td>\n",
       "    </tr>\n",
       "  </tbody>\n",
       "</table>\n",
       "</div>"
      ],
      "text/plain": [
       "      ou_code  operation_day  inbound_receive_qty  is_holiday  \\\n",
       "17195  CN-305       20210605               7780.0           1   \n",
       "17196  CN-305       20210502                362.0           1   \n",
       "17197  CN-305       20210805              23597.0           0   \n",
       "17198  CN-305       20210823               9412.0           0   \n",
       "17199  CN-305       20210626                  0.0           1   \n",
       "\n",
       "       outbound_shipped_qty  total_head_count  total_working_hour  \\\n",
       "17195                  39.0              20.0               240.0   \n",
       "17196                   5.0               8.0               102.5   \n",
       "17197               30567.0              21.0               246.0   \n",
       "17198               13008.0              21.0               258.5   \n",
       "17199                  42.0              15.0               182.0   \n",
       "\n",
       "       outsource_working_hour  perm_working_hour  other_working_hour  \\\n",
       "17195                     0.0                0.0                 0.0   \n",
       "17196                     0.0                0.0                 0.0   \n",
       "17197                   200.5               45.5                 0.0   \n",
       "17198                   204.0               54.5                 0.0   \n",
       "17199                   171.5               10.5                 0.0   \n",
       "\n",
       "       direct_working_hour  indirect_working_hour  outbound_inbound_qty_ratio  \\\n",
       "17195                240.0                    0.0                    0.005013   \n",
       "17196                102.5                    0.0                    0.013812   \n",
       "17197                246.0                    0.0                    1.295377   \n",
       "17198                258.5                    0.0                    1.382065   \n",
       "17199                182.0                    0.0                    0.000000   \n",
       "\n",
       "       perm_working_hour_ratio  working_hour_per_head  location_usage_rate  \\\n",
       "17195                 0.000000              12.000000             0.424214   \n",
       "17196                 0.000000              12.812500             0.000000   \n",
       "17197                 0.184959              11.714286             0.842192   \n",
       "17198                 0.210832              12.309524             0.835157   \n",
       "17199                 0.057692              12.133333             0.622566   \n",
       "\n",
       "       location_idle_rate  \n",
       "17195            0.575786  \n",
       "17196            0.000000  \n",
       "17197            0.157808  \n",
       "17198            0.164843  \n",
       "17199            0.377434  "
      ]
     },
     "metadata": {},
     "execution_count": 68
    }
   ],
   "metadata": {}
  },
  {
   "cell_type": "code",
   "execution_count": 40,
   "source": [
    "\r\n",
    "# clean_df2 = df.groupby('ou_code')[[\r\n",
    "#     'inbound_receive_qty', 'outbound_shipped_qty'\r\n",
    "#     ]].sum().reset_index()\r\n",
    "# clean_df2['sum'] = clean_df2.sum(axis = 1)\r\n",
    "# clean_df2 = clean_df2[clean_df2['sum'] != 0]\r\n",
    "# df = df[df['ou_code'].isin(clean_df2.ou_code)]"
   ],
   "outputs": [],
   "metadata": {}
  },
  {
   "cell_type": "code",
   "execution_count": 41,
   "source": [
    "\r\n",
    "clean_df1 = (df.groupby('ou_code')['operation_day'].count() <2).reset_index()\r\n",
    "clean_df1.columns = ['ou_code', 'flag1']\r\n",
    "df = clean_df1.merge(df, on = 'ou_code', how = 'inner')\r\n",
    "df = df[df['flag1'] == False]\r\n",
    "\r\n",
    "clean_df2 = df.groupby('ou_code')[[\r\n",
    "    'inbound_receive_qty', 'outbound_shipped_qty'\r\n",
    "    ]].sum().reset_index()\r\n",
    "clean_df2['sum'] = clean_df2.sum(axis = 1)\r\n",
    "clean_df2 = clean_df2[clean_df2['sum'] != 0]\r\n",
    "df = df[df['ou_code'].isin(clean_df2.ou_code)]\r\n",
    "\r\n",
    "clean_df3 = (df.groupby('ou_code')[[\r\n",
    "    'total_working_hour'\r\n",
    "    ]].sum() == 0).reset_index()\r\n",
    "clean_df3 = clean_df3[clean_df3['total_working_hour'] == False]\r\n",
    "\r\n",
    "\r\n",
    "# clean_df4 = (df.groupby('ou_code')[[\r\n",
    "#     'outsource_working_hour'\r\n",
    "#     ]].sum() == 0).reset_index()\r\n",
    "# clean_df4 = clean_df4[clean_df4['outsource_working_hour'] == False]\r\n",
    "# df = df[df['ou_code'].isin(clean_df4.ou_code)]\r\n",
    "# df= df.reset_index()\r\n",
    " \r\n",
    "# df = df[df['ou_code'].isin(clean_df3.ou_code)]\r\n",
    "# df= df.reset_index()\r\n",
    "\r\n",
    "df = df[[\r\n",
    "    'ou_code','operation_day', 'inbound_receive_qty', 'is_holiday',\r\n",
    "    'outbound_shipped_qty','total_head_count','total_working_hour',\r\n",
    "    'outsource_working_hour', 'perm_working_hour',\r\n",
    "    'other_working_hour', 'direct_working_hour', 'indirect_working_hour',\r\n",
    "    'outbound_inbound_qty_ratio', 'perm_working_hour_ratio',\r\n",
    "    'working_hour_per_head', 'location_usage_rate', 'location_idle_rate']]\r\n",
    "df = df.fillna(0)\r\n",
    "df = df[df['total_working_hour'] != 0]\r\n",
    "df.head()"
   ],
   "outputs": [
    {
     "output_type": "execute_result",
     "data": {
      "text/html": [
       "<div>\n",
       "<style scoped>\n",
       "    .dataframe tbody tr th:only-of-type {\n",
       "        vertical-align: middle;\n",
       "    }\n",
       "\n",
       "    .dataframe tbody tr th {\n",
       "        vertical-align: top;\n",
       "    }\n",
       "\n",
       "    .dataframe thead th {\n",
       "        text-align: right;\n",
       "    }\n",
       "</style>\n",
       "<table border=\"1\" class=\"dataframe\">\n",
       "  <thead>\n",
       "    <tr style=\"text-align: right;\">\n",
       "      <th></th>\n",
       "      <th>ou_code</th>\n",
       "      <th>operation_day</th>\n",
       "      <th>inbound_receive_qty</th>\n",
       "      <th>is_holiday</th>\n",
       "      <th>outbound_shipped_qty</th>\n",
       "      <th>total_head_count</th>\n",
       "      <th>total_working_hour</th>\n",
       "      <th>outsource_working_hour</th>\n",
       "      <th>perm_working_hour</th>\n",
       "      <th>other_working_hour</th>\n",
       "      <th>direct_working_hour</th>\n",
       "      <th>indirect_working_hour</th>\n",
       "      <th>outbound_inbound_qty_ratio</th>\n",
       "      <th>perm_working_hour_ratio</th>\n",
       "      <th>working_hour_per_head</th>\n",
       "      <th>location_usage_rate</th>\n",
       "      <th>location_idle_rate</th>\n",
       "    </tr>\n",
       "  </thead>\n",
       "  <tbody>\n",
       "    <tr>\n",
       "      <th>0</th>\n",
       "      <td>CN-001</td>\n",
       "      <td>20210430</td>\n",
       "      <td>0.0</td>\n",
       "      <td>0</td>\n",
       "      <td>1699.0</td>\n",
       "      <td>4.0</td>\n",
       "      <td>32.75</td>\n",
       "      <td>0.0</td>\n",
       "      <td>0.00</td>\n",
       "      <td>0.0</td>\n",
       "      <td>32.75</td>\n",
       "      <td>0.0</td>\n",
       "      <td>0.000000</td>\n",
       "      <td>0.0</td>\n",
       "      <td>8.1875</td>\n",
       "      <td>0.000000</td>\n",
       "      <td>0.000000</td>\n",
       "    </tr>\n",
       "    <tr>\n",
       "      <th>1</th>\n",
       "      <td>CN-001</td>\n",
       "      <td>20210619</td>\n",
       "      <td>0.0</td>\n",
       "      <td>1</td>\n",
       "      <td>0.0</td>\n",
       "      <td>3.0</td>\n",
       "      <td>30.00</td>\n",
       "      <td>0.0</td>\n",
       "      <td>30.00</td>\n",
       "      <td>0.0</td>\n",
       "      <td>30.00</td>\n",
       "      <td>0.0</td>\n",
       "      <td>0.000000</td>\n",
       "      <td>1.0</td>\n",
       "      <td>10.0000</td>\n",
       "      <td>0.011628</td>\n",
       "      <td>0.988372</td>\n",
       "    </tr>\n",
       "    <tr>\n",
       "      <th>2</th>\n",
       "      <td>CN-001</td>\n",
       "      <td>20210427</td>\n",
       "      <td>4794.0</td>\n",
       "      <td>0</td>\n",
       "      <td>7392.0</td>\n",
       "      <td>4.0</td>\n",
       "      <td>32.28</td>\n",
       "      <td>0.0</td>\n",
       "      <td>0.00</td>\n",
       "      <td>0.0</td>\n",
       "      <td>32.28</td>\n",
       "      <td>0.0</td>\n",
       "      <td>1.541927</td>\n",
       "      <td>0.0</td>\n",
       "      <td>8.0700</td>\n",
       "      <td>0.000000</td>\n",
       "      <td>0.000000</td>\n",
       "    </tr>\n",
       "    <tr>\n",
       "      <th>3</th>\n",
       "      <td>CN-001</td>\n",
       "      <td>20210419</td>\n",
       "      <td>11400.0</td>\n",
       "      <td>0</td>\n",
       "      <td>6000.0</td>\n",
       "      <td>4.0</td>\n",
       "      <td>33.25</td>\n",
       "      <td>0.0</td>\n",
       "      <td>0.00</td>\n",
       "      <td>0.0</td>\n",
       "      <td>33.25</td>\n",
       "      <td>0.0</td>\n",
       "      <td>0.526316</td>\n",
       "      <td>0.0</td>\n",
       "      <td>8.3125</td>\n",
       "      <td>0.000000</td>\n",
       "      <td>0.000000</td>\n",
       "    </tr>\n",
       "    <tr>\n",
       "      <th>4</th>\n",
       "      <td>CN-001</td>\n",
       "      <td>20210617</td>\n",
       "      <td>114.0</td>\n",
       "      <td>0</td>\n",
       "      <td>13527.0</td>\n",
       "      <td>5.0</td>\n",
       "      <td>40.58</td>\n",
       "      <td>0.0</td>\n",
       "      <td>40.58</td>\n",
       "      <td>0.0</td>\n",
       "      <td>40.58</td>\n",
       "      <td>0.0</td>\n",
       "      <td>118.657895</td>\n",
       "      <td>1.0</td>\n",
       "      <td>8.1160</td>\n",
       "      <td>0.001600</td>\n",
       "      <td>0.998400</td>\n",
       "    </tr>\n",
       "  </tbody>\n",
       "</table>\n",
       "</div>"
      ],
      "text/plain": [
       "  ou_code  operation_day  inbound_receive_qty  is_holiday  \\\n",
       "0  CN-001       20210430                  0.0           0   \n",
       "1  CN-001       20210619                  0.0           1   \n",
       "2  CN-001       20210427               4794.0           0   \n",
       "3  CN-001       20210419              11400.0           0   \n",
       "4  CN-001       20210617                114.0           0   \n",
       "\n",
       "   outbound_shipped_qty  total_head_count  total_working_hour  \\\n",
       "0                1699.0               4.0               32.75   \n",
       "1                   0.0               3.0               30.00   \n",
       "2                7392.0               4.0               32.28   \n",
       "3                6000.0               4.0               33.25   \n",
       "4               13527.0               5.0               40.58   \n",
       "\n",
       "   outsource_working_hour  perm_working_hour  other_working_hour  \\\n",
       "0                     0.0               0.00                 0.0   \n",
       "1                     0.0              30.00                 0.0   \n",
       "2                     0.0               0.00                 0.0   \n",
       "3                     0.0               0.00                 0.0   \n",
       "4                     0.0              40.58                 0.0   \n",
       "\n",
       "   direct_working_hour  indirect_working_hour  outbound_inbound_qty_ratio  \\\n",
       "0                32.75                    0.0                    0.000000   \n",
       "1                30.00                    0.0                    0.000000   \n",
       "2                32.28                    0.0                    1.541927   \n",
       "3                33.25                    0.0                    0.526316   \n",
       "4                40.58                    0.0                  118.657895   \n",
       "\n",
       "   perm_working_hour_ratio  working_hour_per_head  location_usage_rate  \\\n",
       "0                      0.0                 8.1875             0.000000   \n",
       "1                      1.0                10.0000             0.011628   \n",
       "2                      0.0                 8.0700             0.000000   \n",
       "3                      0.0                 8.3125             0.000000   \n",
       "4                      1.0                 8.1160             0.001600   \n",
       "\n",
       "   location_idle_rate  \n",
       "0            0.000000  \n",
       "1            0.988372  \n",
       "2            0.000000  \n",
       "3            0.000000  \n",
       "4            0.998400  "
      ]
     },
     "metadata": {},
     "execution_count": 41
    }
   ],
   "metadata": {}
  },
  {
   "cell_type": "code",
   "execution_count": 42,
   "source": [
    "len(df['ou_code'].unique())"
   ],
   "outputs": [
    {
     "output_type": "execute_result",
     "data": {
      "text/plain": [
       "65"
      ]
     },
     "metadata": {},
     "execution_count": 42
    }
   ],
   "metadata": {}
  },
  {
   "cell_type": "code",
   "execution_count": 23,
   "source": [
    "from sklearn.metrics import davies_bouldin_score\r\n",
    "from sklearn.cluster import KMeans "
   ],
   "outputs": [],
   "metadata": {}
  },
  {
   "cell_type": "code",
   "execution_count": 72,
   "source": [
    "# from sklearn.metrics import davies_bouldin_scores\r\n",
    "\r\n",
    "def mnb_kmeans_in(ou_code):\r\n",
    "        \"\"\"\r\n",
    "        mini batch kmeans, inbound, outbound, working hour data.\r\n",
    "        simple algorithm, adding cols {max, min, mean, median, 75 quantile, distance to kernal}\r\n",
    "        Calculate Davies Bouldin score\r\n",
    "        from sklearn.metrics import davies_bouldin_score\r\n",
    "        null data fill\r\n",
    "        \"\"\"\r\n",
    "\r\n",
    "        df_fin = pd.DataFrame()\r\n",
    "        df_sub = df[df['ou_code'] == ou_code][['ou_code', 'operation_day', 'inbound_receive_qty']]        \r\n",
    "        df_fin = df_fin.append(df_sub[df_sub['inbound_receive_qty'] == 0])\r\n",
    "        df_fin['kernal_core1' ] = -1\r\n",
    "        df_fin['kernal_value1'] = 0\r\n",
    "\r\n",
    "        \"\"\"\r\n",
    "        not null data training\r\n",
    "        \"\"\"\r\n",
    "        df_rec = df_sub[df_sub['inbound_receive_qty'] != 0]      \r\n",
    "        scores = []\r\n",
    "        for center in list(range(2,15)):\r\n",
    "            kmeans = cluster.KMeans(n_clusters=center)\r\n",
    "            model  = kmeans.fit_predict(\r\n",
    "                        X = np.reshape(list(df_rec['inbound_receive_qty']), (-1,1))\r\n",
    "                        )\r\n",
    "            score  = davies_bouldin_score(\r\n",
    "                        np.reshape(list(df_rec['inbound_receive_qty']), (-1,1)), model\r\n",
    "                        )\r\n",
    "            scores.append(score)\r\n",
    "\r\n",
    "        center = np.argmin(scores)\r\n",
    "        print(center)\r\n",
    "        alg1 = cluster.MiniBatchKMeans(n_clusters = center, random_state = 529)\r\n",
    "        hist1 = alg1.fit(np.reshape(list(df_rec['inbound_receive_qty']), (-1,1)))\r\n",
    "        df_rec['kernal_core1'] = hist1.labels_\r\n",
    "        cl_1 = pd.concat(\r\n",
    "                [pd.DataFrame(hist1.cluster_centers_), pd.Series(np.arange(0,center))], axis = 1\r\n",
    "                )\r\n",
    "        \r\n",
    "        cl_1.columns = ['kernal_value1', 'kernal_core1']\r\n",
    "        df_rec = df_rec.merge(\r\n",
    "                cl_1, on = 'kernal_core1', how = 'inner'\r\n",
    "                )\r\n",
    "        \r\n",
    "        \"\"\"\r\n",
    "        merging\r\n",
    "        \"\"\"\r\n",
    "        df_fin = df_fin.append(df_rec).reset_index().drop(['index'], axis = 1)\r\n",
    "\r\n",
    "        # df_fin['kind'] = 'inbound'\r\n",
    "\r\n",
    "        return df_fin\r\n",
    "\r\n",
    "\r\n",
    "\r\n",
    "# scores = []\r\n",
    "# centers = list(range(2,30))\r\n",
    "# for center in centers:\r\n",
    "#     scores.append(get_kmeans_score(cluster_df, center))\r\n",
    " "
   ],
   "outputs": [],
   "metadata": {}
  },
  {
   "cell_type": "code",
   "execution_count": 73,
   "source": [
    "mnb_kmeans_in('CN-214')"
   ],
   "outputs": [
    {
     "output_type": "stream",
     "name": "stdout",
     "text": [
      "12\n"
     ]
    },
    {
     "output_type": "execute_result",
     "data": {
      "text/html": [
       "<div>\n",
       "<style scoped>\n",
       "    .dataframe tbody tr th:only-of-type {\n",
       "        vertical-align: middle;\n",
       "    }\n",
       "\n",
       "    .dataframe tbody tr th {\n",
       "        vertical-align: top;\n",
       "    }\n",
       "\n",
       "    .dataframe thead th {\n",
       "        text-align: right;\n",
       "    }\n",
       "</style>\n",
       "<table border=\"1\" class=\"dataframe\">\n",
       "  <thead>\n",
       "    <tr style=\"text-align: right;\">\n",
       "      <th></th>\n",
       "      <th>ou_code</th>\n",
       "      <th>operation_day</th>\n",
       "      <th>inbound_receive_qty</th>\n",
       "      <th>kernal_core1</th>\n",
       "      <th>kernal_value1</th>\n",
       "    </tr>\n",
       "  </thead>\n",
       "  <tbody>\n",
       "    <tr>\n",
       "      <th>0</th>\n",
       "      <td>CN-214</td>\n",
       "      <td>20210815</td>\n",
       "      <td>0.0</td>\n",
       "      <td>-1</td>\n",
       "      <td>0.00000</td>\n",
       "    </tr>\n",
       "    <tr>\n",
       "      <th>1</th>\n",
       "      <td>CN-214</td>\n",
       "      <td>20210717</td>\n",
       "      <td>0.0</td>\n",
       "      <td>-1</td>\n",
       "      <td>0.00000</td>\n",
       "    </tr>\n",
       "    <tr>\n",
       "      <th>2</th>\n",
       "      <td>CN-214</td>\n",
       "      <td>20210719</td>\n",
       "      <td>0.0</td>\n",
       "      <td>-1</td>\n",
       "      <td>0.00000</td>\n",
       "    </tr>\n",
       "    <tr>\n",
       "      <th>3</th>\n",
       "      <td>CN-214</td>\n",
       "      <td>20210729</td>\n",
       "      <td>0.0</td>\n",
       "      <td>-1</td>\n",
       "      <td>0.00000</td>\n",
       "    </tr>\n",
       "    <tr>\n",
       "      <th>4</th>\n",
       "      <td>CN-214</td>\n",
       "      <td>20210711</td>\n",
       "      <td>0.0</td>\n",
       "      <td>-1</td>\n",
       "      <td>0.00000</td>\n",
       "    </tr>\n",
       "    <tr>\n",
       "      <th>...</th>\n",
       "      <td>...</td>\n",
       "      <td>...</td>\n",
       "      <td>...</td>\n",
       "      <td>...</td>\n",
       "      <td>...</td>\n",
       "    </tr>\n",
       "    <tr>\n",
       "      <th>146</th>\n",
       "      <td>CN-214</td>\n",
       "      <td>20210426</td>\n",
       "      <td>15269.0</td>\n",
       "      <td>8</td>\n",
       "      <td>14871.62605</td>\n",
       "    </tr>\n",
       "    <tr>\n",
       "      <th>147</th>\n",
       "      <td>CN-214</td>\n",
       "      <td>20210707</td>\n",
       "      <td>72785.0</td>\n",
       "      <td>2</td>\n",
       "      <td>75275.40000</td>\n",
       "    </tr>\n",
       "    <tr>\n",
       "      <th>148</th>\n",
       "      <td>CN-214</td>\n",
       "      <td>20210901</td>\n",
       "      <td>76181.0</td>\n",
       "      <td>2</td>\n",
       "      <td>75275.40000</td>\n",
       "    </tr>\n",
       "    <tr>\n",
       "      <th>149</th>\n",
       "      <td>CN-214</td>\n",
       "      <td>20210609</td>\n",
       "      <td>88250.0</td>\n",
       "      <td>11</td>\n",
       "      <td>88250.00000</td>\n",
       "    </tr>\n",
       "    <tr>\n",
       "      <th>150</th>\n",
       "      <td>CN-214</td>\n",
       "      <td>20210503</td>\n",
       "      <td>108389.0</td>\n",
       "      <td>5</td>\n",
       "      <td>108389.00000</td>\n",
       "    </tr>\n",
       "  </tbody>\n",
       "</table>\n",
       "<p>151 rows × 5 columns</p>\n",
       "</div>"
      ],
      "text/plain": [
       "    ou_code  operation_day  inbound_receive_qty  kernal_core1  kernal_value1\n",
       "0    CN-214       20210815                  0.0            -1        0.00000\n",
       "1    CN-214       20210717                  0.0            -1        0.00000\n",
       "2    CN-214       20210719                  0.0            -1        0.00000\n",
       "3    CN-214       20210729                  0.0            -1        0.00000\n",
       "4    CN-214       20210711                  0.0            -1        0.00000\n",
       "..      ...            ...                  ...           ...            ...\n",
       "146  CN-214       20210426              15269.0             8    14871.62605\n",
       "147  CN-214       20210707              72785.0             2    75275.40000\n",
       "148  CN-214       20210901              76181.0             2    75275.40000\n",
       "149  CN-214       20210609              88250.0            11    88250.00000\n",
       "150  CN-214       20210503             108389.0             5   108389.00000\n",
       "\n",
       "[151 rows x 5 columns]"
      ]
     },
     "metadata": {},
     "execution_count": 73
    }
   ],
   "metadata": {}
  },
  {
   "cell_type": "code",
   "execution_count": 25,
   "source": [
    "# df_fin = pd.DataFrame()\r\n",
    "# df_sub = df[df['ou_code'] == 'CN-305'][['ou_code', 'operation_day', 'inbound_receive_qty']]        \r\n",
    "# df_fin = df_fin.append(df_sub[df_sub['inbound_receive_qty'] == 0])\r\n",
    "# df_fin['kernal_core1' ] = -1\r\n",
    "# df_fin['kernal_value1'] = 0\r\n",
    "# \"\"\"\r\n",
    "# not null data training\r\n",
    "# \"\"\"\r\n",
    "# df_rec = df_sub[df_sub['inbound_receive_qty'] != 0]      \r\n",
    "# scores = []\r\n",
    "# for center in list(range(2,10)):\r\n",
    "#     kmeans = cluster.KMeans(n_clusters=center)\r\n",
    "#     model  = kmeans.fit_predict(X = np.reshape(list(df_rec['inbound_receive_qty']), (-1,1)))\r\n",
    "#     score  = davies_bouldin_score(np.reshape(list(df_rec['inbound_receive_qty']), (-1,1)), model)\r\n",
    "#     scores.append(score)\r\n",
    "# center = min(scores)\r\n",
    "# np.argmin(scores)"
   ],
   "outputs": [
    {
     "output_type": "execute_result",
     "data": {
      "text/plain": [
       "0"
      ]
     },
     "metadata": {},
     "execution_count": 25
    }
   ],
   "metadata": {}
  },
  {
   "cell_type": "code",
   "execution_count": 46,
   "source": [
    "mnb_kmeans_in('CN-305')"
   ],
   "outputs": [
    {
     "output_type": "execute_result",
     "data": {
      "text/html": [
       "<div>\n",
       "<style scoped>\n",
       "    .dataframe tbody tr th:only-of-type {\n",
       "        vertical-align: middle;\n",
       "    }\n",
       "\n",
       "    .dataframe tbody tr th {\n",
       "        vertical-align: top;\n",
       "    }\n",
       "\n",
       "    .dataframe thead th {\n",
       "        text-align: right;\n",
       "    }\n",
       "</style>\n",
       "<table border=\"1\" class=\"dataframe\">\n",
       "  <thead>\n",
       "    <tr style=\"text-align: right;\">\n",
       "      <th></th>\n",
       "      <th>ou_code</th>\n",
       "      <th>operation_day</th>\n",
       "      <th>inbound_receive_qty</th>\n",
       "      <th>kernal_core1</th>\n",
       "      <th>kernal_value1</th>\n",
       "    </tr>\n",
       "  </thead>\n",
       "  <tbody>\n",
       "    <tr>\n",
       "      <th>0</th>\n",
       "      <td>CN-305</td>\n",
       "      <td>20210626</td>\n",
       "      <td>0.0</td>\n",
       "      <td>-1</td>\n",
       "      <td>0.00000</td>\n",
       "    </tr>\n",
       "    <tr>\n",
       "      <th>1</th>\n",
       "      <td>CN-305</td>\n",
       "      <td>20210429</td>\n",
       "      <td>0.0</td>\n",
       "      <td>-1</td>\n",
       "      <td>0.00000</td>\n",
       "    </tr>\n",
       "    <tr>\n",
       "      <th>2</th>\n",
       "      <td>CN-305</td>\n",
       "      <td>20210730</td>\n",
       "      <td>0.0</td>\n",
       "      <td>-1</td>\n",
       "      <td>0.00000</td>\n",
       "    </tr>\n",
       "    <tr>\n",
       "      <th>3</th>\n",
       "      <td>CN-305</td>\n",
       "      <td>20210827</td>\n",
       "      <td>0.0</td>\n",
       "      <td>-1</td>\n",
       "      <td>0.00000</td>\n",
       "    </tr>\n",
       "    <tr>\n",
       "      <th>4</th>\n",
       "      <td>CN-305</td>\n",
       "      <td>20210528</td>\n",
       "      <td>0.0</td>\n",
       "      <td>-1</td>\n",
       "      <td>0.00000</td>\n",
       "    </tr>\n",
       "    <tr>\n",
       "      <th>...</th>\n",
       "      <td>...</td>\n",
       "      <td>...</td>\n",
       "      <td>...</td>\n",
       "      <td>...</td>\n",
       "      <td>...</td>\n",
       "    </tr>\n",
       "    <tr>\n",
       "      <th>146</th>\n",
       "      <td>CN-305</td>\n",
       "      <td>20210715</td>\n",
       "      <td>45430.0</td>\n",
       "      <td>4</td>\n",
       "      <td>48504.32243</td>\n",
       "    </tr>\n",
       "    <tr>\n",
       "      <th>147</th>\n",
       "      <td>CN-305</td>\n",
       "      <td>20210806</td>\n",
       "      <td>35732.0</td>\n",
       "      <td>4</td>\n",
       "      <td>48504.32243</td>\n",
       "    </tr>\n",
       "    <tr>\n",
       "      <th>148</th>\n",
       "      <td>CN-305</td>\n",
       "      <td>20210712</td>\n",
       "      <td>44814.0</td>\n",
       "      <td>4</td>\n",
       "      <td>48504.32243</td>\n",
       "    </tr>\n",
       "    <tr>\n",
       "      <th>149</th>\n",
       "      <td>CN-305</td>\n",
       "      <td>20210813</td>\n",
       "      <td>35743.0</td>\n",
       "      <td>4</td>\n",
       "      <td>48504.32243</td>\n",
       "    </tr>\n",
       "    <tr>\n",
       "      <th>150</th>\n",
       "      <td>CN-305</td>\n",
       "      <td>20210810</td>\n",
       "      <td>60231.0</td>\n",
       "      <td>4</td>\n",
       "      <td>48504.32243</td>\n",
       "    </tr>\n",
       "  </tbody>\n",
       "</table>\n",
       "<p>151 rows × 5 columns</p>\n",
       "</div>"
      ],
      "text/plain": [
       "    ou_code  operation_day  inbound_receive_qty  kernal_core1  kernal_value1\n",
       "0    CN-305       20210626                  0.0            -1        0.00000\n",
       "1    CN-305       20210429                  0.0            -1        0.00000\n",
       "2    CN-305       20210730                  0.0            -1        0.00000\n",
       "3    CN-305       20210827                  0.0            -1        0.00000\n",
       "4    CN-305       20210528                  0.0            -1        0.00000\n",
       "..      ...            ...                  ...           ...            ...\n",
       "146  CN-305       20210715              45430.0             4    48504.32243\n",
       "147  CN-305       20210806              35732.0             4    48504.32243\n",
       "148  CN-305       20210712              44814.0             4    48504.32243\n",
       "149  CN-305       20210813              35743.0             4    48504.32243\n",
       "150  CN-305       20210810              60231.0             4    48504.32243\n",
       "\n",
       "[151 rows x 5 columns]"
      ]
     },
     "metadata": {},
     "execution_count": 46
    }
   ],
   "metadata": {}
  },
  {
   "cell_type": "code",
   "execution_count": 45,
   "source": [
    "\r\n",
    "def mnb_kmeans_in(ou_code):\r\n",
    "        \"\"\"\r\n",
    "        mini batch kmeans, inbound, outbound, working hour data.\r\n",
    "        simple algorithm, adding cols {max, min, mean, median, 75 quantile, distance to kernal}\r\n",
    "        \"\"\"\r\n",
    "        alg1 = cluster.MiniBatchKMeans(n_clusters = 5, random_state = 5290403)\r\n",
    "        \"\"\"\r\n",
    "        null data fill\r\n",
    "        \"\"\"\r\n",
    "        df_fin = pd.DataFrame()\r\n",
    "        df_sub = df[df['ou_code'] == ou_code][['ou_code', 'operation_day', 'inbound_receive_qty']]        \r\n",
    "        df_fin = df_fin.append(df_sub[df_sub['inbound_receive_qty'] == 0])\r\n",
    "        df_fin['kernal_core1' ] = -1\r\n",
    "        df_fin['kernal_value1'] = 0\r\n",
    "        \"\"\"\r\n",
    "        not null data training\r\n",
    "        \"\"\"\r\n",
    "        df_rec = df_sub[df_sub['inbound_receive_qty'] != 0]      \r\n",
    "        hist1 = alg1.fit(np.reshape(list(df_rec['inbound_receive_qty']), (-1,1)))\r\n",
    "        df_rec['kernal_core1'] = hist1.labels_\r\n",
    "        cl_1 = pd.concat(\r\n",
    "                [pd.DataFrame(hist1.cluster_centers_), pd.Series(np.arange(0,5))], axis = 1\r\n",
    "                )\r\n",
    "        \r\n",
    "        cl_1.columns = ['kernal_value1', 'kernal_core1']\r\n",
    "        df_rec = df_rec.merge(\r\n",
    "                cl_1, on = 'kernal_core1', how = 'inner'\r\n",
    "                )\r\n",
    "        \r\n",
    "        \"\"\"\r\n",
    "        merging\r\n",
    "        \"\"\"\r\n",
    "        df_fin = df_fin.append(df_rec).reset_index().drop(['index'], axis = 1)\r\n",
    "\r\n",
    "        # df_fin['kind'] = 'inbound'\r\n",
    "\r\n",
    "        return df_fin\r\n",
    "\r\n",
    "\r\n",
    "def mnb_kmeans_out(ou_code):\r\n",
    "        alg1 = cluster.MiniBatchKMeans(n_clusters = 5, random_state = 5290403)\r\n",
    "        df_fin = pd.DataFrame()\r\n",
    "        df_sub = df[df['ou_code'] == ou_code][['ou_code', 'operation_day', 'outbound_shipped_qty']]        \r\n",
    "        df_fin = df_fin.append(df_sub[df_sub['outbound_shipped_qty'] == 0])\r\n",
    "        df_fin['kernal_core2' ] = -1\r\n",
    "        df_fin['kernal_value2'] = 0\r\n",
    "        df_rec = df_sub[df_sub['outbound_shipped_qty'] != 0]\r\n",
    "\r\n",
    "        hist1 = alg1.fit(np.reshape(list(df_rec['outbound_shipped_qty']), (-1,1)))\r\n",
    "\r\n",
    "        df_rec['kernal_core2'] = hist1.labels_\r\n",
    "        cl_1 = pd.concat(\r\n",
    "                [pd.DataFrame(hist1.cluster_centers_), pd.Series(np.arange(0,5))], axis = 1\r\n",
    "                )\r\n",
    "        \r\n",
    "        cl_1.columns = ['kernal_value2', 'kernal_core2']\r\n",
    "\r\n",
    "        df_rec = df_rec.merge(\r\n",
    "                cl_1, on = 'kernal_core2', how = 'inner'\r\n",
    "                )\r\n",
    "        df_fin = df_fin.append(df_rec).reset_index().drop(['index'], axis = 1)\r\n",
    "        # df_fin['kind'] = 'outbound'\r\n",
    "        return df_fin\r\n",
    "\r\n",
    "def mnb_kmeans_hr(ou_code):\r\n",
    "        alg1 = cluster.MiniBatchKMeans(n_clusters = 5, random_state = 5290403)\r\n",
    "        df_fin = pd.DataFrame()\r\n",
    "        df_sub = df[df['ou_code'] == ou_code][['ou_code', 'operation_day', 'total_working_hour']]        \r\n",
    "        df_fin = df_fin.append(df_sub[df_sub['total_working_hour'] == 0])\r\n",
    "        df_fin['kernal_core3' ] = -1\r\n",
    "        df_fin['kernal_value3'] = 0\r\n",
    "        df_rec = df_sub[df_sub['total_working_hour'] != 0]\r\n",
    "\r\n",
    "        hist1 = alg1.fit(np.reshape(list(df_rec['total_working_hour']), (-1,1)))\r\n",
    "\r\n",
    "        df_rec['kernal_core3'] = hist1.labels_\r\n",
    "        cl_1 = pd.concat(\r\n",
    "                [pd.DataFrame(hist1.cluster_centers_), pd.Series(np.arange(0,5))], axis = 1\r\n",
    "                )\r\n",
    "        \r\n",
    "        cl_1.columns = ['kernal_value3', 'kernal_core3']\r\n",
    "\r\n",
    "        df_rec = df_rec.merge(\r\n",
    "                cl_1, on = 'kernal_core3', how = 'inner'\r\n",
    "                )\r\n",
    "        df_fin = df_fin.append(df_rec).reset_index().drop(['index'], axis = 1)\r\n",
    "        \"\"\"\r\n",
    "        组内kernal distance \r\n",
    "        \"\"\"\r\n",
    "        df_fin['dis_core']=df_fin.groupby(\r\n",
    "                'kernal_core3'\r\n",
    "                )['total_working_hour','kernal_value3'].diff(\r\n",
    "                        axis = 1\r\n",
    "                        ).drop('total_working_hour', axis = 1).round(3)\r\n",
    "        \r\n",
    "        return df_fin\r\n",
    "\r\n"
   ],
   "outputs": [],
   "metadata": {}
  },
  {
   "cell_type": "code",
   "execution_count": 45,
   "source": [
    "len(df['ou_code'].unique())\r\n"
   ],
   "outputs": [
    {
     "output_type": "execute_result",
     "data": {
      "text/plain": [
       "65"
      ]
     },
     "metadata": {},
     "execution_count": 45
    }
   ],
   "metadata": {}
  },
  {
   "cell_type": "code",
   "execution_count": 47,
   "source": [
    "ou_codes = list(df['ou_code'].unique())\r\n",
    "p = list()\r\n",
    "for i in ou_codes:\r\n",
    "    try: \r\n",
    "        mnb_kmeans_in(i)\r\n",
    "        mnb_kmeans_out(i)\r\n",
    "        mnb_kmeans_hr(i)\r\n",
    "        # mnb_kmeans_hr2(i)\r\n",
    "    except:\r\n",
    "        \r\n",
    "        p.append(i)\r\n",
    "\r\n",
    "\r\n",
    "for i in p:\r\n",
    "    ou_codes.remove(i)\r\n",
    "[p, len(p), len(ou_codes)]"
   ],
   "outputs": [
    {
     "output_type": "execute_result",
     "data": {
      "text/plain": [
       "[['CN-070', 'CN-392', 'HK-015'], 3, 62]"
      ]
     },
     "metadata": {},
     "execution_count": 47
    }
   ],
   "metadata": {}
  },
  {
   "cell_type": "code",
   "execution_count": 48,
   "source": [
    "%%time\r\n",
    "from functools import reduce\r\n",
    "df_final = pd.DataFrame()\r\n",
    "for i in ou_codes:\r\n",
    "        df_final = df_final.append(\r\n",
    "            reduce(\r\n",
    "                lambda left,right: pd.merge(\r\n",
    "                    left,right,on= ['ou_code', 'operation_day']\r\n",
    "                ), [mnb_kmeans_in(i), mnb_kmeans_out(i), mnb_kmeans_hr(i)]\r\n",
    "                )\r\n",
    "    )\r\n",
    "\r\n",
    "\"\"\"\r\n",
    "for loop , 对所有ou进行独立的kmeans on inb qty and outb qty\r\n",
    "随后merge 原始表\r\n",
    "\"\"\"\r\n",
    "\r\n",
    "# np.setdiff1d(ou_codes,df_final.ou_code.unique())\r\n",
    "df_final = df_final.merge(\r\n",
    "    df[['ou_code','operation_day',\\\r\n",
    "        'outbound_inbound_qty_ratio','working_hour_per_head','total_head_count','is_holiday']],\r\n",
    "    on = ['ou_code', 'operation_day'],\r\n",
    "    how = 'left'\r\n",
    "    )\r\n"
   ],
   "outputs": [
    {
     "output_type": "stream",
     "name": "stdout",
     "text": [
      "Wall time: 20.6 s\n"
     ]
    }
   ],
   "metadata": {}
  },
  {
   "cell_type": "code",
   "execution_count": 48,
   "source": [
    "# df_final.groupby(\r\n",
    "#                 'kernal_core3'\r\n",
    "#                 )['total_working_hour','kernal_value3'].diff(axis = 1).drop('total_working_hour', axis = 1)"
   ],
   "outputs": [],
   "metadata": {}
  },
  {
   "cell_type": "code",
   "execution_count": 49,
   "source": [
    "# df_final['outsource_working_hour']"
   ],
   "outputs": [],
   "metadata": {}
  },
  {
   "cell_type": "code",
   "execution_count": 55,
   "source": [
    "def mnb_kmeans_hr2(ou_code):\r\n",
    "        alg1 = cluster.MiniBatchKMeans(n_clusters = 5, random_state = 5290403)\r\n",
    "        df_fin = pd.DataFrame()\r\n",
    "        df_sub = df[df['ou_code'] == ou_code][['ou_code', 'operation_day', 'outsource_working_hour']]  \r\n",
    "        df_fin = df_fin.append(df_sub[df_sub['outsource_working_hour'] == 0])\r\n",
    "        df_fin['kernal_core4' ] = -1\r\n",
    "        df_fin['kernal_value4'] = 0\r\n",
    "        df_rec = df_sub[df_sub['outsource_working_hour'] != 0]\r\n",
    " \r\n",
    "        hist1 = alg1.fit(np.reshape(list(df_rec['outsource_working_hour']), (-1,1)))\r\n",
    "\r\n",
    "        df_rec['kernal_core4'] = hist1.labels_\r\n",
    "        cl_1 = pd.concat(\r\n",
    "                [pd.DataFrame(hist1.cluster_centers_), pd.Series(np.arange(0,5))], axis = 1\r\n",
    "                )\r\n",
    "        \r\n",
    "        cl_1.columns = ['kernal_value4', 'kernal_core4']\r\n",
    "\r\n",
    "        df_rec = df_rec.merge(\r\n",
    "                cl_1, on = 'kernal_core4', how = 'outer'\r\n",
    "                )\r\n",
    "        df_fin = df_fin.append(df_rec).reset_index().drop(['index'], axis = 1)\r\n",
    "        \r\n",
    "        df_fin['dis_core_os']=df_fin.groupby(\r\n",
    "                'kernal_core4'\r\n",
    "                )['outsource_working_hour','kernal_value4'].diff(\r\n",
    "                        axis = 1\r\n",
    "                        ).drop('outsource_working_hour', axis = 1).round(3)\r\n",
    "        return df_fin\r\n",
    "\r\n",
    "\r\n",
    "ou_codes\r\n",
    "p = list()\r\n",
    "for i in ou_codes:\r\n",
    "    try: \r\n",
    "        # mnb_kmeans_in(i)\r\n",
    "        # mnb_kmeans_out(i)\r\n",
    "        # mnb_kmeans_hr(i)\r\n",
    "        mnb_kmeans_hr2(i)\r\n",
    "    except:\r\n",
    "        \r\n",
    "        p.append(i)\r\n",
    "\r\n",
    "\r\n",
    "for i in p:\r\n",
    "    ou_codes.remove(i)\r\n",
    " "
   ],
   "outputs": [],
   "metadata": {}
  },
  {
   "cell_type": "code",
   "execution_count": 56,
   "source": [
    "[len(p),len(ou_codes)]"
   ],
   "outputs": [
    {
     "output_type": "execute_result",
     "data": {
      "text/plain": [
       "[0, 33]"
      ]
     },
     "metadata": {},
     "execution_count": 56
    }
   ],
   "metadata": {}
  },
  {
   "cell_type": "code",
   "execution_count": 57,
   "source": [
    "df_final2 = pd.DataFrame()\r\n",
    "for i in ou_codes:\r\n",
    "        df_final2 = df_final2.append(\r\n",
    "            mnb_kmeans_hr2(i)\r\n",
    "        )\r\n",
    "\r\n",
    "df_final = df_final.merge(df_final2, on =  ['ou_code', 'operation_day'], how = 'left').fillna(0)"
   ],
   "outputs": [],
   "metadata": {}
  },
  {
   "cell_type": "code",
   "execution_count": 111,
   "source": [
    "df_final[df_final['dis_core_os']!=0]"
   ],
   "outputs": [
    {
     "output_type": "execute_result",
     "data": {
      "text/html": [
       "<div>\n",
       "<style scoped>\n",
       "    .dataframe tbody tr th:only-of-type {\n",
       "        vertical-align: middle;\n",
       "    }\n",
       "\n",
       "    .dataframe tbody tr th {\n",
       "        vertical-align: top;\n",
       "    }\n",
       "\n",
       "    .dataframe thead th {\n",
       "        text-align: right;\n",
       "    }\n",
       "</style>\n",
       "<table border=\"1\" class=\"dataframe\">\n",
       "  <thead>\n",
       "    <tr style=\"text-align: right;\">\n",
       "      <th></th>\n",
       "      <th>ou_code</th>\n",
       "      <th>operation_day</th>\n",
       "      <th>inbound_receive_qty</th>\n",
       "      <th>kernal_core1</th>\n",
       "      <th>kernal_value1</th>\n",
       "      <th>outbound_shipped_qty</th>\n",
       "      <th>kernal_core2</th>\n",
       "      <th>kernal_value2</th>\n",
       "      <th>total_working_hour</th>\n",
       "      <th>kernal_core3</th>\n",
       "      <th>kernal_value3</th>\n",
       "      <th>dis_core</th>\n",
       "      <th>outbound_inbound_qty_ratio</th>\n",
       "      <th>working_hour_per_head</th>\n",
       "      <th>total_head_count</th>\n",
       "      <th>is_holiday</th>\n",
       "      <th>outsource_working_hour</th>\n",
       "      <th>kernal_core4</th>\n",
       "      <th>kernal_value4</th>\n",
       "      <th>dis_core_os</th>\n",
       "    </tr>\n",
       "  </thead>\n",
       "  <tbody>\n",
       "    <tr>\n",
       "      <th>133</th>\n",
       "      <td>CN-002</td>\n",
       "      <td>20210625</td>\n",
       "      <td>0.0</td>\n",
       "      <td>-1</td>\n",
       "      <td>0.000000e+00</td>\n",
       "      <td>12437.0</td>\n",
       "      <td>1</td>\n",
       "      <td>12440.139151</td>\n",
       "      <td>40.42</td>\n",
       "      <td>1</td>\n",
       "      <td>40.870852</td>\n",
       "      <td>0.451</td>\n",
       "      <td>0.000000</td>\n",
       "      <td>8.084000</td>\n",
       "      <td>5.0</td>\n",
       "      <td>0</td>\n",
       "      <td>16.30</td>\n",
       "      <td>0.0</td>\n",
       "      <td>16.369848</td>\n",
       "      <td>0.070</td>\n",
       "    </tr>\n",
       "    <tr>\n",
       "      <th>134</th>\n",
       "      <td>CN-002</td>\n",
       "      <td>20210708</td>\n",
       "      <td>0.0</td>\n",
       "      <td>-1</td>\n",
       "      <td>0.000000e+00</td>\n",
       "      <td>5893.0</td>\n",
       "      <td>3</td>\n",
       "      <td>6737.728291</td>\n",
       "      <td>57.73</td>\n",
       "      <td>2</td>\n",
       "      <td>55.509891</td>\n",
       "      <td>-2.220</td>\n",
       "      <td>0.000000</td>\n",
       "      <td>11.546000</td>\n",
       "      <td>5.0</td>\n",
       "      <td>0</td>\n",
       "      <td>21.70</td>\n",
       "      <td>2.0</td>\n",
       "      <td>21.703955</td>\n",
       "      <td>0.004</td>\n",
       "    </tr>\n",
       "    <tr>\n",
       "      <th>137</th>\n",
       "      <td>CN-002</td>\n",
       "      <td>20210826</td>\n",
       "      <td>0.0</td>\n",
       "      <td>-1</td>\n",
       "      <td>0.000000e+00</td>\n",
       "      <td>6866.0</td>\n",
       "      <td>3</td>\n",
       "      <td>6737.728291</td>\n",
       "      <td>32.70</td>\n",
       "      <td>4</td>\n",
       "      <td>33.208525</td>\n",
       "      <td>0.509</td>\n",
       "      <td>0.000000</td>\n",
       "      <td>8.175000</td>\n",
       "      <td>4.0</td>\n",
       "      <td>0</td>\n",
       "      <td>16.52</td>\n",
       "      <td>0.0</td>\n",
       "      <td>16.369848</td>\n",
       "      <td>-0.150</td>\n",
       "    </tr>\n",
       "    <tr>\n",
       "      <th>141</th>\n",
       "      <td>CN-002</td>\n",
       "      <td>20210903</td>\n",
       "      <td>0.0</td>\n",
       "      <td>-1</td>\n",
       "      <td>0.000000e+00</td>\n",
       "      <td>2955.0</td>\n",
       "      <td>0</td>\n",
       "      <td>2215.048520</td>\n",
       "      <td>40.55</td>\n",
       "      <td>1</td>\n",
       "      <td>40.870852</td>\n",
       "      <td>0.321</td>\n",
       "      <td>0.000000</td>\n",
       "      <td>8.110000</td>\n",
       "      <td>5.0</td>\n",
       "      <td>0</td>\n",
       "      <td>16.35</td>\n",
       "      <td>0.0</td>\n",
       "      <td>16.369848</td>\n",
       "      <td>0.020</td>\n",
       "    </tr>\n",
       "    <tr>\n",
       "      <th>142</th>\n",
       "      <td>CN-002</td>\n",
       "      <td>20210707</td>\n",
       "      <td>0.0</td>\n",
       "      <td>-1</td>\n",
       "      <td>0.000000e+00</td>\n",
       "      <td>2514.0</td>\n",
       "      <td>0</td>\n",
       "      <td>2215.048520</td>\n",
       "      <td>57.68</td>\n",
       "      <td>2</td>\n",
       "      <td>55.509891</td>\n",
       "      <td>-2.170</td>\n",
       "      <td>0.000000</td>\n",
       "      <td>11.536000</td>\n",
       "      <td>5.0</td>\n",
       "      <td>0</td>\n",
       "      <td>21.88</td>\n",
       "      <td>2.0</td>\n",
       "      <td>21.703955</td>\n",
       "      <td>-0.176</td>\n",
       "    </tr>\n",
       "    <tr>\n",
       "      <th>...</th>\n",
       "      <td>...</td>\n",
       "      <td>...</td>\n",
       "      <td>...</td>\n",
       "      <td>...</td>\n",
       "      <td>...</td>\n",
       "      <td>...</td>\n",
       "      <td>...</td>\n",
       "      <td>...</td>\n",
       "      <td>...</td>\n",
       "      <td>...</td>\n",
       "      <td>...</td>\n",
       "      <td>...</td>\n",
       "      <td>...</td>\n",
       "      <td>...</td>\n",
       "      <td>...</td>\n",
       "      <td>...</td>\n",
       "      <td>...</td>\n",
       "      <td>...</td>\n",
       "      <td>...</td>\n",
       "      <td>...</td>\n",
       "    </tr>\n",
       "    <tr>\n",
       "      <th>6919</th>\n",
       "      <td>CN-417</td>\n",
       "      <td>20210829</td>\n",
       "      <td>2881509.0</td>\n",
       "      <td>0</td>\n",
       "      <td>2.881509e+06</td>\n",
       "      <td>0.0</td>\n",
       "      <td>-1</td>\n",
       "      <td>0.000000</td>\n",
       "      <td>206.68</td>\n",
       "      <td>2</td>\n",
       "      <td>208.854467</td>\n",
       "      <td>2.174</td>\n",
       "      <td>0.000000</td>\n",
       "      <td>12.917500</td>\n",
       "      <td>16.0</td>\n",
       "      <td>1</td>\n",
       "      <td>195.50</td>\n",
       "      <td>0.0</td>\n",
       "      <td>186.724177</td>\n",
       "      <td>-8.776</td>\n",
       "    </tr>\n",
       "    <tr>\n",
       "      <th>6920</th>\n",
       "      <td>CN-417</td>\n",
       "      <td>20210903</td>\n",
       "      <td>106909.0</td>\n",
       "      <td>4</td>\n",
       "      <td>1.028484e+05</td>\n",
       "      <td>501.0</td>\n",
       "      <td>3</td>\n",
       "      <td>384.390558</td>\n",
       "      <td>88.41</td>\n",
       "      <td>1</td>\n",
       "      <td>56.422029</td>\n",
       "      <td>-31.988</td>\n",
       "      <td>0.004686</td>\n",
       "      <td>8.841000</td>\n",
       "      <td>10.0</td>\n",
       "      <td>0</td>\n",
       "      <td>63.00</td>\n",
       "      <td>1.0</td>\n",
       "      <td>70.209677</td>\n",
       "      <td>7.210</td>\n",
       "    </tr>\n",
       "    <tr>\n",
       "      <th>6921</th>\n",
       "      <td>CN-417</td>\n",
       "      <td>20210803</td>\n",
       "      <td>100000.0</td>\n",
       "      <td>4</td>\n",
       "      <td>1.028484e+05</td>\n",
       "      <td>0.0</td>\n",
       "      <td>-1</td>\n",
       "      <td>0.000000</td>\n",
       "      <td>202.25</td>\n",
       "      <td>2</td>\n",
       "      <td>208.854467</td>\n",
       "      <td>6.604</td>\n",
       "      <td>0.000000</td>\n",
       "      <td>9.630952</td>\n",
       "      <td>21.0</td>\n",
       "      <td>0</td>\n",
       "      <td>193.50</td>\n",
       "      <td>0.0</td>\n",
       "      <td>186.724177</td>\n",
       "      <td>-6.776</td>\n",
       "    </tr>\n",
       "    <tr>\n",
       "      <th>6922</th>\n",
       "      <td>CN-417</td>\n",
       "      <td>20210824</td>\n",
       "      <td>151671.0</td>\n",
       "      <td>3</td>\n",
       "      <td>1.426260e+05</td>\n",
       "      <td>153.0</td>\n",
       "      <td>0</td>\n",
       "      <td>155.783920</td>\n",
       "      <td>177.15</td>\n",
       "      <td>0</td>\n",
       "      <td>184.355871</td>\n",
       "      <td>7.206</td>\n",
       "      <td>0.001009</td>\n",
       "      <td>8.435714</td>\n",
       "      <td>21.0</td>\n",
       "      <td>0</td>\n",
       "      <td>167.50</td>\n",
       "      <td>4.0</td>\n",
       "      <td>163.938735</td>\n",
       "      <td>-3.561</td>\n",
       "    </tr>\n",
       "    <tr>\n",
       "      <th>6923</th>\n",
       "      <td>CN-417</td>\n",
       "      <td>20210827</td>\n",
       "      <td>135020.0</td>\n",
       "      <td>3</td>\n",
       "      <td>1.426260e+05</td>\n",
       "      <td>178.0</td>\n",
       "      <td>0</td>\n",
       "      <td>155.783920</td>\n",
       "      <td>182.57</td>\n",
       "      <td>0</td>\n",
       "      <td>184.355871</td>\n",
       "      <td>1.786</td>\n",
       "      <td>0.001318</td>\n",
       "      <td>8.693810</td>\n",
       "      <td>21.0</td>\n",
       "      <td>0</td>\n",
       "      <td>168.50</td>\n",
       "      <td>4.0</td>\n",
       "      <td>163.938735</td>\n",
       "      <td>-4.561</td>\n",
       "    </tr>\n",
       "  </tbody>\n",
       "</table>\n",
       "<p>2712 rows × 20 columns</p>\n",
       "</div>"
      ],
      "text/plain": [
       "     ou_code  operation_day  inbound_receive_qty  kernal_core1  kernal_value1  \\\n",
       "133   CN-002       20210625                  0.0            -1   0.000000e+00   \n",
       "134   CN-002       20210708                  0.0            -1   0.000000e+00   \n",
       "137   CN-002       20210826                  0.0            -1   0.000000e+00   \n",
       "141   CN-002       20210903                  0.0            -1   0.000000e+00   \n",
       "142   CN-002       20210707                  0.0            -1   0.000000e+00   \n",
       "...      ...            ...                  ...           ...            ...   \n",
       "6919  CN-417       20210829            2881509.0             0   2.881509e+06   \n",
       "6920  CN-417       20210903             106909.0             4   1.028484e+05   \n",
       "6921  CN-417       20210803             100000.0             4   1.028484e+05   \n",
       "6922  CN-417       20210824             151671.0             3   1.426260e+05   \n",
       "6923  CN-417       20210827             135020.0             3   1.426260e+05   \n",
       "\n",
       "      outbound_shipped_qty  kernal_core2  kernal_value2  total_working_hour  \\\n",
       "133                12437.0             1   12440.139151               40.42   \n",
       "134                 5893.0             3    6737.728291               57.73   \n",
       "137                 6866.0             3    6737.728291               32.70   \n",
       "141                 2955.0             0    2215.048520               40.55   \n",
       "142                 2514.0             0    2215.048520               57.68   \n",
       "...                    ...           ...            ...                 ...   \n",
       "6919                   0.0            -1       0.000000              206.68   \n",
       "6920                 501.0             3     384.390558               88.41   \n",
       "6921                   0.0            -1       0.000000              202.25   \n",
       "6922                 153.0             0     155.783920              177.15   \n",
       "6923                 178.0             0     155.783920              182.57   \n",
       "\n",
       "      kernal_core3  kernal_value3  dis_core  outbound_inbound_qty_ratio  \\\n",
       "133              1      40.870852     0.451                    0.000000   \n",
       "134              2      55.509891    -2.220                    0.000000   \n",
       "137              4      33.208525     0.509                    0.000000   \n",
       "141              1      40.870852     0.321                    0.000000   \n",
       "142              2      55.509891    -2.170                    0.000000   \n",
       "...            ...            ...       ...                         ...   \n",
       "6919             2     208.854467     2.174                    0.000000   \n",
       "6920             1      56.422029   -31.988                    0.004686   \n",
       "6921             2     208.854467     6.604                    0.000000   \n",
       "6922             0     184.355871     7.206                    0.001009   \n",
       "6923             0     184.355871     1.786                    0.001318   \n",
       "\n",
       "      working_hour_per_head  total_head_count  is_holiday  \\\n",
       "133                8.084000               5.0           0   \n",
       "134               11.546000               5.0           0   \n",
       "137                8.175000               4.0           0   \n",
       "141                8.110000               5.0           0   \n",
       "142               11.536000               5.0           0   \n",
       "...                     ...               ...         ...   \n",
       "6919              12.917500              16.0           1   \n",
       "6920               8.841000              10.0           0   \n",
       "6921               9.630952              21.0           0   \n",
       "6922               8.435714              21.0           0   \n",
       "6923               8.693810              21.0           0   \n",
       "\n",
       "      outsource_working_hour  kernal_core4  kernal_value4  dis_core_os  \n",
       "133                    16.30           0.0      16.369848        0.070  \n",
       "134                    21.70           2.0      21.703955        0.004  \n",
       "137                    16.52           0.0      16.369848       -0.150  \n",
       "141                    16.35           0.0      16.369848        0.020  \n",
       "142                    21.88           2.0      21.703955       -0.176  \n",
       "...                      ...           ...            ...          ...  \n",
       "6919                  195.50           0.0     186.724177       -8.776  \n",
       "6920                   63.00           1.0      70.209677        7.210  \n",
       "6921                  193.50           0.0     186.724177       -6.776  \n",
       "6922                  167.50           4.0     163.938735       -3.561  \n",
       "6923                  168.50           4.0     163.938735       -4.561  \n",
       "\n",
       "[2712 rows x 20 columns]"
      ]
     },
     "metadata": {},
     "execution_count": 111
    }
   ],
   "metadata": {}
  },
  {
   "cell_type": "code",
   "execution_count": null,
   "source": [
    "# model = sm.OLS(Y = X)\r\n",
    "# results = model.fit()\r\n",
    "# results.params"
   ],
   "outputs": [],
   "metadata": {}
  },
  {
   "cell_type": "code",
   "execution_count": 49,
   "source": [
    "import seaborn as sns\r\n",
    "\r\n",
    "import plotly.graph_objects as go\r\n",
    "import plotly.express as px\r\n",
    "\r\n",
    "# wide_df = px.data.medals_wide()\r\n",
    "\r\n",
    "# fig = px.bar(wide_df, x=\"nation\", y=[\"gold\", \"silver\", \"bronze\"], title=\"Wide-Form Input\")"
   ],
   "outputs": [],
   "metadata": {}
  },
  {
   "cell_type": "code",
   "execution_count": null,
   "source": [
    "plt"
   ],
   "outputs": [],
   "metadata": {}
  },
  {
   "cell_type": "code",
   "execution_count": 62,
   "source": [
    "from datetime import datetime\r\n",
    "import time\r\n",
    "\r\n",
    "plt = df_final[df_final['qt_75_wh']!=0]\r\n",
    "plt['operation_day'] = [datetime.strptime(i,'%Y%m%d').strftime('%Y%m%d') for i in plt['operation_day'].astype(str)]\r\n",
    "plt['operation_day']= pd.to_datetime(plt['operation_day'])"
   ],
   "outputs": [],
   "metadata": {}
  },
  {
   "cell_type": "code",
   "execution_count": 61,
   "source": [
    "# # # sns.barplot(x = 'operation_day', y = ['inbound_receive_qty', 'outbound_shipped_qty'],  \\\r\n",
    "# # #     data=df_final.iloc[0:30,:], color = 'red'\r\n",
    "# # #     ) \r\n",
    "# # # # g.set(xlim=(1, 20210805))  \r\n",
    "# g = px.bar(plt[plt['ou_code'] == 'CN-298'],\\\r\n",
    "#     x = 'operation_day', y = ['inbound_receive_qty', 'outbound_shipped_qty']);g\r\n"
   ],
   "outputs": [],
   "metadata": {}
  },
  {
   "cell_type": "code",
   "execution_count": 63,
   "source": [
    "plt2 = plt[plt['ou_code'] == 'CN-305']\r\n",
    "plt2['outsource_working_hour'] = plt2['outsource_working_hour'] * 100\r\n",
    "plt2 = plt2.sort_values('operation_day')"
   ],
   "outputs": [],
   "metadata": {}
  },
  {
   "cell_type": "code",
   "execution_count": 64,
   "source": [
    "g = go.Figure([go.Bar(x = plt2['operation_day'] ,y = plt2['inbound_receive_qty']),\\\r\n",
    "    go.Bar(x = plt2['operation_day'], y = plt2['outbound_shipped_qty'])])\r\n",
    "g.update_layout(barmode='stack')\r\n",
    "g.add_trace(go.Scatter(x =plt2['operation_day'], y = plt2['outsource_working_hour'], mode ='lines'))\r\n",
    "# g.add_trace(go.Scatter(plt[plt['ou_code'] == 'CN-298'], x = 'operation_day', y =  'outsource_working_hour'))"
   ],
   "outputs": [
    {
     "output_type": "display_data",
     "data": {
      "application/vnd.plotly.v1+json": {
       "config": {
        "plotlyServerURL": "https://plot.ly"
       },
       "data": [
        {
         "type": "bar",
         "x": [
          "2021-04-06T00:00:00",
          "2021-04-07T00:00:00",
          "2021-04-08T00:00:00",
          "2021-04-09T00:00:00",
          "2021-04-10T00:00:00",
          "2021-04-11T00:00:00",
          "2021-04-12T00:00:00",
          "2021-04-13T00:00:00",
          "2021-04-14T00:00:00",
          "2021-04-15T00:00:00",
          "2021-04-16T00:00:00",
          "2021-04-17T00:00:00",
          "2021-04-18T00:00:00",
          "2021-04-19T00:00:00",
          "2021-04-20T00:00:00",
          "2021-04-21T00:00:00",
          "2021-04-22T00:00:00",
          "2021-04-23T00:00:00",
          "2021-04-24T00:00:00",
          "2021-04-25T00:00:00",
          "2021-04-26T00:00:00",
          "2021-04-27T00:00:00",
          "2021-04-28T00:00:00",
          "2021-04-29T00:00:00",
          "2021-04-30T00:00:00",
          "2021-05-01T00:00:00",
          "2021-05-02T00:00:00",
          "2021-05-03T00:00:00",
          "2021-05-04T00:00:00",
          "2021-05-05T00:00:00",
          "2021-05-06T00:00:00",
          "2021-05-07T00:00:00",
          "2021-05-08T00:00:00",
          "2021-05-09T00:00:00",
          "2021-05-10T00:00:00",
          "2021-05-11T00:00:00",
          "2021-05-12T00:00:00",
          "2021-05-13T00:00:00",
          "2021-05-14T00:00:00",
          "2021-05-15T00:00:00",
          "2021-05-16T00:00:00",
          "2021-05-17T00:00:00",
          "2021-05-18T00:00:00",
          "2021-05-19T00:00:00",
          "2021-05-20T00:00:00",
          "2021-05-21T00:00:00",
          "2021-05-22T00:00:00",
          "2021-05-23T00:00:00",
          "2021-05-24T00:00:00",
          "2021-05-25T00:00:00",
          "2021-05-26T00:00:00",
          "2021-05-27T00:00:00",
          "2021-05-28T00:00:00",
          "2021-05-29T00:00:00",
          "2021-05-30T00:00:00",
          "2021-05-31T00:00:00",
          "2021-06-01T00:00:00",
          "2021-06-02T00:00:00",
          "2021-06-03T00:00:00",
          "2021-06-04T00:00:00",
          "2021-06-05T00:00:00",
          "2021-06-06T00:00:00",
          "2021-06-07T00:00:00",
          "2021-06-08T00:00:00",
          "2021-06-09T00:00:00",
          "2021-06-10T00:00:00",
          "2021-06-11T00:00:00",
          "2021-06-12T00:00:00",
          "2021-06-13T00:00:00",
          "2021-06-14T00:00:00",
          "2021-06-15T00:00:00",
          "2021-06-16T00:00:00",
          "2021-06-17T00:00:00",
          "2021-06-18T00:00:00",
          "2021-06-19T00:00:00",
          "2021-06-20T00:00:00",
          "2021-06-21T00:00:00",
          "2021-06-22T00:00:00",
          "2021-06-23T00:00:00",
          "2021-06-24T00:00:00",
          "2021-06-25T00:00:00",
          "2021-06-26T00:00:00",
          "2021-06-27T00:00:00",
          "2021-06-28T00:00:00",
          "2021-06-29T00:00:00",
          "2021-06-30T00:00:00",
          "2021-07-01T00:00:00",
          "2021-07-02T00:00:00",
          "2021-07-03T00:00:00",
          "2021-07-04T00:00:00",
          "2021-07-05T00:00:00",
          "2021-07-06T00:00:00",
          "2021-07-07T00:00:00",
          "2021-07-08T00:00:00",
          "2021-07-09T00:00:00",
          "2021-07-10T00:00:00",
          "2021-07-11T00:00:00",
          "2021-07-12T00:00:00",
          "2021-07-13T00:00:00",
          "2021-07-14T00:00:00",
          "2021-07-15T00:00:00",
          "2021-07-16T00:00:00",
          "2021-07-17T00:00:00",
          "2021-07-18T00:00:00",
          "2021-07-19T00:00:00",
          "2021-07-20T00:00:00",
          "2021-07-21T00:00:00",
          "2021-07-22T00:00:00",
          "2021-07-23T00:00:00",
          "2021-07-24T00:00:00",
          "2021-07-25T00:00:00",
          "2021-07-26T00:00:00",
          "2021-07-27T00:00:00",
          "2021-07-28T00:00:00",
          "2021-07-29T00:00:00",
          "2021-07-30T00:00:00",
          "2021-07-31T00:00:00",
          "2021-08-01T00:00:00",
          "2021-08-02T00:00:00",
          "2021-08-03T00:00:00",
          "2021-08-04T00:00:00",
          "2021-08-05T00:00:00",
          "2021-08-06T00:00:00",
          "2021-08-07T00:00:00",
          "2021-08-08T00:00:00",
          "2021-08-09T00:00:00",
          "2021-08-10T00:00:00",
          "2021-08-11T00:00:00",
          "2021-08-12T00:00:00",
          "2021-08-13T00:00:00",
          "2021-08-14T00:00:00",
          "2021-08-15T00:00:00",
          "2021-08-16T00:00:00",
          "2021-08-17T00:00:00",
          "2021-08-18T00:00:00",
          "2021-08-19T00:00:00",
          "2021-08-20T00:00:00",
          "2021-08-21T00:00:00",
          "2021-08-22T00:00:00",
          "2021-08-23T00:00:00",
          "2021-08-24T00:00:00",
          "2021-08-25T00:00:00",
          "2021-08-26T00:00:00",
          "2021-08-27T00:00:00",
          "2021-08-28T00:00:00",
          "2021-08-29T00:00:00",
          "2021-08-30T00:00:00",
          "2021-08-31T00:00:00",
          "2021-09-01T00:00:00",
          "2021-09-02T00:00:00",
          "2021-09-03T00:00:00"
         ],
         "y": [
          513,
          6571,
          4795,
          63,
          0,
          0,
          296,
          2504,
          13077,
          12606,
          10,
          2072,
          7641,
          1504,
          987,
          21,
          411,
          1662,
          0,
          2408,
          163,
          0,
          0,
          0,
          0,
          0,
          362,
          103,
          0,
          0,
          15484,
          3051,
          75,
          0,
          2699,
          2812,
          14714,
          6323,
          420,
          93551,
          1656,
          2514,
          5598,
          5382,
          6379,
          16561,
          0,
          0,
          672,
          0,
          1323,
          10043,
          0,
          0,
          0,
          0,
          3117,
          15220,
          12182,
          13155,
          7780,
          2030,
          16559,
          25458,
          13074,
          7967,
          12636,
          8945,
          0,
          0,
          6041,
          68,
          1323,
          3518,
          7953,
          637,
          2278,
          673,
          48,
          0,
          0,
          0,
          1692,
          19,
          0,
          0,
          326816,
          1762,
          0,
          0,
          1040,
          5054,
          3,
          312626,
          53324,
          4023,
          3264,
          44814,
          13762,
          23917,
          45430,
          18320,
          217,
          81,
          23134,
          15480,
          17305,
          5828,
          23986,
          0,
          0,
          1561,
          53,
          0,
          0,
          0,
          0,
          0,
          91229,
          11059,
          62,
          23597,
          35732,
          0,
          0,
          4586,
          60231,
          0,
          18549,
          35743,
          0,
          0,
          2460,
          14047,
          27390,
          20019,
          7177,
          0,
          0,
          9412,
          15823,
          485,
          0,
          0,
          0,
          0,
          0,
          1228,
          67051,
          26640,
          46
         ]
        },
        {
         "type": "bar",
         "x": [
          "2021-04-06T00:00:00",
          "2021-04-07T00:00:00",
          "2021-04-08T00:00:00",
          "2021-04-09T00:00:00",
          "2021-04-10T00:00:00",
          "2021-04-11T00:00:00",
          "2021-04-12T00:00:00",
          "2021-04-13T00:00:00",
          "2021-04-14T00:00:00",
          "2021-04-15T00:00:00",
          "2021-04-16T00:00:00",
          "2021-04-17T00:00:00",
          "2021-04-18T00:00:00",
          "2021-04-19T00:00:00",
          "2021-04-20T00:00:00",
          "2021-04-21T00:00:00",
          "2021-04-22T00:00:00",
          "2021-04-23T00:00:00",
          "2021-04-24T00:00:00",
          "2021-04-25T00:00:00",
          "2021-04-26T00:00:00",
          "2021-04-27T00:00:00",
          "2021-04-28T00:00:00",
          "2021-04-29T00:00:00",
          "2021-04-30T00:00:00",
          "2021-05-01T00:00:00",
          "2021-05-02T00:00:00",
          "2021-05-03T00:00:00",
          "2021-05-04T00:00:00",
          "2021-05-05T00:00:00",
          "2021-05-06T00:00:00",
          "2021-05-07T00:00:00",
          "2021-05-08T00:00:00",
          "2021-05-09T00:00:00",
          "2021-05-10T00:00:00",
          "2021-05-11T00:00:00",
          "2021-05-12T00:00:00",
          "2021-05-13T00:00:00",
          "2021-05-14T00:00:00",
          "2021-05-15T00:00:00",
          "2021-05-16T00:00:00",
          "2021-05-17T00:00:00",
          "2021-05-18T00:00:00",
          "2021-05-19T00:00:00",
          "2021-05-20T00:00:00",
          "2021-05-21T00:00:00",
          "2021-05-22T00:00:00",
          "2021-05-23T00:00:00",
          "2021-05-24T00:00:00",
          "2021-05-25T00:00:00",
          "2021-05-26T00:00:00",
          "2021-05-27T00:00:00",
          "2021-05-28T00:00:00",
          "2021-05-29T00:00:00",
          "2021-05-30T00:00:00",
          "2021-05-31T00:00:00",
          "2021-06-01T00:00:00",
          "2021-06-02T00:00:00",
          "2021-06-03T00:00:00",
          "2021-06-04T00:00:00",
          "2021-06-05T00:00:00",
          "2021-06-06T00:00:00",
          "2021-06-07T00:00:00",
          "2021-06-08T00:00:00",
          "2021-06-09T00:00:00",
          "2021-06-10T00:00:00",
          "2021-06-11T00:00:00",
          "2021-06-12T00:00:00",
          "2021-06-13T00:00:00",
          "2021-06-14T00:00:00",
          "2021-06-15T00:00:00",
          "2021-06-16T00:00:00",
          "2021-06-17T00:00:00",
          "2021-06-18T00:00:00",
          "2021-06-19T00:00:00",
          "2021-06-20T00:00:00",
          "2021-06-21T00:00:00",
          "2021-06-22T00:00:00",
          "2021-06-23T00:00:00",
          "2021-06-24T00:00:00",
          "2021-06-25T00:00:00",
          "2021-06-26T00:00:00",
          "2021-06-27T00:00:00",
          "2021-06-28T00:00:00",
          "2021-06-29T00:00:00",
          "2021-06-30T00:00:00",
          "2021-07-01T00:00:00",
          "2021-07-02T00:00:00",
          "2021-07-03T00:00:00",
          "2021-07-04T00:00:00",
          "2021-07-05T00:00:00",
          "2021-07-06T00:00:00",
          "2021-07-07T00:00:00",
          "2021-07-08T00:00:00",
          "2021-07-09T00:00:00",
          "2021-07-10T00:00:00",
          "2021-07-11T00:00:00",
          "2021-07-12T00:00:00",
          "2021-07-13T00:00:00",
          "2021-07-14T00:00:00",
          "2021-07-15T00:00:00",
          "2021-07-16T00:00:00",
          "2021-07-17T00:00:00",
          "2021-07-18T00:00:00",
          "2021-07-19T00:00:00",
          "2021-07-20T00:00:00",
          "2021-07-21T00:00:00",
          "2021-07-22T00:00:00",
          "2021-07-23T00:00:00",
          "2021-07-24T00:00:00",
          "2021-07-25T00:00:00",
          "2021-07-26T00:00:00",
          "2021-07-27T00:00:00",
          "2021-07-28T00:00:00",
          "2021-07-29T00:00:00",
          "2021-07-30T00:00:00",
          "2021-07-31T00:00:00",
          "2021-08-01T00:00:00",
          "2021-08-02T00:00:00",
          "2021-08-03T00:00:00",
          "2021-08-04T00:00:00",
          "2021-08-05T00:00:00",
          "2021-08-06T00:00:00",
          "2021-08-07T00:00:00",
          "2021-08-08T00:00:00",
          "2021-08-09T00:00:00",
          "2021-08-10T00:00:00",
          "2021-08-11T00:00:00",
          "2021-08-12T00:00:00",
          "2021-08-13T00:00:00",
          "2021-08-14T00:00:00",
          "2021-08-15T00:00:00",
          "2021-08-16T00:00:00",
          "2021-08-17T00:00:00",
          "2021-08-18T00:00:00",
          "2021-08-19T00:00:00",
          "2021-08-20T00:00:00",
          "2021-08-21T00:00:00",
          "2021-08-22T00:00:00",
          "2021-08-23T00:00:00",
          "2021-08-24T00:00:00",
          "2021-08-25T00:00:00",
          "2021-08-26T00:00:00",
          "2021-08-27T00:00:00",
          "2021-08-28T00:00:00",
          "2021-08-29T00:00:00",
          "2021-08-30T00:00:00",
          "2021-08-31T00:00:00",
          "2021-09-01T00:00:00",
          "2021-09-02T00:00:00",
          "2021-09-03T00:00:00"
         ],
         "y": [
          17128,
          34979,
          20751,
          1,
          0,
          0,
          3465,
          12875,
          14089,
          179,
          425,
          0,
          7641,
          7222,
          33664,
          15871,
          27476,
          21578,
          0,
          3,
          4453,
          0,
          0,
          2,
          0,
          0,
          5,
          1,
          1,
          0,
          23350,
          6833,
          16895,
          0,
          1660,
          15730,
          10606,
          9976,
          22747,
          36,
          4728,
          2023,
          16927,
          30747,
          7803,
          12465,
          4,
          0,
          9772,
          2475,
          5,
          4,
          5,
          3,
          4,
          5,
          31337,
          6654,
          4456,
          24834,
          39,
          2053,
          2788,
          1715,
          5381,
          5441,
          1552,
          8965,
          11,
          25,
          21570,
          8085,
          1464,
          4607,
          533,
          352,
          32435,
          2289,
          1094,
          29,
          27,
          42,
          54,
          67,
          62,
          67,
          26679,
          3269,
          56906,
          0,
          11893,
          18710,
          19909,
          15279,
          0,
          0,
          33,
          12009,
          11781,
          13842,
          11801,
          9978,
          49,
          122,
          8371,
          14686,
          16703,
          13016,
          23655,
          111,
          73,
          9137,
          2156,
          57,
          108,
          0,
          0,
          0,
          0,
          0,
          0,
          30567,
          0,
          0,
          0,
          0,
          30266,
          6470,
          19596,
          23666,
          63,
          40,
          8866,
          18697,
          37847,
          18511,
          21145,
          22,
          31,
          13008,
          25173,
          19310,
          20,
          58,
          61,
          100,
          115,
          71,
          37687,
          21383,
          60519
         ]
        },
        {
         "mode": "lines",
         "type": "scatter",
         "x": [
          "2021-04-06T00:00:00",
          "2021-04-07T00:00:00",
          "2021-04-08T00:00:00",
          "2021-04-09T00:00:00",
          "2021-04-10T00:00:00",
          "2021-04-11T00:00:00",
          "2021-04-12T00:00:00",
          "2021-04-13T00:00:00",
          "2021-04-14T00:00:00",
          "2021-04-15T00:00:00",
          "2021-04-16T00:00:00",
          "2021-04-17T00:00:00",
          "2021-04-18T00:00:00",
          "2021-04-19T00:00:00",
          "2021-04-20T00:00:00",
          "2021-04-21T00:00:00",
          "2021-04-22T00:00:00",
          "2021-04-23T00:00:00",
          "2021-04-24T00:00:00",
          "2021-04-25T00:00:00",
          "2021-04-26T00:00:00",
          "2021-04-27T00:00:00",
          "2021-04-28T00:00:00",
          "2021-04-29T00:00:00",
          "2021-04-30T00:00:00",
          "2021-05-01T00:00:00",
          "2021-05-02T00:00:00",
          "2021-05-03T00:00:00",
          "2021-05-04T00:00:00",
          "2021-05-05T00:00:00",
          "2021-05-06T00:00:00",
          "2021-05-07T00:00:00",
          "2021-05-08T00:00:00",
          "2021-05-09T00:00:00",
          "2021-05-10T00:00:00",
          "2021-05-11T00:00:00",
          "2021-05-12T00:00:00",
          "2021-05-13T00:00:00",
          "2021-05-14T00:00:00",
          "2021-05-15T00:00:00",
          "2021-05-16T00:00:00",
          "2021-05-17T00:00:00",
          "2021-05-18T00:00:00",
          "2021-05-19T00:00:00",
          "2021-05-20T00:00:00",
          "2021-05-21T00:00:00",
          "2021-05-22T00:00:00",
          "2021-05-23T00:00:00",
          "2021-05-24T00:00:00",
          "2021-05-25T00:00:00",
          "2021-05-26T00:00:00",
          "2021-05-27T00:00:00",
          "2021-05-28T00:00:00",
          "2021-05-29T00:00:00",
          "2021-05-30T00:00:00",
          "2021-05-31T00:00:00",
          "2021-06-01T00:00:00",
          "2021-06-02T00:00:00",
          "2021-06-03T00:00:00",
          "2021-06-04T00:00:00",
          "2021-06-05T00:00:00",
          "2021-06-06T00:00:00",
          "2021-06-07T00:00:00",
          "2021-06-08T00:00:00",
          "2021-06-09T00:00:00",
          "2021-06-10T00:00:00",
          "2021-06-11T00:00:00",
          "2021-06-12T00:00:00",
          "2021-06-13T00:00:00",
          "2021-06-14T00:00:00",
          "2021-06-15T00:00:00",
          "2021-06-16T00:00:00",
          "2021-06-17T00:00:00",
          "2021-06-18T00:00:00",
          "2021-06-19T00:00:00",
          "2021-06-20T00:00:00",
          "2021-06-21T00:00:00",
          "2021-06-22T00:00:00",
          "2021-06-23T00:00:00",
          "2021-06-24T00:00:00",
          "2021-06-25T00:00:00",
          "2021-06-26T00:00:00",
          "2021-06-27T00:00:00",
          "2021-06-28T00:00:00",
          "2021-06-29T00:00:00",
          "2021-06-30T00:00:00",
          "2021-07-01T00:00:00",
          "2021-07-02T00:00:00",
          "2021-07-03T00:00:00",
          "2021-07-04T00:00:00",
          "2021-07-05T00:00:00",
          "2021-07-06T00:00:00",
          "2021-07-07T00:00:00",
          "2021-07-08T00:00:00",
          "2021-07-09T00:00:00",
          "2021-07-10T00:00:00",
          "2021-07-11T00:00:00",
          "2021-07-12T00:00:00",
          "2021-07-13T00:00:00",
          "2021-07-14T00:00:00",
          "2021-07-15T00:00:00",
          "2021-07-16T00:00:00",
          "2021-07-17T00:00:00",
          "2021-07-18T00:00:00",
          "2021-07-19T00:00:00",
          "2021-07-20T00:00:00",
          "2021-07-21T00:00:00",
          "2021-07-22T00:00:00",
          "2021-07-23T00:00:00",
          "2021-07-24T00:00:00",
          "2021-07-25T00:00:00",
          "2021-07-26T00:00:00",
          "2021-07-27T00:00:00",
          "2021-07-28T00:00:00",
          "2021-07-29T00:00:00",
          "2021-07-30T00:00:00",
          "2021-07-31T00:00:00",
          "2021-08-01T00:00:00",
          "2021-08-02T00:00:00",
          "2021-08-03T00:00:00",
          "2021-08-04T00:00:00",
          "2021-08-05T00:00:00",
          "2021-08-06T00:00:00",
          "2021-08-07T00:00:00",
          "2021-08-08T00:00:00",
          "2021-08-09T00:00:00",
          "2021-08-10T00:00:00",
          "2021-08-11T00:00:00",
          "2021-08-12T00:00:00",
          "2021-08-13T00:00:00",
          "2021-08-14T00:00:00",
          "2021-08-15T00:00:00",
          "2021-08-16T00:00:00",
          "2021-08-17T00:00:00",
          "2021-08-18T00:00:00",
          "2021-08-19T00:00:00",
          "2021-08-20T00:00:00",
          "2021-08-21T00:00:00",
          "2021-08-22T00:00:00",
          "2021-08-23T00:00:00",
          "2021-08-24T00:00:00",
          "2021-08-25T00:00:00",
          "2021-08-26T00:00:00",
          "2021-08-27T00:00:00",
          "2021-08-28T00:00:00",
          "2021-08-29T00:00:00",
          "2021-08-30T00:00:00",
          "2021-08-31T00:00:00",
          "2021-09-01T00:00:00",
          "2021-09-02T00:00:00",
          "2021-09-03T00:00:00"
         ],
         "y": [
          0,
          0,
          0,
          0,
          0,
          0,
          0,
          0,
          0,
          0,
          0,
          0,
          0,
          0,
          0,
          0,
          0,
          0,
          0,
          0,
          0,
          0,
          0,
          0,
          0,
          0,
          0,
          0,
          0,
          0,
          0,
          0,
          0,
          0,
          0,
          0,
          0,
          0,
          0,
          0,
          0,
          0,
          0,
          0,
          0,
          0,
          0,
          0,
          0,
          0,
          0,
          0,
          0,
          0,
          0,
          0,
          0,
          0,
          0,
          0,
          0,
          10450,
          20350,
          18100,
          19550,
          18050,
          17550,
          15550,
          9900,
          2200,
          19150,
          20150,
          18850,
          19150,
          16450,
          12100,
          20250,
          20450,
          19550,
          20950,
          18200,
          17150,
          10450,
          14450,
          14600,
          15150,
          21800,
          20850,
          13550,
          2350,
          21100,
          19300,
          20100,
          19150,
          19550,
          14500,
          2100,
          18750,
          21350,
          19650,
          19650,
          20500,
          15350,
          9000,
          13950,
          20000,
          18650,
          17100,
          18650,
          13900,
          4650,
          14050,
          20000,
          17650,
          17250,
          17300,
          10150,
          2100,
          20400,
          19550,
          22200,
          20050,
          19550,
          13950,
          8950,
          18000,
          20750,
          18250,
          20100,
          19700,
          12500,
          3900,
          17650,
          18850,
          17850,
          16950,
          18400,
          14150,
          1700,
          20400,
          20650,
          18000,
          18000,
          17100,
          10600,
          6850,
          13700,
          17000,
          22600,
          10450,
          12550
         ]
        }
       ],
       "layout": {
        "barmode": "stack",
        "template": {
         "data": {
          "bar": [
           {
            "error_x": {
             "color": "#2a3f5f"
            },
            "error_y": {
             "color": "#2a3f5f"
            },
            "marker": {
             "line": {
              "color": "#E5ECF6",
              "width": 0.5
             }
            },
            "type": "bar"
           }
          ],
          "barpolar": [
           {
            "marker": {
             "line": {
              "color": "#E5ECF6",
              "width": 0.5
             }
            },
            "type": "barpolar"
           }
          ],
          "carpet": [
           {
            "aaxis": {
             "endlinecolor": "#2a3f5f",
             "gridcolor": "white",
             "linecolor": "white",
             "minorgridcolor": "white",
             "startlinecolor": "#2a3f5f"
            },
            "baxis": {
             "endlinecolor": "#2a3f5f",
             "gridcolor": "white",
             "linecolor": "white",
             "minorgridcolor": "white",
             "startlinecolor": "#2a3f5f"
            },
            "type": "carpet"
           }
          ],
          "choropleth": [
           {
            "colorbar": {
             "outlinewidth": 0,
             "ticks": ""
            },
            "type": "choropleth"
           }
          ],
          "contour": [
           {
            "colorbar": {
             "outlinewidth": 0,
             "ticks": ""
            },
            "colorscale": [
             [
              0,
              "#0d0887"
             ],
             [
              0.1111111111111111,
              "#46039f"
             ],
             [
              0.2222222222222222,
              "#7201a8"
             ],
             [
              0.3333333333333333,
              "#9c179e"
             ],
             [
              0.4444444444444444,
              "#bd3786"
             ],
             [
              0.5555555555555556,
              "#d8576b"
             ],
             [
              0.6666666666666666,
              "#ed7953"
             ],
             [
              0.7777777777777778,
              "#fb9f3a"
             ],
             [
              0.8888888888888888,
              "#fdca26"
             ],
             [
              1,
              "#f0f921"
             ]
            ],
            "type": "contour"
           }
          ],
          "contourcarpet": [
           {
            "colorbar": {
             "outlinewidth": 0,
             "ticks": ""
            },
            "type": "contourcarpet"
           }
          ],
          "heatmap": [
           {
            "colorbar": {
             "outlinewidth": 0,
             "ticks": ""
            },
            "colorscale": [
             [
              0,
              "#0d0887"
             ],
             [
              0.1111111111111111,
              "#46039f"
             ],
             [
              0.2222222222222222,
              "#7201a8"
             ],
             [
              0.3333333333333333,
              "#9c179e"
             ],
             [
              0.4444444444444444,
              "#bd3786"
             ],
             [
              0.5555555555555556,
              "#d8576b"
             ],
             [
              0.6666666666666666,
              "#ed7953"
             ],
             [
              0.7777777777777778,
              "#fb9f3a"
             ],
             [
              0.8888888888888888,
              "#fdca26"
             ],
             [
              1,
              "#f0f921"
             ]
            ],
            "type": "heatmap"
           }
          ],
          "heatmapgl": [
           {
            "colorbar": {
             "outlinewidth": 0,
             "ticks": ""
            },
            "colorscale": [
             [
              0,
              "#0d0887"
             ],
             [
              0.1111111111111111,
              "#46039f"
             ],
             [
              0.2222222222222222,
              "#7201a8"
             ],
             [
              0.3333333333333333,
              "#9c179e"
             ],
             [
              0.4444444444444444,
              "#bd3786"
             ],
             [
              0.5555555555555556,
              "#d8576b"
             ],
             [
              0.6666666666666666,
              "#ed7953"
             ],
             [
              0.7777777777777778,
              "#fb9f3a"
             ],
             [
              0.8888888888888888,
              "#fdca26"
             ],
             [
              1,
              "#f0f921"
             ]
            ],
            "type": "heatmapgl"
           }
          ],
          "histogram": [
           {
            "marker": {
             "colorbar": {
              "outlinewidth": 0,
              "ticks": ""
             }
            },
            "type": "histogram"
           }
          ],
          "histogram2d": [
           {
            "colorbar": {
             "outlinewidth": 0,
             "ticks": ""
            },
            "colorscale": [
             [
              0,
              "#0d0887"
             ],
             [
              0.1111111111111111,
              "#46039f"
             ],
             [
              0.2222222222222222,
              "#7201a8"
             ],
             [
              0.3333333333333333,
              "#9c179e"
             ],
             [
              0.4444444444444444,
              "#bd3786"
             ],
             [
              0.5555555555555556,
              "#d8576b"
             ],
             [
              0.6666666666666666,
              "#ed7953"
             ],
             [
              0.7777777777777778,
              "#fb9f3a"
             ],
             [
              0.8888888888888888,
              "#fdca26"
             ],
             [
              1,
              "#f0f921"
             ]
            ],
            "type": "histogram2d"
           }
          ],
          "histogram2dcontour": [
           {
            "colorbar": {
             "outlinewidth": 0,
             "ticks": ""
            },
            "colorscale": [
             [
              0,
              "#0d0887"
             ],
             [
              0.1111111111111111,
              "#46039f"
             ],
             [
              0.2222222222222222,
              "#7201a8"
             ],
             [
              0.3333333333333333,
              "#9c179e"
             ],
             [
              0.4444444444444444,
              "#bd3786"
             ],
             [
              0.5555555555555556,
              "#d8576b"
             ],
             [
              0.6666666666666666,
              "#ed7953"
             ],
             [
              0.7777777777777778,
              "#fb9f3a"
             ],
             [
              0.8888888888888888,
              "#fdca26"
             ],
             [
              1,
              "#f0f921"
             ]
            ],
            "type": "histogram2dcontour"
           }
          ],
          "mesh3d": [
           {
            "colorbar": {
             "outlinewidth": 0,
             "ticks": ""
            },
            "type": "mesh3d"
           }
          ],
          "parcoords": [
           {
            "line": {
             "colorbar": {
              "outlinewidth": 0,
              "ticks": ""
             }
            },
            "type": "parcoords"
           }
          ],
          "pie": [
           {
            "automargin": true,
            "type": "pie"
           }
          ],
          "scatter": [
           {
            "marker": {
             "colorbar": {
              "outlinewidth": 0,
              "ticks": ""
             }
            },
            "type": "scatter"
           }
          ],
          "scatter3d": [
           {
            "line": {
             "colorbar": {
              "outlinewidth": 0,
              "ticks": ""
             }
            },
            "marker": {
             "colorbar": {
              "outlinewidth": 0,
              "ticks": ""
             }
            },
            "type": "scatter3d"
           }
          ],
          "scattercarpet": [
           {
            "marker": {
             "colorbar": {
              "outlinewidth": 0,
              "ticks": ""
             }
            },
            "type": "scattercarpet"
           }
          ],
          "scattergeo": [
           {
            "marker": {
             "colorbar": {
              "outlinewidth": 0,
              "ticks": ""
             }
            },
            "type": "scattergeo"
           }
          ],
          "scattergl": [
           {
            "marker": {
             "colorbar": {
              "outlinewidth": 0,
              "ticks": ""
             }
            },
            "type": "scattergl"
           }
          ],
          "scattermapbox": [
           {
            "marker": {
             "colorbar": {
              "outlinewidth": 0,
              "ticks": ""
             }
            },
            "type": "scattermapbox"
           }
          ],
          "scatterpolar": [
           {
            "marker": {
             "colorbar": {
              "outlinewidth": 0,
              "ticks": ""
             }
            },
            "type": "scatterpolar"
           }
          ],
          "scatterpolargl": [
           {
            "marker": {
             "colorbar": {
              "outlinewidth": 0,
              "ticks": ""
             }
            },
            "type": "scatterpolargl"
           }
          ],
          "scatterternary": [
           {
            "marker": {
             "colorbar": {
              "outlinewidth": 0,
              "ticks": ""
             }
            },
            "type": "scatterternary"
           }
          ],
          "surface": [
           {
            "colorbar": {
             "outlinewidth": 0,
             "ticks": ""
            },
            "colorscale": [
             [
              0,
              "#0d0887"
             ],
             [
              0.1111111111111111,
              "#46039f"
             ],
             [
              0.2222222222222222,
              "#7201a8"
             ],
             [
              0.3333333333333333,
              "#9c179e"
             ],
             [
              0.4444444444444444,
              "#bd3786"
             ],
             [
              0.5555555555555556,
              "#d8576b"
             ],
             [
              0.6666666666666666,
              "#ed7953"
             ],
             [
              0.7777777777777778,
              "#fb9f3a"
             ],
             [
              0.8888888888888888,
              "#fdca26"
             ],
             [
              1,
              "#f0f921"
             ]
            ],
            "type": "surface"
           }
          ],
          "table": [
           {
            "cells": {
             "fill": {
              "color": "#EBF0F8"
             },
             "line": {
              "color": "white"
             }
            },
            "header": {
             "fill": {
              "color": "#C8D4E3"
             },
             "line": {
              "color": "white"
             }
            },
            "type": "table"
           }
          ]
         },
         "layout": {
          "annotationdefaults": {
           "arrowcolor": "#2a3f5f",
           "arrowhead": 0,
           "arrowwidth": 1
          },
          "autotypenumbers": "strict",
          "coloraxis": {
           "colorbar": {
            "outlinewidth": 0,
            "ticks": ""
           }
          },
          "colorscale": {
           "diverging": [
            [
             0,
             "#8e0152"
            ],
            [
             0.1,
             "#c51b7d"
            ],
            [
             0.2,
             "#de77ae"
            ],
            [
             0.3,
             "#f1b6da"
            ],
            [
             0.4,
             "#fde0ef"
            ],
            [
             0.5,
             "#f7f7f7"
            ],
            [
             0.6,
             "#e6f5d0"
            ],
            [
             0.7,
             "#b8e186"
            ],
            [
             0.8,
             "#7fbc41"
            ],
            [
             0.9,
             "#4d9221"
            ],
            [
             1,
             "#276419"
            ]
           ],
           "sequential": [
            [
             0,
             "#0d0887"
            ],
            [
             0.1111111111111111,
             "#46039f"
            ],
            [
             0.2222222222222222,
             "#7201a8"
            ],
            [
             0.3333333333333333,
             "#9c179e"
            ],
            [
             0.4444444444444444,
             "#bd3786"
            ],
            [
             0.5555555555555556,
             "#d8576b"
            ],
            [
             0.6666666666666666,
             "#ed7953"
            ],
            [
             0.7777777777777778,
             "#fb9f3a"
            ],
            [
             0.8888888888888888,
             "#fdca26"
            ],
            [
             1,
             "#f0f921"
            ]
           ],
           "sequentialminus": [
            [
             0,
             "#0d0887"
            ],
            [
             0.1111111111111111,
             "#46039f"
            ],
            [
             0.2222222222222222,
             "#7201a8"
            ],
            [
             0.3333333333333333,
             "#9c179e"
            ],
            [
             0.4444444444444444,
             "#bd3786"
            ],
            [
             0.5555555555555556,
             "#d8576b"
            ],
            [
             0.6666666666666666,
             "#ed7953"
            ],
            [
             0.7777777777777778,
             "#fb9f3a"
            ],
            [
             0.8888888888888888,
             "#fdca26"
            ],
            [
             1,
             "#f0f921"
            ]
           ]
          },
          "colorway": [
           "#636efa",
           "#EF553B",
           "#00cc96",
           "#ab63fa",
           "#FFA15A",
           "#19d3f3",
           "#FF6692",
           "#B6E880",
           "#FF97FF",
           "#FECB52"
          ],
          "font": {
           "color": "#2a3f5f"
          },
          "geo": {
           "bgcolor": "white",
           "lakecolor": "white",
           "landcolor": "#E5ECF6",
           "showlakes": true,
           "showland": true,
           "subunitcolor": "white"
          },
          "hoverlabel": {
           "align": "left"
          },
          "hovermode": "closest",
          "mapbox": {
           "style": "light"
          },
          "paper_bgcolor": "white",
          "plot_bgcolor": "#E5ECF6",
          "polar": {
           "angularaxis": {
            "gridcolor": "white",
            "linecolor": "white",
            "ticks": ""
           },
           "bgcolor": "#E5ECF6",
           "radialaxis": {
            "gridcolor": "white",
            "linecolor": "white",
            "ticks": ""
           }
          },
          "scene": {
           "xaxis": {
            "backgroundcolor": "#E5ECF6",
            "gridcolor": "white",
            "gridwidth": 2,
            "linecolor": "white",
            "showbackground": true,
            "ticks": "",
            "zerolinecolor": "white"
           },
           "yaxis": {
            "backgroundcolor": "#E5ECF6",
            "gridcolor": "white",
            "gridwidth": 2,
            "linecolor": "white",
            "showbackground": true,
            "ticks": "",
            "zerolinecolor": "white"
           },
           "zaxis": {
            "backgroundcolor": "#E5ECF6",
            "gridcolor": "white",
            "gridwidth": 2,
            "linecolor": "white",
            "showbackground": true,
            "ticks": "",
            "zerolinecolor": "white"
           }
          },
          "shapedefaults": {
           "line": {
            "color": "#2a3f5f"
           }
          },
          "ternary": {
           "aaxis": {
            "gridcolor": "white",
            "linecolor": "white",
            "ticks": ""
           },
           "baxis": {
            "gridcolor": "white",
            "linecolor": "white",
            "ticks": ""
           },
           "bgcolor": "#E5ECF6",
           "caxis": {
            "gridcolor": "white",
            "linecolor": "white",
            "ticks": ""
           }
          },
          "title": {
           "x": 0.05
          },
          "xaxis": {
           "automargin": true,
           "gridcolor": "white",
           "linecolor": "white",
           "ticks": "",
           "title": {
            "standoff": 15
           },
           "zerolinecolor": "white",
           "zerolinewidth": 2
          },
          "yaxis": {
           "automargin": true,
           "gridcolor": "white",
           "linecolor": "white",
           "ticks": "",
           "title": {
            "standoff": 15
           },
           "zerolinecolor": "white",
           "zerolinewidth": 2
          }
         }
        }
       }
      }
     },
     "metadata": {}
    }
   ],
   "metadata": {}
  },
  {
   "cell_type": "code",
   "execution_count": 65,
   "source": [
    "# def mutatation_(new_col, calculate_methdo):\r\n",
    "#     df_final[new_col] = df_final.groupby(\r\n",
    "#     ['ou_code', 'kernal_core1', 'kernal_core2']\r\n",
    "#     )['total_working_hour'].transform(calculate_methdo)\r\n",
    "#     return df_final\r\n"
   ],
   "outputs": [],
   "metadata": {}
  },
  {
   "cell_type": "code",
   "execution_count": 66,
   "source": [
    "plt2['dis_core'].describe()"
   ],
   "outputs": [
    {
     "output_type": "execute_result",
     "data": {
      "text/plain": [
       "count    151.000000\n",
       "mean      -0.243781\n",
       "std       12.303399\n",
       "min      -37.523000\n",
       "25%       -9.113000\n",
       "50%        1.483000\n",
       "75%        8.670500\n",
       "max       27.736000\n",
       "Name: dis_core, dtype: float64"
      ]
     },
     "metadata": {},
     "execution_count": 66
    }
   ],
   "metadata": {}
  },
  {
   "cell_type": "code",
   "execution_count": 67,
   "source": [
    "px.box(plt2, y = ['dis_core',  'dis_core_os'])"
   ],
   "outputs": [
    {
     "output_type": "display_data",
     "data": {
      "application/vnd.plotly.v1+json": {
       "config": {
        "plotlyServerURL": "https://plot.ly"
       },
       "data": [
        {
         "alignmentgroup": "True",
         "hovertemplate": "variable=%{x}<br>value=%{y}<extra></extra>",
         "legendgroup": "",
         "marker": {
          "color": "#636efa"
         },
         "name": "",
         "notched": false,
         "offsetgroup": "",
         "orientation": "v",
         "showlegend": false,
         "type": "box",
         "x": [
          "dis_core",
          "dis_core",
          "dis_core",
          "dis_core",
          "dis_core",
          "dis_core",
          "dis_core",
          "dis_core",
          "dis_core",
          "dis_core",
          "dis_core",
          "dis_core",
          "dis_core",
          "dis_core",
          "dis_core",
          "dis_core",
          "dis_core",
          "dis_core",
          "dis_core",
          "dis_core",
          "dis_core",
          "dis_core",
          "dis_core",
          "dis_core",
          "dis_core",
          "dis_core",
          "dis_core",
          "dis_core",
          "dis_core",
          "dis_core",
          "dis_core",
          "dis_core",
          "dis_core",
          "dis_core",
          "dis_core",
          "dis_core",
          "dis_core",
          "dis_core",
          "dis_core",
          "dis_core",
          "dis_core",
          "dis_core",
          "dis_core",
          "dis_core",
          "dis_core",
          "dis_core",
          "dis_core",
          "dis_core",
          "dis_core",
          "dis_core",
          "dis_core",
          "dis_core",
          "dis_core",
          "dis_core",
          "dis_core",
          "dis_core",
          "dis_core",
          "dis_core",
          "dis_core",
          "dis_core",
          "dis_core",
          "dis_core",
          "dis_core",
          "dis_core",
          "dis_core",
          "dis_core",
          "dis_core",
          "dis_core",
          "dis_core",
          "dis_core",
          "dis_core",
          "dis_core",
          "dis_core",
          "dis_core",
          "dis_core",
          "dis_core",
          "dis_core",
          "dis_core",
          "dis_core",
          "dis_core",
          "dis_core",
          "dis_core",
          "dis_core",
          "dis_core",
          "dis_core",
          "dis_core",
          "dis_core",
          "dis_core",
          "dis_core",
          "dis_core",
          "dis_core",
          "dis_core",
          "dis_core",
          "dis_core",
          "dis_core",
          "dis_core",
          "dis_core",
          "dis_core",
          "dis_core",
          "dis_core",
          "dis_core",
          "dis_core",
          "dis_core",
          "dis_core",
          "dis_core",
          "dis_core",
          "dis_core",
          "dis_core",
          "dis_core",
          "dis_core",
          "dis_core",
          "dis_core",
          "dis_core",
          "dis_core",
          "dis_core",
          "dis_core",
          "dis_core",
          "dis_core",
          "dis_core",
          "dis_core",
          "dis_core",
          "dis_core",
          "dis_core",
          "dis_core",
          "dis_core",
          "dis_core",
          "dis_core",
          "dis_core",
          "dis_core",
          "dis_core",
          "dis_core",
          "dis_core",
          "dis_core",
          "dis_core",
          "dis_core",
          "dis_core",
          "dis_core",
          "dis_core",
          "dis_core",
          "dis_core",
          "dis_core",
          "dis_core",
          "dis_core",
          "dis_core",
          "dis_core",
          "dis_core",
          "dis_core",
          "dis_core",
          "dis_core",
          "dis_core",
          "dis_core",
          "dis_core_os",
          "dis_core_os",
          "dis_core_os",
          "dis_core_os",
          "dis_core_os",
          "dis_core_os",
          "dis_core_os",
          "dis_core_os",
          "dis_core_os",
          "dis_core_os",
          "dis_core_os",
          "dis_core_os",
          "dis_core_os",
          "dis_core_os",
          "dis_core_os",
          "dis_core_os",
          "dis_core_os",
          "dis_core_os",
          "dis_core_os",
          "dis_core_os",
          "dis_core_os",
          "dis_core_os",
          "dis_core_os",
          "dis_core_os",
          "dis_core_os",
          "dis_core_os",
          "dis_core_os",
          "dis_core_os",
          "dis_core_os",
          "dis_core_os",
          "dis_core_os",
          "dis_core_os",
          "dis_core_os",
          "dis_core_os",
          "dis_core_os",
          "dis_core_os",
          "dis_core_os",
          "dis_core_os",
          "dis_core_os",
          "dis_core_os",
          "dis_core_os",
          "dis_core_os",
          "dis_core_os",
          "dis_core_os",
          "dis_core_os",
          "dis_core_os",
          "dis_core_os",
          "dis_core_os",
          "dis_core_os",
          "dis_core_os",
          "dis_core_os",
          "dis_core_os",
          "dis_core_os",
          "dis_core_os",
          "dis_core_os",
          "dis_core_os",
          "dis_core_os",
          "dis_core_os",
          "dis_core_os",
          "dis_core_os",
          "dis_core_os",
          "dis_core_os",
          "dis_core_os",
          "dis_core_os",
          "dis_core_os",
          "dis_core_os",
          "dis_core_os",
          "dis_core_os",
          "dis_core_os",
          "dis_core_os",
          "dis_core_os",
          "dis_core_os",
          "dis_core_os",
          "dis_core_os",
          "dis_core_os",
          "dis_core_os",
          "dis_core_os",
          "dis_core_os",
          "dis_core_os",
          "dis_core_os",
          "dis_core_os",
          "dis_core_os",
          "dis_core_os",
          "dis_core_os",
          "dis_core_os",
          "dis_core_os",
          "dis_core_os",
          "dis_core_os",
          "dis_core_os",
          "dis_core_os",
          "dis_core_os",
          "dis_core_os",
          "dis_core_os",
          "dis_core_os",
          "dis_core_os",
          "dis_core_os",
          "dis_core_os",
          "dis_core_os",
          "dis_core_os",
          "dis_core_os",
          "dis_core_os",
          "dis_core_os",
          "dis_core_os",
          "dis_core_os",
          "dis_core_os",
          "dis_core_os",
          "dis_core_os",
          "dis_core_os",
          "dis_core_os",
          "dis_core_os",
          "dis_core_os",
          "dis_core_os",
          "dis_core_os",
          "dis_core_os",
          "dis_core_os",
          "dis_core_os",
          "dis_core_os",
          "dis_core_os",
          "dis_core_os",
          "dis_core_os",
          "dis_core_os",
          "dis_core_os",
          "dis_core_os",
          "dis_core_os",
          "dis_core_os",
          "dis_core_os",
          "dis_core_os",
          "dis_core_os",
          "dis_core_os",
          "dis_core_os",
          "dis_core_os",
          "dis_core_os",
          "dis_core_os",
          "dis_core_os",
          "dis_core_os",
          "dis_core_os",
          "dis_core_os",
          "dis_core_os",
          "dis_core_os",
          "dis_core_os",
          "dis_core_os",
          "dis_core_os",
          "dis_core_os",
          "dis_core_os",
          "dis_core_os",
          "dis_core_os",
          "dis_core_os",
          "dis_core_os",
          "dis_core_os",
          "dis_core_os",
          "dis_core_os"
         ],
         "x0": " ",
         "xaxis": "x",
         "y": [
          -8.017,
          -11.517,
          -8.517,
          -21.517,
          9.983,
          -15.517,
          10.538,
          10.538,
          18.538,
          9.538,
          14.038,
          -15.017,
          -1.017,
          -6.462,
          -13.462,
          -8.962,
          -17.962,
          4.538,
          18.538,
          4.038,
          -0.462,
          -11.462,
          -29.962,
          1.538,
          15.038,
          4.477,
          8.483,
          20.538,
          8.038,
          17.538,
          -2.462,
          -5.462,
          -5.962,
          -18.017,
          10.736,
          -3.264,
          -2.764,
          10.736,
          9.736,
          -27.962,
          9.038,
          -9.764,
          -9.264,
          6.605,
          6.236,
          1.236,
          1.538,
          -3.023,
          5.105,
          -22.462,
          -28.462,
          -23.962,
          9.236,
          1.483,
          25.483,
          -13.764,
          2.605,
          -3.395,
          -0.264,
          1.236,
          11.605,
          -6.017,
          -4.895,
          -3.764,
          6.105,
          -1.264,
          3.236,
          19.736,
          11.983,
          8.977,
          9.105,
          -1.895,
          -11.264,
          -11.764,
          7.736,
          22.038,
          3.605,
          -1.895,
          6.605,
          -11.895,
          1.736,
          -19.962,
          6.483,
          -15.962,
          -20.462,
          27.736,
          -18.895,
          -5.395,
          6.038,
          7.477,
          -6.895,
          11.605,
          4.605,
          -11.264,
          10.105,
          17.038,
          9.977,
          -11.764,
          -9.395,
          8.605,
          7.105,
          -4.395,
          -8.962,
          20.983,
          -13.962,
          4.605,
          -9.264,
          7.736,
          -10.264,
          23.038,
          -18.523,
          -11.462,
          6.105,
          1.736,
          9.236,
          5.736,
          0.983,
          9.977,
          6.605,
          -12.264,
          -13.895,
          5.605,
          12.605,
          22.538,
          11.483,
          4.236,
          -0.395,
          -4.764,
          2.605,
          8.105,
          -14.017,
          -8.023,
          7.236,
          -11.264,
          5.236,
          14.736,
          -6.264,
          11.538,
          13.977,
          -6.895,
          -8.895,
          -2.264,
          -3.264,
          3.736,
          -3.517,
          -37.523,
          -12.962,
          8.736,
          -25.395,
          -3.962,
          5.038,
          0,
          0,
          0,
          0,
          0,
          0,
          0,
          0,
          0,
          0,
          0,
          0,
          0,
          0,
          0,
          0,
          0,
          0,
          0,
          0,
          0,
          0,
          0,
          0,
          0,
          0,
          0,
          0,
          0,
          0,
          0,
          0,
          0,
          0,
          0,
          0,
          0,
          0,
          0,
          0,
          0,
          0,
          0,
          0,
          0,
          0,
          0,
          0,
          0,
          0,
          0,
          0,
          0,
          0,
          0,
          0,
          0,
          0,
          0,
          0,
          0,
          -9.513,
          0.447,
          -1.58,
          8.447,
          -1.08,
          3.92,
          -15.4,
          -4.013,
          2.729,
          -12.08,
          2.447,
          -9.08,
          -12.08,
          14.92,
          19.1,
          1.447,
          -0.553,
          8.447,
          -5.553,
          -2.58,
          7.92,
          -9.513,
          -4.4,
          -5.9,
          -11.4,
          -14.053,
          -4.553,
          4.6,
          1.229,
          -7.053,
          10.947,
          2.947,
          -12.08,
          8.447,
          -4.9,
          3.729,
          -8.08,
          -9.553,
          7.447,
          7.447,
          -1.053,
          -13.4,
          4.987,
          0.6,
          3.947,
          -7.08,
          8.42,
          -7.08,
          1.1,
          -21.771,
          -0.4,
          3.947,
          2.92,
          6.92,
          6.42,
          -6.513,
          3.729,
          -0.053,
          8.447,
          -18.053,
          3.447,
          8.447,
          0.6,
          5.487,
          -0.58,
          -3.553,
          -3.08,
          2.947,
          6.947,
          15.1,
          -14.271,
          2.92,
          -9.08,
          0.92,
          9.92,
          -4.58,
          -1.4,
          7.729,
          -0.053,
          -2.553,
          -0.58,
          -0.58,
          8.42,
          -11.013,
          26.487,
          3.1,
          9.42,
          -22.053,
          -9.513,
          14.6
         ],
         "y0": " ",
         "yaxis": "y"
        }
       ],
       "layout": {
        "boxmode": "group",
        "legend": {
         "tracegroupgap": 0
        },
        "margin": {
         "t": 60
        },
        "template": {
         "data": {
          "bar": [
           {
            "error_x": {
             "color": "#2a3f5f"
            },
            "error_y": {
             "color": "#2a3f5f"
            },
            "marker": {
             "line": {
              "color": "#E5ECF6",
              "width": 0.5
             }
            },
            "type": "bar"
           }
          ],
          "barpolar": [
           {
            "marker": {
             "line": {
              "color": "#E5ECF6",
              "width": 0.5
             }
            },
            "type": "barpolar"
           }
          ],
          "carpet": [
           {
            "aaxis": {
             "endlinecolor": "#2a3f5f",
             "gridcolor": "white",
             "linecolor": "white",
             "minorgridcolor": "white",
             "startlinecolor": "#2a3f5f"
            },
            "baxis": {
             "endlinecolor": "#2a3f5f",
             "gridcolor": "white",
             "linecolor": "white",
             "minorgridcolor": "white",
             "startlinecolor": "#2a3f5f"
            },
            "type": "carpet"
           }
          ],
          "choropleth": [
           {
            "colorbar": {
             "outlinewidth": 0,
             "ticks": ""
            },
            "type": "choropleth"
           }
          ],
          "contour": [
           {
            "colorbar": {
             "outlinewidth": 0,
             "ticks": ""
            },
            "colorscale": [
             [
              0,
              "#0d0887"
             ],
             [
              0.1111111111111111,
              "#46039f"
             ],
             [
              0.2222222222222222,
              "#7201a8"
             ],
             [
              0.3333333333333333,
              "#9c179e"
             ],
             [
              0.4444444444444444,
              "#bd3786"
             ],
             [
              0.5555555555555556,
              "#d8576b"
             ],
             [
              0.6666666666666666,
              "#ed7953"
             ],
             [
              0.7777777777777778,
              "#fb9f3a"
             ],
             [
              0.8888888888888888,
              "#fdca26"
             ],
             [
              1,
              "#f0f921"
             ]
            ],
            "type": "contour"
           }
          ],
          "contourcarpet": [
           {
            "colorbar": {
             "outlinewidth": 0,
             "ticks": ""
            },
            "type": "contourcarpet"
           }
          ],
          "heatmap": [
           {
            "colorbar": {
             "outlinewidth": 0,
             "ticks": ""
            },
            "colorscale": [
             [
              0,
              "#0d0887"
             ],
             [
              0.1111111111111111,
              "#46039f"
             ],
             [
              0.2222222222222222,
              "#7201a8"
             ],
             [
              0.3333333333333333,
              "#9c179e"
             ],
             [
              0.4444444444444444,
              "#bd3786"
             ],
             [
              0.5555555555555556,
              "#d8576b"
             ],
             [
              0.6666666666666666,
              "#ed7953"
             ],
             [
              0.7777777777777778,
              "#fb9f3a"
             ],
             [
              0.8888888888888888,
              "#fdca26"
             ],
             [
              1,
              "#f0f921"
             ]
            ],
            "type": "heatmap"
           }
          ],
          "heatmapgl": [
           {
            "colorbar": {
             "outlinewidth": 0,
             "ticks": ""
            },
            "colorscale": [
             [
              0,
              "#0d0887"
             ],
             [
              0.1111111111111111,
              "#46039f"
             ],
             [
              0.2222222222222222,
              "#7201a8"
             ],
             [
              0.3333333333333333,
              "#9c179e"
             ],
             [
              0.4444444444444444,
              "#bd3786"
             ],
             [
              0.5555555555555556,
              "#d8576b"
             ],
             [
              0.6666666666666666,
              "#ed7953"
             ],
             [
              0.7777777777777778,
              "#fb9f3a"
             ],
             [
              0.8888888888888888,
              "#fdca26"
             ],
             [
              1,
              "#f0f921"
             ]
            ],
            "type": "heatmapgl"
           }
          ],
          "histogram": [
           {
            "marker": {
             "colorbar": {
              "outlinewidth": 0,
              "ticks": ""
             }
            },
            "type": "histogram"
           }
          ],
          "histogram2d": [
           {
            "colorbar": {
             "outlinewidth": 0,
             "ticks": ""
            },
            "colorscale": [
             [
              0,
              "#0d0887"
             ],
             [
              0.1111111111111111,
              "#46039f"
             ],
             [
              0.2222222222222222,
              "#7201a8"
             ],
             [
              0.3333333333333333,
              "#9c179e"
             ],
             [
              0.4444444444444444,
              "#bd3786"
             ],
             [
              0.5555555555555556,
              "#d8576b"
             ],
             [
              0.6666666666666666,
              "#ed7953"
             ],
             [
              0.7777777777777778,
              "#fb9f3a"
             ],
             [
              0.8888888888888888,
              "#fdca26"
             ],
             [
              1,
              "#f0f921"
             ]
            ],
            "type": "histogram2d"
           }
          ],
          "histogram2dcontour": [
           {
            "colorbar": {
             "outlinewidth": 0,
             "ticks": ""
            },
            "colorscale": [
             [
              0,
              "#0d0887"
             ],
             [
              0.1111111111111111,
              "#46039f"
             ],
             [
              0.2222222222222222,
              "#7201a8"
             ],
             [
              0.3333333333333333,
              "#9c179e"
             ],
             [
              0.4444444444444444,
              "#bd3786"
             ],
             [
              0.5555555555555556,
              "#d8576b"
             ],
             [
              0.6666666666666666,
              "#ed7953"
             ],
             [
              0.7777777777777778,
              "#fb9f3a"
             ],
             [
              0.8888888888888888,
              "#fdca26"
             ],
             [
              1,
              "#f0f921"
             ]
            ],
            "type": "histogram2dcontour"
           }
          ],
          "mesh3d": [
           {
            "colorbar": {
             "outlinewidth": 0,
             "ticks": ""
            },
            "type": "mesh3d"
           }
          ],
          "parcoords": [
           {
            "line": {
             "colorbar": {
              "outlinewidth": 0,
              "ticks": ""
             }
            },
            "type": "parcoords"
           }
          ],
          "pie": [
           {
            "automargin": true,
            "type": "pie"
           }
          ],
          "scatter": [
           {
            "marker": {
             "colorbar": {
              "outlinewidth": 0,
              "ticks": ""
             }
            },
            "type": "scatter"
           }
          ],
          "scatter3d": [
           {
            "line": {
             "colorbar": {
              "outlinewidth": 0,
              "ticks": ""
             }
            },
            "marker": {
             "colorbar": {
              "outlinewidth": 0,
              "ticks": ""
             }
            },
            "type": "scatter3d"
           }
          ],
          "scattercarpet": [
           {
            "marker": {
             "colorbar": {
              "outlinewidth": 0,
              "ticks": ""
             }
            },
            "type": "scattercarpet"
           }
          ],
          "scattergeo": [
           {
            "marker": {
             "colorbar": {
              "outlinewidth": 0,
              "ticks": ""
             }
            },
            "type": "scattergeo"
           }
          ],
          "scattergl": [
           {
            "marker": {
             "colorbar": {
              "outlinewidth": 0,
              "ticks": ""
             }
            },
            "type": "scattergl"
           }
          ],
          "scattermapbox": [
           {
            "marker": {
             "colorbar": {
              "outlinewidth": 0,
              "ticks": ""
             }
            },
            "type": "scattermapbox"
           }
          ],
          "scatterpolar": [
           {
            "marker": {
             "colorbar": {
              "outlinewidth": 0,
              "ticks": ""
             }
            },
            "type": "scatterpolar"
           }
          ],
          "scatterpolargl": [
           {
            "marker": {
             "colorbar": {
              "outlinewidth": 0,
              "ticks": ""
             }
            },
            "type": "scatterpolargl"
           }
          ],
          "scatterternary": [
           {
            "marker": {
             "colorbar": {
              "outlinewidth": 0,
              "ticks": ""
             }
            },
            "type": "scatterternary"
           }
          ],
          "surface": [
           {
            "colorbar": {
             "outlinewidth": 0,
             "ticks": ""
            },
            "colorscale": [
             [
              0,
              "#0d0887"
             ],
             [
              0.1111111111111111,
              "#46039f"
             ],
             [
              0.2222222222222222,
              "#7201a8"
             ],
             [
              0.3333333333333333,
              "#9c179e"
             ],
             [
              0.4444444444444444,
              "#bd3786"
             ],
             [
              0.5555555555555556,
              "#d8576b"
             ],
             [
              0.6666666666666666,
              "#ed7953"
             ],
             [
              0.7777777777777778,
              "#fb9f3a"
             ],
             [
              0.8888888888888888,
              "#fdca26"
             ],
             [
              1,
              "#f0f921"
             ]
            ],
            "type": "surface"
           }
          ],
          "table": [
           {
            "cells": {
             "fill": {
              "color": "#EBF0F8"
             },
             "line": {
              "color": "white"
             }
            },
            "header": {
             "fill": {
              "color": "#C8D4E3"
             },
             "line": {
              "color": "white"
             }
            },
            "type": "table"
           }
          ]
         },
         "layout": {
          "annotationdefaults": {
           "arrowcolor": "#2a3f5f",
           "arrowhead": 0,
           "arrowwidth": 1
          },
          "autotypenumbers": "strict",
          "coloraxis": {
           "colorbar": {
            "outlinewidth": 0,
            "ticks": ""
           }
          },
          "colorscale": {
           "diverging": [
            [
             0,
             "#8e0152"
            ],
            [
             0.1,
             "#c51b7d"
            ],
            [
             0.2,
             "#de77ae"
            ],
            [
             0.3,
             "#f1b6da"
            ],
            [
             0.4,
             "#fde0ef"
            ],
            [
             0.5,
             "#f7f7f7"
            ],
            [
             0.6,
             "#e6f5d0"
            ],
            [
             0.7,
             "#b8e186"
            ],
            [
             0.8,
             "#7fbc41"
            ],
            [
             0.9,
             "#4d9221"
            ],
            [
             1,
             "#276419"
            ]
           ],
           "sequential": [
            [
             0,
             "#0d0887"
            ],
            [
             0.1111111111111111,
             "#46039f"
            ],
            [
             0.2222222222222222,
             "#7201a8"
            ],
            [
             0.3333333333333333,
             "#9c179e"
            ],
            [
             0.4444444444444444,
             "#bd3786"
            ],
            [
             0.5555555555555556,
             "#d8576b"
            ],
            [
             0.6666666666666666,
             "#ed7953"
            ],
            [
             0.7777777777777778,
             "#fb9f3a"
            ],
            [
             0.8888888888888888,
             "#fdca26"
            ],
            [
             1,
             "#f0f921"
            ]
           ],
           "sequentialminus": [
            [
             0,
             "#0d0887"
            ],
            [
             0.1111111111111111,
             "#46039f"
            ],
            [
             0.2222222222222222,
             "#7201a8"
            ],
            [
             0.3333333333333333,
             "#9c179e"
            ],
            [
             0.4444444444444444,
             "#bd3786"
            ],
            [
             0.5555555555555556,
             "#d8576b"
            ],
            [
             0.6666666666666666,
             "#ed7953"
            ],
            [
             0.7777777777777778,
             "#fb9f3a"
            ],
            [
             0.8888888888888888,
             "#fdca26"
            ],
            [
             1,
             "#f0f921"
            ]
           ]
          },
          "colorway": [
           "#636efa",
           "#EF553B",
           "#00cc96",
           "#ab63fa",
           "#FFA15A",
           "#19d3f3",
           "#FF6692",
           "#B6E880",
           "#FF97FF",
           "#FECB52"
          ],
          "font": {
           "color": "#2a3f5f"
          },
          "geo": {
           "bgcolor": "white",
           "lakecolor": "white",
           "landcolor": "#E5ECF6",
           "showlakes": true,
           "showland": true,
           "subunitcolor": "white"
          },
          "hoverlabel": {
           "align": "left"
          },
          "hovermode": "closest",
          "mapbox": {
           "style": "light"
          },
          "paper_bgcolor": "white",
          "plot_bgcolor": "#E5ECF6",
          "polar": {
           "angularaxis": {
            "gridcolor": "white",
            "linecolor": "white",
            "ticks": ""
           },
           "bgcolor": "#E5ECF6",
           "radialaxis": {
            "gridcolor": "white",
            "linecolor": "white",
            "ticks": ""
           }
          },
          "scene": {
           "xaxis": {
            "backgroundcolor": "#E5ECF6",
            "gridcolor": "white",
            "gridwidth": 2,
            "linecolor": "white",
            "showbackground": true,
            "ticks": "",
            "zerolinecolor": "white"
           },
           "yaxis": {
            "backgroundcolor": "#E5ECF6",
            "gridcolor": "white",
            "gridwidth": 2,
            "linecolor": "white",
            "showbackground": true,
            "ticks": "",
            "zerolinecolor": "white"
           },
           "zaxis": {
            "backgroundcolor": "#E5ECF6",
            "gridcolor": "white",
            "gridwidth": 2,
            "linecolor": "white",
            "showbackground": true,
            "ticks": "",
            "zerolinecolor": "white"
           }
          },
          "shapedefaults": {
           "line": {
            "color": "#2a3f5f"
           }
          },
          "ternary": {
           "aaxis": {
            "gridcolor": "white",
            "linecolor": "white",
            "ticks": ""
           },
           "baxis": {
            "gridcolor": "white",
            "linecolor": "white",
            "ticks": ""
           },
           "bgcolor": "#E5ECF6",
           "caxis": {
            "gridcolor": "white",
            "linecolor": "white",
            "ticks": ""
           }
          },
          "title": {
           "x": 0.05
          },
          "xaxis": {
           "automargin": true,
           "gridcolor": "white",
           "linecolor": "white",
           "ticks": "",
           "title": {
            "standoff": 15
           },
           "zerolinecolor": "white",
           "zerolinewidth": 2
          },
          "yaxis": {
           "automargin": true,
           "gridcolor": "white",
           "linecolor": "white",
           "ticks": "",
           "title": {
            "standoff": 15
           },
           "zerolinecolor": "white",
           "zerolinewidth": 2
          }
         }
        },
        "xaxis": {
         "anchor": "y",
         "domain": [
          0,
          1
         ],
         "title": {
          "text": "variable"
         }
        },
        "yaxis": {
         "anchor": "x",
         "domain": [
          0,
          1
         ],
         "title": {
          "text": "value"
         }
        }
       }
      }
     },
     "metadata": {}
    }
   ],
   "metadata": {}
  },
  {
   "cell_type": "code",
   "execution_count": null,
   "source": [
    "go.Figure([go.Histogram(x = plt2['dis_core']),\\\r\n",
    "    go.Histogram(x= plt2['dis_core_os'])])\r\n",
    " "
   ],
   "outputs": [],
   "metadata": {}
  },
  {
   "cell_type": "code",
   "execution_count": 58,
   "source": [
    "\r\n",
    "df_final.head()\r\n",
    "df_final['max_wh'] = df_final.groupby(\r\n",
    "    ['ou_code', 'kernal_core1', 'kernal_core2']\r\n",
    "    )['total_working_hour'].transform('max')\r\n",
    "df_final['min_wh'] = df_final.groupby(\r\n",
    "    ['ou_code', 'kernal_core1', 'kernal_core2']\r\n",
    "    )['total_working_hour'].transform('min')\r\n",
    "df_final['median_wh'] = df_final.groupby(\r\n",
    "    ['ou_code', 'kernal_core1', 'kernal_core2']\r\n",
    "    )['total_working_hour'].transform('median')\r\n",
    "df_final['mean_wh'] = df_final.groupby(\r\n",
    "    ['ou_code', 'kernal_core1', 'kernal_core2']\r\n",
    "    )['total_working_hour'].transform('mean')\r\n",
    "df_final['qt_66_wh'] = df_final.groupby(\r\n",
    "    ['ou_code', 'kernal_core1', 'kernal_core2']\r\n",
    "    )['total_working_hour'].transform('quantile', .6667)\r\n",
    "df_final['qt_75_wh'] = df_final.groupby(\r\n",
    "    ['ou_code', 'kernal_core1', 'kernal_core2']\r\n",
    "    )['total_working_hour'].transform('quantile', .75)\r\n",
    "df_final['d_to_core_outer'] = df_final.groupby(\r\n",
    "        ['ou_code', 'kernal_core1', 'kernal_core2'], as_index = False\r\n",
    "                )['total_working_hour','kernal_value3'].diff(axis = 1\r\n",
    "                    ).drop('total_working_hour', axis = 1).round(3)\r\n",
    "df_final['d_to_core_outer_os'] = df_final.groupby(\r\n",
    "        ['ou_code', 'kernal_core1', 'kernal_core2'], as_index = False\r\n",
    "                )['outsource_working_hour','kernal_value4'].diff(axis = 1\r\n",
    "                    ).drop('outsource_working_hour', axis = 1).round(3)\r\n",
    "df_final['d_to_core_outer_os'] = np.abs(df_final['d_to_core_outer_os'])\r\n",
    "\r\n",
    "df_final['percent_error_66'] = (\r\n",
    "        df_final['qt_66_wh'] - df_final['total_working_hour'])/(\r\n",
    "                df_final['total_working_hour']\r\n",
    "                )\r\n",
    "df_final['percent_error_75'] = (\r\n",
    "        df_final['qt_75_wh'] - df_final['total_working_hour']\r\n",
    "        )/(df_final['total_working_hour']\r\n",
    "        )\r\n",
    "\r\n",
    "df_final['qt_75_os'] = df_final.groupby(\r\n",
    "    ['ou_code', 'kernal_core1', 'kernal_core2']\r\n",
    "    )['outsource_working_hour'].transform('quantile', .75)\r\n",
    "    \r\n",
    "\r\n",
    "df_final['pe_66_os'] = (\r\n",
    "        df_final['qt_66_wh'] - df_final['outsource_working_hour'])/(\r\n",
    "                df_final['outsource_working_hour']\r\n",
    "                )\r\n",
    "df_final['pe_75_os'] = (\r\n",
    "        df_final['qt_75_wh'] - df_final['outsource_working_hour']\r\n",
    "        )/(df_final['outsource_working_hour']\r\n",
    "        )\r\n",
    "\r\n",
    "\r\n",
    "df_final['qt_75_dis_core_os_inner'] = df_final.groupby(\r\n",
    "    ['ou_code', 'kernal_core4']\r\n",
    "    )['dis_core_os'].transform('quantile', .75)\r\n",
    "\r\n",
    "df_final['qt_75_dis_core_os_outer'] = df_final.groupby(\r\n",
    "    ['ou_code', 'kernal_core1', 'kernal_core2']\r\n",
    "    )['d_to_core_outer_os'].transform('quantile', .75)\r\n",
    "# \r\n",
    "# df_final['flag_wh'] = [1 if df_final['dis_core_os'][i]>df_final['qt_75_dis_core_os_outer'][i]\\\r\n",
    "    #  else 0 for i in np.arange(0, len(df_final))]\r\n",
    "\r\n",
    "\r\n",
    "# df_final['flag_75_wh'] = [1 if df_final['total_working_hour'][i]-1.2*np.abs(df_final['qt_75_wh'][i]) > 0\\\r\n",
    "#     else 0 for i in np.arange(0, len(df_final))]\r\n",
    "\r\n",
    "# df_final['date_stamp'] = str(date.today())\r\n",
    "# df_final['date_stamp'] = df_final['date_stamp'].str.replace('-', '')\r\n",
    " \r\n",
    "# df_final['inc_day']  = '99991231'\r\n",
    "df_final =df_final.replace(float('inf'), 0); df_final"
   ],
   "outputs": [
    {
     "output_type": "execute_result",
     "data": {
      "text/html": [
       "<div>\n",
       "<style scoped>\n",
       "    .dataframe tbody tr th:only-of-type {\n",
       "        vertical-align: middle;\n",
       "    }\n",
       "\n",
       "    .dataframe tbody tr th {\n",
       "        vertical-align: top;\n",
       "    }\n",
       "\n",
       "    .dataframe thead th {\n",
       "        text-align: right;\n",
       "    }\n",
       "</style>\n",
       "<table border=\"1\" class=\"dataframe\">\n",
       "  <thead>\n",
       "    <tr style=\"text-align: right;\">\n",
       "      <th></th>\n",
       "      <th>ou_code</th>\n",
       "      <th>operation_day</th>\n",
       "      <th>inbound_receive_qty</th>\n",
       "      <th>kernal_core1</th>\n",
       "      <th>kernal_value1</th>\n",
       "      <th>outbound_shipped_qty</th>\n",
       "      <th>kernal_core2</th>\n",
       "      <th>kernal_value2</th>\n",
       "      <th>total_working_hour</th>\n",
       "      <th>kernal_core3</th>\n",
       "      <th>...</th>\n",
       "      <th>kernal_value4</th>\n",
       "      <th>dis_core_os</th>\n",
       "      <th>d_to_core_outer_os</th>\n",
       "      <th>percent_error_66</th>\n",
       "      <th>percent_error_75</th>\n",
       "      <th>qt_75_os</th>\n",
       "      <th>pe_66_os</th>\n",
       "      <th>pe_75_os</th>\n",
       "      <th>qt_75_dis_core_os_inner</th>\n",
       "      <th>qt_75_dis_core_os_outer</th>\n",
       "    </tr>\n",
       "  </thead>\n",
       "  <tbody>\n",
       "    <tr>\n",
       "      <th>0</th>\n",
       "      <td>CN-001</td>\n",
       "      <td>20210430</td>\n",
       "      <td>0.0</td>\n",
       "      <td>-1</td>\n",
       "      <td>0.000000</td>\n",
       "      <td>1699.0</td>\n",
       "      <td>2</td>\n",
       "      <td>2782.503704</td>\n",
       "      <td>32.75</td>\n",
       "      <td>1</td>\n",
       "      <td>...</td>\n",
       "      <td>0.0</td>\n",
       "      <td>0.0</td>\n",
       "      <td>0.0</td>\n",
       "      <td>0.323080</td>\n",
       "      <td>0.382290</td>\n",
       "      <td>0.0</td>\n",
       "      <td>0.0</td>\n",
       "      <td>0.0</td>\n",
       "      <td>0.0</td>\n",
       "      <td>0.0</td>\n",
       "    </tr>\n",
       "    <tr>\n",
       "      <th>1</th>\n",
       "      <td>CN-001</td>\n",
       "      <td>20210619</td>\n",
       "      <td>0.0</td>\n",
       "      <td>-1</td>\n",
       "      <td>0.000000</td>\n",
       "      <td>0.0</td>\n",
       "      <td>-1</td>\n",
       "      <td>0.000000</td>\n",
       "      <td>30.00</td>\n",
       "      <td>1</td>\n",
       "      <td>...</td>\n",
       "      <td>0.0</td>\n",
       "      <td>0.0</td>\n",
       "      <td>0.0</td>\n",
       "      <td>0.202337</td>\n",
       "      <td>0.251167</td>\n",
       "      <td>0.0</td>\n",
       "      <td>0.0</td>\n",
       "      <td>0.0</td>\n",
       "      <td>0.0</td>\n",
       "      <td>0.0</td>\n",
       "    </tr>\n",
       "    <tr>\n",
       "      <th>2</th>\n",
       "      <td>CN-001</td>\n",
       "      <td>20210721</td>\n",
       "      <td>0.0</td>\n",
       "      <td>-1</td>\n",
       "      <td>0.000000</td>\n",
       "      <td>1542.0</td>\n",
       "      <td>2</td>\n",
       "      <td>2782.503704</td>\n",
       "      <td>45.17</td>\n",
       "      <td>0</td>\n",
       "      <td>...</td>\n",
       "      <td>0.0</td>\n",
       "      <td>0.0</td>\n",
       "      <td>0.0</td>\n",
       "      <td>-0.040716</td>\n",
       "      <td>0.002214</td>\n",
       "      <td>0.0</td>\n",
       "      <td>0.0</td>\n",
       "      <td>0.0</td>\n",
       "      <td>0.0</td>\n",
       "      <td>0.0</td>\n",
       "    </tr>\n",
       "    <tr>\n",
       "      <th>3</th>\n",
       "      <td>CN-001</td>\n",
       "      <td>20210724</td>\n",
       "      <td>0.0</td>\n",
       "      <td>-1</td>\n",
       "      <td>0.000000</td>\n",
       "      <td>0.0</td>\n",
       "      <td>-1</td>\n",
       "      <td>0.000000</td>\n",
       "      <td>9.50</td>\n",
       "      <td>2</td>\n",
       "      <td>...</td>\n",
       "      <td>0.0</td>\n",
       "      <td>0.0</td>\n",
       "      <td>0.0</td>\n",
       "      <td>2.796854</td>\n",
       "      <td>2.951053</td>\n",
       "      <td>0.0</td>\n",
       "      <td>0.0</td>\n",
       "      <td>0.0</td>\n",
       "      <td>0.0</td>\n",
       "      <td>0.0</td>\n",
       "    </tr>\n",
       "    <tr>\n",
       "      <th>4</th>\n",
       "      <td>CN-001</td>\n",
       "      <td>20210811</td>\n",
       "      <td>0.0</td>\n",
       "      <td>-1</td>\n",
       "      <td>0.000000</td>\n",
       "      <td>4327.0</td>\n",
       "      <td>2</td>\n",
       "      <td>2782.503704</td>\n",
       "      <td>45.72</td>\n",
       "      <td>0</td>\n",
       "      <td>...</td>\n",
       "      <td>0.0</td>\n",
       "      <td>0.0</td>\n",
       "      <td>0.0</td>\n",
       "      <td>-0.052256</td>\n",
       "      <td>-0.009843</td>\n",
       "      <td>0.0</td>\n",
       "      <td>0.0</td>\n",
       "      <td>0.0</td>\n",
       "      <td>0.0</td>\n",
       "      <td>0.0</td>\n",
       "    </tr>\n",
       "    <tr>\n",
       "      <th>...</th>\n",
       "      <td>...</td>\n",
       "      <td>...</td>\n",
       "      <td>...</td>\n",
       "      <td>...</td>\n",
       "      <td>...</td>\n",
       "      <td>...</td>\n",
       "      <td>...</td>\n",
       "      <td>...</td>\n",
       "      <td>...</td>\n",
       "      <td>...</td>\n",
       "      <td>...</td>\n",
       "      <td>...</td>\n",
       "      <td>...</td>\n",
       "      <td>...</td>\n",
       "      <td>...</td>\n",
       "      <td>...</td>\n",
       "      <td>...</td>\n",
       "      <td>...</td>\n",
       "      <td>...</td>\n",
       "      <td>...</td>\n",
       "      <td>...</td>\n",
       "    </tr>\n",
       "    <tr>\n",
       "      <th>8144</th>\n",
       "      <td>HK-115</td>\n",
       "      <td>20210611</td>\n",
       "      <td>34955.0</td>\n",
       "      <td>3</td>\n",
       "      <td>39025.502183</td>\n",
       "      <td>5318.0</td>\n",
       "      <td>2</td>\n",
       "      <td>6272.401310</td>\n",
       "      <td>59.10</td>\n",
       "      <td>3</td>\n",
       "      <td>...</td>\n",
       "      <td>0.0</td>\n",
       "      <td>0.0</td>\n",
       "      <td>0.0</td>\n",
       "      <td>0.046026</td>\n",
       "      <td>0.051777</td>\n",
       "      <td>0.0</td>\n",
       "      <td>0.0</td>\n",
       "      <td>0.0</td>\n",
       "      <td>0.0</td>\n",
       "      <td>0.0</td>\n",
       "    </tr>\n",
       "    <tr>\n",
       "      <th>8145</th>\n",
       "      <td>HK-115</td>\n",
       "      <td>20210720</td>\n",
       "      <td>58319.0</td>\n",
       "      <td>2</td>\n",
       "      <td>60992.624413</td>\n",
       "      <td>6729.0</td>\n",
       "      <td>2</td>\n",
       "      <td>6272.401310</td>\n",
       "      <td>69.37</td>\n",
       "      <td>1</td>\n",
       "      <td>...</td>\n",
       "      <td>0.0</td>\n",
       "      <td>0.0</td>\n",
       "      <td>0.0</td>\n",
       "      <td>0.000000</td>\n",
       "      <td>0.000000</td>\n",
       "      <td>0.0</td>\n",
       "      <td>0.0</td>\n",
       "      <td>0.0</td>\n",
       "      <td>0.0</td>\n",
       "      <td>0.0</td>\n",
       "    </tr>\n",
       "    <tr>\n",
       "      <th>8146</th>\n",
       "      <td>HK-115</td>\n",
       "      <td>20210615</td>\n",
       "      <td>65429.0</td>\n",
       "      <td>2</td>\n",
       "      <td>60992.624413</td>\n",
       "      <td>3516.0</td>\n",
       "      <td>3</td>\n",
       "      <td>2429.029316</td>\n",
       "      <td>75.55</td>\n",
       "      <td>1</td>\n",
       "      <td>...</td>\n",
       "      <td>0.0</td>\n",
       "      <td>0.0</td>\n",
       "      <td>0.0</td>\n",
       "      <td>-0.143026</td>\n",
       "      <td>-0.107280</td>\n",
       "      <td>0.0</td>\n",
       "      <td>0.0</td>\n",
       "      <td>0.0</td>\n",
       "      <td>0.0</td>\n",
       "      <td>0.0</td>\n",
       "    </tr>\n",
       "    <tr>\n",
       "      <th>8147</th>\n",
       "      <td>HK-115</td>\n",
       "      <td>20210830</td>\n",
       "      <td>62542.0</td>\n",
       "      <td>2</td>\n",
       "      <td>60992.624413</td>\n",
       "      <td>28971.0</td>\n",
       "      <td>1</td>\n",
       "      <td>27494.223301</td>\n",
       "      <td>84.07</td>\n",
       "      <td>4</td>\n",
       "      <td>...</td>\n",
       "      <td>0.0</td>\n",
       "      <td>0.0</td>\n",
       "      <td>0.0</td>\n",
       "      <td>0.000000</td>\n",
       "      <td>0.000000</td>\n",
       "      <td>0.0</td>\n",
       "      <td>0.0</td>\n",
       "      <td>0.0</td>\n",
       "      <td>0.0</td>\n",
       "      <td>0.0</td>\n",
       "    </tr>\n",
       "    <tr>\n",
       "      <th>8148</th>\n",
       "      <td>HK-115</td>\n",
       "      <td>20210807</td>\n",
       "      <td>58180.0</td>\n",
       "      <td>2</td>\n",
       "      <td>60992.624413</td>\n",
       "      <td>2310.0</td>\n",
       "      <td>3</td>\n",
       "      <td>2429.029316</td>\n",
       "      <td>43.13</td>\n",
       "      <td>0</td>\n",
       "      <td>...</td>\n",
       "      <td>0.0</td>\n",
       "      <td>0.0</td>\n",
       "      <td>0.0</td>\n",
       "      <td>0.501146</td>\n",
       "      <td>0.563761</td>\n",
       "      <td>0.0</td>\n",
       "      <td>0.0</td>\n",
       "      <td>0.0</td>\n",
       "      <td>0.0</td>\n",
       "      <td>0.0</td>\n",
       "    </tr>\n",
       "  </tbody>\n",
       "</table>\n",
       "<p>8149 rows × 36 columns</p>\n",
       "</div>"
      ],
      "text/plain": [
       "     ou_code  operation_day  inbound_receive_qty  kernal_core1  kernal_value1  \\\n",
       "0     CN-001       20210430                  0.0            -1       0.000000   \n",
       "1     CN-001       20210619                  0.0            -1       0.000000   \n",
       "2     CN-001       20210721                  0.0            -1       0.000000   \n",
       "3     CN-001       20210724                  0.0            -1       0.000000   \n",
       "4     CN-001       20210811                  0.0            -1       0.000000   \n",
       "...      ...            ...                  ...           ...            ...   \n",
       "8144  HK-115       20210611              34955.0             3   39025.502183   \n",
       "8145  HK-115       20210720              58319.0             2   60992.624413   \n",
       "8146  HK-115       20210615              65429.0             2   60992.624413   \n",
       "8147  HK-115       20210830              62542.0             2   60992.624413   \n",
       "8148  HK-115       20210807              58180.0             2   60992.624413   \n",
       "\n",
       "      outbound_shipped_qty  kernal_core2  kernal_value2  total_working_hour  \\\n",
       "0                   1699.0             2    2782.503704               32.75   \n",
       "1                      0.0            -1       0.000000               30.00   \n",
       "2                   1542.0             2    2782.503704               45.17   \n",
       "3                      0.0            -1       0.000000                9.50   \n",
       "4                   4327.0             2    2782.503704               45.72   \n",
       "...                    ...           ...            ...                 ...   \n",
       "8144                5318.0             2    6272.401310               59.10   \n",
       "8145                6729.0             2    6272.401310               69.37   \n",
       "8146                3516.0             3    2429.029316               75.55   \n",
       "8147               28971.0             1   27494.223301               84.07   \n",
       "8148                2310.0             3    2429.029316               43.13   \n",
       "\n",
       "      kernal_core3  ...  kernal_value4  dis_core_os  d_to_core_outer_os  \\\n",
       "0                1  ...            0.0          0.0                 0.0   \n",
       "1                1  ...            0.0          0.0                 0.0   \n",
       "2                0  ...            0.0          0.0                 0.0   \n",
       "3                2  ...            0.0          0.0                 0.0   \n",
       "4                0  ...            0.0          0.0                 0.0   \n",
       "...            ...  ...            ...          ...                 ...   \n",
       "8144             3  ...            0.0          0.0                 0.0   \n",
       "8145             1  ...            0.0          0.0                 0.0   \n",
       "8146             1  ...            0.0          0.0                 0.0   \n",
       "8147             4  ...            0.0          0.0                 0.0   \n",
       "8148             0  ...            0.0          0.0                 0.0   \n",
       "\n",
       "      percent_error_66  percent_error_75  qt_75_os  pe_66_os  pe_75_os  \\\n",
       "0             0.323080          0.382290       0.0       0.0       0.0   \n",
       "1             0.202337          0.251167       0.0       0.0       0.0   \n",
       "2            -0.040716          0.002214       0.0       0.0       0.0   \n",
       "3             2.796854          2.951053       0.0       0.0       0.0   \n",
       "4            -0.052256         -0.009843       0.0       0.0       0.0   \n",
       "...                ...               ...       ...       ...       ...   \n",
       "8144          0.046026          0.051777       0.0       0.0       0.0   \n",
       "8145          0.000000          0.000000       0.0       0.0       0.0   \n",
       "8146         -0.143026         -0.107280       0.0       0.0       0.0   \n",
       "8147          0.000000          0.000000       0.0       0.0       0.0   \n",
       "8148          0.501146          0.563761       0.0       0.0       0.0   \n",
       "\n",
       "      qt_75_dis_core_os_inner  qt_75_dis_core_os_outer  \n",
       "0                         0.0                      0.0  \n",
       "1                         0.0                      0.0  \n",
       "2                         0.0                      0.0  \n",
       "3                         0.0                      0.0  \n",
       "4                         0.0                      0.0  \n",
       "...                       ...                      ...  \n",
       "8144                      0.0                      0.0  \n",
       "8145                      0.0                      0.0  \n",
       "8146                      0.0                      0.0  \n",
       "8147                      0.0                      0.0  \n",
       "8148                      0.0                      0.0  \n",
       "\n",
       "[8149 rows x 36 columns]"
      ]
     },
     "metadata": {},
     "execution_count": 58
    }
   ],
   "metadata": {}
  },
  {
   "cell_type": "code",
   "execution_count": 59,
   "source": [
    "\r\n",
    "\r\n",
    "df_final['flag_75_wh'] =  df_final['total_working_hour'] -1.2*df_final['qt_75_wh']\r\n",
    "df_final['flag_75_wh'] = [1 if a > 0 else 0 for a in df_final['flag_75_wh']]"
   ],
   "outputs": [],
   "metadata": {}
  },
  {
   "cell_type": "code",
   "execution_count": 128,
   "source": [
    "df_final[df_final['flag_75_wh'] == 1]"
   ],
   "outputs": [
    {
     "output_type": "execute_result",
     "data": {
      "text/html": [
       "<div>\n",
       "<style scoped>\n",
       "    .dataframe tbody tr th:only-of-type {\n",
       "        vertical-align: middle;\n",
       "    }\n",
       "\n",
       "    .dataframe tbody tr th {\n",
       "        vertical-align: top;\n",
       "    }\n",
       "\n",
       "    .dataframe thead th {\n",
       "        text-align: right;\n",
       "    }\n",
       "</style>\n",
       "<table border=\"1\" class=\"dataframe\">\n",
       "  <thead>\n",
       "    <tr style=\"text-align: right;\">\n",
       "      <th></th>\n",
       "      <th>ou_code</th>\n",
       "      <th>operation_day</th>\n",
       "      <th>inbound_receive_qty</th>\n",
       "      <th>kernal_core1</th>\n",
       "      <th>kernal_value1</th>\n",
       "      <th>outbound_shipped_qty</th>\n",
       "      <th>kernal_core2</th>\n",
       "      <th>kernal_value2</th>\n",
       "      <th>total_working_hour</th>\n",
       "      <th>kernal_core3</th>\n",
       "      <th>...</th>\n",
       "      <th>percent_error_75</th>\n",
       "      <th>qt_75_os</th>\n",
       "      <th>pe_66_os</th>\n",
       "      <th>pe_75_os</th>\n",
       "      <th>qt_75_dis_core_os_inner</th>\n",
       "      <th>qt_75_dis_core_os_outer</th>\n",
       "      <th>flag_75_wh</th>\n",
       "      <th>dis_tt_kernel_x</th>\n",
       "      <th>dis_tt_kernel_y</th>\n",
       "      <th>dis_tt_kernel_y</th>\n",
       "    </tr>\n",
       "  </thead>\n",
       "  <tbody>\n",
       "    <tr>\n",
       "      <th>19</th>\n",
       "      <td>CN-001</td>\n",
       "      <td>20210901</td>\n",
       "      <td>0.0</td>\n",
       "      <td>-1</td>\n",
       "      <td>0.00000</td>\n",
       "      <td>0.0</td>\n",
       "      <td>-1</td>\n",
       "      <td>0.000000</td>\n",
       "      <td>55.07</td>\n",
       "      <td>3</td>\n",
       "      <td>...</td>\n",
       "      <td>-0.318413</td>\n",
       "      <td>0.0</td>\n",
       "      <td>0.0</td>\n",
       "      <td>0.0</td>\n",
       "      <td>0.0</td>\n",
       "      <td>0.0</td>\n",
       "      <td>1</td>\n",
       "      <td>0.0</td>\n",
       "      <td>1.771026</td>\n",
       "      <td>0.0</td>\n",
       "    </tr>\n",
       "    <tr>\n",
       "      <th>28</th>\n",
       "      <td>CN-001</td>\n",
       "      <td>20210827</td>\n",
       "      <td>0.0</td>\n",
       "      <td>-1</td>\n",
       "      <td>0.00000</td>\n",
       "      <td>1378.0</td>\n",
       "      <td>2</td>\n",
       "      <td>2782.503704</td>\n",
       "      <td>63.10</td>\n",
       "      <td>3</td>\n",
       "      <td>...</td>\n",
       "      <td>-0.282567</td>\n",
       "      <td>0.0</td>\n",
       "      <td>0.0</td>\n",
       "      <td>0.0</td>\n",
       "      <td>0.0</td>\n",
       "      <td>0.0</td>\n",
       "      <td>1</td>\n",
       "      <td>0.0</td>\n",
       "      <td>-6.258974</td>\n",
       "      <td>0.0</td>\n",
       "    </tr>\n",
       "    <tr>\n",
       "      <th>35</th>\n",
       "      <td>CN-001</td>\n",
       "      <td>20210816</td>\n",
       "      <td>0.0</td>\n",
       "      <td>-1</td>\n",
       "      <td>0.00000</td>\n",
       "      <td>0.0</td>\n",
       "      <td>-1</td>\n",
       "      <td>0.000000</td>\n",
       "      <td>56.13</td>\n",
       "      <td>3</td>\n",
       "      <td>...</td>\n",
       "      <td>-0.331285</td>\n",
       "      <td>0.0</td>\n",
       "      <td>0.0</td>\n",
       "      <td>0.0</td>\n",
       "      <td>0.0</td>\n",
       "      <td>0.0</td>\n",
       "      <td>1</td>\n",
       "      <td>0.0</td>\n",
       "      <td>0.711026</td>\n",
       "      <td>0.0</td>\n",
       "    </tr>\n",
       "    <tr>\n",
       "      <th>42</th>\n",
       "      <td>CN-001</td>\n",
       "      <td>20210824</td>\n",
       "      <td>0.0</td>\n",
       "      <td>-1</td>\n",
       "      <td>0.00000</td>\n",
       "      <td>0.0</td>\n",
       "      <td>-1</td>\n",
       "      <td>0.000000</td>\n",
       "      <td>46.75</td>\n",
       "      <td>0</td>\n",
       "      <td>...</td>\n",
       "      <td>-0.197112</td>\n",
       "      <td>0.0</td>\n",
       "      <td>0.0</td>\n",
       "      <td>0.0</td>\n",
       "      <td>0.0</td>\n",
       "      <td>0.0</td>\n",
       "      <td>1</td>\n",
       "      <td>0.0</td>\n",
       "      <td>-1.140566</td>\n",
       "      <td>0.0</td>\n",
       "    </tr>\n",
       "    <tr>\n",
       "      <th>50</th>\n",
       "      <td>CN-001</td>\n",
       "      <td>20210826</td>\n",
       "      <td>0.0</td>\n",
       "      <td>-1</td>\n",
       "      <td>0.00000</td>\n",
       "      <td>12511.0</td>\n",
       "      <td>0</td>\n",
       "      <td>10264.813592</td>\n",
       "      <td>57.08</td>\n",
       "      <td>3</td>\n",
       "      <td>...</td>\n",
       "      <td>-0.177426</td>\n",
       "      <td>0.0</td>\n",
       "      <td>0.0</td>\n",
       "      <td>0.0</td>\n",
       "      <td>0.0</td>\n",
       "      <td>0.0</td>\n",
       "      <td>1</td>\n",
       "      <td>0.0</td>\n",
       "      <td>-0.238974</td>\n",
       "      <td>0.0</td>\n",
       "    </tr>\n",
       "    <tr>\n",
       "      <th>...</th>\n",
       "      <td>...</td>\n",
       "      <td>...</td>\n",
       "      <td>...</td>\n",
       "      <td>...</td>\n",
       "      <td>...</td>\n",
       "      <td>...</td>\n",
       "      <td>...</td>\n",
       "      <td>...</td>\n",
       "      <td>...</td>\n",
       "      <td>...</td>\n",
       "      <td>...</td>\n",
       "      <td>...</td>\n",
       "      <td>...</td>\n",
       "      <td>...</td>\n",
       "      <td>...</td>\n",
       "      <td>...</td>\n",
       "      <td>...</td>\n",
       "      <td>...</td>\n",
       "      <td>...</td>\n",
       "      <td>...</td>\n",
       "      <td>...</td>\n",
       "    </tr>\n",
       "    <tr>\n",
       "      <th>8053</th>\n",
       "      <td>HK-115</td>\n",
       "      <td>20210515</td>\n",
       "      <td>0.0</td>\n",
       "      <td>-1</td>\n",
       "      <td>0.00000</td>\n",
       "      <td>0.0</td>\n",
       "      <td>-1</td>\n",
       "      <td>0.000000</td>\n",
       "      <td>47.14</td>\n",
       "      <td>0</td>\n",
       "      <td>...</td>\n",
       "      <td>-0.257902</td>\n",
       "      <td>0.0</td>\n",
       "      <td>0.0</td>\n",
       "      <td>0.0</td>\n",
       "      <td>0.0</td>\n",
       "      <td>0.0</td>\n",
       "      <td>1</td>\n",
       "      <td>0.0</td>\n",
       "      <td>-5.374635</td>\n",
       "      <td>0.0</td>\n",
       "    </tr>\n",
       "    <tr>\n",
       "      <th>8069</th>\n",
       "      <td>HK-115</td>\n",
       "      <td>20210516</td>\n",
       "      <td>0.0</td>\n",
       "      <td>-1</td>\n",
       "      <td>0.00000</td>\n",
       "      <td>0.0</td>\n",
       "      <td>-1</td>\n",
       "      <td>0.000000</td>\n",
       "      <td>65.08</td>\n",
       "      <td>3</td>\n",
       "      <td>...</td>\n",
       "      <td>-0.462469</td>\n",
       "      <td>0.0</td>\n",
       "      <td>0.0</td>\n",
       "      <td>0.0</td>\n",
       "      <td>0.0</td>\n",
       "      <td>0.0</td>\n",
       "      <td>1</td>\n",
       "      <td>0.0</td>\n",
       "      <td>-4.931305</td>\n",
       "      <td>0.0</td>\n",
       "    </tr>\n",
       "    <tr>\n",
       "      <th>8078</th>\n",
       "      <td>HK-115</td>\n",
       "      <td>20210713</td>\n",
       "      <td>0.0</td>\n",
       "      <td>-1</td>\n",
       "      <td>0.00000</td>\n",
       "      <td>5437.0</td>\n",
       "      <td>2</td>\n",
       "      <td>6272.401310</td>\n",
       "      <td>94.66</td>\n",
       "      <td>4</td>\n",
       "      <td>...</td>\n",
       "      <td>-0.176130</td>\n",
       "      <td>0.0</td>\n",
       "      <td>0.0</td>\n",
       "      <td>0.0</td>\n",
       "      <td>0.0</td>\n",
       "      <td>0.0</td>\n",
       "      <td>1</td>\n",
       "      <td>0.0</td>\n",
       "      <td>-7.701692</td>\n",
       "      <td>0.0</td>\n",
       "    </tr>\n",
       "    <tr>\n",
       "      <th>8091</th>\n",
       "      <td>HK-115</td>\n",
       "      <td>20210813</td>\n",
       "      <td>0.0</td>\n",
       "      <td>-1</td>\n",
       "      <td>0.00000</td>\n",
       "      <td>2794.0</td>\n",
       "      <td>3</td>\n",
       "      <td>2429.029316</td>\n",
       "      <td>78.24</td>\n",
       "      <td>1</td>\n",
       "      <td>...</td>\n",
       "      <td>-0.242683</td>\n",
       "      <td>0.0</td>\n",
       "      <td>0.0</td>\n",
       "      <td>0.0</td>\n",
       "      <td>0.0</td>\n",
       "      <td>0.0</td>\n",
       "      <td>1</td>\n",
       "      <td>0.0</td>\n",
       "      <td>-5.505955</td>\n",
       "      <td>0.0</td>\n",
       "    </tr>\n",
       "    <tr>\n",
       "      <th>8125</th>\n",
       "      <td>HK-115</td>\n",
       "      <td>20210702</td>\n",
       "      <td>480.0</td>\n",
       "      <td>1</td>\n",
       "      <td>1742.68238</td>\n",
       "      <td>10973.0</td>\n",
       "      <td>0</td>\n",
       "      <td>9124.989831</td>\n",
       "      <td>103.35</td>\n",
       "      <td>4</td>\n",
       "      <td>...</td>\n",
       "      <td>-0.255926</td>\n",
       "      <td>0.0</td>\n",
       "      <td>0.0</td>\n",
       "      <td>0.0</td>\n",
       "      <td>0.0</td>\n",
       "      <td>0.0</td>\n",
       "      <td>1</td>\n",
       "      <td>0.0</td>\n",
       "      <td>-16.391692</td>\n",
       "      <td>0.0</td>\n",
       "    </tr>\n",
       "  </tbody>\n",
       "</table>\n",
       "<p>271 rows × 39 columns</p>\n",
       "</div>"
      ],
      "text/plain": [
       "     ou_code  operation_day  inbound_receive_qty  kernal_core1  kernal_value1  \\\n",
       "19    CN-001       20210901                  0.0            -1        0.00000   \n",
       "28    CN-001       20210827                  0.0            -1        0.00000   \n",
       "35    CN-001       20210816                  0.0            -1        0.00000   \n",
       "42    CN-001       20210824                  0.0            -1        0.00000   \n",
       "50    CN-001       20210826                  0.0            -1        0.00000   \n",
       "...      ...            ...                  ...           ...            ...   \n",
       "8053  HK-115       20210515                  0.0            -1        0.00000   \n",
       "8069  HK-115       20210516                  0.0            -1        0.00000   \n",
       "8078  HK-115       20210713                  0.0            -1        0.00000   \n",
       "8091  HK-115       20210813                  0.0            -1        0.00000   \n",
       "8125  HK-115       20210702                480.0             1     1742.68238   \n",
       "\n",
       "      outbound_shipped_qty  kernal_core2  kernal_value2  total_working_hour  \\\n",
       "19                     0.0            -1       0.000000               55.07   \n",
       "28                  1378.0             2    2782.503704               63.10   \n",
       "35                     0.0            -1       0.000000               56.13   \n",
       "42                     0.0            -1       0.000000               46.75   \n",
       "50                 12511.0             0   10264.813592               57.08   \n",
       "...                    ...           ...            ...                 ...   \n",
       "8053                   0.0            -1       0.000000               47.14   \n",
       "8069                   0.0            -1       0.000000               65.08   \n",
       "8078                5437.0             2    6272.401310               94.66   \n",
       "8091                2794.0             3    2429.029316               78.24   \n",
       "8125               10973.0             0    9124.989831              103.35   \n",
       "\n",
       "      kernal_core3  ...  percent_error_75  qt_75_os  pe_66_os  pe_75_os  \\\n",
       "19               3  ...         -0.318413       0.0       0.0       0.0   \n",
       "28               3  ...         -0.282567       0.0       0.0       0.0   \n",
       "35               3  ...         -0.331285       0.0       0.0       0.0   \n",
       "42               0  ...         -0.197112       0.0       0.0       0.0   \n",
       "50               3  ...         -0.177426       0.0       0.0       0.0   \n",
       "...            ...  ...               ...       ...       ...       ...   \n",
       "8053             0  ...         -0.257902       0.0       0.0       0.0   \n",
       "8069             3  ...         -0.462469       0.0       0.0       0.0   \n",
       "8078             4  ...         -0.176130       0.0       0.0       0.0   \n",
       "8091             1  ...         -0.242683       0.0       0.0       0.0   \n",
       "8125             4  ...         -0.255926       0.0       0.0       0.0   \n",
       "\n",
       "      qt_75_dis_core_os_inner  qt_75_dis_core_os_outer  flag_75_wh  \\\n",
       "19                        0.0                      0.0           1   \n",
       "28                        0.0                      0.0           1   \n",
       "35                        0.0                      0.0           1   \n",
       "42                        0.0                      0.0           1   \n",
       "50                        0.0                      0.0           1   \n",
       "...                       ...                      ...         ...   \n",
       "8053                      0.0                      0.0           1   \n",
       "8069                      0.0                      0.0           1   \n",
       "8078                      0.0                      0.0           1   \n",
       "8091                      0.0                      0.0           1   \n",
       "8125                      0.0                      0.0           1   \n",
       "\n",
       "      dis_tt_kernel_x  dis_tt_kernel_y  dis_tt_kernel_y  \n",
       "19                0.0         1.771026              0.0  \n",
       "28                0.0        -6.258974              0.0  \n",
       "35                0.0         0.711026              0.0  \n",
       "42                0.0        -1.140566              0.0  \n",
       "50                0.0        -0.238974              0.0  \n",
       "...               ...              ...              ...  \n",
       "8053              0.0        -5.374635              0.0  \n",
       "8069              0.0        -4.931305              0.0  \n",
       "8078              0.0        -7.701692              0.0  \n",
       "8091              0.0        -5.505955              0.0  \n",
       "8125              0.0       -16.391692              0.0  \n",
       "\n",
       "[271 rows x 39 columns]"
      ]
     },
     "metadata": {},
     "execution_count": 128
    }
   ],
   "metadata": {}
  },
  {
   "cell_type": "code",
   "execution_count": 116,
   "source": [
    "\r\n",
    " \r\n",
    "diff_tt_kn = df_final[df_final['flag_75_wh'] == 1][['total_working_hour', 'kernal_value3']].diff(\r\n",
    "    axis = 1).drop('total_working_hour', axis = 1)\r\n",
    "diff_tt_kn = pd.concat([diff_tt_kn.rename({'kernal_value3' : 'dis_tt_kernel'}, axis = 1), \\\r\n",
    "    df_final[df_final['flag_75_wh'] == 1]], axis = 1)[['dis_tt_kernel', 'ou_code', 'operation_day']]\r\n",
    "\r\n",
    "df_final = df_final.merge(diff_tt_kn, on = ['ou_code', 'operation_day'], how = 'left').fillna(0)\r\n",
    "\r\n"
   ],
   "outputs": [],
   "metadata": {}
  },
  {
   "cell_type": "code",
   "execution_count": 90,
   "source": [
    "df_final[df_final['dis_tt_kernel'] != 0]"
   ],
   "outputs": [
    {
     "output_type": "execute_result",
     "data": {
      "text/html": [
       "<div>\n",
       "<style scoped>\n",
       "    .dataframe tbody tr th:only-of-type {\n",
       "        vertical-align: middle;\n",
       "    }\n",
       "\n",
       "    .dataframe tbody tr th {\n",
       "        vertical-align: top;\n",
       "    }\n",
       "\n",
       "    .dataframe thead th {\n",
       "        text-align: right;\n",
       "    }\n",
       "</style>\n",
       "<table border=\"1\" class=\"dataframe\">\n",
       "  <thead>\n",
       "    <tr style=\"text-align: right;\">\n",
       "      <th></th>\n",
       "      <th>ou_code</th>\n",
       "      <th>operation_day</th>\n",
       "      <th>inbound_receive_qty</th>\n",
       "      <th>kernal_core1</th>\n",
       "      <th>kernal_value1</th>\n",
       "      <th>outbound_shipped_qty</th>\n",
       "      <th>kernal_core2</th>\n",
       "      <th>kernal_value2</th>\n",
       "      <th>total_working_hour</th>\n",
       "      <th>kernal_core3</th>\n",
       "      <th>...</th>\n",
       "      <th>percent_error_66</th>\n",
       "      <th>percent_error_75</th>\n",
       "      <th>qt_75_os</th>\n",
       "      <th>pe_66_os</th>\n",
       "      <th>pe_75_os</th>\n",
       "      <th>qt_75_dis_core_os_inner</th>\n",
       "      <th>qt_75_dis_core_os_outer</th>\n",
       "      <th>flag_wh</th>\n",
       "      <th>flag_75_wh</th>\n",
       "      <th>dis_tt_kernel</th>\n",
       "    </tr>\n",
       "  </thead>\n",
       "  <tbody>\n",
       "    <tr>\n",
       "      <th>389</th>\n",
       "      <td>CN-007</td>\n",
       "      <td>20210613</td>\n",
       "      <td>0.0</td>\n",
       "      <td>-1</td>\n",
       "      <td>0.000000</td>\n",
       "      <td>0.0</td>\n",
       "      <td>-1</td>\n",
       "      <td>0.000000</td>\n",
       "      <td>8.28</td>\n",
       "      <td>1</td>\n",
       "      <td>...</td>\n",
       "      <td>10.898774</td>\n",
       "      <td>14.625000</td>\n",
       "      <td>0.0</td>\n",
       "      <td>0.000000</td>\n",
       "      <td>0.000000</td>\n",
       "      <td>0.000</td>\n",
       "      <td>0.0</td>\n",
       "      <td>0</td>\n",
       "      <td>1</td>\n",
       "      <td>24.567250</td>\n",
       "    </tr>\n",
       "    <tr>\n",
       "      <th>396</th>\n",
       "      <td>CN-007</td>\n",
       "      <td>20210411</td>\n",
       "      <td>0.0</td>\n",
       "      <td>-1</td>\n",
       "      <td>0.000000</td>\n",
       "      <td>0.0</td>\n",
       "      <td>-1</td>\n",
       "      <td>0.000000</td>\n",
       "      <td>9.30</td>\n",
       "      <td>1</td>\n",
       "      <td>...</td>\n",
       "      <td>9.593747</td>\n",
       "      <td>12.911290</td>\n",
       "      <td>0.0</td>\n",
       "      <td>0.000000</td>\n",
       "      <td>0.000000</td>\n",
       "      <td>0.000</td>\n",
       "      <td>0.0</td>\n",
       "      <td>0</td>\n",
       "      <td>1</td>\n",
       "      <td>23.547250</td>\n",
       "    </tr>\n",
       "    <tr>\n",
       "      <th>400</th>\n",
       "      <td>CN-007</td>\n",
       "      <td>20210711</td>\n",
       "      <td>0.0</td>\n",
       "      <td>-1</td>\n",
       "      <td>0.000000</td>\n",
       "      <td>0.0</td>\n",
       "      <td>-1</td>\n",
       "      <td>0.000000</td>\n",
       "      <td>9.32</td>\n",
       "      <td>1</td>\n",
       "      <td>...</td>\n",
       "      <td>9.571013</td>\n",
       "      <td>12.881438</td>\n",
       "      <td>0.0</td>\n",
       "      <td>0.000000</td>\n",
       "      <td>0.000000</td>\n",
       "      <td>0.000</td>\n",
       "      <td>0.0</td>\n",
       "      <td>0</td>\n",
       "      <td>1</td>\n",
       "      <td>23.527250</td>\n",
       "    </tr>\n",
       "    <tr>\n",
       "      <th>1005</th>\n",
       "      <td>CN-035</td>\n",
       "      <td>20210411</td>\n",
       "      <td>0.0</td>\n",
       "      <td>-1</td>\n",
       "      <td>0.000000</td>\n",
       "      <td>0.0</td>\n",
       "      <td>-1</td>\n",
       "      <td>0.000000</td>\n",
       "      <td>11.42</td>\n",
       "      <td>0</td>\n",
       "      <td>...</td>\n",
       "      <td>27.017979</td>\n",
       "      <td>30.910245</td>\n",
       "      <td>0.0</td>\n",
       "      <td>0.000000</td>\n",
       "      <td>0.000000</td>\n",
       "      <td>0.000</td>\n",
       "      <td>0.0</td>\n",
       "      <td>0</td>\n",
       "      <td>1</td>\n",
       "      <td>11.460676</td>\n",
       "    </tr>\n",
       "    <tr>\n",
       "      <th>1012</th>\n",
       "      <td>CN-035</td>\n",
       "      <td>20210710</td>\n",
       "      <td>0.0</td>\n",
       "      <td>-1</td>\n",
       "      <td>0.000000</td>\n",
       "      <td>0.0</td>\n",
       "      <td>-1</td>\n",
       "      <td>0.000000</td>\n",
       "      <td>19.30</td>\n",
       "      <td>0</td>\n",
       "      <td>...</td>\n",
       "      <td>15.578514</td>\n",
       "      <td>17.881606</td>\n",
       "      <td>0.0</td>\n",
       "      <td>31.222087</td>\n",
       "      <td>35.698389</td>\n",
       "      <td>3.184</td>\n",
       "      <td>0.0</td>\n",
       "      <td>1</td>\n",
       "      <td>1</td>\n",
       "      <td>3.580676</td>\n",
       "    </tr>\n",
       "    <tr>\n",
       "      <th>...</th>\n",
       "      <td>...</td>\n",
       "      <td>...</td>\n",
       "      <td>...</td>\n",
       "      <td>...</td>\n",
       "      <td>...</td>\n",
       "      <td>...</td>\n",
       "      <td>...</td>\n",
       "      <td>...</td>\n",
       "      <td>...</td>\n",
       "      <td>...</td>\n",
       "      <td>...</td>\n",
       "      <td>...</td>\n",
       "      <td>...</td>\n",
       "      <td>...</td>\n",
       "      <td>...</td>\n",
       "      <td>...</td>\n",
       "      <td>...</td>\n",
       "      <td>...</td>\n",
       "      <td>...</td>\n",
       "      <td>...</td>\n",
       "      <td>...</td>\n",
       "    </tr>\n",
       "    <tr>\n",
       "      <th>7003</th>\n",
       "      <td>CN-428</td>\n",
       "      <td>20210502</td>\n",
       "      <td>6.0</td>\n",
       "      <td>3</td>\n",
       "      <td>211.660751</td>\n",
       "      <td>3.0</td>\n",
       "      <td>0</td>\n",
       "      <td>184.961963</td>\n",
       "      <td>4.50</td>\n",
       "      <td>1</td>\n",
       "      <td>...</td>\n",
       "      <td>8.023025</td>\n",
       "      <td>8.231111</td>\n",
       "      <td>0.0</td>\n",
       "      <td>0.000000</td>\n",
       "      <td>0.000000</td>\n",
       "      <td>0.000</td>\n",
       "      <td>0.0</td>\n",
       "      <td>0</td>\n",
       "      <td>1</td>\n",
       "      <td>3.542022</td>\n",
       "    </tr>\n",
       "    <tr>\n",
       "      <th>7468</th>\n",
       "      <td>HK-043</td>\n",
       "      <td>20210814</td>\n",
       "      <td>0.0</td>\n",
       "      <td>-1</td>\n",
       "      <td>0.000000</td>\n",
       "      <td>0.0</td>\n",
       "      <td>-1</td>\n",
       "      <td>0.000000</td>\n",
       "      <td>5.50</td>\n",
       "      <td>1</td>\n",
       "      <td>...</td>\n",
       "      <td>13.394752</td>\n",
       "      <td>13.843182</td>\n",
       "      <td>0.0</td>\n",
       "      <td>0.000000</td>\n",
       "      <td>0.000000</td>\n",
       "      <td>0.000</td>\n",
       "      <td>0.0</td>\n",
       "      <td>0</td>\n",
       "      <td>1</td>\n",
       "      <td>6.337959</td>\n",
       "    </tr>\n",
       "    <tr>\n",
       "      <th>7503</th>\n",
       "      <td>HK-043</td>\n",
       "      <td>20210822</td>\n",
       "      <td>0.0</td>\n",
       "      <td>-1</td>\n",
       "      <td>0.000000</td>\n",
       "      <td>0.0</td>\n",
       "      <td>-1</td>\n",
       "      <td>0.000000</td>\n",
       "      <td>2.00</td>\n",
       "      <td>1</td>\n",
       "      <td>...</td>\n",
       "      <td>38.585567</td>\n",
       "      <td>39.818750</td>\n",
       "      <td>0.0</td>\n",
       "      <td>0.000000</td>\n",
       "      <td>0.000000</td>\n",
       "      <td>0.000</td>\n",
       "      <td>0.0</td>\n",
       "      <td>0</td>\n",
       "      <td>1</td>\n",
       "      <td>9.837959</td>\n",
       "    </tr>\n",
       "    <tr>\n",
       "      <th>7519</th>\n",
       "      <td>HK-043</td>\n",
       "      <td>20210724</td>\n",
       "      <td>0.0</td>\n",
       "      <td>-1</td>\n",
       "      <td>0.000000</td>\n",
       "      <td>0.0</td>\n",
       "      <td>-1</td>\n",
       "      <td>0.000000</td>\n",
       "      <td>4.50</td>\n",
       "      <td>1</td>\n",
       "      <td>...</td>\n",
       "      <td>16.593585</td>\n",
       "      <td>17.141667</td>\n",
       "      <td>0.0</td>\n",
       "      <td>0.000000</td>\n",
       "      <td>0.000000</td>\n",
       "      <td>0.000</td>\n",
       "      <td>0.0</td>\n",
       "      <td>0</td>\n",
       "      <td>1</td>\n",
       "      <td>7.337959</td>\n",
       "    </tr>\n",
       "    <tr>\n",
       "      <th>7526</th>\n",
       "      <td>HK-043</td>\n",
       "      <td>20210807</td>\n",
       "      <td>0.0</td>\n",
       "      <td>-1</td>\n",
       "      <td>0.000000</td>\n",
       "      <td>0.0</td>\n",
       "      <td>-1</td>\n",
       "      <td>0.000000</td>\n",
       "      <td>6.50</td>\n",
       "      <td>1</td>\n",
       "      <td>...</td>\n",
       "      <td>11.180174</td>\n",
       "      <td>11.559615</td>\n",
       "      <td>0.0</td>\n",
       "      <td>0.000000</td>\n",
       "      <td>0.000000</td>\n",
       "      <td>0.000</td>\n",
       "      <td>0.0</td>\n",
       "      <td>0</td>\n",
       "      <td>1</td>\n",
       "      <td>5.337959</td>\n",
       "    </tr>\n",
       "  </tbody>\n",
       "</table>\n",
       "<p>94 rows × 38 columns</p>\n",
       "</div>"
      ],
      "text/plain": [
       "     ou_code  operation_day  inbound_receive_qty  kernal_core1  kernal_value1  \\\n",
       "389   CN-007       20210613                  0.0            -1       0.000000   \n",
       "396   CN-007       20210411                  0.0            -1       0.000000   \n",
       "400   CN-007       20210711                  0.0            -1       0.000000   \n",
       "1005  CN-035       20210411                  0.0            -1       0.000000   \n",
       "1012  CN-035       20210710                  0.0            -1       0.000000   \n",
       "...      ...            ...                  ...           ...            ...   \n",
       "7003  CN-428       20210502                  6.0             3     211.660751   \n",
       "7468  HK-043       20210814                  0.0            -1       0.000000   \n",
       "7503  HK-043       20210822                  0.0            -1       0.000000   \n",
       "7519  HK-043       20210724                  0.0            -1       0.000000   \n",
       "7526  HK-043       20210807                  0.0            -1       0.000000   \n",
       "\n",
       "      outbound_shipped_qty  kernal_core2  kernal_value2  total_working_hour  \\\n",
       "389                    0.0            -1       0.000000                8.28   \n",
       "396                    0.0            -1       0.000000                9.30   \n",
       "400                    0.0            -1       0.000000                9.32   \n",
       "1005                   0.0            -1       0.000000               11.42   \n",
       "1012                   0.0            -1       0.000000               19.30   \n",
       "...                    ...           ...            ...                 ...   \n",
       "7003                   3.0             0     184.961963                4.50   \n",
       "7468                   0.0            -1       0.000000                5.50   \n",
       "7503                   0.0            -1       0.000000                2.00   \n",
       "7519                   0.0            -1       0.000000                4.50   \n",
       "7526                   0.0            -1       0.000000                6.50   \n",
       "\n",
       "      kernal_core3  ...  percent_error_66  percent_error_75  qt_75_os  \\\n",
       "389              1  ...         10.898774         14.625000       0.0   \n",
       "396              1  ...          9.593747         12.911290       0.0   \n",
       "400              1  ...          9.571013         12.881438       0.0   \n",
       "1005             0  ...         27.017979         30.910245       0.0   \n",
       "1012             0  ...         15.578514         17.881606       0.0   \n",
       "...            ...  ...               ...               ...       ...   \n",
       "7003             1  ...          8.023025          8.231111       0.0   \n",
       "7468             1  ...         13.394752         13.843182       0.0   \n",
       "7503             1  ...         38.585567         39.818750       0.0   \n",
       "7519             1  ...         16.593585         17.141667       0.0   \n",
       "7526             1  ...         11.180174         11.559615       0.0   \n",
       "\n",
       "       pe_66_os   pe_75_os  qt_75_dis_core_os_inner  qt_75_dis_core_os_outer  \\\n",
       "389    0.000000   0.000000                    0.000                      0.0   \n",
       "396    0.000000   0.000000                    0.000                      0.0   \n",
       "400    0.000000   0.000000                    0.000                      0.0   \n",
       "1005   0.000000   0.000000                    0.000                      0.0   \n",
       "1012  31.222087  35.698389                    3.184                      0.0   \n",
       "...         ...        ...                      ...                      ...   \n",
       "7003   0.000000   0.000000                    0.000                      0.0   \n",
       "7468   0.000000   0.000000                    0.000                      0.0   \n",
       "7503   0.000000   0.000000                    0.000                      0.0   \n",
       "7519   0.000000   0.000000                    0.000                      0.0   \n",
       "7526   0.000000   0.000000                    0.000                      0.0   \n",
       "\n",
       "      flag_wh  flag_75_wh  dis_tt_kernel  \n",
       "389         0           1      24.567250  \n",
       "396         0           1      23.547250  \n",
       "400         0           1      23.527250  \n",
       "1005        0           1      11.460676  \n",
       "1012        1           1       3.580676  \n",
       "...       ...         ...            ...  \n",
       "7003        0           1       3.542022  \n",
       "7468        0           1       6.337959  \n",
       "7503        0           1       9.837959  \n",
       "7519        0           1       7.337959  \n",
       "7526        0           1       5.337959  \n",
       "\n",
       "[94 rows x 38 columns]"
      ]
     },
     "metadata": {},
     "execution_count": 90
    }
   ],
   "metadata": {}
  },
  {
   "cell_type": "code",
   "execution_count": 75,
   "source": [
    "import statsmodels.api as sm\r\n",
    "import statsmodels.formula.api as smf"
   ],
   "outputs": [],
   "metadata": {}
  },
  {
   "cell_type": "code",
   "execution_count": 76,
   "source": [
    "df_final.head()"
   ],
   "outputs": [
    {
     "output_type": "execute_result",
     "data": {
      "text/html": [
       "<div>\n",
       "<style scoped>\n",
       "    .dataframe tbody tr th:only-of-type {\n",
       "        vertical-align: middle;\n",
       "    }\n",
       "\n",
       "    .dataframe tbody tr th {\n",
       "        vertical-align: top;\n",
       "    }\n",
       "\n",
       "    .dataframe thead th {\n",
       "        text-align: right;\n",
       "    }\n",
       "</style>\n",
       "<table border=\"1\" class=\"dataframe\">\n",
       "  <thead>\n",
       "    <tr style=\"text-align: right;\">\n",
       "      <th></th>\n",
       "      <th>ou_code</th>\n",
       "      <th>operation_day</th>\n",
       "      <th>inbound_receive_qty</th>\n",
       "      <th>kernal_core1</th>\n",
       "      <th>kernal_value1</th>\n",
       "      <th>outbound_shipped_qty</th>\n",
       "      <th>kernal_core2</th>\n",
       "      <th>kernal_value2</th>\n",
       "      <th>total_working_hour</th>\n",
       "      <th>kernal_core3</th>\n",
       "      <th>...</th>\n",
       "      <th>kernal_value4</th>\n",
       "      <th>dis_core_os</th>\n",
       "      <th>d_to_core_outer_os</th>\n",
       "      <th>percent_error_66</th>\n",
       "      <th>percent_error_75</th>\n",
       "      <th>qt_75_os</th>\n",
       "      <th>pe_66_os</th>\n",
       "      <th>pe_75_os</th>\n",
       "      <th>qt_75_dis_core_os_inner</th>\n",
       "      <th>qt_75_dis_core_os_outer</th>\n",
       "    </tr>\n",
       "  </thead>\n",
       "  <tbody>\n",
       "    <tr>\n",
       "      <th>0</th>\n",
       "      <td>CN-001</td>\n",
       "      <td>20210430</td>\n",
       "      <td>0.0</td>\n",
       "      <td>-1</td>\n",
       "      <td>0.0</td>\n",
       "      <td>1699.0</td>\n",
       "      <td>2</td>\n",
       "      <td>2782.503704</td>\n",
       "      <td>32.75</td>\n",
       "      <td>1</td>\n",
       "      <td>...</td>\n",
       "      <td>0.0</td>\n",
       "      <td>0.0</td>\n",
       "      <td>0.0</td>\n",
       "      <td>0.323080</td>\n",
       "      <td>0.382290</td>\n",
       "      <td>0.0</td>\n",
       "      <td>0.0</td>\n",
       "      <td>0.0</td>\n",
       "      <td>0.0</td>\n",
       "      <td>0.0</td>\n",
       "    </tr>\n",
       "    <tr>\n",
       "      <th>1</th>\n",
       "      <td>CN-001</td>\n",
       "      <td>20210619</td>\n",
       "      <td>0.0</td>\n",
       "      <td>-1</td>\n",
       "      <td>0.0</td>\n",
       "      <td>0.0</td>\n",
       "      <td>-1</td>\n",
       "      <td>0.000000</td>\n",
       "      <td>30.00</td>\n",
       "      <td>1</td>\n",
       "      <td>...</td>\n",
       "      <td>0.0</td>\n",
       "      <td>0.0</td>\n",
       "      <td>0.0</td>\n",
       "      <td>0.202337</td>\n",
       "      <td>0.251167</td>\n",
       "      <td>0.0</td>\n",
       "      <td>0.0</td>\n",
       "      <td>0.0</td>\n",
       "      <td>0.0</td>\n",
       "      <td>0.0</td>\n",
       "    </tr>\n",
       "    <tr>\n",
       "      <th>2</th>\n",
       "      <td>CN-001</td>\n",
       "      <td>20210721</td>\n",
       "      <td>0.0</td>\n",
       "      <td>-1</td>\n",
       "      <td>0.0</td>\n",
       "      <td>1542.0</td>\n",
       "      <td>2</td>\n",
       "      <td>2782.503704</td>\n",
       "      <td>45.17</td>\n",
       "      <td>0</td>\n",
       "      <td>...</td>\n",
       "      <td>0.0</td>\n",
       "      <td>0.0</td>\n",
       "      <td>0.0</td>\n",
       "      <td>-0.040716</td>\n",
       "      <td>0.002214</td>\n",
       "      <td>0.0</td>\n",
       "      <td>0.0</td>\n",
       "      <td>0.0</td>\n",
       "      <td>0.0</td>\n",
       "      <td>0.0</td>\n",
       "    </tr>\n",
       "    <tr>\n",
       "      <th>3</th>\n",
       "      <td>CN-001</td>\n",
       "      <td>20210724</td>\n",
       "      <td>0.0</td>\n",
       "      <td>-1</td>\n",
       "      <td>0.0</td>\n",
       "      <td>0.0</td>\n",
       "      <td>-1</td>\n",
       "      <td>0.000000</td>\n",
       "      <td>9.50</td>\n",
       "      <td>2</td>\n",
       "      <td>...</td>\n",
       "      <td>0.0</td>\n",
       "      <td>0.0</td>\n",
       "      <td>0.0</td>\n",
       "      <td>2.796854</td>\n",
       "      <td>2.951053</td>\n",
       "      <td>0.0</td>\n",
       "      <td>0.0</td>\n",
       "      <td>0.0</td>\n",
       "      <td>0.0</td>\n",
       "      <td>0.0</td>\n",
       "    </tr>\n",
       "    <tr>\n",
       "      <th>4</th>\n",
       "      <td>CN-001</td>\n",
       "      <td>20210811</td>\n",
       "      <td>0.0</td>\n",
       "      <td>-1</td>\n",
       "      <td>0.0</td>\n",
       "      <td>4327.0</td>\n",
       "      <td>2</td>\n",
       "      <td>2782.503704</td>\n",
       "      <td>45.72</td>\n",
       "      <td>0</td>\n",
       "      <td>...</td>\n",
       "      <td>0.0</td>\n",
       "      <td>0.0</td>\n",
       "      <td>0.0</td>\n",
       "      <td>-0.052256</td>\n",
       "      <td>-0.009843</td>\n",
       "      <td>0.0</td>\n",
       "      <td>0.0</td>\n",
       "      <td>0.0</td>\n",
       "      <td>0.0</td>\n",
       "      <td>0.0</td>\n",
       "    </tr>\n",
       "  </tbody>\n",
       "</table>\n",
       "<p>5 rows × 36 columns</p>\n",
       "</div>"
      ],
      "text/plain": [
       "  ou_code  operation_day  inbound_receive_qty  kernal_core1  kernal_value1  \\\n",
       "0  CN-001       20210430                  0.0            -1            0.0   \n",
       "1  CN-001       20210619                  0.0            -1            0.0   \n",
       "2  CN-001       20210721                  0.0            -1            0.0   \n",
       "3  CN-001       20210724                  0.0            -1            0.0   \n",
       "4  CN-001       20210811                  0.0            -1            0.0   \n",
       "\n",
       "   outbound_shipped_qty  kernal_core2  kernal_value2  total_working_hour  \\\n",
       "0                1699.0             2    2782.503704               32.75   \n",
       "1                   0.0            -1       0.000000               30.00   \n",
       "2                1542.0             2    2782.503704               45.17   \n",
       "3                   0.0            -1       0.000000                9.50   \n",
       "4                4327.0             2    2782.503704               45.72   \n",
       "\n",
       "   kernal_core3  ...  kernal_value4  dis_core_os  d_to_core_outer_os  \\\n",
       "0             1  ...            0.0          0.0                 0.0   \n",
       "1             1  ...            0.0          0.0                 0.0   \n",
       "2             0  ...            0.0          0.0                 0.0   \n",
       "3             2  ...            0.0          0.0                 0.0   \n",
       "4             0  ...            0.0          0.0                 0.0   \n",
       "\n",
       "   percent_error_66  percent_error_75  qt_75_os  pe_66_os  pe_75_os  \\\n",
       "0          0.323080          0.382290       0.0       0.0       0.0   \n",
       "1          0.202337          0.251167       0.0       0.0       0.0   \n",
       "2         -0.040716          0.002214       0.0       0.0       0.0   \n",
       "3          2.796854          2.951053       0.0       0.0       0.0   \n",
       "4         -0.052256         -0.009843       0.0       0.0       0.0   \n",
       "\n",
       "   qt_75_dis_core_os_inner  qt_75_dis_core_os_outer  \n",
       "0                      0.0                      0.0  \n",
       "1                      0.0                      0.0  \n",
       "2                      0.0                      0.0  \n",
       "3                      0.0                      0.0  \n",
       "4                      0.0                      0.0  \n",
       "\n",
       "[5 rows x 36 columns]"
      ]
     },
     "metadata": {},
     "execution_count": 76
    }
   ],
   "metadata": {}
  },
  {
   "cell_type": "code",
   "execution_count": 78,
   "source": [
    "res = smf.ols('total_working_hour ~ inbound_receive_qty + outbound_shipped_qty', data=df_final).fit()"
   ],
   "outputs": [],
   "metadata": {}
  },
  {
   "cell_type": "code",
   "execution_count": 79,
   "source": [
    "print(res.summary())"
   ],
   "outputs": [
    {
     "output_type": "stream",
     "name": "stdout",
     "text": [
      "                            OLS Regression Results                            \n",
      "==============================================================================\n",
      "Dep. Variable:     total_working_hour   R-squared:                       0.221\n",
      "Model:                            OLS   Adj. R-squared:                  0.221\n",
      "Method:                 Least Squares   F-statistic:                     1157.\n",
      "Date:                Tue, 07 Sep 2021   Prob (F-statistic):               0.00\n",
      "Time:                        10:57:08   Log-Likelihood:                -53198.\n",
      "No. Observations:                8149   AIC:                         1.064e+05\n",
      "Df Residuals:                    8146   BIC:                         1.064e+05\n",
      "Df Model:                           2                                         \n",
      "Covariance Type:            nonrobust                                         \n",
      "========================================================================================\n",
      "                           coef    std err          t      P>|t|      [0.025      0.975]\n",
      "----------------------------------------------------------------------------------------\n",
      "Intercept              145.7991      1.857     78.511      0.000     142.159     149.439\n",
      "inbound_receive_qty    7.35e-07   8.38e-08      8.771      0.000    5.71e-07    8.99e-07\n",
      "outbound_shipped_qty   2.61e-06   9.63e-08     27.088      0.000    2.42e-06     2.8e-06\n",
      "==============================================================================\n",
      "Omnibus:                     2375.894   Durbin-Watson:                   0.330\n",
      "Prob(Omnibus):                  0.000   Jarque-Bera (JB):             6792.791\n",
      "Skew:                           1.535   Prob(JB):                         0.00\n",
      "Kurtosis:                       6.252   Cond. No.                     3.91e+07\n",
      "==============================================================================\n",
      "\n",
      "Notes:\n",
      "[1] Standard Errors assume that the covariance matrix of the errors is correctly specified.\n",
      "[2] The condition number is large, 3.91e+07. This might indicate that there are\n",
      "strong multicollinearity or other numerical problems.\n"
     ]
    }
   ],
   "metadata": {}
  },
  {
   "cell_type": "code",
   "execution_count": null,
   "source": [
    "\r\n",
    "# df_final['percent_error_66'] = (\r\n",
    "#         df_final['qt_66_wh'] - df_final['total_working_hour'])/(\r\n",
    "#                 df_final['total_working_hour']\r\n",
    "#                 )\r\n",
    "# df_final['percent_error_75'] = (\r\n",
    "#         df_final['qt_75_wh'] - df_final['total_working_hour']\r\n",
    "#         )/(df_final['total_working_hour']\r\n",
    "#         )\r\n",
    "\r\n",
    "# # df_final = df_final.assign(percent_error_66 = [a-1 if a == 1 else a for a in df_final['percent_error_66']])\r\n",
    "# # df_final = df_final.assign(percent_error_75 = [a-1 if a == 1 else a for a in df_final['percent_error_75']])\r\n"
   ],
   "outputs": [],
   "metadata": {}
  },
  {
   "cell_type": "markdown",
   "source": [],
   "metadata": {}
  },
  {
   "cell_type": "code",
   "execution_count": null,
   "source": [
    "# df_final[df_final['percent_error_75'] != 0].dropna()\r\n",
    "from datetime import date\r\n",
    "df_final['inc_day'] = str(date.today())\r\n",
    "df_final['inc_day'] = df_final['inc_day'].str.replace('-', '')"
   ],
   "outputs": [],
   "metadata": {}
  },
  {
   "cell_type": "code",
   "execution_count": null,
   "source": [
    "# df_final.to_csv('./wh_in_out_fin.csv', index= None)"
   ],
   "outputs": [],
   "metadata": {}
  },
  {
   "cell_type": "code",
   "execution_count": null,
   "source": [
    "df_final"
   ],
   "outputs": [],
   "metadata": {}
  },
  {
   "cell_type": "markdown",
   "source": [
    "---"
   ],
   "metadata": {}
  },
  {
   "cell_type": "markdown",
   "source": [
    "---"
   ],
   "metadata": {}
  },
  {
   "cell_type": "markdown",
   "source": [
    "----"
   ],
   "metadata": {}
  },
  {
   "cell_type": "code",
   "execution_count": null,
   "source": [
    "tes = df_final.merge(df_final.groupby('ou_code').agg({\r\n",
    "    'inbound_receive_qty': ['std'],\r\n",
    "    'outbound_shipped_qty': ['std'],\r\n",
    "    'outsource_working_hour': ['std']\r\n",
    "    }\r\n",
    ").reset_index(), on = 'ou_code', how = 'left')\r\n",
    "\r\n",
    "\r\n",
    "# .agg({'RECEIPT_ID':['nunique'], \r\n",
    "#         'TOTAL_LINES': ['sum'], \r\n",
    "#         'TOTAL_CONTAINERS': 'sum', \r\n",
    "#         'TOTAL_WEIGHT':'sum',\r\n",
    "#         'TOTAL_QTY': ['sum'],\r\n",
    "#         'CREATION_DATE_TIME_STAMP_2': 'min' }).reset_index()"
   ],
   "outputs": [],
   "metadata": {}
  },
  {
   "cell_type": "code",
   "execution_count": null,
   "source": [
    "tes = df_final.groupby('ou_code').agg({\r\n",
    "    'inbound_receive_qty': ['std'],\r\n",
    "    'outbound_shipped_qty': ['std'],\r\n",
    "    'outsource_working_hour': ['std']\r\n",
    "    }\r\n",
    ").reset_index()"
   ],
   "outputs": [],
   "metadata": {}
  },
  {
   "cell_type": "code",
   "execution_count": null,
   "source": [
    "%%time\r\n",
    "\r\n",
    "str(date.today()).replace('-', '')"
   ],
   "outputs": [],
   "metadata": {}
  },
  {
   "cell_type": "markdown",
   "source": [],
   "metadata": {}
  },
  {
   "cell_type": "code",
   "execution_count": null,
   "source": [
    "df_final"
   ],
   "outputs": [],
   "metadata": {}
  },
  {
   "cell_type": "code",
   "execution_count": null,
   "source": [
    "df_final['kernal_core1'].astype(str) + df_final['kernal_core2'].astype(str) "
   ],
   "outputs": [],
   "metadata": {}
  },
  {
   "cell_type": "code",
   "execution_count": null,
   "source": [
    " import plotly.express as px\r\n",
    " def plot3d(ou_code):\r\n",
    "    df_plot = df_final[df_final['ou_code'] == ou_code]\r\n",
    "    df_plot['kernal_core5'] = df_final['kernal_core1'].astype(str) + df_final['kernal_core2'].astype(str) \r\n",
    "    fig = px.scatter_3d(df_plot, x='inbound_receive_qty', y='outbound_shipped_qty', z='total_working_hour',\r\n",
    "              color = 'kernal_core3')\r\n",
    "    return fig.show()\r\n"
   ],
   "outputs": [],
   "metadata": {}
  },
  {
   "cell_type": "code",
   "execution_count": null,
   "source": [
    "plot3d('CN-214')"
   ],
   "outputs": [],
   "metadata": {}
  },
  {
   "cell_type": "code",
   "execution_count": null,
   "source": [
    "\r\n",
    "fig.show()"
   ],
   "outputs": [],
   "metadata": {}
  },
  {
   "cell_type": "code",
   "execution_count": null,
   "source": [],
   "outputs": [],
   "metadata": {}
  },
  {
   "cell_type": "code",
   "execution_count": null,
   "source": [],
   "outputs": [],
   "metadata": {}
  }
 ]
}